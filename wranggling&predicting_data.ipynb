{
 "cells": [
  {
   "cell_type": "code",
   "execution_count": 1,
   "id": "a39d4d63",
   "metadata": {},
   "outputs": [],
   "source": [
    "import numpy as np\n",
    "import pandas as pd\n",
    "from matplotlib import pyplot as plt\n",
    "import seaborn as sb\n",
    "import os\n",
    "import glob\n",
    "import json \n",
    "import requests\n",
    "from bs4 import BeautifulSoup\n",
    "%matplotlib inline"
   ]
  },
  {
   "cell_type": "code",
   "execution_count": 2,
   "id": "a7efdeaf",
   "metadata": {},
   "outputs": [],
   "source": [
    "# os.listdir('./Prediction_train&test_Data')\n",
    "def load_data(url):\n",
    "    \n",
    "    folderName = \"./Prediction_train&test_Data/\"\n",
    "    fileName = \"Store_league_data.json\"\n",
    "    path = os.path.join(folderName, fileName)\n",
    "\n",
    "#     if os.path.exists(path):\n",
    "#         files = glob.glob(\"./Prediction_train&test_Data/*\")\n",
    "#         for f in files:\n",
    "#             os.remove(f)\n",
    "\n",
    "    response = requests.get(url)\n",
    "    # print(path)\n",
    "\n",
    "    with open(path, 'wb') as outfile:\n",
    "        outfile.write(response.content)\n",
    "     \n",
    "\n",
    "        \n",
    "url = \"https://vsmobile.bet9ja.com/shopadmin/standings_view/league_data.php?pid=14001\"\n",
    "load_data(url)"
   ]
  },
  {
   "cell_type": "code",
   "execution_count": 3,
   "id": "fb1b9c78",
   "metadata": {},
   "outputs": [],
   "source": [
    "folderName = \"./Prediction_train&test_Data/\"\n",
    "fileName = \"Store_league_data.json\"\n",
    "\n",
    "\n",
    "path = os.path.join(folderName, fileName)\n",
    "\n",
    "\n",
    "with open(path, \"r\") as outfile:\n",
    "    json_obj = json.load(outfile)"
   ]
  },
  {
   "cell_type": "code",
   "execution_count": 4,
   "id": "1d2bb99a",
   "metadata": {},
   "outputs": [],
   "source": [
    "# print(json_obj)"
   ]
  },
  {
   "cell_type": "code",
   "execution_count": 5,
   "id": "3df44817",
   "metadata": {},
   "outputs": [],
   "source": [
    "# json_obj[\"matches\"][\"1\"].keys() # 1539761"
   ]
  },
  {
   "cell_type": "code",
   "execution_count": 6,
   "id": "4cfcfe9f",
   "metadata": {
    "scrolled": true
   },
   "outputs": [],
   "source": [
    "# json_obj[\"matches\"][\"1\"][\"1540521\"][\"wonmarkets\"].split(\",\")"
   ]
  },
  {
   "cell_type": "code",
   "execution_count": 7,
   "id": "2737d444",
   "metadata": {},
   "outputs": [],
   "source": [
    "# home_away_game = json_obj[\"matches\"][\"1\"][\"1537861\"][\"wonmarkets\"].split(\",\")[2].split(\"_\")\n",
    "# games_scores = json_obj[\"matches\"][\"1\"][\"1537861\"][\"wonmarkets\"].split(\",\")[4].split(\"_\")\n",
    "# total_goales = json_obj[\"matches\"][\"1\"][\"1537861\"][\"wonmarkets\"].split(\",\")[5].split(\"_\")\n",
    "\n",
    "# print( f\"games: {home_away_game}, games score: {games_scores}, scores_total: {total_goales}\" )"
   ]
  },
  {
   "cell_type": "code",
   "execution_count": 8,
   "id": "e35efe09",
   "metadata": {},
   "outputs": [
    {
     "data": {
      "text/plain": [
       "dict_keys(['1569021', '1569022', '1569023', '1569024', '1569025', '1569026', '1569027', '1569028', '1569029', '1569030'])"
      ]
     },
     "execution_count": 8,
     "metadata": {},
     "output_type": "execute_result"
    }
   ],
   "source": [
    "# len(json_obj[\"matches\"].keys()), len(json_obj[\"matches\"][\"1\"].keys())\n",
    "json_obj[\"matches\"][\"1\"].keys()"
   ]
  },
  {
   "cell_type": "code",
   "execution_count": 9,
   "id": "c1f7d281",
   "metadata": {},
   "outputs": [],
   "source": [
    "teams = {\"id\": [], \"name\": [], \"club\": []}"
   ]
  },
  {
   "cell_type": "code",
   "execution_count": 10,
   "id": "c940842e",
   "metadata": {},
   "outputs": [],
   "source": [
    "for x, y in json_obj[\"teams\"].items():\n",
    "    # main_info.id.append(x)\n",
    "    teams[\"id\"].append(x)\n",
    "    teams[\"name\"].append(y[\"fifa\"])\n",
    "    teams[\"club\"].append(y[\"team\"])\n",
    "   \n",
    "    \n",
    "    # print(x)\n",
    "    # print(y)"
   ]
  },
  {
   "cell_type": "code",
   "execution_count": 11,
   "id": "541d6711",
   "metadata": {
    "scrolled": true
   },
   "outputs": [],
   "source": [
    "# teams # if you have ound its index you havefound the club"
   ]
  },
  {
   "cell_type": "code",
   "execution_count": 12,
   "id": "b5d35637",
   "metadata": {},
   "outputs": [],
   "source": [
    "# len(teams['id']) # total number of teams "
   ]
  },
  {
   "cell_type": "code",
   "execution_count": 13,
   "id": "33ba21c7",
   "metadata": {},
   "outputs": [],
   "source": [
    "# len(json_obj[\"weeks\"])"
   ]
  },
  {
   "cell_type": "code",
   "execution_count": 14,
   "id": "5031b6b3",
   "metadata": {},
   "outputs": [],
   "source": [
    "# print(json_obj[\"weeks\"][\"1\"][\"event_data\"]), print(len(json_obj[\"weeks\"][\"1\"][\"event_data\"]))"
   ]
  },
  {
   "cell_type": "code",
   "execution_count": 15,
   "id": "2dea1fc4",
   "metadata": {},
   "outputs": [],
   "source": [
    "# print(json_obj[\"weeks\"][\"1\"][\"teamstats\"].split(\"-\"))"
   ]
  },
  {
   "cell_type": "code",
   "execution_count": 16,
   "id": "b7aaaf6e",
   "metadata": {},
   "outputs": [],
   "source": [
    "def indetify_club(teams_id):\n",
    "    idx = teams[\"id\"].index(teams_id)\n",
    "    return teams[\"name\"][idx]\n",
    "\n",
    "def get_club_id(team_name):\n",
    "    club_id = teams[\"name\"].index(team_name)\n",
    "    return teams[\"id\"][club_id]"
   ]
  },
  {
   "cell_type": "code",
   "execution_count": 17,
   "id": "bd958dfb",
   "metadata": {},
   "outputs": [],
   "source": [
    "# indetify_club(\"50\")"
   ]
  },
  {
   "cell_type": "code",
   "execution_count": 18,
   "id": "26b02e91",
   "metadata": {},
   "outputs": [],
   "source": [
    "# json_obj[\"weeks\"][\"1\"]"
   ]
  },
  {
   "cell_type": "code",
   "execution_count": 19,
   "id": "9395142d",
   "metadata": {},
   "outputs": [],
   "source": [
    "def query_score(teamA, teamB):\n",
    "    if teamA > teamB:\n",
    "        return \"win-loss\"\n",
    "    elif teamA < teamB:\n",
    "        return \"loss-win\"\n",
    "    else:\n",
    "        return \"draw-draw\""
   ]
  },
  {
   "cell_type": "code",
   "execution_count": 20,
   "id": "bdd72944",
   "metadata": {},
   "outputs": [],
   "source": [
    "# json_obj[\"matches\"]['1']['1537862']# .keys()"
   ]
  },
  {
   "cell_type": "code",
   "execution_count": 21,
   "id": "b0afcb79",
   "metadata": {},
   "outputs": [],
   "source": [
    "def get_new_data(data, score, week, history):\n",
    "    start = 0\n",
    "    stop = 1\n",
    "    add_num = 2\n",
    "    data = data.split(\"-\")\n",
    "    score = score.split(\"-\")\n",
    "    \n",
    "    # store clubs id and name.\n",
    "    result = {\n",
    "        \"weeks\": [],\n",
    "        \"id\":[],\n",
    "        \"club\": [],\n",
    "        \"score_string\": [],\n",
    "        \"score_num\": [],\n",
    "        \"game_type\": [],\n",
    "        \"team_stats\": [],\n",
    "        \"team_history\": []\n",
    "    }\n",
    "    \n",
    "    # GET ALL WEEK GAME ID\n",
    "    games_id = list(json_obj[\"matches\"][week].keys())\n",
    "    \n",
    "    for i in range(10):\n",
    "        \n",
    "        # GET GAME RESULTES\n",
    "        game_resulte = json_obj[\"matches\"][week][games_id[i]][\"wonmarkets\"]\n",
    "        \n",
    "        # slice the event_data from data pass thoure the function parameter\n",
    "        teamA = data[start]\n",
    "        teamB = data[stop]\n",
    "\n",
    "        # identfy the club from thire respected ID\n",
    "        clubA = indetify_club(teamA)\n",
    "        clubB = indetify_club(teamB)\n",
    "\t\t\n",
    "        # slice the teamstats from score pass thoure the function parameter\n",
    "        teamA_score = game_resulte.split(\",\")[4].split(\"_\")[1] # score[start]\n",
    "        teamB_score = game_resulte.split(\",\")[4].split(\"_\")[2] # score[stop] \n",
    "        \n",
    "        # team stats\n",
    "        teamstatsA = score[start]\n",
    "        teamstatsB = score[stop]\n",
    "        \n",
    "        # team history\n",
    "        team_histA = sum([ int(j) for j in history.split(\"-\")[start].replace(\"x\", \"\")])\n",
    "        team_histB = sum([ int(j) for j in history.split(\"-\")[stop].replace(\"x\", \"\")])\n",
    "        \n",
    "        result[\"weeks\"].append( int(week) )\n",
    "        result[\"weeks\"].append( int(week) )\n",
    "        \n",
    "\t\t# appending the data twice to add information\n",
    "        \n",
    "        ####### HOME APPENDING #######\n",
    "        result[\"id\"].append( int(teamA) )\n",
    "        \n",
    "        result[\"club\"].append(f\"{clubA}\")\n",
    "        # query scores\n",
    "        win_loss_drawA = query_score( int(teamA_score), int(teamB_score) ).split(\"-\")[0]\n",
    "        \n",
    "        result[\"score_string\"].append( win_loss_drawA )\n",
    "        # query wins scores\n",
    "        result[\"score_num\"].append( f\" {int(teamA_score)} \" )\n",
    "        \n",
    "        result[\"game_type\"].append( \"home\" )\n",
    "        \n",
    "        result[\"team_stats\"].append( int(teamstatsA) )\n",
    "        \n",
    "        result[\"team_history\"].append(team_histA)\n",
    "        \n",
    "        \n",
    "        ####### AWAY APPENDING #######\n",
    "        result[\"id\"].append( int(teamB) )\n",
    "        \n",
    "        result[\"club\"].append(f\"{clubB}\")\n",
    "        \n",
    "        win_loss_drawB = query_score( int(teamA_score), int(teamB_score) ).split(\"-\")[1]\n",
    "        \n",
    "        result[\"score_string\"].append( win_loss_drawB )\n",
    "        \n",
    "        result[\"score_num\"].append( f\" {int(teamB_score)} \" )\n",
    "        \n",
    "        result[\"game_type\"].append( \"away\" )\n",
    "        \n",
    "        result[\"team_stats\"].append( int(teamstatsB) )\n",
    "        \n",
    "        result[\"team_history\"].append(team_histB)\n",
    "        \n",
    "        \n",
    "        # accumilate the START and STOP for the next sclice\n",
    "        start += add_num\n",
    "        stop += add_num\n",
    "\n",
    "        \n",
    "        \n",
    "    return result\n",
    " "
   ]
  },
  {
   "cell_type": "code",
   "execution_count": 22,
   "id": "2805cc53",
   "metadata": {},
   "outputs": [],
   "source": [
    "# get_new_data( json_obj[\"weeks\"][\"1\"][\"event_data\"], json_obj[\"weeks\"][\"1\"][\"teamstats\"],  json_obj[\"weeks\"][\"1\"][\"matchday\"])\n",
    "\n",
    "# games_id = list(json_obj[\"matches\"][week].keys())\n",
    "# game_resulte = json_obj[\"matches\"][\"1\"][games_id[1]]\n",
    "# game_resulte"
   ]
  },
  {
   "cell_type": "code",
   "execution_count": 23,
   "id": "b29fa7f0",
   "metadata": {},
   "outputs": [
    {
     "data": {
      "text/plain": [
       "'46-52-53-525-55-827-63-49-45-58-51-71-67-512-972-50-48-47-60-1053'"
      ]
     },
     "execution_count": 23,
     "metadata": {},
     "output_type": "execute_result"
    }
   ],
   "source": [
    "json_obj[\"weeks\"][\"4\"][\"event_data\"]"
   ]
  },
  {
   "cell_type": "code",
   "execution_count": 24,
   "id": "978701a7",
   "metadata": {},
   "outputs": [],
   "source": [
    "main_second_info = []\n",
    "for week, events in json_obj[\"weeks\"].items():\n",
    "    main_second_info.append(get_new_data( events[\"event_data\"], events[\"teamstats\"], events[\"matchday\"], events[\"teamhistory\"]) )\n",
    "    \n",
    "    # print(events[\"matchday\"])"
   ]
  },
  {
   "cell_type": "code",
   "execution_count": 25,
   "id": "9f155c90",
   "metadata": {},
   "outputs": [],
   "source": [
    "# json_obj[\"weeks\"]"
   ]
  },
  {
   "cell_type": "code",
   "execution_count": 26,
   "id": "817ff8a9",
   "metadata": {},
   "outputs": [],
   "source": [
    "# main_second_info[0]"
   ]
  },
  {
   "cell_type": "markdown",
   "id": "decc1d0c",
   "metadata": {},
   "source": [
    "# create database"
   ]
  },
  {
   "cell_type": "code",
   "execution_count": 27,
   "id": "305ca95e",
   "metadata": {},
   "outputs": [],
   "source": [
    "df_list = []\n",
    "for data in main_second_info:\n",
    "    new_data = pd.DataFrame(data)\n",
    "    df_list.append(new_data)"
   ]
  },
  {
   "cell_type": "code",
   "execution_count": 28,
   "id": "e830dda0",
   "metadata": {
    "scrolled": false
   },
   "outputs": [],
   "source": [
    "df = pd.concat(df_list)"
   ]
  },
  {
   "cell_type": "code",
   "execution_count": 29,
   "id": "a644b1c1",
   "metadata": {},
   "outputs": [
    {
     "data": {
      "text/html": [
       "<div>\n",
       "<style scoped>\n",
       "    .dataframe tbody tr th:only-of-type {\n",
       "        vertical-align: middle;\n",
       "    }\n",
       "\n",
       "    .dataframe tbody tr th {\n",
       "        vertical-align: top;\n",
       "    }\n",
       "\n",
       "    .dataframe thead th {\n",
       "        text-align: right;\n",
       "    }\n",
       "</style>\n",
       "<table border=\"1\" class=\"dataframe\">\n",
       "  <thead>\n",
       "    <tr style=\"text-align: right;\">\n",
       "      <th></th>\n",
       "      <th>weeks</th>\n",
       "      <th>id</th>\n",
       "      <th>club</th>\n",
       "      <th>score_string</th>\n",
       "      <th>score_num</th>\n",
       "      <th>game_type</th>\n",
       "      <th>team_stats</th>\n",
       "      <th>team_history</th>\n",
       "    </tr>\n",
       "  </thead>\n",
       "  <tbody>\n",
       "    <tr>\n",
       "      <th>7</th>\n",
       "      <td>6</td>\n",
       "      <td>1053</td>\n",
       "      <td>FOR</td>\n",
       "      <td>loss</td>\n",
       "      <td>0</td>\n",
       "      <td>away</td>\n",
       "      <td>2</td>\n",
       "      <td>1</td>\n",
       "    </tr>\n",
       "    <tr>\n",
       "      <th>12</th>\n",
       "      <td>18</td>\n",
       "      <td>67</td>\n",
       "      <td>BOU</td>\n",
       "      <td>loss</td>\n",
       "      <td>1</td>\n",
       "      <td>home</td>\n",
       "      <td>18</td>\n",
       "      <td>3</td>\n",
       "    </tr>\n",
       "    <tr>\n",
       "      <th>12</th>\n",
       "      <td>23</td>\n",
       "      <td>827</td>\n",
       "      <td>LEE</td>\n",
       "      <td>win</td>\n",
       "      <td>5</td>\n",
       "      <td>home</td>\n",
       "      <td>29</td>\n",
       "      <td>10</td>\n",
       "    </tr>\n",
       "    <tr>\n",
       "      <th>19</th>\n",
       "      <td>2</td>\n",
       "      <td>525</td>\n",
       "      <td>WOL</td>\n",
       "      <td>win</td>\n",
       "      <td>3</td>\n",
       "      <td>away</td>\n",
       "      <td>4</td>\n",
       "      <td>4</td>\n",
       "    </tr>\n",
       "    <tr>\n",
       "      <th>14</th>\n",
       "      <td>33</td>\n",
       "      <td>60</td>\n",
       "      <td>ASV</td>\n",
       "      <td>win</td>\n",
       "      <td>2</td>\n",
       "      <td>home</td>\n",
       "      <td>44</td>\n",
       "      <td>7</td>\n",
       "    </tr>\n",
       "    <tr>\n",
       "      <th>15</th>\n",
       "      <td>7</td>\n",
       "      <td>71</td>\n",
       "      <td>BRI</td>\n",
       "      <td>win</td>\n",
       "      <td>2</td>\n",
       "      <td>away</td>\n",
       "      <td>10</td>\n",
       "      <td>7</td>\n",
       "    </tr>\n",
       "    <tr>\n",
       "      <th>4</th>\n",
       "      <td>18</td>\n",
       "      <td>50</td>\n",
       "      <td>MNU</td>\n",
       "      <td>draw</td>\n",
       "      <td>2</td>\n",
       "      <td>home</td>\n",
       "      <td>24</td>\n",
       "      <td>6</td>\n",
       "    </tr>\n",
       "    <tr>\n",
       "      <th>10</th>\n",
       "      <td>11</td>\n",
       "      <td>49</td>\n",
       "      <td>EVE</td>\n",
       "      <td>loss</td>\n",
       "      <td>2</td>\n",
       "      <td>home</td>\n",
       "      <td>14</td>\n",
       "      <td>3</td>\n",
       "    </tr>\n",
       "    <tr>\n",
       "      <th>1</th>\n",
       "      <td>21</td>\n",
       "      <td>48</td>\n",
       "      <td>ARS</td>\n",
       "      <td>loss</td>\n",
       "      <td>0</td>\n",
       "      <td>away</td>\n",
       "      <td>27</td>\n",
       "      <td>5</td>\n",
       "    </tr>\n",
       "    <tr>\n",
       "      <th>5</th>\n",
       "      <td>11</td>\n",
       "      <td>512</td>\n",
       "      <td>FUL</td>\n",
       "      <td>loss</td>\n",
       "      <td>1</td>\n",
       "      <td>away</td>\n",
       "      <td>15</td>\n",
       "      <td>2</td>\n",
       "    </tr>\n",
       "    <tr>\n",
       "      <th>14</th>\n",
       "      <td>31</td>\n",
       "      <td>45</td>\n",
       "      <td>LIV</td>\n",
       "      <td>draw</td>\n",
       "      <td>0</td>\n",
       "      <td>home</td>\n",
       "      <td>56</td>\n",
       "      <td>6</td>\n",
       "    </tr>\n",
       "    <tr>\n",
       "      <th>1</th>\n",
       "      <td>9</td>\n",
       "      <td>45</td>\n",
       "      <td>LIV</td>\n",
       "      <td>loss</td>\n",
       "      <td>0</td>\n",
       "      <td>away</td>\n",
       "      <td>21</td>\n",
       "      <td>12</td>\n",
       "    </tr>\n",
       "    <tr>\n",
       "      <th>9</th>\n",
       "      <td>11</td>\n",
       "      <td>51</td>\n",
       "      <td>TOT</td>\n",
       "      <td>draw</td>\n",
       "      <td>1</td>\n",
       "      <td>away</td>\n",
       "      <td>14</td>\n",
       "      <td>8</td>\n",
       "    </tr>\n",
       "    <tr>\n",
       "      <th>4</th>\n",
       "      <td>7</td>\n",
       "      <td>58</td>\n",
       "      <td>WHU</td>\n",
       "      <td>win</td>\n",
       "      <td>3</td>\n",
       "      <td>home</td>\n",
       "      <td>8</td>\n",
       "      <td>7</td>\n",
       "    </tr>\n",
       "    <tr>\n",
       "      <th>14</th>\n",
       "      <td>13</td>\n",
       "      <td>1053</td>\n",
       "      <td>FOR</td>\n",
       "      <td>win</td>\n",
       "      <td>3</td>\n",
       "      <td>home</td>\n",
       "      <td>6</td>\n",
       "      <td>4</td>\n",
       "    </tr>\n",
       "    <tr>\n",
       "      <th>5</th>\n",
       "      <td>26</td>\n",
       "      <td>52</td>\n",
       "      <td>SOU</td>\n",
       "      <td>draw</td>\n",
       "      <td>1</td>\n",
       "      <td>away</td>\n",
       "      <td>29</td>\n",
       "      <td>8</td>\n",
       "    </tr>\n",
       "    <tr>\n",
       "      <th>3</th>\n",
       "      <td>11</td>\n",
       "      <td>67</td>\n",
       "      <td>BOU</td>\n",
       "      <td>win</td>\n",
       "      <td>1</td>\n",
       "      <td>away</td>\n",
       "      <td>14</td>\n",
       "      <td>10</td>\n",
       "    </tr>\n",
       "    <tr>\n",
       "      <th>16</th>\n",
       "      <td>25</td>\n",
       "      <td>53</td>\n",
       "      <td>NWC</td>\n",
       "      <td>win</td>\n",
       "      <td>4</td>\n",
       "      <td>home</td>\n",
       "      <td>40</td>\n",
       "      <td>6</td>\n",
       "    </tr>\n",
       "    <tr>\n",
       "      <th>18</th>\n",
       "      <td>11</td>\n",
       "      <td>827</td>\n",
       "      <td>LEE</td>\n",
       "      <td>win</td>\n",
       "      <td>2</td>\n",
       "      <td>home</td>\n",
       "      <td>7</td>\n",
       "      <td>3</td>\n",
       "    </tr>\n",
       "    <tr>\n",
       "      <th>0</th>\n",
       "      <td>1</td>\n",
       "      <td>51</td>\n",
       "      <td>TOT</td>\n",
       "      <td>win</td>\n",
       "      <td>1</td>\n",
       "      <td>home</td>\n",
       "      <td>3</td>\n",
       "      <td>3</td>\n",
       "    </tr>\n",
       "  </tbody>\n",
       "</table>\n",
       "</div>"
      ],
      "text/plain": [
       "    weeks    id club score_string score_num game_type  team_stats  \\\n",
       "7       6  1053  FOR         loss        0       away           2   \n",
       "12     18    67  BOU         loss        1       home          18   \n",
       "12     23   827  LEE          win        5       home          29   \n",
       "19      2   525  WOL          win        3       away           4   \n",
       "14     33    60  ASV          win        2       home          44   \n",
       "15      7    71  BRI          win        2       away          10   \n",
       "4      18    50  MNU         draw        2       home          24   \n",
       "10     11    49  EVE         loss        2       home          14   \n",
       "1      21    48  ARS         loss        0       away          27   \n",
       "5      11   512  FUL         loss        1       away          15   \n",
       "14     31    45  LIV         draw        0       home          56   \n",
       "1       9    45  LIV         loss        0       away          21   \n",
       "9      11    51  TOT         draw        1       away          14   \n",
       "4       7    58  WHU          win        3       home           8   \n",
       "14     13  1053  FOR          win        3       home           6   \n",
       "5      26    52  SOU         draw        1       away          29   \n",
       "3      11    67  BOU          win        1       away          14   \n",
       "16     25    53  NWC          win        4       home          40   \n",
       "18     11   827  LEE          win        2       home           7   \n",
       "0       1    51  TOT          win        1       home           3   \n",
       "\n",
       "    team_history  \n",
       "7              1  \n",
       "12             3  \n",
       "12            10  \n",
       "19             4  \n",
       "14             7  \n",
       "15             7  \n",
       "4              6  \n",
       "10             3  \n",
       "1              5  \n",
       "5              2  \n",
       "14             6  \n",
       "1             12  \n",
       "9              8  \n",
       "4              7  \n",
       "14             4  \n",
       "5              8  \n",
       "3             10  \n",
       "16             6  \n",
       "18             3  \n",
       "0              3  "
      ]
     },
     "execution_count": 29,
     "metadata": {},
     "output_type": "execute_result"
    }
   ],
   "source": [
    "df.sample(20)"
   ]
  },
  {
   "cell_type": "markdown",
   "id": "d0dc750a",
   "metadata": {},
   "source": [
    "### Wrangling Data"
   ]
  },
  {
   "cell_type": "code",
   "execution_count": 30,
   "id": "85c1506c",
   "metadata": {
    "scrolled": true
   },
   "outputs": [],
   "source": [
    "df[\"binary_game_type\"] = df[\"game_type\"].apply(lambda x: 0 if x == \"home\" else 1)"
   ]
  },
  {
   "cell_type": "code",
   "execution_count": 31,
   "id": "f4850a7a",
   "metadata": {},
   "outputs": [
    {
     "data": {
      "text/html": [
       "<div>\n",
       "<style scoped>\n",
       "    .dataframe tbody tr th:only-of-type {\n",
       "        vertical-align: middle;\n",
       "    }\n",
       "\n",
       "    .dataframe tbody tr th {\n",
       "        vertical-align: top;\n",
       "    }\n",
       "\n",
       "    .dataframe thead th {\n",
       "        text-align: right;\n",
       "    }\n",
       "</style>\n",
       "<table border=\"1\" class=\"dataframe\">\n",
       "  <thead>\n",
       "    <tr style=\"text-align: right;\">\n",
       "      <th></th>\n",
       "      <th>weeks</th>\n",
       "      <th>id</th>\n",
       "      <th>club</th>\n",
       "      <th>score_string</th>\n",
       "      <th>score_num</th>\n",
       "      <th>game_type</th>\n",
       "      <th>team_stats</th>\n",
       "      <th>team_history</th>\n",
       "      <th>binary_game_type</th>\n",
       "    </tr>\n",
       "  </thead>\n",
       "  <tbody>\n",
       "    <tr>\n",
       "      <th>0</th>\n",
       "      <td>1</td>\n",
       "      <td>51</td>\n",
       "      <td>TOT</td>\n",
       "      <td>win</td>\n",
       "      <td>1</td>\n",
       "      <td>home</td>\n",
       "      <td>3</td>\n",
       "      <td>3</td>\n",
       "      <td>0</td>\n",
       "    </tr>\n",
       "    <tr>\n",
       "      <th>1</th>\n",
       "      <td>1</td>\n",
       "      <td>972</td>\n",
       "      <td>BRN</td>\n",
       "      <td>loss</td>\n",
       "      <td>0</td>\n",
       "      <td>away</td>\n",
       "      <td>0</td>\n",
       "      <td>0</td>\n",
       "      <td>1</td>\n",
       "    </tr>\n",
       "    <tr>\n",
       "      <th>2</th>\n",
       "      <td>1</td>\n",
       "      <td>512</td>\n",
       "      <td>FUL</td>\n",
       "      <td>win</td>\n",
       "      <td>3</td>\n",
       "      <td>home</td>\n",
       "      <td>3</td>\n",
       "      <td>3</td>\n",
       "      <td>0</td>\n",
       "    </tr>\n",
       "    <tr>\n",
       "      <th>3</th>\n",
       "      <td>1</td>\n",
       "      <td>48</td>\n",
       "      <td>ARS</td>\n",
       "      <td>loss</td>\n",
       "      <td>2</td>\n",
       "      <td>away</td>\n",
       "      <td>0</td>\n",
       "      <td>0</td>\n",
       "      <td>1</td>\n",
       "    </tr>\n",
       "    <tr>\n",
       "      <th>4</th>\n",
       "      <td>1</td>\n",
       "      <td>50</td>\n",
       "      <td>MNU</td>\n",
       "      <td>loss</td>\n",
       "      <td>1</td>\n",
       "      <td>home</td>\n",
       "      <td>0</td>\n",
       "      <td>0</td>\n",
       "      <td>0</td>\n",
       "    </tr>\n",
       "  </tbody>\n",
       "</table>\n",
       "</div>"
      ],
      "text/plain": [
       "   weeks   id club score_string score_num game_type  team_stats  team_history  \\\n",
       "0      1   51  TOT          win        1       home           3             3   \n",
       "1      1  972  BRN         loss        0       away           0             0   \n",
       "2      1  512  FUL          win        3       home           3             3   \n",
       "3      1   48  ARS         loss        2       away           0             0   \n",
       "4      1   50  MNU         loss        1       home           0             0   \n",
       "\n",
       "   binary_game_type  \n",
       "0                 0  \n",
       "1                 1  \n",
       "2                 0  \n",
       "3                 1  \n",
       "4                 0  "
      ]
     },
     "execution_count": 31,
     "metadata": {},
     "output_type": "execute_result"
    }
   ],
   "source": [
    "df.head()"
   ]
  },
  {
   "cell_type": "code",
   "execution_count": 32,
   "id": "e957e6c2",
   "metadata": {},
   "outputs": [],
   "source": [
    "# df[\"weeks\"].apply(lambda x: int(x))"
   ]
  },
  {
   "cell_type": "markdown",
   "id": "73dc72f9",
   "metadata": {},
   "source": [
    "### ANALYING DATA"
   ]
  },
  {
   "cell_type": "code",
   "execution_count": 130,
   "id": "3709b6bd",
   "metadata": {
    "scrolled": true
   },
   "outputs": [
    {
     "data": {
      "image/png": "[encoded data removed]",
      "text/plain": [
       "<Figure size 432x288 with 1 Axes>"
      ]
     },
     "metadata": {
      "needs_background": "light"
     },
     "output_type": "display_data"
    }
   ],
   "source": [
    "color_paletter = sb.color_palette()[0]\n",
    "sb.barplot(x = df[\"score_string\"], y = df[\"weeks\"].apply(lambda x: int(x)) , color=color_paletter);"
   ]
  },
  {
   "cell_type": "code",
   "execution_count": 34,
   "id": "743c4432",
   "metadata": {},
   "outputs": [],
   "source": [
    "# df.groupby(\"club\").mean()\n",
    "# df.head()"
   ]
  },
  {
   "cell_type": "code",
   "execution_count": 35,
   "id": "0620cffe",
   "metadata": {},
   "outputs": [
    {
     "name": "stdout",
     "output_type": "stream",
     "text": [
      "main_club: MNC, --- main_scores: win, ---, club_values: 22\n"
     ]
    }
   ],
   "source": [
    "# sb.barplot(x = df[\"club\"], y = df[\"score_string\"] , color=color_paletter)\n",
    "all_tems = df[[\"club\", \"score_string\"]].value_counts()\n",
    "# df.query(\"club == 'MNU'\")\n",
    "club = all_tems.index\n",
    "club_values = all_tems.values\n",
    "# plt.figure(figsize=[10, 6])\n",
    "main_club = [x[0] for x in club]\n",
    "main_scores = [x[1] for x in club]\n",
    "print(f\"main_club: {main_club[0]}, --- main_scores: {main_scores[0]}, ---, club_values: {club_values[0]}\")"
   ]
  },
  {
   "cell_type": "code",
   "execution_count": 36,
   "id": "2813bd69",
   "metadata": {},
   "outputs": [],
   "source": [
    "query_df_club = pd.DataFrame({\n",
    "    \"clubs\": main_club,\n",
    "    \"scores\": main_scores,\n",
    "    \"occ\": club_values\n",
    "})"
   ]
  },
  {
   "cell_type": "code",
   "execution_count": 37,
   "id": "709cc265",
   "metadata": {
    "scrolled": true
   },
   "outputs": [],
   "source": [
    "# query_df_club"
   ]
  },
  {
   "cell_type": "code",
   "execution_count": 132,
   "id": "55e58cf7",
   "metadata": {},
   "outputs": [
    {
     "data": {
      "image/png": "[encoded data removed]",
      "text/plain": [
       "<Figure size 1440x720 with 1 Axes>"
      ]
     },
     "metadata": {
      "needs_background": "light"
     },
     "output_type": "display_data"
    }
   ],
   "source": [
    "plt.figure(figsize=[20, 10])\n",
    "sb.barplot(data=query_df_club, x=\"clubs\", y=\"occ\", hue=\"scores\");"
   ]
  },
  {
   "cell_type": "code",
   "execution_count": 39,
   "id": "01fb9879",
   "metadata": {},
   "outputs": [],
   "source": [
    "query_df_club_wins = query_df_club.query(\"scores == 'win'\")\n",
    "query_df_club_loss = query_df_club.query(\"scores == 'loss'\")\n",
    "query_df_club_draw = query_df_club.query(\"scores == 'draw'\")\n",
    "# query_df_club_draw.head()"
   ]
  },
  {
   "cell_type": "code",
   "execution_count": 133,
   "id": "1149f0da",
   "metadata": {},
   "outputs": [
    {
     "data": {
      "image/png": "[encoded data removed]",
      "text/plain": [
       "<Figure size 1440x720 with 1 Axes>"
      ]
     },
     "metadata": {
      "needs_background": "light"
     },
     "output_type": "display_data"
    }
   ],
   "source": [
    "plt.figure(figsize=[20, 10])\n",
    "plt.title(\" WINS \")\n",
    "sb.barplot(data=query_df_club_wins, x=\"clubs\", y=\"occ\", color=color_paletter);"
   ]
  },
  {
   "cell_type": "code",
   "execution_count": 134,
   "id": "2aa88059",
   "metadata": {
    "scrolled": true
   },
   "outputs": [
    {
     "data": {
      "image/png": "[encoded data removed]",
      "text/plain": [
       "<Figure size 1440x720 with 1 Axes>"
      ]
     },
     "metadata": {
      "needs_background": "light"
     },
     "output_type": "display_data"
    }
   ],
   "source": [
    "plt.figure(figsize=[20, 10])\n",
    "plt.title(\" LOSS \")\n",
    "sb.barplot(data=query_df_club_loss, x=\"clubs\", y=\"occ\", color=color_paletter);"
   ]
  },
  {
   "cell_type": "code",
   "execution_count": 42,
   "id": "e47ef91d",
   "metadata": {},
   "outputs": [],
   "source": [
    "# df.head()"
   ]
  },
  {
   "cell_type": "code",
   "execution_count": 135,
   "id": "f85849c8",
   "metadata": {},
   "outputs": [
    {
     "data": {
      "image/png": "[encoded data removed]",
      "text/plain": [
       "<Figure size 1440x720 with 1 Axes>"
      ]
     },
     "metadata": {
      "needs_background": "light"
     },
     "output_type": "display_data"
    }
   ],
   "source": [
    "plt.figure(figsize=[20, 10])\n",
    "plt.title(\" DRAWS \")\n",
    "sb.barplot(data=query_df_club_draw, x=\"clubs\", y=\"occ\", color=color_paletter);"
   ]
  },
  {
   "cell_type": "code",
   "execution_count": 136,
   "id": "5c858b7a",
   "metadata": {},
   "outputs": [
    {
     "data": {
      "image/png": "[encoded data removed]",
      "text/plain": [
       "<Figure size 1440x720 with 1 Axes>"
      ]
     },
     "metadata": {},
     "output_type": "display_data"
    }
   ],
   "source": [
    "sort_count = df.score_string.value_counts()\n",
    "\n",
    "plt.figure(figsize=[20, 10])\n",
    "\n",
    "plt.pie([np.float64(x) for x in sort_count.values], labels=sort_count.index, startangle=90, counterclock=False);\n"
   ]
  },
  {
   "cell_type": "markdown",
   "id": "fb1b81e1",
   "metadata": {},
   "source": [
    "### Select training data"
   ]
  },
  {
   "cell_type": "code",
   "execution_count": 45,
   "id": "c24db5c9",
   "metadata": {},
   "outputs": [
    {
     "data": {
      "text/html": [
       "<div>\n",
       "<style scoped>\n",
       "    .dataframe tbody tr th:only-of-type {\n",
       "        vertical-align: middle;\n",
       "    }\n",
       "\n",
       "    .dataframe tbody tr th {\n",
       "        vertical-align: top;\n",
       "    }\n",
       "\n",
       "    .dataframe thead th {\n",
       "        text-align: right;\n",
       "    }\n",
       "</style>\n",
       "<table border=\"1\" class=\"dataframe\">\n",
       "  <thead>\n",
       "    <tr style=\"text-align: right;\">\n",
       "      <th></th>\n",
       "      <th>weeks</th>\n",
       "      <th>id</th>\n",
       "      <th>club</th>\n",
       "      <th>score_string</th>\n",
       "      <th>score_num</th>\n",
       "      <th>game_type</th>\n",
       "      <th>team_stats</th>\n",
       "      <th>team_history</th>\n",
       "      <th>binary_game_type</th>\n",
       "    </tr>\n",
       "  </thead>\n",
       "  <tbody>\n",
       "    <tr>\n",
       "      <th>0</th>\n",
       "      <td>1</td>\n",
       "      <td>51</td>\n",
       "      <td>TOT</td>\n",
       "      <td>win</td>\n",
       "      <td>1</td>\n",
       "      <td>home</td>\n",
       "      <td>3</td>\n",
       "      <td>3</td>\n",
       "      <td>0</td>\n",
       "    </tr>\n",
       "    <tr>\n",
       "      <th>1</th>\n",
       "      <td>1</td>\n",
       "      <td>972</td>\n",
       "      <td>BRN</td>\n",
       "      <td>loss</td>\n",
       "      <td>0</td>\n",
       "      <td>away</td>\n",
       "      <td>0</td>\n",
       "      <td>0</td>\n",
       "      <td>1</td>\n",
       "    </tr>\n",
       "    <tr>\n",
       "      <th>2</th>\n",
       "      <td>1</td>\n",
       "      <td>512</td>\n",
       "      <td>FUL</td>\n",
       "      <td>win</td>\n",
       "      <td>3</td>\n",
       "      <td>home</td>\n",
       "      <td>3</td>\n",
       "      <td>3</td>\n",
       "      <td>0</td>\n",
       "    </tr>\n",
       "    <tr>\n",
       "      <th>3</th>\n",
       "      <td>1</td>\n",
       "      <td>48</td>\n",
       "      <td>ARS</td>\n",
       "      <td>loss</td>\n",
       "      <td>2</td>\n",
       "      <td>away</td>\n",
       "      <td>0</td>\n",
       "      <td>0</td>\n",
       "      <td>1</td>\n",
       "    </tr>\n",
       "    <tr>\n",
       "      <th>4</th>\n",
       "      <td>1</td>\n",
       "      <td>50</td>\n",
       "      <td>MNU</td>\n",
       "      <td>loss</td>\n",
       "      <td>1</td>\n",
       "      <td>home</td>\n",
       "      <td>0</td>\n",
       "      <td>0</td>\n",
       "      <td>0</td>\n",
       "    </tr>\n",
       "  </tbody>\n",
       "</table>\n",
       "</div>"
      ],
      "text/plain": [
       "   weeks   id club score_string score_num game_type  team_stats  team_history  \\\n",
       "0      1   51  TOT          win        1       home           3             3   \n",
       "1      1  972  BRN         loss        0       away           0             0   \n",
       "2      1  512  FUL          win        3       home           3             3   \n",
       "3      1   48  ARS         loss        2       away           0             0   \n",
       "4      1   50  MNU         loss        1       home           0             0   \n",
       "\n",
       "   binary_game_type  \n",
       "0                 0  \n",
       "1                 1  \n",
       "2                 0  \n",
       "3                 1  \n",
       "4                 0  "
      ]
     },
     "execution_count": 45,
     "metadata": {},
     "output_type": "execute_result"
    }
   ],
   "source": [
    "df.head()"
   ]
  },
  {
   "cell_type": "code",
   "execution_count": 46,
   "id": "2b74177d",
   "metadata": {},
   "outputs": [],
   "source": [
    "train_df = df[[\"weeks\", \"id\", \"score_string\", \"binary_game_type\", \"team_stats\", \"team_history\"]]\n",
    "# train_df = df[[\"club\", \"final\"]]"
   ]
  },
  {
   "cell_type": "code",
   "execution_count": 47,
   "id": "20fe4d94",
   "metadata": {},
   "outputs": [
    {
     "name": "stderr",
     "output_type": "stream",
     "text": [
      "C:\\Users\\fekom\\anaconda3\\lib\\site-packages\\pandas\\core\\frame.py:4441: SettingWithCopyWarning: \n",
      "A value is trying to be set on a copy of a slice from a DataFrame\n",
      "\n",
      "See the caveats in the documentation: https://pandas.pydata.org/pandas-docs/stable/user_guide/indexing.html#returning-a-view-versus-a-copy\n",
      "  return super().rename(\n"
     ]
    }
   ],
   "source": [
    "train_home = df.query(\"game_type == 'home'\")\n",
    "train_away = df.query(\"game_type == 'away'\")\n",
    "get_columns_names = list(df.columns)[1:]\n",
    "\n",
    "for x in get_columns_names:\n",
    "    train_home.rename(columns={x: f'{x}_home'}, inplace=True)\n",
    "    train_away.rename(columns={x: f'{x}_away'}, inplace=True)    "
   ]
  },
  {
   "cell_type": "code",
   "execution_count": 48,
   "id": "f53aa842",
   "metadata": {},
   "outputs": [],
   "source": [
    "train_home = train_home.reset_index().drop('index', axis = 1) \n",
    "train_away = train_away.reset_index().drop('index', axis = 1) "
   ]
  },
  {
   "cell_type": "code",
   "execution_count": 49,
   "id": "136904c5",
   "metadata": {},
   "outputs": [],
   "source": [
    "train_main = pd.concat([train_home, train_away], axis=1).drop('weeks', axis = 1)\n",
    "train_main[\"weeks\"] = train_away[\"weeks\"]"
   ]
  },
  {
   "cell_type": "code",
   "execution_count": 50,
   "id": "4249e8eb",
   "metadata": {
    "scrolled": true
   },
   "outputs": [],
   "source": [
    "order_columns = [\"weeks\", \"club_home\", \"club_away\", \"id_home\", \"id_away\", \"game_type_home\", \"game_type_away\", \n",
    "                  \"binary_game_type_home\", \"binary_game_type_away\", \"score_string_home\", \"score_string_away\", \n",
    "                  \"score_num_home\", \"score_num_away\", \"team_stats_home\", \"team_stats_away\", \n",
    "                  \"team_history_home\", \"team_history_away\"]\n",
    "train_main = train_main.reindex(order_columns, axis=1)"
   ]
  },
  {
   "cell_type": "code",
   "execution_count": 51,
   "id": "6f37cd87",
   "metadata": {},
   "outputs": [],
   "source": [
    "join_score_string_WDL = []\n",
    "\n",
    "for i in range(len(train_main[\"score_string_home\"])): #+train_main[\"binary_game_type_away\"].values\n",
    "    home_score = train_main[\"score_string_home\"].values[i]\n",
    "    away_score = train_main[\"score_string_away\"].values[i]\n",
    "    \n",
    "    join_score_string_WDL.append(f\"{home_score}-{away_score}\")"
   ]
  },
  {
   "cell_type": "code",
   "execution_count": 52,
   "id": "4bcf4b0f",
   "metadata": {},
   "outputs": [],
   "source": [
    "train_main[\"score_string_WDL\"] = join_score_string_WDL"
   ]
  },
  {
   "cell_type": "code",
   "execution_count": 53,
   "id": "00adf284",
   "metadata": {},
   "outputs": [
    {
     "data": {
      "text/html": [
       "<div>\n",
       "<style scoped>\n",
       "    .dataframe tbody tr th:only-of-type {\n",
       "        vertical-align: middle;\n",
       "    }\n",
       "\n",
       "    .dataframe tbody tr th {\n",
       "        vertical-align: top;\n",
       "    }\n",
       "\n",
       "    .dataframe thead th {\n",
       "        text-align: right;\n",
       "    }\n",
       "</style>\n",
       "<table border=\"1\" class=\"dataframe\">\n",
       "  <thead>\n",
       "    <tr style=\"text-align: right;\">\n",
       "      <th></th>\n",
       "      <th>weeks</th>\n",
       "      <th>club_home</th>\n",
       "      <th>club_away</th>\n",
       "      <th>id_home</th>\n",
       "      <th>id_away</th>\n",
       "      <th>game_type_home</th>\n",
       "      <th>game_type_away</th>\n",
       "      <th>binary_game_type_home</th>\n",
       "      <th>binary_game_type_away</th>\n",
       "      <th>score_string_home</th>\n",
       "      <th>score_string_away</th>\n",
       "      <th>score_num_home</th>\n",
       "      <th>score_num_away</th>\n",
       "      <th>team_stats_home</th>\n",
       "      <th>team_stats_away</th>\n",
       "      <th>team_history_home</th>\n",
       "      <th>team_history_away</th>\n",
       "      <th>score_string_WDL</th>\n",
       "    </tr>\n",
       "  </thead>\n",
       "  <tbody>\n",
       "    <tr>\n",
       "      <th>0</th>\n",
       "      <td>1</td>\n",
       "      <td>TOT</td>\n",
       "      <td>BRN</td>\n",
       "      <td>51</td>\n",
       "      <td>972</td>\n",
       "      <td>home</td>\n",
       "      <td>away</td>\n",
       "      <td>0</td>\n",
       "      <td>1</td>\n",
       "      <td>win</td>\n",
       "      <td>loss</td>\n",
       "      <td>1</td>\n",
       "      <td>0</td>\n",
       "      <td>3</td>\n",
       "      <td>0</td>\n",
       "      <td>3</td>\n",
       "      <td>0</td>\n",
       "      <td>win-loss</td>\n",
       "    </tr>\n",
       "    <tr>\n",
       "      <th>1</th>\n",
       "      <td>1</td>\n",
       "      <td>FUL</td>\n",
       "      <td>ARS</td>\n",
       "      <td>512</td>\n",
       "      <td>48</td>\n",
       "      <td>home</td>\n",
       "      <td>away</td>\n",
       "      <td>0</td>\n",
       "      <td>1</td>\n",
       "      <td>win</td>\n",
       "      <td>loss</td>\n",
       "      <td>3</td>\n",
       "      <td>2</td>\n",
       "      <td>3</td>\n",
       "      <td>0</td>\n",
       "      <td>3</td>\n",
       "      <td>0</td>\n",
       "      <td>win-loss</td>\n",
       "    </tr>\n",
       "    <tr>\n",
       "      <th>2</th>\n",
       "      <td>1</td>\n",
       "      <td>MNU</td>\n",
       "      <td>LIV</td>\n",
       "      <td>50</td>\n",
       "      <td>45</td>\n",
       "      <td>home</td>\n",
       "      <td>away</td>\n",
       "      <td>0</td>\n",
       "      <td>1</td>\n",
       "      <td>loss</td>\n",
       "      <td>win</td>\n",
       "      <td>1</td>\n",
       "      <td>2</td>\n",
       "      <td>0</td>\n",
       "      <td>3</td>\n",
       "      <td>0</td>\n",
       "      <td>3</td>\n",
       "      <td>loss-win</td>\n",
       "    </tr>\n",
       "    <tr>\n",
       "      <th>3</th>\n",
       "      <td>1</td>\n",
       "      <td>CHE</td>\n",
       "      <td>ASV</td>\n",
       "      <td>47</td>\n",
       "      <td>60</td>\n",
       "      <td>home</td>\n",
       "      <td>away</td>\n",
       "      <td>0</td>\n",
       "      <td>1</td>\n",
       "      <td>loss</td>\n",
       "      <td>win</td>\n",
       "      <td>0</td>\n",
       "      <td>2</td>\n",
       "      <td>0</td>\n",
       "      <td>3</td>\n",
       "      <td>0</td>\n",
       "      <td>3</td>\n",
       "      <td>loss-win</td>\n",
       "    </tr>\n",
       "    <tr>\n",
       "      <th>4</th>\n",
       "      <td>1</td>\n",
       "      <td>BRI</td>\n",
       "      <td>MNC</td>\n",
       "      <td>71</td>\n",
       "      <td>46</td>\n",
       "      <td>home</td>\n",
       "      <td>away</td>\n",
       "      <td>0</td>\n",
       "      <td>1</td>\n",
       "      <td>loss</td>\n",
       "      <td>win</td>\n",
       "      <td>1</td>\n",
       "      <td>2</td>\n",
       "      <td>0</td>\n",
       "      <td>3</td>\n",
       "      <td>0</td>\n",
       "      <td>3</td>\n",
       "      <td>loss-win</td>\n",
       "    </tr>\n",
       "  </tbody>\n",
       "</table>\n",
       "</div>"
      ],
      "text/plain": [
       "   weeks club_home club_away  id_home  id_away game_type_home game_type_away  \\\n",
       "0      1       TOT       BRN       51      972           home           away   \n",
       "1      1       FUL       ARS      512       48           home           away   \n",
       "2      1       MNU       LIV       50       45           home           away   \n",
       "3      1       CHE       ASV       47       60           home           away   \n",
       "4      1       BRI       MNC       71       46           home           away   \n",
       "\n",
       "   binary_game_type_home  binary_game_type_away score_string_home  \\\n",
       "0                      0                      1               win   \n",
       "1                      0                      1               win   \n",
       "2                      0                      1              loss   \n",
       "3                      0                      1              loss   \n",
       "4                      0                      1              loss   \n",
       "\n",
       "  score_string_away score_num_home score_num_away  team_stats_home  \\\n",
       "0              loss             1              0                 3   \n",
       "1              loss             3              2                 3   \n",
       "2               win             1              2                 0   \n",
       "3               win             0              2                 0   \n",
       "4               win             1              2                 0   \n",
       "\n",
       "   team_stats_away  team_history_home  team_history_away score_string_WDL  \n",
       "0                0                  3                  0         win-loss  \n",
       "1                0                  3                  0         win-loss  \n",
       "2                3                  0                  3         loss-win  \n",
       "3                3                  0                  3         loss-win  \n",
       "4                3                  0                  3         loss-win  "
      ]
     },
     "execution_count": 53,
     "metadata": {},
     "output_type": "execute_result"
    }
   ],
   "source": [
    "train_main.head()"
   ]
  },
  {
   "cell_type": "markdown",
   "id": "bee2a886",
   "metadata": {},
   "source": [
    "#### STANDARDIZATION OF TRAIN DATA FRAME"
   ]
  },
  {
   "cell_type": "code",
   "execution_count": 54,
   "id": "e8f30696",
   "metadata": {},
   "outputs": [],
   "source": [
    "# train_df[[\"weeks_normalization\"]]\n",
    "standardized_col = [\"standardized_weeks\", \"standardized_id_home\", \"standardized_id_away\",\n",
    "                    \"standardized_team_stats_home\", \"standardized_team_stats_away\", \n",
    "                    \"standardized_team_history_home\", \"standardized_team_history_away\"]\n",
    "col = [\"weeks\", \"id_home\", \"id_away\", \"team_stats_home\", \"team_stats_away\", \"team_history_home\", \"team_history_away\"]\n",
    "for x in range(len(standardized_col)):\n",
    "    ################ WEEK STANDADIZATION BY VARIANCE ################\n",
    "    # train_df[standardized_col[x]] = (train_df[col[x]] - train_df[col[x]].mean())/train_df[col[x]].std()**2\n",
    "    ################ WEEK STANDADIZATION BY STANDARD DIVIATION ################\n",
    "    train_main[standardized_col[x]] = (train_main[col[x]] - train_main[col[x]].mean())/train_main[col[x]].std()\n",
    "    \n",
    "# (train_df[\"weeks\"] - train_df[\"weeks\"].mean())/train_df[\"weeks\"].std()"
   ]
  },
  {
   "cell_type": "code",
   "execution_count": 55,
   "id": "3c7ef081",
   "metadata": {},
   "outputs": [
    {
     "data": {
      "text/html": [
       "<div>\n",
       "<style scoped>\n",
       "    .dataframe tbody tr th:only-of-type {\n",
       "        vertical-align: middle;\n",
       "    }\n",
       "\n",
       "    .dataframe tbody tr th {\n",
       "        vertical-align: top;\n",
       "    }\n",
       "\n",
       "    .dataframe thead th {\n",
       "        text-align: right;\n",
       "    }\n",
       "</style>\n",
       "<table border=\"1\" class=\"dataframe\">\n",
       "  <thead>\n",
       "    <tr style=\"text-align: right;\">\n",
       "      <th></th>\n",
       "      <th>weeks</th>\n",
       "      <th>club_home</th>\n",
       "      <th>club_away</th>\n",
       "      <th>id_home</th>\n",
       "      <th>id_away</th>\n",
       "      <th>game_type_home</th>\n",
       "      <th>game_type_away</th>\n",
       "      <th>binary_game_type_home</th>\n",
       "      <th>binary_game_type_away</th>\n",
       "      <th>score_string_home</th>\n",
       "      <th>...</th>\n",
       "      <th>team_history_home</th>\n",
       "      <th>team_history_away</th>\n",
       "      <th>score_string_WDL</th>\n",
       "      <th>standardized_weeks</th>\n",
       "      <th>standardized_id_home</th>\n",
       "      <th>standardized_id_away</th>\n",
       "      <th>standardized_team_stats_home</th>\n",
       "      <th>standardized_team_stats_away</th>\n",
       "      <th>standardized_team_history_home</th>\n",
       "      <th>standardized_team_history_away</th>\n",
       "    </tr>\n",
       "  </thead>\n",
       "  <tbody>\n",
       "    <tr>\n",
       "      <th>133</th>\n",
       "      <td>14</td>\n",
       "      <td>FUL</td>\n",
       "      <td>WOL</td>\n",
       "      <td>512</td>\n",
       "      <td>525</td>\n",
       "      <td>home</td>\n",
       "      <td>away</td>\n",
       "      <td>0</td>\n",
       "      <td>1</td>\n",
       "      <td>win</td>\n",
       "      <td>...</td>\n",
       "      <td>3</td>\n",
       "      <td>7</td>\n",
       "      <td>win-loss</td>\n",
       "      <td>-0.314585</td>\n",
       "      <td>0.824217</td>\n",
       "      <td>0.876311</td>\n",
       "      <td>-0.337727</td>\n",
       "      <td>-0.579517</td>\n",
       "      <td>-1.025337</td>\n",
       "      <td>0.245863</td>\n",
       "    </tr>\n",
       "    <tr>\n",
       "      <th>185</th>\n",
       "      <td>19</td>\n",
       "      <td>ASV</td>\n",
       "      <td>SOU</td>\n",
       "      <td>60</td>\n",
       "      <td>52</td>\n",
       "      <td>home</td>\n",
       "      <td>away</td>\n",
       "      <td>0</td>\n",
       "      <td>1</td>\n",
       "      <td>win</td>\n",
       "      <td>...</td>\n",
       "      <td>8</td>\n",
       "      <td>7</td>\n",
       "      <td>win-loss</td>\n",
       "      <td>0.209724</td>\n",
       "      <td>-0.528037</td>\n",
       "      <td>-0.547582</td>\n",
       "      <td>0.255442</td>\n",
       "      <td>-0.182340</td>\n",
       "      <td>0.426857</td>\n",
       "      <td>0.245863</td>\n",
       "    </tr>\n",
       "    <tr>\n",
       "      <th>42</th>\n",
       "      <td>5</td>\n",
       "      <td>EVE</td>\n",
       "      <td>LIV</td>\n",
       "      <td>49</td>\n",
       "      <td>45</td>\n",
       "      <td>home</td>\n",
       "      <td>away</td>\n",
       "      <td>0</td>\n",
       "      <td>1</td>\n",
       "      <td>loss</td>\n",
       "      <td>...</td>\n",
       "      <td>10</td>\n",
       "      <td>12</td>\n",
       "      <td>loss-win</td>\n",
       "      <td>-1.258341</td>\n",
       "      <td>-0.560946</td>\n",
       "      <td>-0.568654</td>\n",
       "      <td>-0.864987</td>\n",
       "      <td>-0.711909</td>\n",
       "      <td>1.007735</td>\n",
       "      <td>1.742816</td>\n",
       "    </tr>\n",
       "    <tr>\n",
       "      <th>270</th>\n",
       "      <td>28</td>\n",
       "      <td>ARS</td>\n",
       "      <td>LEE</td>\n",
       "      <td>48</td>\n",
       "      <td>827</td>\n",
       "      <td>home</td>\n",
       "      <td>away</td>\n",
       "      <td>0</td>\n",
       "      <td>1</td>\n",
       "      <td>win</td>\n",
       "      <td>...</td>\n",
       "      <td>10</td>\n",
       "      <td>4</td>\n",
       "      <td>win-loss</td>\n",
       "      <td>1.153479</td>\n",
       "      <td>-0.563938</td>\n",
       "      <td>1.785436</td>\n",
       "      <td>1.112241</td>\n",
       "      <td>0.678209</td>\n",
       "      <td>1.007735</td>\n",
       "      <td>-0.652309</td>\n",
       "    </tr>\n",
       "    <tr>\n",
       "      <th>304</th>\n",
       "      <td>31</td>\n",
       "      <td>FOR</td>\n",
       "      <td>BRI</td>\n",
       "      <td>1053</td>\n",
       "      <td>71</td>\n",
       "      <td>home</td>\n",
       "      <td>away</td>\n",
       "      <td>0</td>\n",
       "      <td>1</td>\n",
       "      <td>draw</td>\n",
       "      <td>...</td>\n",
       "      <td>1</td>\n",
       "      <td>9</td>\n",
       "      <td>draw-draw</td>\n",
       "      <td>1.468065</td>\n",
       "      <td>2.442733</td>\n",
       "      <td>-0.490385</td>\n",
       "      <td>-0.271819</td>\n",
       "      <td>1.538759</td>\n",
       "      <td>-1.606215</td>\n",
       "      <td>0.844644</td>\n",
       "    </tr>\n",
       "  </tbody>\n",
       "</table>\n",
       "<p>5 rows × 25 columns</p>\n",
       "</div>"
      ],
      "text/plain": [
       "     weeks club_home club_away  id_home  id_away game_type_home  \\\n",
       "133     14       FUL       WOL      512      525           home   \n",
       "185     19       ASV       SOU       60       52           home   \n",
       "42       5       EVE       LIV       49       45           home   \n",
       "270     28       ARS       LEE       48      827           home   \n",
       "304     31       FOR       BRI     1053       71           home   \n",
       "\n",
       "    game_type_away  binary_game_type_home  binary_game_type_away  \\\n",
       "133           away                      0                      1   \n",
       "185           away                      0                      1   \n",
       "42            away                      0                      1   \n",
       "270           away                      0                      1   \n",
       "304           away                      0                      1   \n",
       "\n",
       "    score_string_home  ... team_history_home team_history_away  \\\n",
       "133               win  ...                 3                 7   \n",
       "185               win  ...                 8                 7   \n",
       "42               loss  ...                10                12   \n",
       "270               win  ...                10                 4   \n",
       "304              draw  ...                 1                 9   \n",
       "\n",
       "    score_string_WDL  standardized_weeks  standardized_id_home  \\\n",
       "133         win-loss           -0.314585              0.824217   \n",
       "185         win-loss            0.209724             -0.528037   \n",
       "42          loss-win           -1.258341             -0.560946   \n",
       "270         win-loss            1.153479             -0.563938   \n",
       "304        draw-draw            1.468065              2.442733   \n",
       "\n",
       "     standardized_id_away  standardized_team_stats_home  \\\n",
       "133              0.876311                     -0.337727   \n",
       "185             -0.547582                      0.255442   \n",
       "42              -0.568654                     -0.864987   \n",
       "270              1.785436                      1.112241   \n",
       "304             -0.490385                     -0.271819   \n",
       "\n",
       "    standardized_team_stats_away  standardized_team_history_home  \\\n",
       "133                    -0.579517                       -1.025337   \n",
       "185                    -0.182340                        0.426857   \n",
       "42                     -0.711909                        1.007735   \n",
       "270                     0.678209                        1.007735   \n",
       "304                     1.538759                       -1.606215   \n",
       "\n",
       "     standardized_team_history_away  \n",
       "133                        0.245863  \n",
       "185                        0.245863  \n",
       "42                         1.742816  \n",
       "270                       -0.652309  \n",
       "304                        0.844644  \n",
       "\n",
       "[5 rows x 25 columns]"
      ]
     },
     "execution_count": 55,
     "metadata": {},
     "output_type": "execute_result"
    }
   ],
   "source": [
    "train_main.sample(5)"
   ]
  },
  {
   "cell_type": "code",
   "execution_count": null,
   "id": "6dc72757",
   "metadata": {},
   "outputs": [],
   "source": []
  },
  {
   "cell_type": "code",
   "execution_count": 56,
   "id": "9979bc3b",
   "metadata": {},
   "outputs": [],
   "source": [
    "train_main = train_main.reset_index()\n",
    "train_main = train_main.drop('index', axis = 1) \n",
    "# train_df.head()"
   ]
  },
  {
   "cell_type": "code",
   "execution_count": 57,
   "id": "e24ac9a5",
   "metadata": {},
   "outputs": [
    {
     "data": {
      "text/plain": [
       "Index(['weeks', 'club_home', 'club_away', 'id_home', 'id_away',\n",
       "       'game_type_home', 'game_type_away', 'binary_game_type_home',\n",
       "       'binary_game_type_away', 'score_string_home', 'score_string_away',\n",
       "       'score_num_home', 'score_num_away', 'team_stats_home',\n",
       "       'team_stats_away', 'team_history_home', 'team_history_away',\n",
       "       'score_string_WDL', 'standardized_weeks', 'standardized_id_home',\n",
       "       'standardized_id_away', 'standardized_team_stats_home',\n",
       "       'standardized_team_stats_away', 'standardized_team_history_home',\n",
       "       'standardized_team_history_away'],\n",
       "      dtype='object')"
      ]
     },
     "execution_count": 57,
     "metadata": {},
     "output_type": "execute_result"
    }
   ],
   "source": [
    "train_main.columns"
   ]
  },
  {
   "cell_type": "markdown",
   "id": "637a9c53",
   "metadata": {},
   "source": [
    "#### Train the model"
   ]
  },
  {
   "cell_type": "code",
   "execution_count": 58,
   "id": "593990bb",
   "metadata": {},
   "outputs": [],
   "source": [
    "from sklearn.model_selection import train_test_split, StratifiedShuffleSplit\n",
    "from sklearn.tree import DecisionTreeClassifier\n",
    "from sklearn.metrics import accuracy_score\n",
    "from sklearn.preprocessing import LabelBinarizer\n",
    "from sklearn.linear_model import SGDClassifier\n",
    "from sklearn.ensemble import RandomForestClassifier\n",
    "from sklearn.svm import SVC"
   ]
  },
  {
   "cell_type": "markdown",
   "id": "a6dc685c",
   "metadata": {},
   "source": [
    "#### SPLIT DATA FOR EVEN FEATURES"
   ]
  },
  {
   "cell_type": "code",
   "execution_count": 59,
   "id": "e93e723b",
   "metadata": {},
   "outputs": [],
   "source": [
    "# train_df[[\"home\", \"away\"]][:20][\"home\"].value_counts()\n",
    "# prec_20 = int((20/100)*len(train_df))\n",
    "# prec_20"
   ]
  },
  {
   "cell_type": "code",
   "execution_count": 60,
   "id": "6c9fb986",
   "metadata": {
    "scrolled": true
   },
   "outputs": [],
   "source": [
    "# train_df[[\"home\", \"away\"]][:20][\"away\"].value_counts()"
   ]
  },
  {
   "cell_type": "code",
   "execution_count": 61,
   "id": "a5006ab7",
   "metadata": {},
   "outputs": [],
   "source": [
    "# train_data = train_df[prec_20:]\n",
    "# test_data = train_df[:prec_20]"
   ]
  },
  {
   "cell_type": "code",
   "execution_count": 62,
   "id": "8895bbee",
   "metadata": {},
   "outputs": [],
   "source": [
    "# train_data.head()"
   ]
  },
  {
   "cell_type": "markdown",
   "id": "3475197a",
   "metadata": {},
   "source": [
    "### Ordinary Split"
   ]
  },
  {
   "cell_type": "code",
   "execution_count": 63,
   "id": "369f0d0c",
   "metadata": {},
   "outputs": [],
   "source": [
    "# x_train_data = train_data[[\"id\"]]\n",
    "# x_train_data_dummy = pd.get_dummies(x_train_data)\n",
    "# y_train_data = train_data[\"score_string\"]"
   ]
  },
  {
   "cell_type": "code",
   "execution_count": 64,
   "id": "e2bba0e3",
   "metadata": {},
   "outputs": [],
   "source": [
    "# x_test_data = test_data[[\"id\"]]\n",
    "# x_test_data_dummy = pd.get_dummies(x_test_data)\n",
    "# y_test_data = test_data[\"score_string\"]"
   ]
  },
  {
   "cell_type": "markdown",
   "id": "5d9b21a9",
   "metadata": {},
   "source": [
    "### cross validation spilt"
   ]
  },
  {
   "cell_type": "code",
   "execution_count": 65,
   "id": "24be4e4f",
   "metadata": {},
   "outputs": [],
   "source": [
    "# x_train, x_test, y_train, y_test = train_test_split(train_df[[\"id\"]], train_df[\"score_string\"], test_size=0.3)\n",
    "# x_train, x_test, y_train, y_test = train_test_split(train_df[\"club\"], train_df[\"final\"], test_size=0.3)"
   ]
  },
  {
   "cell_type": "markdown",
   "id": "b5e16cac",
   "metadata": {},
   "source": [
    "### Stratified Shuffle Split"
   ]
  },
  {
   "cell_type": "code",
   "execution_count": 66,
   "id": "9f404ec7",
   "metadata": {},
   "outputs": [],
   "source": [
    "split = StratifiedShuffleSplit(n_splits=1, test_size=0.2)\n",
    "for train_index, test_index in split.split(train_main[standardized_col], train_main[\"score_string_WDL\"]):\n",
    "    strat_train_set = train_main.loc[train_index]\n",
    "    strat_test_set = train_main.loc[test_index]    "
   ]
  },
  {
   "cell_type": "code",
   "execution_count": 67,
   "id": "042252e5",
   "metadata": {},
   "outputs": [],
   "source": [
    "# y_train.head()"
   ]
  },
  {
   "cell_type": "code",
   "execution_count": 68,
   "id": "d9cab54a",
   "metadata": {},
   "outputs": [],
   "source": [
    "# x_train.head()"
   ]
  },
  {
   "cell_type": "code",
   "execution_count": 69,
   "id": "e539db1d",
   "metadata": {},
   "outputs": [],
   "source": [
    "# trat_train_set.head()"
   ]
  },
  {
   "cell_type": "code",
   "execution_count": 70,
   "id": "31b7e8ab",
   "metadata": {},
   "outputs": [],
   "source": [
    "# strat_test_set.head()"
   ]
  },
  {
   "cell_type": "markdown",
   "id": "d4a199ce",
   "metadata": {},
   "source": [
    "### StratifiedShuffleSplit train"
   ]
  },
  {
   "cell_type": "code",
   "execution_count": 71,
   "id": "391e2e46",
   "metadata": {},
   "outputs": [],
   "source": [
    "y_strat_train_set = strat_train_set[\"score_string_WDL\"]\n",
    "x_strat_train_set = strat_train_set[standardized_col]\n",
    "# x_strat_train_set = strat_train_set[\"club\"]"
   ]
  },
  {
   "cell_type": "code",
   "execution_count": 72,
   "id": "ed6bd969",
   "metadata": {},
   "outputs": [],
   "source": [
    "# len(y_strat_train_set), len(x_strat_train_set)"
   ]
  },
  {
   "cell_type": "markdown",
   "id": "3370c4cc",
   "metadata": {},
   "source": [
    "### StratifiedShuffleSplit test"
   ]
  },
  {
   "cell_type": "code",
   "execution_count": 73,
   "id": "8dc578d4",
   "metadata": {},
   "outputs": [],
   "source": [
    "y_strat_test_set = strat_test_set[\"score_string_WDL\"]\n",
    "x_strat_test_set = strat_test_set[standardized_col]\n",
    "# x_strat_test_set = strat_test_set[\"club\"]"
   ]
  },
  {
   "cell_type": "code",
   "execution_count": 74,
   "id": "cd89b6ef",
   "metadata": {},
   "outputs": [],
   "source": [
    "# len(y_strat_train_set), len(x_strat_train_set)"
   ]
  },
  {
   "cell_type": "code",
   "execution_count": 75,
   "id": "04cdc502",
   "metadata": {},
   "outputs": [],
   "source": [
    "# x_strat_train_set, x_strat_test_set, y_strat_train_set, y_strat_test_set"
   ]
  },
  {
   "cell_type": "markdown",
   "id": "41c103b8",
   "metadata": {},
   "source": [
    "### Selecting and Training model"
   ]
  },
  {
   "cell_type": "code",
   "execution_count": 76,
   "id": "99193f23",
   "metadata": {},
   "outputs": [],
   "source": [
    "from sklearn.model_selection import cross_val_score\n",
    "from sklearn.multiclass import OneVsOneClassifier"
   ]
  },
  {
   "cell_type": "markdown",
   "id": "dbb5bf7e",
   "metadata": {},
   "source": [
    "##### Decision tree classifer"
   ]
  },
  {
   "cell_type": "code",
   "execution_count": 77,
   "id": "e239607c",
   "metadata": {},
   "outputs": [],
   "source": [
    "def multilabel_accuracy_score(y_label, prediction):\n",
    "    accuracy = (y_label.iloc[:, :].values == predictions).mean()\n",
    "    return accuracy"
   ]
  },
  {
   "cell_type": "code",
   "execution_count": 78,
   "id": "47ef5fe0",
   "metadata": {},
   "outputs": [
    {
     "data": {
      "text/plain": [
       "DecisionTreeClassifier()"
      ]
     },
     "execution_count": 78,
     "metadata": {},
     "output_type": "execute_result"
    }
   ],
   "source": [
    "dct_model = DecisionTreeClassifier()\n",
    "dct_model.fit(x_strat_train_set, y_strat_train_set)\n",
    "# x_strat_train_set, x_strat_test_set, y_strat_train_set, y_strat_test_set"
   ]
  },
  {
   "cell_type": "code",
   "execution_count": 79,
   "id": "a489bd32",
   "metadata": {},
   "outputs": [],
   "source": [
    "predictions = dct_model.predict(x_strat_test_set)"
   ]
  },
  {
   "cell_type": "code",
   "execution_count": 80,
   "id": "48528e73",
   "metadata": {},
   "outputs": [],
   "source": [
    "# len(predictions) #, len(y_strat_test_set), len(x_strat_test_dummy)\n",
    "# y_strat_test_set\n",
    "# (y_strat_test_set.iloc[:, :].values == predictions).mean()"
   ]
  },
  {
   "cell_type": "code",
   "execution_count": 81,
   "id": "a2fad14d",
   "metadata": {},
   "outputs": [],
   "source": [
    "# y_strat_test_set.iloc[:, :].values.reshape(-1, 1).shape"
   ]
  },
  {
   "cell_type": "code",
   "execution_count": 82,
   "id": "70802c32",
   "metadata": {},
   "outputs": [],
   "source": [
    "accuracy = accuracy_score(y_strat_test_set, predictions)"
   ]
  },
  {
   "cell_type": "code",
   "execution_count": 83,
   "id": "2755e7d7",
   "metadata": {},
   "outputs": [
    {
     "name": "stdout",
     "output_type": "stream",
     "text": [
      "accuracy: 0.45454545454545453\n"
     ]
    }
   ],
   "source": [
    "print(f\"accuracy: {accuracy}\")"
   ]
  },
  {
   "cell_type": "markdown",
   "id": "da95054d",
   "metadata": {},
   "source": [
    "##### SGDClassifier"
   ]
  },
  {
   "cell_type": "code",
   "execution_count": 84,
   "id": "8ddf7987",
   "metadata": {},
   "outputs": [
    {
     "data": {
      "text/plain": [
       "OneVsOneClassifier(estimator=SGDClassifier(random_state=42))"
      ]
     },
     "execution_count": 84,
     "metadata": {},
     "output_type": "execute_result"
    }
   ],
   "source": [
    "sgd_clf = OneVsOneClassifier(SGDClassifier(random_state=42))\n",
    "sgd_clf.fit(x_strat_train_set, y_strat_train_set)\n",
    "# x_strat_train_set, x_strat_test_set, y_strat_train_set, y_strat_test_set"
   ]
  },
  {
   "cell_type": "code",
   "execution_count": 85,
   "id": "ac9c256e",
   "metadata": {},
   "outputs": [],
   "source": [
    "sgd_predict = sgd_clf.predict(x_strat_test_set)\n",
    "sgd_accuracy = accuracy_score(y_strat_test_set, sgd_predict)"
   ]
  },
  {
   "cell_type": "code",
   "execution_count": 86,
   "id": "5d1df775",
   "metadata": {
    "scrolled": true
   },
   "outputs": [
    {
     "name": "stdout",
     "output_type": "stream",
     "text": [
      "accuracy: 0.5757575757575758\n"
     ]
    }
   ],
   "source": [
    "print(f\"accuracy: {sgd_accuracy}\")"
   ]
  },
  {
   "cell_type": "markdown",
   "id": "2ad40470",
   "metadata": {},
   "source": [
    "##### RandomForestClassifier & cross_validation"
   ]
  },
  {
   "cell_type": "code",
   "execution_count": 87,
   "id": "61f05325",
   "metadata": {},
   "outputs": [],
   "source": [
    "forest_clf = RandomForestClassifier(random_state=42)"
   ]
  },
  {
   "cell_type": "code",
   "execution_count": 88,
   "id": "d6a1a9cb",
   "metadata": {},
   "outputs": [
    {
     "name": "stdout",
     "output_type": "stream",
     "text": [
      "[0.55263158 0.65789474 0.55263158 0.57894737 0.47368421 0.64864865\n",
      " 0.62162162]\n"
     ]
    }
   ],
   "source": [
    "main_data = cross_val_score(sgd_clf, x_strat_train_set, y_strat_train_set, cv=7, scoring=\"accuracy\")\n",
    "print(main_data)\n",
    "# x_strat_train_set, x_strat_test_set, y_strat_train_set, y_strat_test_set"
   ]
  },
  {
   "cell_type": "code",
   "execution_count": 89,
   "id": "1749f854",
   "metadata": {
    "scrolled": true
   },
   "outputs": [
    {
     "data": {
      "text/plain": [
       "array([0.52631579, 0.52631579, 0.55263158, 0.47368421, 0.44736842,\n",
       "       0.54054054, 0.67567568])"
      ]
     },
     "execution_count": 89,
     "metadata": {},
     "output_type": "execute_result"
    }
   ],
   "source": [
    "main_data_forst_clf = cross_val_score(forest_clf, x_strat_train_set, y_strat_train_set, cv=7, scoring=\"accuracy\")\n",
    "# x_train_data_dummy, y_train_data, x_test_data_dummy, y_test_data\n",
    "main_data_forst_clf"
   ]
  },
  {
   "cell_type": "code",
   "execution_count": 90,
   "id": "26a59543",
   "metadata": {},
   "outputs": [
    {
     "data": {
      "text/plain": [
       "(0.583722820564926, 0.5346474293842715)"
      ]
     },
     "execution_count": 90,
     "metadata": {},
     "output_type": "execute_result"
    }
   ],
   "source": [
    "main_data.mean(), main_data_forst_clf.mean()"
   ]
  },
  {
   "cell_type": "markdown",
   "id": "869e01af",
   "metadata": {},
   "source": [
    "#### Gride Search Cross Validation"
   ]
  },
  {
   "cell_type": "code",
   "execution_count": 91,
   "id": "a23225cb",
   "metadata": {},
   "outputs": [],
   "source": [
    "from sklearn.model_selection import GridSearchCV"
   ]
  },
  {
   "cell_type": "markdown",
   "id": "8eabb335",
   "metadata": {},
   "source": [
    "#### Random Forest Gride Search Cross Validation "
   ]
  },
  {
   "cell_type": "code",
   "execution_count": 92,
   "id": "39d86e16",
   "metadata": {},
   "outputs": [],
   "source": [
    "param_grid = [\n",
    "    {\"n_estimators\": [3, 10, 30], \n",
    "     # \"max_features\": [0, 0, 0]\n",
    "    },\n",
    "    {\"bootstrap\": [True], \"n_estimators\": [3, 10], \n",
    "     # \"max_features\": [2, 3, 4]\n",
    "    }\n",
    "]\n",
    "grid_search = GridSearchCV(forest_clf, param_grid, cv=7, scoring=\"accuracy\")"
   ]
  },
  {
   "cell_type": "code",
   "execution_count": 93,
   "id": "9a13f53c",
   "metadata": {},
   "outputs": [
    {
     "data": {
      "text/plain": [
       "GridSearchCV(cv=7, estimator=RandomForestClassifier(random_state=42),\n",
       "             param_grid=[{'n_estimators': [3, 10, 30]},\n",
       "                         {'bootstrap': [True], 'n_estimators': [3, 10]}],\n",
       "             scoring='accuracy')"
      ]
     },
     "execution_count": 93,
     "metadata": {},
     "output_type": "execute_result"
    }
   ],
   "source": [
    "grid_search.fit(x_strat_train_set, y_strat_train_set)\n",
    "# x_strat_train_set, x_strat_test_set, y_strat_train_set, y_strat_test_set"
   ]
  },
  {
   "cell_type": "code",
   "execution_count": 94,
   "id": "0d192411",
   "metadata": {},
   "outputs": [
    {
     "data": {
      "text/plain": [
       "{'n_estimators': 30}"
      ]
     },
     "execution_count": 94,
     "metadata": {},
     "output_type": "execute_result"
    }
   ],
   "source": [
    "grid_search.best_params_"
   ]
  },
  {
   "cell_type": "code",
   "execution_count": 95,
   "id": "9e8173d5",
   "metadata": {},
   "outputs": [
    {
     "data": {
      "text/plain": [
       "RandomForestClassifier(n_estimators=30, random_state=42)"
      ]
     },
     "execution_count": 95,
     "metadata": {},
     "output_type": "execute_result"
    }
   ],
   "source": [
    "final_model = grid_search.best_estimator_\n",
    "final_model"
   ]
  },
  {
   "cell_type": "code",
   "execution_count": 96,
   "id": "95f58202",
   "metadata": {},
   "outputs": [
    {
     "name": "stdout",
     "output_type": "stream",
     "text": [
      "0.7255462733957411 {'n_estimators': 3}\n",
      "0.7206282115661441 {'n_estimators': 10}\n",
      "0.7464608632485129 {'n_estimators': 30}\n",
      "0.7255462733957411 {'bootstrap': True, 'n_estimators': 3}\n",
      "0.7206282115661441 {'bootstrap': True, 'n_estimators': 10}\n"
     ]
    }
   ],
   "source": [
    "cvres = grid_search.cv_results_\n",
    "for mean_score, params in zip(cvres[\"mean_test_score\"], cvres[\"params\"]):\n",
    "    print(np.sqrt(mean_score), params)"
   ]
  },
  {
   "cell_type": "markdown",
   "id": "64fa74a0",
   "metadata": {},
   "source": [
    "#### Support Vectore Maching Gride Search Cross Validation "
   ]
  },
  {
   "cell_type": "code",
   "execution_count": 97,
   "id": "40c52b78",
   "metadata": {},
   "outputs": [
    {
     "data": {
      "text/plain": [
       "GridSearchCV(cv=7, estimator=SVC(),\n",
       "             param_grid={'C': [0.1, 1, 10, 100, 1000],\n",
       "                         'gamma': [1, 0.1, 0.01, 0.001, 0.0001],\n",
       "                         'kernel': ['rbf']},\n",
       "             scoring='accuracy')"
      ]
     },
     "execution_count": 97,
     "metadata": {},
     "output_type": "execute_result"
    }
   ],
   "source": [
    "svm_clf = SVC()\n",
    "svm_parames = {'C': [0.1, 1, 10, 100, 1000], \n",
    "              'gamma': [1, 0.1, 0.01, 0.001, 0.0001],\n",
    "              'kernel': ['rbf']} \n",
    "svm_gridCV = GridSearchCV(SVC(), svm_parames, refit = True, cv=7, scoring=\"accuracy\")\n",
    "\n",
    "svm_gridCV.fit(x_strat_train_set, y_strat_train_set)"
   ]
  },
  {
   "cell_type": "code",
   "execution_count": 98,
   "id": "3035a2ea",
   "metadata": {},
   "outputs": [
    {
     "data": {
      "text/plain": [
       "{'C': 1000, 'gamma': 0.0001, 'kernel': 'rbf'}"
      ]
     },
     "execution_count": 98,
     "metadata": {},
     "output_type": "execute_result"
    }
   ],
   "source": [
    "svm_gridCV.best_params_"
   ]
  },
  {
   "cell_type": "code",
   "execution_count": 99,
   "id": "c645ca2b",
   "metadata": {},
   "outputs": [
    {
     "data": {
      "text/plain": [
       "SVC(C=1000, gamma=0.0001)"
      ]
     },
     "execution_count": 99,
     "metadata": {},
     "output_type": "execute_result"
    }
   ],
   "source": [
    "final_model_svc = svm_gridCV.best_estimator_\n",
    "final_model_svc"
   ]
  },
  {
   "cell_type": "code",
   "execution_count": 100,
   "id": "49d0bbc0",
   "metadata": {},
   "outputs": [
    {
     "name": "stdout",
     "output_type": "stream",
     "text": [
      "0.6571322547583955 {'C': 0.1, 'gamma': 1, 'kernel': 'rbf'}\n",
      "0.7124035352189665 {'C': 0.1, 'gamma': 0.1, 'kernel': 'rbf'}\n",
      "0.6571322547583955 {'C': 0.1, 'gamma': 0.01, 'kernel': 'rbf'}\n",
      "0.6571322547583955 {'C': 0.1, 'gamma': 0.001, 'kernel': 'rbf'}\n",
      "0.6571322547583955 {'C': 0.1, 'gamma': 0.0001, 'kernel': 'rbf'}\n",
      "0.7151792825706351 {'C': 1, 'gamma': 1, 'kernel': 'rbf'}\n",
      "0.7639510555003917 {'C': 1, 'gamma': 0.1, 'kernel': 'rbf'}\n",
      "0.7662087167359254 {'C': 1, 'gamma': 0.01, 'kernel': 'rbf'}\n",
      "0.6571322547583955 {'C': 1, 'gamma': 0.001, 'kernel': 'rbf'}\n",
      "0.6571322547583955 {'C': 1, 'gamma': 0.0001, 'kernel': 'rbf'}\n",
      "0.6960275707119807 {'C': 10, 'gamma': 1, 'kernel': 'rbf'}\n",
      "0.7286903569094312 {'C': 10, 'gamma': 0.1, 'kernel': 'rbf'}\n",
      "0.7834526204786417 {'C': 10, 'gamma': 0.01, 'kernel': 'rbf'}\n",
      "0.7760251264951664 {'C': 10, 'gamma': 0.001, 'kernel': 'rbf'}\n",
      "0.6571322547583955 {'C': 10, 'gamma': 0.0001, 'kernel': 'rbf'}\n",
      "0.6933949711814644 {'C': 100, 'gamma': 1, 'kernel': 'rbf'}\n",
      "0.6934682338972039 {'C': 100, 'gamma': 0.1, 'kernel': 'rbf'}\n",
      "0.763884552688035 {'C': 100, 'gamma': 0.01, 'kernel': 'rbf'}\n",
      "0.7977182456934868 {'C': 100, 'gamma': 0.001, 'kernel': 'rbf'}\n",
      "0.7784435724238974 {'C': 100, 'gamma': 0.0001, 'kernel': 'rbf'}\n",
      "0.6961005563537387 {'C': 1000, 'gamma': 1, 'kernel': 'rbf'}\n",
      "0.6683241604934606 {'C': 1000, 'gamma': 0.1, 'kernel': 'rbf'}\n",
      "0.7361123625388063 {'C': 1000, 'gamma': 0.01, 'kernel': 'rbf'}\n",
      "0.7929274854329681 {'C': 1000, 'gamma': 0.001, 'kernel': 'rbf'}\n",
      "0.8001346157824307 {'C': 1000, 'gamma': 0.0001, 'kernel': 'rbf'}\n"
     ]
    }
   ],
   "source": [
    "svm_cvres = svm_gridCV.cv_results_\n",
    "for mean_score, params in zip(svm_cvres[\"mean_test_score\"], svm_cvres[\"params\"]):\n",
    "    print(np.sqrt(mean_score), params)"
   ]
  },
  {
   "cell_type": "markdown",
   "id": "df098674",
   "metadata": {},
   "source": [
    "### FINAL PREDICTION!!!🎉👏🏽🎊"
   ]
  },
  {
   "cell_type": "code",
   "execution_count": 101,
   "id": "1a2ba756",
   "metadata": {},
   "outputs": [
    {
     "name": "stdout",
     "output_type": "stream",
     "text": [
      "accuracy: 0.5606060606060606\n"
     ]
    }
   ],
   "source": [
    "# x_train_data_dummy, y_train_data, x_test_data_dummy, y_test_data\n",
    "# x_strat_train_set, x_strat_test_set, y_strat_train_set, y_strat_test_set\n",
    "\n",
    "final_predctions = final_model.predict(x_strat_test_set)\n",
    "final_accuracy_score = accuracy_score(y_strat_test_set, final_predctions)\n",
    "print(f\"accuracy: {final_accuracy_score}\")"
   ]
  },
  {
   "cell_type": "code",
   "execution_count": 102,
   "id": "3a48deff",
   "metadata": {},
   "outputs": [
    {
     "name": "stdout",
     "output_type": "stream",
     "text": [
      "accuracy: 0.5151515151515151\n"
     ]
    }
   ],
   "source": [
    "svc_final_predctions = final_model_svc.predict(x_strat_test_set)\n",
    "svc_final_accuracy_score = accuracy_score(y_strat_test_set, svc_final_predctions)\n",
    "print(f\"accuracy: {svc_final_accuracy_score}\")"
   ]
  },
  {
   "cell_type": "markdown",
   "id": "fa48b5f2",
   "metadata": {},
   "source": [
    "#### Main predicions!! "
   ]
  },
  {
   "cell_type": "code",
   "execution_count": 103,
   "id": "4c1cb7bb",
   "metadata": {},
   "outputs": [],
   "source": [
    "id_cubs = np.array([get_club_id(x) for x in df.club.value_counts().index]).reshape(-1, 1)\n",
    "cubs = df.club.value_counts().index"
   ]
  },
  {
   "cell_type": "markdown",
   "id": "1db43c59",
   "metadata": {},
   "source": [
    "##### SELECTING MAIN TEAMS FOR PREDICTIONS"
   ]
  },
  {
   "cell_type": "code",
   "execution_count": 104,
   "id": "ccb9ed39",
   "metadata": {},
   "outputs": [
    {
     "data": {
      "text/plain": [
       "Index(['BRN', 'EVE', 'ARS', 'CRY', 'LIV', 'WHU', 'LEE', 'MNU', 'BRI', 'TOT',\n",
       "       'BOU', 'CHE', 'ASV', 'MNC', 'NWC', 'SOU', 'FUL', 'LEI', 'WOL', 'FOR'],\n",
       "      dtype='object')"
      ]
     },
     "execution_count": 104,
     "metadata": {},
     "output_type": "execute_result"
    }
   ],
   "source": [
    "df.club.value_counts().index"
   ]
  },
  {
   "cell_type": "code",
   "execution_count": 127,
   "id": "5e941665",
   "metadata": {},
   "outputs": [],
   "source": [
    "def predition_func(home, away):\n",
    "    \n",
    "    main_clubs_home = home\n",
    "    main_clubs_away = away\n",
    "    \n",
    "    teams_id_home = [get_club_id(x) for x in main_clubs_home]\n",
    "    teams_id_away = [get_club_id(x) for x in main_clubs_away]\n",
    "\n",
    "    # game_type_home = [\"home\", \"home\"]\n",
    "    # game_type_away = [\"away\", \"away\"]\n",
    "\n",
    "\n",
    "    weaks = np.array([(len(df)/20)+1 for _ in range(2)])\n",
    "    ################ WEEK STANDADIZATION BY VARIANCE ################\n",
    "    # standardized_weeks = (weaks-train_df[\"weeks\"].mean())/train_df[\"weeks\"].std()**2\n",
    "    ################ WEEK STANDADIZATION BY STANDARD DIVIATION ################\n",
    "    standardized_weeks = (weaks-train_df[\"weeks\"].mean())/train_df[\"weeks\"].std()\n",
    "    \n",
    "    # main_clubs = [\"BRI\", \"LEE\", \"WOL\", \"BRN\"]\n",
    "\n",
    "    ############## NOTE ##############\n",
    "    ############## !!!!!!!!!! IF THIS CELL PRODUCESS AN ERROR THEN THE TEAM FESTURES DOES NOTE EXSISTE !!!!!!!!!! ##############\n",
    "\n",
    "    #### Standardized week, standardized clube ids, and standardized team stats\n",
    "    predict_teams_stats_home = []\n",
    "    predict_teams_stats_away = [] \n",
    "\n",
    "    predict_standardized_team_stats_home = []\n",
    "    predict_standardized_team_stats_away = []\n",
    "\n",
    "    predict_standardized_club_id_home = []\n",
    "    predict_standardized_club_id_away = []\n",
    "\n",
    "    predict_team_history_home = []\n",
    "    predict_team_history_away = []\n",
    "\n",
    "    predict_standardized_team_history_home = []\n",
    "    predict_standardized_team_history_away = []\n",
    "\n",
    "\n",
    "    for i in range(len(main_clubs_home)):\n",
    "\n",
    "        target_prediction_club_home_df = train_main.query(f\"id_home == {get_club_id(main_clubs_home[i])}\").sort_values(\"weeks\", ascending=False)\n",
    "        target_prediction_club_away_df = train_main.query(f\"id_away == {get_club_id(main_clubs_away[i])}\").sort_values(\"weeks\", ascending=False)\n",
    "\n",
    "        ############## STATANDASTATIONS\n",
    "\n",
    "        predict_standardized_team_stats_home.append(target_prediction_club_home_df.standardized_team_stats_home.values[0])\n",
    "        predict_standardized_team_stats_away.append(target_prediction_club_away_df.standardized_team_stats_away.values[0])\n",
    "        predict_standardized_club_id_home.append(target_prediction_club_home_df.standardized_id_home.values[0])\n",
    "        predict_standardized_club_id_away.append(target_prediction_club_away_df.standardized_id_away.values[0])\n",
    "        predict_standardized_team_history_home.append(target_prediction_club_home_df.standardized_team_history_home.values[0])\n",
    "        predict_standardized_team_history_away.append(target_prediction_club_away_df.standardized_team_history_away.values[0])\n",
    "\n",
    "        ############## NONE STATANDASTATIONS\n",
    "        predict_teams_stats_home.append(target_prediction_club_home_df.team_stats_home.values[0])\n",
    "        predict_teams_stats_away.append(target_prediction_club_away_df.team_stats_away.values[0])\n",
    "        predict_team_history_home.append(target_prediction_club_home_df.team_history_home.values[0])\n",
    "        predict_team_history_away.append(target_prediction_club_away_df.team_history_away.values[0])\n",
    "        \n",
    "        \n",
    "    ############## SETTING PREDICTION DATA FRAME \n",
    "    ##### Combine Data For DataFrame    \n",
    "    main_prediction_data = pd.DataFrame({\n",
    "        \"weeks\": weaks,\n",
    "        \"standardized_weeks\": standardized_weeks,\n",
    "        \"home\": main_clubs_home,\n",
    "        \"away\": main_clubs_away,\n",
    "        \"id_home\": teams_id_home,\n",
    "        \"id_away\": teams_id_away, \n",
    "        \"standardized_id_home\":  predict_standardized_club_id_home,\n",
    "        \"standardized_id_away\": predict_standardized_club_id_away,\n",
    "        \"team_stats_home\": predict_teams_stats_home,\n",
    "        \"team_stats_away\": predict_teams_stats_away,\n",
    "        \"standardized_team_stats_home\": predict_standardized_team_stats_home,\n",
    "        \"standardized_team_stats_away\": predict_standardized_team_stats_away,\n",
    "        \"team_history_home\": predict_team_history_home,\n",
    "        \"team_history_away\": predict_team_history_away,\n",
    "        \"standardized_team_history_home\": predict_standardized_team_history_home,\n",
    "        \"standardized_team_history_away\": predict_standardized_team_history_home,\n",
    "\n",
    "    })\n",
    "\n",
    "\n",
    "    prediction_data = main_prediction_data[standardized_col]\n",
    "    # prediction_data\n",
    "    \n",
    "    ############## PREDICTION ON THE PREDICTION DATA FRAME    \n",
    "    \n",
    "    rfc_predictions = final_model.predict(prediction_data)\n",
    "    svm_predictions = final_model_svc.predict(prediction_data)\n",
    "    \n",
    "    ############## RESULTE FOR PREDICTION ON THE PREDICTION DATA FRAME    \n",
    "    prediction_df = pd.DataFrame({\n",
    "        \"week\": weaks,\n",
    "        \"home\": main_clubs_home,\n",
    "        \"away\": main_clubs_away,\n",
    "        \"id_home\": teams_id_home,\n",
    "        \"id_away\": teams_id_away,\n",
    "        \"rf_predictions\": rfc_predictions,\n",
    "        \"svm_predictios\": svm_predictions,\n",
    "    })\n",
    "    prediction_df[\"rf_accuracy\"] = final_accuracy_score\n",
    "    prediction_df[\"svm_accuracy\"] = svc_final_accuracy_score\n",
    "    # prediction_df[\"mean_accuracy\"] = (final_accuracy_score+svc_final_accuracy_score)/2\n",
    "    \n",
    "    ############## RETURN RESULTE FOR PREDICTION ON THE PREDICTION DATA FRAME    \n",
    "    \n",
    "    return prediction_df\n",
    "    # .sort_values(by=[\"clubs\"])"
   ]
  },
  {
   "cell_type": "code",
   "execution_count": 138,
   "id": "7ed3e247",
   "metadata": {},
   "outputs": [
    {
     "data": {
      "image/png": "[encoded data removed]",
      "text/plain": [
       "<Figure size 1440x720 with 1 Axes>"
      ]
     },
     "metadata": {
      "needs_background": "light"
     },
     "output_type": "display_data"
    }
   ],
   "source": [
    "plt.figure(figsize=[20, 10])\n",
    "sb.barplot(data=query_df_club, x=\"clubs\", y=\"occ\", hue=\"scores\")\n",
    "# plt.xlabel(fontsize=25)\n",
    "plt.xlabel('xlabel', fontsize=18);"
   ]
  },
  {
   "cell_type": "code",
   "execution_count": 128,
   "id": "8a500b27",
   "metadata": {},
   "outputs": [
    {
     "data": {
      "text/html": [
       "<div>\n",
       "<style scoped>\n",
       "    .dataframe tbody tr th:only-of-type {\n",
       "        vertical-align: middle;\n",
       "    }\n",
       "\n",
       "    .dataframe tbody tr th {\n",
       "        vertical-align: top;\n",
       "    }\n",
       "\n",
       "    .dataframe thead th {\n",
       "        text-align: right;\n",
       "    }\n",
       "</style>\n",
       "<table border=\"1\" class=\"dataframe\">\n",
       "  <thead>\n",
       "    <tr style=\"text-align: right;\">\n",
       "      <th></th>\n",
       "      <th>week</th>\n",
       "      <th>home</th>\n",
       "      <th>away</th>\n",
       "      <th>id_home</th>\n",
       "      <th>id_away</th>\n",
       "      <th>rf_predictions</th>\n",
       "      <th>svm_predictios</th>\n",
       "      <th>rf_accuracy</th>\n",
       "      <th>svm_accuracy</th>\n",
       "    </tr>\n",
       "  </thead>\n",
       "  <tbody>\n",
       "    <tr>\n",
       "      <th>0</th>\n",
       "      <td>34.0</td>\n",
       "      <td>BRI</td>\n",
       "      <td>SOU</td>\n",
       "      <td>71</td>\n",
       "      <td>52</td>\n",
       "      <td>win-loss</td>\n",
       "      <td>win-loss</td>\n",
       "      <td>0.560606</td>\n",
       "      <td>0.515152</td>\n",
       "    </tr>\n",
       "    <tr>\n",
       "      <th>1</th>\n",
       "      <td>34.0</td>\n",
       "      <td>LEE</td>\n",
       "      <td>NWC</td>\n",
       "      <td>827</td>\n",
       "      <td>53</td>\n",
       "      <td>win-loss</td>\n",
       "      <td>draw-draw</td>\n",
       "      <td>0.560606</td>\n",
       "      <td>0.515152</td>\n",
       "    </tr>\n",
       "  </tbody>\n",
       "</table>\n",
       "</div>"
      ],
      "text/plain": [
       "   week home away id_home id_away rf_predictions svm_predictios  rf_accuracy  \\\n",
       "0  34.0  BRI  SOU      71      52       win-loss       win-loss     0.560606   \n",
       "1  34.0  LEE  NWC     827      53       win-loss      draw-draw     0.560606   \n",
       "\n",
       "   svm_accuracy  \n",
       "0      0.515152  \n",
       "1      0.515152  "
      ]
     },
     "execution_count": 128,
     "metadata": {},
     "output_type": "execute_result"
    }
   ],
   "source": [
    "pred_home = [\"BRI\", \"LEE\"]\n",
    "pred_away = ['SOU', 'NWC']\n",
    "predition_func(pred_home, pred_away)"
   ]
  },
  {
   "cell_type": "code",
   "execution_count": null,
   "id": "b1abef1c",
   "metadata": {},
   "outputs": [],
   "source": [
    "print(f\"week of game {len(df)/20}\")"
   ]
  },
  {
   "cell_type": "code",
   "execution_count": 124,
   "id": "1d968afb",
   "metadata": {
    "scrolled": false
   },
   "outputs": [],
   "source": [
    "# train_main.head()"
   ]
  },
  {
   "cell_type": "code",
   "execution_count": 125,
   "id": "75be47c9",
   "metadata": {
    "scrolled": true
   },
   "outputs": [],
   "source": [
    "# x_strat_train_set.head(3)"
   ]
  },
  {
   "cell_type": "markdown",
   "id": "88f56655",
   "metadata": {},
   "source": []
  },
  {
   "cell_type": "code",
   "execution_count": 108,
   "id": "fa458855",
   "metadata": {},
   "outputs": [],
   "source": [
    "# train_df.query(f\"id == {get_club_id('BRI')}\").query(f\"weeks == { int(len(df)/20) }\").standardized_team_stats.values[0]"
   ]
  },
  {
   "cell_type": "code",
   "execution_count": 109,
   "id": "ffcf89ef",
   "metadata": {},
   "outputs": [],
   "source": []
  },
  {
   "cell_type": "code",
   "execution_count": 110,
   "id": "12368ed2",
   "metadata": {},
   "outputs": [],
   "source": [
    "# current_teams_stats\n",
    "# print(train_main.query(f\"id_away == {get_club_id('BRI')}\").query(f\"weeks == { int(len(df)/20) }\").standardized_team_stats_away.values[0])\n",
    "# print(train_main.query(f\"id_home == {get_club_id('BRI')}\").query(f\"weeks == { int(len(df)/20) }\").team_stats_home.values[0])\n",
    "\n",
    "# train_main.query(f\"id_away == {get_club_id('BRI')}\").query(f\"weeks == { int(len(df)/20) }\").standardized_team_stats_away.values\n",
    "# get_club_id('BRI')\n",
    "\n",
    "# train_main.query(f\"id_away == {get_club_id('BRI')}\").query(f\"weeks == { int(len(train_main)/10) }\")\n",
    "\n",
    "# int(len(df)/10) \n",
    "# int(len(train_main)/10)\n",
    "\n",
    "# test_target = train_main.query(f\"id_away == {get_club_id('BRI')}\").sort_values(\"weeks\", ascending=False).standardized_team_stats_away\n",
    "# test_target.values[0]\n",
    "# train_main.weeks.value_counts()"
   ]
  },
  {
   "cell_type": "code",
   "execution_count": 126,
   "id": "7bf2c8b3",
   "metadata": {},
   "outputs": [],
   "source": [
    "# train_main.columns"
   ]
  },
  {
   "cell_type": "code",
   "execution_count": 112,
   "id": "56fe78f0",
   "metadata": {},
   "outputs": [
    {
     "data": {
      "text/html": [
       "<div>\n",
       "<style scoped>\n",
       "    .dataframe tbody tr th:only-of-type {\n",
       "        vertical-align: middle;\n",
       "    }\n",
       "\n",
       "    .dataframe tbody tr th {\n",
       "        vertical-align: top;\n",
       "    }\n",
       "\n",
       "    .dataframe thead th {\n",
       "        text-align: right;\n",
       "    }\n",
       "</style>\n",
       "<table border=\"1\" class=\"dataframe\">\n",
       "  <thead>\n",
       "    <tr style=\"text-align: right;\">\n",
       "      <th></th>\n",
       "      <th>standardized_weeks</th>\n",
       "      <th>standardized_id_home</th>\n",
       "      <th>standardized_id_away</th>\n",
       "      <th>standardized_team_stats_home</th>\n",
       "      <th>standardized_team_stats_away</th>\n",
       "      <th>standardized_team_history_home</th>\n",
       "      <th>standardized_team_history_away</th>\n",
       "    </tr>\n",
       "  </thead>\n",
       "  <tbody>\n",
       "    <tr>\n",
       "      <th>0</th>\n",
       "      <td>1.784004</td>\n",
       "      <td>-0.495128</td>\n",
       "      <td>-0.547582</td>\n",
       "      <td>1.573594</td>\n",
       "      <td>0.942994</td>\n",
       "      <td>0.717296</td>\n",
       "      <td>0.717296</td>\n",
       "    </tr>\n",
       "    <tr>\n",
       "      <th>1</th>\n",
       "      <td>1.784004</td>\n",
       "      <td>1.766606</td>\n",
       "      <td>-0.544571</td>\n",
       "      <td>0.980426</td>\n",
       "      <td>1.869740</td>\n",
       "      <td>-0.444459</td>\n",
       "      <td>-0.444459</td>\n",
       "    </tr>\n",
       "  </tbody>\n",
       "</table>\n",
       "</div>"
      ],
      "text/plain": [
       "   standardized_weeks  standardized_id_home  standardized_id_away  \\\n",
       "0            1.784004             -0.495128             -0.547582   \n",
       "1            1.784004              1.766606             -0.544571   \n",
       "\n",
       "   standardized_team_stats_home  standardized_team_stats_away  \\\n",
       "0                      1.573594                      0.942994   \n",
       "1                      0.980426                      1.869740   \n",
       "\n",
       "   standardized_team_history_home  standardized_team_history_away  \n",
       "0                        0.717296                        0.717296  \n",
       "1                       -0.444459                       -0.444459  "
      ]
     },
     "execution_count": 112,
     "metadata": {},
     "output_type": "execute_result"
    }
   ],
   "source": []
  },
  {
   "cell_type": "code",
   "execution_count": 113,
   "id": "2f3ab030",
   "metadata": {},
   "outputs": [],
   "source": []
  },
  {
   "cell_type": "code",
   "execution_count": 114,
   "id": "4d96d444",
   "metadata": {},
   "outputs": [],
   "source": [
    "# [get_club_id(x) for x in df.club.value_counts().index]"
   ]
  },
  {
   "cell_type": "code",
   "execution_count": 115,
   "id": "0909b5c6",
   "metadata": {},
   "outputs": [],
   "source": []
  },
  {
   "cell_type": "code",
   "execution_count": 116,
   "id": "8a366e7e",
   "metadata": {},
   "outputs": [
    {
     "data": {
      "text/html": [
       "<div>\n",
       "<style scoped>\n",
       "    .dataframe tbody tr th:only-of-type {\n",
       "        vertical-align: middle;\n",
       "    }\n",
       "\n",
       "    .dataframe tbody tr th {\n",
       "        vertical-align: top;\n",
       "    }\n",
       "\n",
       "    .dataframe thead th {\n",
       "        text-align: right;\n",
       "    }\n",
       "</style>\n",
       "<table border=\"1\" class=\"dataframe\">\n",
       "  <thead>\n",
       "    <tr style=\"text-align: right;\">\n",
       "      <th></th>\n",
       "      <th>week</th>\n",
       "      <th>home</th>\n",
       "      <th>away</th>\n",
       "      <th>id_home</th>\n",
       "      <th>id_away</th>\n",
       "      <th>rf_predictions</th>\n",
       "      <th>svm_predictios</th>\n",
       "      <th>rf_accuracy</th>\n",
       "      <th>svm_accuracy</th>\n",
       "    </tr>\n",
       "  </thead>\n",
       "  <tbody>\n",
       "    <tr>\n",
       "      <th>0</th>\n",
       "      <td>34.0</td>\n",
       "      <td>BRI</td>\n",
       "      <td>SOU</td>\n",
       "      <td>71</td>\n",
       "      <td>52</td>\n",
       "      <td>win-loss</td>\n",
       "      <td>win-loss</td>\n",
       "      <td>0.560606</td>\n",
       "      <td>0.515152</td>\n",
       "    </tr>\n",
       "    <tr>\n",
       "      <th>1</th>\n",
       "      <td>34.0</td>\n",
       "      <td>LEE</td>\n",
       "      <td>NWC</td>\n",
       "      <td>827</td>\n",
       "      <td>53</td>\n",
       "      <td>win-loss</td>\n",
       "      <td>draw-draw</td>\n",
       "      <td>0.560606</td>\n",
       "      <td>0.515152</td>\n",
       "    </tr>\n",
       "  </tbody>\n",
       "</table>\n",
       "</div>"
      ],
      "text/plain": [
       "   week home away id_home id_away rf_predictions svm_predictios  rf_accuracy  \\\n",
       "0  34.0  BRI  SOU      71      52       win-loss       win-loss     0.560606   \n",
       "1  34.0  LEE  NWC     827      53       win-loss      draw-draw     0.560606   \n",
       "\n",
       "   svm_accuracy  \n",
       "0      0.515152  \n",
       "1      0.515152  "
      ]
     },
     "execution_count": 116,
     "metadata": {},
     "output_type": "execute_result"
    }
   ],
   "source": []
  },
  {
   "cell_type": "code",
   "execution_count": 117,
   "id": "127c3e5e",
   "metadata": {},
   "outputs": [
    {
     "name": "stdout",
     "output_type": "stream",
     "text": [
      "week of game 33.0\n"
     ]
    }
   ],
   "source": []
  },
  {
   "cell_type": "code",
   "execution_count": 118,
   "id": "065aab75",
   "metadata": {},
   "outputs": [],
   "source": [
    "# indetify_club\n",
    "# new_df = pd.DataFrame({\"home\": [indetify_club(\"MNC\"), indetify_club(\"LEI\"), indetify_club(\"LIV\"), indetify_club(\"NWC\")], \n",
    "  #                     \"away\": [indetify_club(\"BRI\"), indetify_club(\"CHE\"), indetify_club(\"TOT\"), indetify_club(\"FOR\")]})"
   ]
  },
  {
   "cell_type": "code",
   "execution_count": null,
   "id": "28aa32a5",
   "metadata": {},
   "outputs": [],
   "source": []
  },
  {
   "cell_type": "markdown",
   "id": "a586f568",
   "metadata": {},
   "source": [
    "### PRE PER PREDICTIONS."
   ]
  },
  {
   "cell_type": "code",
   "execution_count": 119,
   "id": "4c1cacbf",
   "metadata": {
    "scrolled": true
   },
   "outputs": [
    {
     "name": "stdout",
     "output_type": "stream",
     "text": [
      "GIF89a\u0001\u0000\u0001\u0000\u0000\u0000\u0000,\u0000\u0000\u0000\u0000\u0001\u0000\u0001\u0000\u0000\u0002\n"
     ]
    }
   ],
   "source": [
    "# d4 = BeautifulSoup\n",
    "url = \"https://bam.nr-data.net/jserrors/1/c95cd51526?a=214311961&v=1223.PROD&to=ZlBXZxcAVkEHV0NbDV8aYEEMTlpXEg1dU09cWldaCQQXXglTXlxNWFtRVh1PSFoW&rst=476457&ck=0&s=0&ref=https://vsmobile.bet9ja.com/bet9ja-mobile/login/\"\n",
    "html = requests.get(url)\n",
    "print(html.text)\n",
    "\n",
    "s = BeautifulSoup(html.content, \"html.parser\")\n",
    "# requests"
   ]
  },
  {
   "cell_type": "code",
   "execution_count": 120,
   "id": "b51e3a4b",
   "metadata": {},
   "outputs": [],
   "source": [
    "# url = https://vsmobile.bet9ja.com\" + uri + (containsChar('?', uri) ? \"&mode=\" : \"?mode=\") + mode + \"&lang=\" + lang;\n",
    "    \n",
    "# url = \"https://vsmobile.bet9ja.com/mobile/themes/?sk=bet9ja&t=b61c29e6-9348-4c58-af90-378760a74693&game=league_premier&pid=14001,14003,14011,14012,14014,14015,14016,14017&v=0&mode=Premier&lang=en_GB\";\n",
    "# url = \"https://vsmobile.bet9ja.com/shopadmin/standings_view/league_data.php?pid=14003\""
   ]
  },
  {
   "cell_type": "code",
   "execution_count": null,
   "id": "5ca83a36",
   "metadata": {},
   "outputs": [],
   "source": []
  },
  {
   "cell_type": "code",
   "execution_count": null,
   "id": "273265e9",
   "metadata": {},
   "outputs": [],
   "source": []
  },
  {
   "cell_type": "code",
   "execution_count": 121,
   "id": "0d39fdd5",
   "metadata": {},
   "outputs": [],
   "source": [
    "# new_df = pd.DataFrame({\"home\": [\"for\"], \"away\": [\"che\"]})\n",
    "# new_df"
   ]
  },
  {
   "cell_type": "code",
   "execution_count": 122,
   "id": "92a5ce7c",
   "metadata": {},
   "outputs": [],
   "source": [
    "# pd.get_dummies(new_df)"
   ]
  },
  {
   "cell_type": "code",
   "execution_count": 123,
   "id": "269a923e",
   "metadata": {},
   "outputs": [],
   "source": [
    "# sgd_clf.predict(pd.get_dummies(new_df))"
   ]
  },
  {
   "cell_type": "code",
   "execution_count": null,
   "id": "42fa7b29",
   "metadata": {},
   "outputs": [],
   "source": []
  },
  {
   "cell_type": "code",
   "execution_count": null,
   "id": "382840bb",
   "metadata": {},
   "outputs": [],
   "source": []
  },
  {
   "cell_type": "code",
   "execution_count": null,
   "id": "4ae78334",
   "metadata": {},
   "outputs": [],
   "source": []
  },
  {
   "cell_type": "code",
   "execution_count": null,
   "id": "8eb10003",
   "metadata": {},
   "outputs": [],
   "source": []
  }
 ],
 "metadata": {
  "kernelspec": {
   "display_name": "Python [conda env:root] *",
   "language": "python",
   "name": "conda-root-py"
  },
  "language_info": {
   "codemirror_mode": {
    "name": "ipython",
    "version": 3
   },
   "file_extension": ".py",
   "mimetype": "text/x-python",
   "name": "python",
   "nbconvert_exporter": "python",
   "pygments_lexer": "ipython3",
   "version": "3.8.8"
  }
 },
 "nbformat": 4,
 "nbformat_minor": 5
}
