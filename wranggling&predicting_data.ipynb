{
 "cells": [
  {
   "cell_type": "code",
   "execution_count": 1,
   "id": "a39d4d63",
   "metadata": {},
   "outputs": [],
   "source": [
    "import numpy as np\n",
    "import pandas as pd\n",
    "from matplotlib import pyplot as plt\n",
    "import seaborn as sb\n",
    "import os\n",
    "import glob\n",
    "import json \n",
    "import requests\n",
    "from bs4 import BeautifulSoup\n",
    "%matplotlib inline"
   ]
  },
  {
   "cell_type": "code",
   "execution_count": 2,
   "id": "a7efdeaf",
   "metadata": {},
   "outputs": [],
   "source": [
    "# os.listdir('./Prediction_train&test_Data')\n",
    "def load_data(url):\n",
    "    \n",
    "    folderName = \"./Prediction_train&test_Data/\"\n",
    "    fileName = \"Store_league_data.json\"\n",
    "    path = os.path.join(folderName, fileName)\n",
    "\n",
    "#     if os.path.exists(path):\n",
    "#         files = glob.glob(\"./Prediction_train&test_Data/*\")\n",
    "#         for f in files:\n",
    "#             os.remove(f)\n",
    "\n",
    "    response = requests.get(url)\n",
    "    # print(path)\n",
    "\n",
    "    with open(path, 'wb') as outfile:\n",
    "        outfile.write(response.content)\n",
    "     \n",
    "\n",
    "        \n",
    "url = \"https://vsmobile.bet9ja.com/shopadmin/standings_view/league_data.php?pid=14001\"\n",
    "load_data(url)"
   ]
  },
  {
   "cell_type": "code",
   "execution_count": 3,
   "id": "fb1b9c78",
   "metadata": {},
   "outputs": [],
   "source": [
    "folderName = \"./Prediction_train&test_Data/\"\n",
    "fileName = \"Store_league_data.json\"\n",
    "\n",
    "\n",
    "path = os.path.join(folderName, fileName)\n",
    "\n",
    "\n",
    "with open(path, \"r\") as outfile:\n",
    "    json_obj = json.load(outfile)"
   ]
  },
  {
   "cell_type": "code",
   "execution_count": 4,
   "id": "1d2bb99a",
   "metadata": {},
   "outputs": [
    {
     "name": "stdout",
     "output_type": "stream",
     "text": [
      "{'teams': {'49': {'fifa': 'EVE', 'team': 'everton'}, '972': {'fifa': 'BRN', 'team': 'brentford'}, '67': {'fifa': 'BOU', 'team': 'bournemouth'}, '47': {'fifa': 'CHE', 'team': 'chelsea'}, '45': {'fifa': 'LIV', 'team': 'liverpool'}, '48': {'fifa': 'ARS', 'team': 'arsenal'}, '512': {'fifa': 'FUL', 'team': 'fulham'}, '525': {'fifa': 'WOL', 'team': 'wolverhampton'}, '52': {'fifa': 'SOU', 'team': 'southampton'}, '53': {'fifa': 'NWC', 'team': 'newcastle'}, '58': {'fifa': 'WHU', 'team': 'west_ham'}, '51': {'fifa': 'TOT', 'team': 'tottenham'}, '50': {'fifa': 'MNU', 'team': 'manchester_united'}, '1053': {'fifa': 'FOR', 'team': 'nottingham_forest'}, '71': {'fifa': 'BRI', 'team': 'brighton'}, '827': {'fifa': 'LEE', 'team': 'leeds_united'}, '46': {'fifa': 'MNC', 'team': 'manchester_city'}, '60': {'fifa': 'ASV', 'team': 'aston_villa'}, '55': {'fifa': 'CRY', 'team': 'crystal_palace'}, '63': {'fifa': 'LEI', 'team': 'leicester_city'}}, 'matches': {'1': {'1512781': {'id': '1512781', 'teamA': '49', 'teamB': '972', 'result': '{{1,0,1,0,13.1,8.1,{123}},{1,1,0,0,12.9,7.9,{17,32}},{0,1,0,0,8.0,nil,{220}},{0,1,1,0,8.3,nil,{115}},{0,0,0,0,8.3,nil,{83}},{1,1,1,0,15.0,11.0,{139}}}', 'wonmarkets': 'Away,DrawAway,Draw_Away,Home_Away,_1_2,_3_Goals,over,goal,g1,g2,ng3,ng4,ng5,g6,gc3,over2,gg,QAway,under3,under4,over0,HomeScoresOver0,AwayScoresOver0,HomeScoresUnder1,AwayScoresOver1,HomeScoresUnder2,AwayScoresUnder2,HomeScoresUnder3,AwayScoresUnder3,_1x2AwayScoresOver1,_1x2AwayScoresOver2,_1x2AwayScoresUnder3,_0-3_Goals,_0-4_Goals,_0-5_Goals,_0-6_Goals,_1-3_Goals,_1-4_Goals,_1-5_Goals,_1-6_Goals,_2-3_Goals,_2-4_Goals,_2-5_Goals,_2-6_Goals,_3-3_Goals,_3-4_Goals,_3-5_Goals,_3-6_Goals,1H_Draw,Away_0,Away_Plus_0_25,Away_Minus_0_25,Away_Plus_0_5,Away_Minus_0_5,Away_Plus_0_75,Away_Plus_1,Away_Plus_1_25,Away_Plus_1_5,Home_Plus_1_5,Away_Plus_1_75,Home_Plus_1_75,Away_Plus_2,Home_Plus_2,Away_Plus_2_25,Home_Plus_2_25,Away_Plus_2_5,Home_Plus_2_5,Away_Plus_2_75,Home_Plus_2_75,Away_Plus_3,Home_Plus_3,over2_0,over1_75,over2_25'}, '1512782': {'id': '1512782', 'teamA': '67', 'teamB': '47', 'result': '{{1,1,0,0,13.8,8.8,{7}},{0,1,0,0,7.0,nil,{127}},{0,0,1,0,10.0,nil,{105}},{0,1,1,0,8.3,nil,{289}},{1,0,0,0,14.3,9.3,{178}},{0,0,0,0,8.3,nil,{166}}}', 'wonmarkets': 'Home,HomeHome,Home_Away,Home_Draw,_2_0,_2_Goals,over,goal,g1,ng2,ng3,ng4,g5,ng6,gc2,under2,nog,QHome,under3,under4,over0,HomeScoresOver0,AwayScoresUnder0,HomeScoresOver1,AwayScoresUnder1,HomeScoresUnder2,AwayScoresUnder2,HomeScoresUnder3,AwayScoresUnder3,_1x2HomeScoresOver1,_1x2HomeScoresUnder2,_1x2HomeScoresUnder3,_0-2_Goals,_0-3_Goals,_0-4_Goals,_0-5_Goals,_0-6_Goals,_1-2_Goals,_1-3_Goals,_1-4_Goals,_1-5_Goals,_1-6_Goals,_2-2_Goals,_2-3_Goals,_2-4_Goals,_2-5_Goals,_2-6_Goals,1H_Home,Home_0,Home_Minus_0_25,Home_Plus_0_25,Home_Minus_0_5,Home_Plus_0_5,Home_Minus_0_75,Home_Plus_0_75,Home_Minus_1,Home_Plus_1,Home_Minus_1_25,Home_Plus_1_25,Home_Minus_1_5,Home_Plus_1_5,Home_Plus_1_75,Home_Plus_2,Home_Plus_2_25,Away_Plus_2_5,Home_Plus_2_5,Away_Plus_2_75,Home_Plus_2_75,Away_Plus_3,Home_Plus_3,under3_0,under2_75'}, '1512783': {'id': '1512783', 'teamA': '45', 'teamB': '48', 'result': '{{1,0,1,0,12.7,7.7,{251}},{0,1,0,0,10.0,nil,{150}},{1,0,1,0,14.9,9.9,{152,5}},{0,1,1,0,8.8,nil,{276}},{0,0,0,0,10.0,nil,{97}},{0,1,1,0,10.0,nil,{186}}}', 'wonmarkets': 'Away,AwayAway,Draw_Away,Home_Away,_0_2,_2_Goals,over,goal,g1,ng2,g3,ng4,ng5,ng6,gc2,under2,nog,QAway,under3,under4,over0,HomeScoresUnder0,AwayScoresOver0,HomeScoresUnder1,AwayScoresOver1,HomeScoresUnder2,AwayScoresUnder2,HomeScoresUnder3,AwayScoresUnder3,_1x2AwayScoresOver1,_1x2AwayScoresUnder2,_1x2AwayScoresUnder3,_0-2_Goals,_0-3_Goals,_0-4_Goals,_0-5_Goals,_0-6_Goals,_1-2_Goals,_1-3_Goals,_1-4_Goals,_1-5_Goals,_1-6_Goals,_2-2_Goals,_2-3_Goals,_2-4_Goals,_2-5_Goals,_2-6_Goals,1H_Away,Away_0,Away_Plus_0_25,Away_Minus_0_25,Away_Plus_0_5,Away_Minus_0_5,Away_Plus_0_75,Away_Minus_0_75,Away_Plus_1,Away_Minus_1,Away_Plus_1_25,Away_Minus_1_25,Away_Plus_1_5,Away_Minus_1_5,Away_Plus_1_75,Away_Plus_2,Away_Plus_2_25,Away_Plus_2_5,Home_Plus_2_5,Away_Plus_2_75,Home_Plus_2_75,Away_Plus_3,Home_Plus_3,under3_0,under2_75'}, '1512784': {'id': '1512784', 'teamA': '512', 'teamB': '525', 'result': '{{0,0,1,0,7.5,nil,{262}},{1,0,1,0,14.6,9.6,{103}},{1,1,0,0,14.4,9.4,{118}},{1,0,0,0,13.6,8.6,{102}},{0,1,1,0,8.9,nil,{284}},{1,0,0,0,14.4,9.4,{162}}}', 'wonmarkets': 'Home,DrawHome,Home_Away,Home_Draw,_3_1,_4_Goals,over,goal,ng1,g2,g3,g4,ng5,g6,gc4,over2,gg,QHome,over3,under4,over0,HomeScoresOver0,AwayScoresOver0,HomeScoresOver1,AwayScoresUnder1,HomeScoresOver2,AwayScoresUnder2,HomeScoresUnder3,AwayScoresUnder3,_1x2HomeScoresOver1,_1x2HomeScoresOver2,_1x2HomeScoresOver3,_0-4_Goals,_0-5_Goals,_0-6_Goals,_1-4_Goals,_1-5_Goals,_1-6_Goals,_2-4_Goals,_2-5_Goals,_2-6_Goals,_3-4_Goals,_3-5_Goals,_3-6_Goals,_4-4_Goals,_4-5_Goals,_4-6_Goals,1H_Draw,Home_0,Home_Minus_0_25,Home_Plus_0_25,Home_Minus_0_5,Home_Plus_0_5,Home_Minus_0_75,Home_Plus_0_75,Home_Minus_1,Home_Plus_1,Home_Minus_1_25,Home_Plus_1_25,Home_Minus_1_5,Home_Plus_1_5,Home_Plus_1_75,Home_Plus_2,Home_Plus_2_25,Away_Plus_2_5,Home_Plus_2_5,Away_Plus_2_75,Home_Plus_2_75,Away_Plus_3,Home_Plus_3,over2_0,over3_0,over1_75,over2_25,over2_75'}, '1512785': {'id': '1512785', 'teamA': '52', 'teamB': '53', 'result': '{{0,1,0,0,9.2,nil,{180}},{1,0,1,0,15.0,11.0,{139}},{1,0,1,0,12.7,7.7,{251}},{0,1,1,0,8.3,nil,{94}},{0,1,1,0,7.2,nil,{193}},{1,1,1,0,15.0,12.3,{124}}}', 'wonmarkets': 'Away,AwayAway,Draw_Away,Home_Away,_0_3,_3_Goals,over,goal,ng1,g2,g3,ng4,ng5,g6,gc3,over2,nog,QAway,under3,under4,over0,HomeScoresUnder0,AwayScoresOver0,HomeScoresUnder1,AwayScoresOver1,HomeScoresUnder2,AwayScoresOver2,HomeScoresUnder3,AwayScoresUnder3,_1x2AwayScoresOver1,_1x2AwayScoresOver2,_1x2AwayScoresUnder3,_0-3_Goals,_0-4_Goals,_0-5_Goals,_0-6_Goals,_1-3_Goals,_1-4_Goals,_1-5_Goals,_1-6_Goals,_2-3_Goals,_2-4_Goals,_2-5_Goals,_2-6_Goals,_3-3_Goals,_3-4_Goals,_3-5_Goals,_3-6_Goals,1H_Away,Away_0,Away_Plus_0_25,Away_Minus_0_25,Away_Plus_0_5,Away_Minus_0_5,Away_Plus_0_75,Away_Minus_0_75,Away_Plus_1,Away_Minus_1,Away_Plus_1_25,Away_Minus_1_25,Away_Plus_1_5,Away_Minus_1_5,Away_Plus_1_75,Away_Minus_1_75,Away_Plus_2,Away_Minus_2,Away_Plus_2_25,Away_Minus_2_25,Away_Plus_2_5,Away_Minus_2_5,Away_Plus_2_75,Away_Plus_3,over2_0,over1_75,over2_25'}, '1512786': {'id': '1512786', 'teamA': '58', 'teamB': '51', 'result': '{{0,0,1,0,6.3,nil,{252}},{1,0,1,0,15.0,10.6,{174}},{1,0,1,0,15.0,12.3,{124}},{0,1,1,0,10.0,nil,{187}},{1,1,1,0,15.0,10.4,{91}},{0,1,1,0,8.0,nil,{220}}}', 'wonmarkets': 'Away,AwayAway,Draw_Away,Home_Away,_0_3,_3_Goals,over,goal,ng1,g2,g3,ng4,g5,ng6,gc3,over2,nog,QAway,under3,under4,over0,HomeScoresUnder0,AwayScoresOver0,HomeScoresUnder1,AwayScoresOver1,HomeScoresUnder2,AwayScoresOver2,HomeScoresUnder3,AwayScoresUnder3,_1x2AwayScoresOver1,_1x2AwayScoresOver2,_1x2AwayScoresUnder3,_0-3_Goals,_0-4_Goals,_0-5_Goals,_0-6_Goals,_1-3_Goals,_1-4_Goals,_1-5_Goals,_1-6_Goals,_2-3_Goals,_2-4_Goals,_2-5_Goals,_2-6_Goals,_3-3_Goals,_3-4_Goals,_3-5_Goals,_3-6_Goals,1H_Away,Away_0,Away_Plus_0_25,Away_Minus_0_25,Away_Plus_0_5,Away_Minus_0_5,Away_Plus_0_75,Away_Minus_0_75,Away_Plus_1,Away_Minus_1,Away_Plus_1_25,Away_Minus_1_25,Away_Plus_1_5,Away_Minus_1_5,Away_Plus_1_75,Away_Minus_1_75,Away_Plus_2,Away_Minus_2,Away_Plus_2_25,Away_Minus_2_25,Away_Plus_2_5,Away_Minus_2_5,Away_Plus_2_75,Away_Plus_3,over2_0,over1_75,over2_25'}, '1512787': {'id': '1512787', 'teamA': '50', 'teamB': '1053', 'result': '{{0,0,1,0,8.3,nil,{166}},{1,1,0,0,15.0,11.1,{215}},{1,1,0,0,14.0,9.0,{46}},{0,0,0,0,9.0,nil,{161}},{1,0,0,0,14.2,9.2,{318}},{0,0,0,0,8.8,nil,{301}}}', 'wonmarkets': 'Home,HomeHome,Home_Away,Home_Draw,_3_0,_3_Goals,over,goal,ng1,g2,g3,ng4,g5,ng6,gc3,over2,nog,QHome,under3,under4,over0,HomeScoresOver0,AwayScoresUnder0,HomeScoresOver1,AwayScoresUnder1,HomeScoresOver2,AwayScoresUnder2,HomeScoresUnder3,AwayScoresUnder3,_1x2HomeScoresOver1,_1x2HomeScoresOver2,_1x2HomeScoresUnder3,_0-3_Goals,_0-4_Goals,_0-5_Goals,_0-6_Goals,_1-3_Goals,_1-4_Goals,_1-5_Goals,_1-6_Goals,_2-3_Goals,_2-4_Goals,_2-5_Goals,_2-6_Goals,_3-3_Goals,_3-4_Goals,_3-5_Goals,_3-6_Goals,1H_Home,Home_0,Home_Minus_0_25,Home_Plus_0_25,Home_Minus_0_5,Home_Plus_0_5,Home_Minus_0_75,Home_Plus_0_75,Home_Minus_1,Home_Plus_1,Home_Minus_1_25,Home_Plus_1_25,Home_Minus_1_5,Home_Plus_1_5,Home_Minus_1_75,Home_Plus_1_75,Home_Minus_2,Home_Plus_2,Home_Minus_2_25,Home_Plus_2_25,Home_Minus_2_5,Home_Plus_2_5,Home_Plus_2_75,Home_Plus_3,over2_0,over1_75,over2_25'}, '1512788': {'id': '1512788', 'teamA': '71', 'teamB': '827', 'result': '{{0,1,0,0,10.0,nil,{151}},{1,1,0,0,13.4,8.4,{208}},{0,1,0,0,10.0,nil,{112}},{1,0,0,0,12.5,7.5,{28}},{0,0,0,0,7.5,nil,{262}},{0,1,1,0,10.0,nil,{206}}}', 'wonmarkets': 'Home,HomeHome,Home_Away,Home_Draw,_2_0,_2_Goals,over,goal,ng1,g2,ng3,g4,ng5,ng6,gc2,under2,nog,QHome,under3,under4,over0,HomeScoresOver0,AwayScoresUnder0,HomeScoresOver1,AwayScoresUnder1,HomeScoresUnder2,AwayScoresUnder2,HomeScoresUnder3,AwayScoresUnder3,_1x2HomeScoresOver1,_1x2HomeScoresUnder2,_1x2HomeScoresUnder3,_0-2_Goals,_0-3_Goals,_0-4_Goals,_0-5_Goals,_0-6_Goals,_1-2_Goals,_1-3_Goals,_1-4_Goals,_1-5_Goals,_1-6_Goals,_2-2_Goals,_2-3_Goals,_2-4_Goals,_2-5_Goals,_2-6_Goals,1H_Home,Home_0,Home_Minus_0_25,Home_Plus_0_25,Home_Minus_0_5,Home_Plus_0_5,Home_Minus_0_75,Home_Plus_0_75,Home_Minus_1,Home_Plus_1,Home_Minus_1_25,Home_Plus_1_25,Home_Minus_1_5,Home_Plus_1_5,Home_Plus_1_75,Home_Plus_2,Home_Plus_2_25,Away_Plus_2_5,Home_Plus_2_5,Away_Plus_2_75,Home_Plus_2_75,Away_Plus_3,Home_Plus_3,under3_0,under2_75'}, '1512789': {'id': '1512789', 'teamA': '46', 'teamB': '60', 'result': '{{1,1,0,0,14.0,9.0,{243}},{1,1,0,0,13.1,8.1,{123}},{1,1,0,0,15.0,10.7,{35}},{1,0,0,0,15.0,10.1,{152,60}},{0,0,0,0,8.3,nil,{175}},{0,1,1,0,8.8,nil,{241}}}', 'wonmarkets': 'Home,HomeHome,Home_Away,Home_Draw,_4_0,_4_Goals,over,goal,g1,g2,g3,g4,ng5,ng6,gc4,over2,nog,QHome,over3,under4,over0,HomeScoresOver0,AwayScoresUnder0,HomeScoresOver1,AwayScoresUnder1,HomeScoresOver2,AwayScoresUnder2,HomeScoresOver3,AwayScoresUnder3,_1x2HomeScoresOver1,_1x2HomeScoresOver2,_1x2HomeScoresOver3,_0-4_Goals,_0-5_Goals,_0-6_Goals,_1-4_Goals,_1-5_Goals,_1-6_Goals,_2-4_Goals,_2-5_Goals,_2-6_Goals,_3-4_Goals,_3-5_Goals,_3-6_Goals,_4-4_Goals,_4-5_Goals,_4-6_Goals,1H_Home,Home_0,Home_Minus_0_25,Home_Plus_0_25,Home_Minus_0_5,Home_Plus_0_5,Home_Minus_0_75,Home_Plus_0_75,Home_Minus_1,Home_Plus_1,Home_Minus_1_25,Home_Plus_1_25,Home_Minus_1_5,Home_Plus_1_5,Home_Minus_1_75,Home_Plus_1_75,Home_Minus_2,Home_Plus_2,Home_Minus_2_25,Home_Plus_2_25,Home_Minus_2_5,Home_Plus_2_5,Home_Minus_2_75,Home_Plus_2_75,Home_Minus_3,Home_Plus_3,over2_0,over3_0,over1_75,over2_25,over2_75'}, '1512790': {'id': '1512790', 'teamA': '55', 'teamB': '63', 'result': '{{1,0,1,0,15.0,11.1,{215}},{0,1,0,0,7.3,nil,{209}},{0,1,0,0,9.0,nil,{144}},{0,0,0,0,8.3,nil,{94}},{0,1,1,0,13.3,nil,{152,51}},{0,1,1,0,10.0,nil,{88}}}', 'wonmarkets': 'Away,AwayAway,Draw_Away,Home_Away,_0_1,_1_Goals,under,goal,g1,ng2,ng3,ng4,ng5,ng6,gc1,under2,nog,QAway,under3,under4,over0,HomeScoresUnder0,AwayScoresOver0,HomeScoresUnder1,AwayScoresUnder1,HomeScoresUnder2,AwayScoresUnder2,HomeScoresUnder3,AwayScoresUnder3,_1x2AwayScoresUnder1,_1x2AwayScoresUnder2,_1x2AwayScoresUnder3,_0-1_Goals,_0-2_Goals,_0-3_Goals,_0-4_Goals,_0-5_Goals,_0-6_Goals,_1-1_Goals,_1-2_Goals,_1-3_Goals,_1-4_Goals,_1-5_Goals,_1-6_Goals,1H_Away,Away_0,Away_Plus_0_25,Away_Minus_0_25,Away_Plus_0_5,Away_Minus_0_5,Away_Plus_0_75,Away_Plus_1,Away_Plus_1_25,Away_Plus_1_5,Home_Plus_1_5,Away_Plus_1_75,Home_Plus_1_75,Away_Plus_2,Home_Plus_2,Away_Plus_2_25,Home_Plus_2_25,Away_Plus_2_5,Home_Plus_2_5,Away_Plus_2_75,Home_Plus_2_75,Away_Plus_3,Home_Plus_3,under2_0,under3_0,under1_75,under2_25,under2_75'}}, '2': {'1512791': {'id': '1512791', 'teamA': '972', 'teamB': '71', 'result': '{{1,0,1,0,12.9,7.9,{156}},{0,1,0,0,8.3,nil,{13,81}},{1,0,1,0,12.3,7.3,{200}},{0,0,0,0,10.0,nil,{130}},{0,1,1,0,10.0,nil,{99}},{0,1,1,0,8.3,nil,{92}}}', 'wonmarkets': 'Away,AwayAway,Draw_Away,Home_Away,_0_2,_2_Goals,over,goal,g1,ng2,g3,ng4,ng5,ng6,gc2,under2,nog,QAway,under3,under4,over0,HomeScoresUnder0,AwayScoresOver0,HomeScoresUnder1,AwayScoresOver1,HomeScoresUnder2,AwayScoresUnder2,HomeScoresUnder3,AwayScoresUnder3,_1x2AwayScoresOver1,_1x2AwayScoresUnder2,_1x2AwayScoresUnder3,_0-2_Goals,_0-3_Goals,_0-4_Goals,_0-5_Goals,_0-6_Goals,_1-2_Goals,_1-3_Goals,_1-4_Goals,_1-5_Goals,_1-6_Goals,_2-2_Goals,_2-3_Goals,_2-4_Goals,_2-5_Goals,_2-6_Goals,1H_Away,Away_0,Away_Plus_0_25,Away_Minus_0_25,Away_Plus_0_5,Away_Minus_0_5,Away_Plus_0_75,Away_Minus_0_75,Away_Plus_1,Away_Minus_1,Away_Plus_1_25,Away_Minus_1_25,Away_Plus_1_5,Away_Minus_1_5,Away_Plus_1_75,Away_Plus_2,Away_Plus_2_25,Away_Plus_2_5,Home_Plus_2_5,Away_Plus_2_75,Home_Plus_2_75,Away_Plus_3,Home_Plus_3,under3_0,under2_75'}, '1512792': {'id': '1512792', 'teamA': '46', 'teamB': '45', 'result': '{{0,0,1,0,8.8,nil,{240}},{0,1,0,0,10.0,nil,{295}},{0,1,0,0,10.0,nil,{2}},{1,1,1,0,15.0,10.0,{135}},{1,0,0,0,14.9,9.9,{152,5}},{0,0,0,0,10.0,nil,{68}}}', 'wonmarkets': 'Draw,DrawDraw,Draw_Away,Home_Draw,_1_1,_2_Goals,over,goal,ng1,ng2,ng3,g4,g5,ng6,gc2,under2,gg,QDraw,under3,under4,over0,HomeScoresOver0,AwayScoresOver0,HomeScoresUnder1,AwayScoresUnder1,HomeScoresUnder2,AwayScoresUnder2,HomeScoresUnder3,AwayScoresUnder3,_1x2DrawScoresOver1,_1x2DrawScoresUnder2,_1x2DrawScoresUnder3,_0-2_Goals,_0-3_Goals,_0-4_Goals,_0-5_Goals,_0-6_Goals,_1-2_Goals,_1-3_Goals,_1-4_Goals,_1-5_Goals,_1-6_Goals,_2-2_Goals,_2-3_Goals,_2-4_Goals,_2-5_Goals,_2-6_Goals,1H_Draw,Away_Plus_0_5,Home_Plus_0_5,Away_Plus_0_75,Home_Plus_0_75,Away_Plus_1,Home_Plus_1,Away_Plus_1_25,Home_Plus_1_25,Away_Plus_1_5,Home_Plus_1_5,Away_Plus_1_75,Home_Plus_1_75,Away_Plus_2,Home_Plus_2,Away_Plus_2_25,Home_Plus_2_25,Away_Plus_2_5,Home_Plus_2_5,Away_Plus_2_75,Home_Plus_2_75,Away_Plus_3,Home_Plus_3,under3_0,under2_75'}, '1512793': {'id': '1512793', 'teamA': '827', 'teamB': '52', 'result': '{{0,0,1,0,8.3,nil,{13,89}},{1,1,0,0,14.9,9.9,{152,5}},{1,0,1,0,15.0,12.3,{124}},{1,0,0,0,15.0,10.8,{15}},{0,0,0,0,10.0,nil,{296}},{1,0,0,0,15.0,10.9,{63}}}', 'wonmarkets': 'Home,DrawHome,Home_Away,Home_Draw,_3_1,_4_Goals,over,goal,ng1,g2,g3,g4,ng5,g6,gc4,over2,gg,QHome,over3,under4,over0,HomeScoresOver0,AwayScoresOver0,HomeScoresOver1,AwayScoresUnder1,HomeScoresOver2,AwayScoresUnder2,HomeScoresUnder3,AwayScoresUnder3,_1x2HomeScoresOver1,_1x2HomeScoresOver2,_1x2HomeScoresOver3,_0-4_Goals,_0-5_Goals,_0-6_Goals,_1-4_Goals,_1-5_Goals,_1-6_Goals,_2-4_Goals,_2-5_Goals,_2-6_Goals,_3-4_Goals,_3-5_Goals,_3-6_Goals,_4-4_Goals,_4-5_Goals,_4-6_Goals,1H_Draw,Home_0,Home_Minus_0_25,Home_Plus_0_25,Home_Minus_0_5,Home_Plus_0_5,Home_Minus_0_75,Home_Plus_0_75,Home_Minus_1,Home_Plus_1,Home_Minus_1_25,Home_Plus_1_25,Home_Minus_1_5,Home_Plus_1_5,Home_Plus_1_75,Home_Plus_2,Home_Plus_2_25,Away_Plus_2_5,Home_Plus_2_5,Away_Plus_2_75,Home_Plus_2_75,Away_Plus_3,Home_Plus_3,over2_0,over3_0,over1_75,over2_25,over2_75'}, '1512794': {'id': '1512794', 'teamA': '60', 'teamB': '51', 'result': '{{1,0,1,0,15.0,11.6,{95}},{1,1,0,0,15.0,10.1,{143}},{0,1,0,0,10.0,nil,{230}},{1,0,0,0,15.0,10.0,{22}},{0,0,0,0,8.3,nil,{155,40}},{1,0,0,0,13.5,8.5,{263}}}', 'wonmarkets': 'Home,DrawHome,Home_Away,Home_Draw,_3_1,_4_Goals,over,goal,g1,g2,ng3,g4,ng5,g6,gc4,over2,gg,QHome,over3,under4,over0,HomeScoresOver0,AwayScoresOver0,HomeScoresOver1,AwayScoresUnder1,HomeScoresOver2,AwayScoresUnder2,HomeScoresUnder3,AwayScoresUnder3,_1x2HomeScoresOver1,_1x2HomeScoresOver2,_1x2HomeScoresOver3,_0-4_Goals,_0-5_Goals,_0-6_Goals,_1-4_Goals,_1-5_Goals,_1-6_Goals,_2-4_Goals,_2-5_Goals,_2-6_Goals,_3-4_Goals,_3-5_Goals,_3-6_Goals,_4-4_Goals,_4-5_Goals,_4-6_Goals,1H_Draw,Home_0,Home_Minus_0_25,Home_Plus_0_25,Home_Minus_0_5,Home_Plus_0_5,Home_Minus_0_75,Home_Plus_0_75,Home_Minus_1,Home_Plus_1,Home_Minus_1_25,Home_Plus_1_25,Home_Minus_1_5,Home_Plus_1_5,Home_Plus_1_75,Home_Plus_2,Home_Plus_2_25,Away_Plus_2_5,Home_Plus_2_5,Away_Plus_2_75,Home_Plus_2_75,Away_Plus_3,Home_Plus_3,over2_0,over3_0,over1_75,over2_25,over2_75'}, '1512795': {'id': '1512795', 'teamA': '525', 'teamB': '49', 'result': '{{1,1,0,0,14.0,9.0,{243}},{0,0,1,0,7.3,nil,{210}},{1,0,1,0,12.9,7.9,{156}},{0,1,1,0,8.3,nil,{289}},{0,1,1,0,8.3,nil,{321}},{0,1,1,0,8.3,nil,{78}}}', 'wonmarkets': 'Draw,DrawDraw,Draw_Away,Home_Draw,_1_1,_2_Goals,over,goal,g1,ng2,g3,ng4,ng5,ng6,gc2,under2,gg,QDraw,under3,under4,over0,HomeScoresOver0,AwayScoresOver0,HomeScoresUnder1,AwayScoresUnder1,HomeScoresUnder2,AwayScoresUnder2,HomeScoresUnder3,AwayScoresUnder3,_1x2DrawScoresOver1,_1x2DrawScoresUnder2,_1x2DrawScoresUnder3,_0-2_Goals,_0-3_Goals,_0-4_Goals,_0-5_Goals,_0-6_Goals,_1-2_Goals,_1-3_Goals,_1-4_Goals,_1-5_Goals,_1-6_Goals,_2-2_Goals,_2-3_Goals,_2-4_Goals,_2-5_Goals,_2-6_Goals,1H_Draw,Away_Plus_0_5,Home_Plus_0_5,Away_Plus_0_75,Home_Plus_0_75,Away_Plus_1,Home_Plus_1,Away_Plus_1_25,Home_Plus_1_25,Away_Plus_1_5,Home_Plus_1_5,Away_Plus_1_75,Home_Plus_1_75,Away_Plus_2,Home_Plus_2,Away_Plus_2_25,Home_Plus_2_25,Away_Plus_2_5,Home_Plus_2_5,Away_Plus_2_75,Home_Plus_2_75,Away_Plus_3,Home_Plus_3,under3_0,under2_75'}, '1512796': {'id': '1512796', 'teamA': '1053', 'teamB': '58', 'result': '{{1,1,0,0,13.2,8.2,{192}},{0,1,0,0,8.3,nil,{169}},{1,1,0,0,12.7,7.7,{11}},{1,1,1,0,15.0,11.1,{67}},{0,1,1,0,8.3,nil,{94}},{1,0,0,0,15.0,10.0,{109}}}', 'wonmarkets': 'Home,HomeHome,Home_Away,Home_Draw,_3_1,_4_Goals,over,goal,g1,ng2,g3,g4,ng5,g6,gc4,over2,gg,QHome,over3,under4,over0,HomeScoresOver0,AwayScoresOver0,HomeScoresOver1,AwayScoresUnder1,HomeScoresOver2,AwayScoresUnder2,HomeScoresUnder3,AwayScoresUnder3,_1x2HomeScoresOver1,_1x2HomeScoresOver2,_1x2HomeScoresOver3,_0-4_Goals,_0-5_Goals,_0-6_Goals,_1-4_Goals,_1-5_Goals,_1-6_Goals,_2-4_Goals,_2-5_Goals,_2-6_Goals,_3-4_Goals,_3-5_Goals,_3-6_Goals,_4-4_Goals,_4-5_Goals,_4-6_Goals,1H_Home,Home_0,Home_Minus_0_25,Home_Plus_0_25,Home_Minus_0_5,Home_Plus_0_5,Home_Minus_0_75,Home_Plus_0_75,Home_Minus_1,Home_Plus_1,Home_Minus_1_25,Home_Plus_1_25,Home_Minus_1_5,Home_Plus_1_5,Home_Plus_1_75,Home_Plus_2,Home_Plus_2_25,Away_Plus_2_5,Home_Plus_2_5,Away_Plus_2_75,Home_Plus_2_75,Away_Plus_3,Home_Plus_3,over2_0,over3_0,over1_75,over2_25,over2_75'}, '1512797': {'id': '1512797', 'teamA': '63', 'teamB': '67', 'result': '{{1,1,0,0,15.0,10.0,{155,39}},{1,1,0,0,13.6,8.6,{102}},{0,1,0,0,10.0,nil,{100}},{0,0,0,0,10.0,nil,{37}},{0,0,0,0,10.0,nil,{186}},{1,1,1,0,15.0,10.0,{101}}}', 'wonmarkets': 'Home,HomeHome,Home_Away,Home_Draw,_2_1,_3_Goals,over,goal,g1,g2,ng3,ng4,ng5,g6,gc3,over2,gg,QHome,under3,under4,over0,HomeScoresOver0,AwayScoresOver0,HomeScoresOver1,AwayScoresUnder1,HomeScoresUnder2,AwayScoresUnder2,HomeScoresUnder3,AwayScoresUnder3,_1x2HomeScoresOver1,_1x2HomeScoresOver2,_1x2HomeScoresUnder3,_0-3_Goals,_0-4_Goals,_0-5_Goals,_0-6_Goals,_1-3_Goals,_1-4_Goals,_1-5_Goals,_1-6_Goals,_2-3_Goals,_2-4_Goals,_2-5_Goals,_2-6_Goals,_3-3_Goals,_3-4_Goals,_3-5_Goals,_3-6_Goals,1H_Home,Home_0,Home_Minus_0_25,Home_Plus_0_25,Home_Minus_0_5,Home_Plus_0_5,Home_Plus_0_75,Home_Plus_1,Home_Plus_1_25,Away_Plus_1_5,Home_Plus_1_5,Away_Plus_1_75,Home_Plus_1_75,Away_Plus_2,Home_Plus_2,Away_Plus_2_25,Home_Plus_2_25,Away_Plus_2_5,Home_Plus_2_5,Away_Plus_2_75,Home_Plus_2_75,Away_Plus_3,Home_Plus_3,over2_0,over1_75,over2_25'}, '1512798': {'id': '1512798', 'teamA': '48', 'teamB': '55', 'result': '{{0,1,0,0,7.2,nil,{193}},{0,0,1,0,9.2,nil,{152,76}},{0,0,1,0,9.2,nil,{133}},{0,0,0,0,8.8,nil,{244}},{1,1,1,0,12.3,7.3,{200}},{1,0,0,0,13.3,8.3,{298}}}', 'wonmarkets': 'Draw,DrawDraw,Draw_Away,Home_Draw,_1_1,_2_Goals,over,goal,ng1,ng2,ng3,ng4,g5,g6,gc2,under2,gg,QDraw,under3,under4,over0,HomeScoresOver0,AwayScoresOver0,HomeScoresUnder1,AwayScoresUnder1,HomeScoresUnder2,AwayScoresUnder2,HomeScoresUnder3,AwayScoresUnder3,_1x2DrawScoresOver1,_1x2DrawScoresUnder2,_1x2DrawScoresUnder3,_0-2_Goals,_0-3_Goals,_0-4_Goals,_0-5_Goals,_0-6_Goals,_1-2_Goals,_1-3_Goals,_1-4_Goals,_1-5_Goals,_1-6_Goals,_2-2_Goals,_2-3_Goals,_2-4_Goals,_2-5_Goals,_2-6_Goals,1H_Draw,Away_Plus_0_5,Home_Plus_0_5,Away_Plus_0_75,Home_Plus_0_75,Away_Plus_1,Home_Plus_1,Away_Plus_1_25,Home_Plus_1_25,Away_Plus_1_5,Home_Plus_1_5,Away_Plus_1_75,Home_Plus_1_75,Away_Plus_2,Home_Plus_2,Away_Plus_2_25,Home_Plus_2_25,Away_Plus_2_5,Home_Plus_2_5,Away_Plus_2_75,Home_Plus_2_75,Away_Plus_3,Home_Plus_3,under3_0,under2_75'}, '1512799': {'id': '1512799', 'teamA': '47', 'teamB': '512', 'result': '{{0,0,1,0,9.0,nil,{59}},{0,0,1,0,10.0,nil,{38}},{0,0,1,0,11.2,nil,{197}},{0,1,1,0,8.9,nil,{284}},{0,1,1,0,13.3,nil,{152,52}},{1,1,1,0,15.0,11.0,{139}}}', 'wonmarkets': 'Away,DrawAway,Draw_Away,Home_Away,_0_1,_1_Goals,under,goal,ng1,ng2,ng3,ng4,ng5,g6,gc1,under2,nog,QAway,under3,under4,over0,HomeScoresUnder0,AwayScoresOver0,HomeScoresUnder1,AwayScoresUnder1,HomeScoresUnder2,AwayScoresUnder2,HomeScoresUnder3,AwayScoresUnder3,_1x2AwayScoresUnder1,_1x2AwayScoresUnder2,_1x2AwayScoresUnder3,_0-1_Goals,_0-2_Goals,_0-3_Goals,_0-4_Goals,_0-5_Goals,_0-6_Goals,_1-1_Goals,_1-2_Goals,_1-3_Goals,_1-4_Goals,_1-5_Goals,_1-6_Goals,1H_Draw,Away_0,Away_Plus_0_25,Away_Minus_0_25,Away_Plus_0_5,Away_Minus_0_5,Away_Plus_0_75,Away_Plus_1,Away_Plus_1_25,Away_Plus_1_5,Home_Plus_1_5,Away_Plus_1_75,Home_Plus_1_75,Away_Plus_2,Home_Plus_2,Away_Plus_2_25,Home_Plus_2_25,Away_Plus_2_5,Home_Plus_2_5,Away_Plus_2_75,Home_Plus_2_75,Away_Plus_3,Home_Plus_3,under2_0,under3_0,under1_75,under2_25,under2_75'}, '1512800': {'id': '1512800', 'teamA': '53', 'teamB': '50', 'result': '{{1,0,1,0,15.0,10.0,{22}},{0,1,0,0,10.0,nil,{100}},{1,0,1,0,15.0,10.4,{91}},{1,0,0,0,15.0,10.7,{20}},{1,0,0,0,15.0,10.6,{174}},{1,1,1,0,12.3,7.3,{200}}}', 'wonmarkets': 'Away,AwayAway,Draw_Away,Home_Away,_2_3,_5_Goals,over,goal,g1,ng2,g3,g4,g5,g6,gc5,over2,gg,QAway,over3,over4,over0,HomeScoresOver0,AwayScoresOver0,HomeScoresOver1,AwayScoresOver1,HomeScoresUnder2,AwayScoresOver2,HomeScoresUnder3,AwayScoresUnder3,_1x2AwayScoresOver1,_1x2AwayScoresOver2,_1x2AwayScoresOver3,_0-5_Goals,_0-6_Goals,_1-5_Goals,_1-6_Goals,_2-5_Goals,_2-6_Goals,_3-5_Goals,_3-6_Goals,_4-5_Goals,_4-6_Goals,_5-5_Goals,_5-6_Goals,1H_Away,Away_0,Away_Plus_0_25,Away_Minus_0_25,Away_Plus_0_5,Away_Minus_0_5,Away_Plus_0_75,Away_Plus_1,Away_Plus_1_25,Away_Plus_1_5,Home_Plus_1_5,Away_Plus_1_75,Home_Plus_1_75,Away_Plus_2,Home_Plus_2,Away_Plus_2_25,Home_Plus_2_25,Away_Plus_2_5,Home_Plus_2_5,Away_Plus_2_75,Home_Plus_2_75,Away_Plus_3,Home_Plus_3,over2_0,over3_0,over1_75,over2_25,over2_75'}}, '3': {'1512801': {'id': '1512801', 'teamA': '52', 'teamB': '972', 'result': '{{0,0,1,0,8.8,nil,{241}},{1,1,0,0,13.0,8.0,{42}},{1,1,0,0,14.4,9.4,{24}},{0,0,0,0,8.3,nil,{176}},{1,0,0,0,14.9,9.9,{152,5}},{1,0,0,0,13.4,8.4,{122}}}', 'wonmarkets': 'Home,HomeHome,Home_Away,Home_Draw,_4_0,_4_Goals,over,goal,ng1,g2,g3,ng4,g5,g6,gc4,over2,nog,QHome,over3,under4,over0,HomeScoresOver0,AwayScoresUnder0,HomeScoresOver1,AwayScoresUnder1,HomeScoresOver2,AwayScoresUnder2,HomeScoresOver3,AwayScoresUnder3,_1x2HomeScoresOver1,_1x2HomeScoresOver2,_1x2HomeScoresOver3,_0-4_Goals,_0-5_Goals,_0-6_Goals,_1-4_Goals,_1-5_Goals,_1-6_Goals,_2-4_Goals,_2-5_Goals,_2-6_Goals,_3-4_Goals,_3-5_Goals,_3-6_Goals,_4-4_Goals,_4-5_Goals,_4-6_Goals,1H_Home,Home_0,Home_Minus_0_25,Home_Plus_0_25,Home_Minus_0_5,Home_Plus_0_5,Home_Minus_0_75,Home_Plus_0_75,Home_Minus_1,Home_Plus_1,Home_Minus_1_25,Home_Plus_1_25,Home_Minus_1_5,Home_Plus_1_5,Home_Minus_1_75,Home_Plus_1_75,Home_Minus_2,Home_Plus_2,Home_Minus_2_25,Home_Plus_2_25,Home_Minus_2_5,Home_Plus_2_5,Home_Minus_2_75,Home_Plus_2_75,Home_Minus_3,Home_Plus_3,over2_0,over3_0,over1_75,over2_25,over2_75'}, '1512802': {'id': '1512802', 'teamA': '512', 'teamB': '63', 'result': '{{0,0,1,0,10.0,nil,{151}},{1,0,1,0,14.0,9.0,{243}},{1,1,0,0,15.0,10.0,{22}},{0,0,0,0,10.0,nil,{104}},{0,1,1,0,10.0,nil,{113}},{0,1,1,0,8.0,nil,{242}}}', 'wonmarkets': 'Draw,DrawDraw,Draw_Away,Home_Draw,_1_1,_2_Goals,over,goal,ng1,g2,g3,ng4,ng5,ng6,gc2,under2,gg,QDraw,under3,under4,over0,HomeScoresOver0,AwayScoresOver0,HomeScoresUnder1,AwayScoresUnder1,HomeScoresUnder2,AwayScoresUnder2,HomeScoresUnder3,AwayScoresUnder3,_1x2DrawScoresOver1,_1x2DrawScoresUnder2,_1x2DrawScoresUnder3,_0-2_Goals,_0-3_Goals,_0-4_Goals,_0-5_Goals,_0-6_Goals,_1-2_Goals,_1-3_Goals,_1-4_Goals,_1-5_Goals,_1-6_Goals,_2-2_Goals,_2-3_Goals,_2-4_Goals,_2-5_Goals,_2-6_Goals,1H_Draw,Away_Plus_0_5,Home_Plus_0_5,Away_Plus_0_75,Home_Plus_0_75,Away_Plus_1,Home_Plus_1,Away_Plus_1_25,Home_Plus_1_25,Away_Plus_1_5,Home_Plus_1_5,Away_Plus_1_75,Home_Plus_1_75,Away_Plus_2,Home_Plus_2,Away_Plus_2_25,Home_Plus_2_25,Away_Plus_2_5,Home_Plus_2_5,Away_Plus_2_75,Home_Plus_2_75,Away_Plus_3,Home_Plus_3,under3_0,under2_75'}, '1512803': {'id': '1512803', 'teamA': '58', 'teamB': '53', 'result': '{{0,1,0,0,8.8,nil,{237}},{1,1,0,0,13.6,8.6,{21}},{0,0,1,0,8.3,nil,{287}},{0,0,0,0,10.0,nil,{87}},{1,1,1,0,15.0,12.0,{152,50}},{0,0,0,0,9.0,nil,{145}}}', 'wonmarkets': 'Draw,HomeDraw,Draw_Away,Home_Draw,_1_1,_2_Goals,over,goal,ng1,g2,ng3,ng4,g5,ng6,gc2,under2,gg,QDraw,under3,under4,over0,HomeScoresOver0,AwayScoresOver0,HomeScoresUnder1,AwayScoresUnder1,HomeScoresUnder2,AwayScoresUnder2,HomeScoresUnder3,AwayScoresUnder3,_1x2DrawScoresOver1,_1x2DrawScoresUnder2,_1x2DrawScoresUnder3,_0-2_Goals,_0-3_Goals,_0-4_Goals,_0-5_Goals,_0-6_Goals,_1-2_Goals,_1-3_Goals,_1-4_Goals,_1-5_Goals,_1-6_Goals,_2-2_Goals,_2-3_Goals,_2-4_Goals,_2-5_Goals,_2-6_Goals,1H_Home,Away_Plus_0_5,Home_Plus_0_5,Away_Plus_0_75,Home_Plus_0_75,Away_Plus_1,Home_Plus_1,Away_Plus_1_25,Home_Plus_1_25,Away_Plus_1_5,Home_Plus_1_5,Away_Plus_1_75,Home_Plus_1_75,Away_Plus_2,Home_Plus_2,Away_Plus_2_25,Home_Plus_2_25,Away_Plus_2_5,Home_Plus_2_5,Away_Plus_2_75,Home_Plus_2_75,Away_Plus_3,Home_Plus_3,under3_0,under2_75'}, '1512804': {'id': '1512804', 'teamA': '71', 'teamB': '525', 'result': '{{0,1,0,0,11.0,nil,{232}},{0,1,0,0,10.0,nil,{70}},{0,1,0,0,10.0,nil,{99}},{0,1,1,0,9.2,nil,{136}},{0,1,1,0,10.2,nil,{226}},{0,1,1,0,10.0,nil,{230}}}', 'wonmarkets': 'Draw,DrawDraw,Draw_Away,Home_Draw,_0_0,_0_Goals,under,nogoal,ng1,ng2,ng3,ng4,ng5,ng6,under2,nog,QDraw,under3,under4,under0,HomeScoresUnder0,AwayScoresUnder0,HomeScoresUnder1,AwayScoresUnder1,HomeScoresUnder2,AwayScoresUnder2,HomeScoresUnder3,AwayScoresUnder3,_1x2DrawScoresUnder1,_1x2DrawScoresUnder2,_1x2DrawScoresUnder3,_0-0_Goals,_0-1_Goals,_0-2_Goals,_0-3_Goals,_0-4_Goals,_0-5_Goals,_0-6_Goals,1H_Draw,Away_Plus_0_5,Home_Plus_0_5,Away_Plus_0_75,Home_Plus_0_75,Away_Plus_1,Home_Plus_1,Away_Plus_1_25,Home_Plus_1_25,Away_Plus_1_5,Home_Plus_1_5,Away_Plus_1_75,Home_Plus_1_75,Away_Plus_2,Home_Plus_2,Away_Plus_2_25,Home_Plus_2_25,Away_Plus_2_5,Home_Plus_2_5,Away_Plus_2_75,Home_Plus_2_75,Away_Plus_3,Home_Plus_3,under2_0,under3_0,under1_75,under2_25,under2_75'}, '1512805': {'id': '1512805', 'teamA': '51', 'teamB': '1053', 'result': '{{1,0,1,0,12.7,7.7,{11}},{1,1,0,0,14.6,9.6,{223}},{0,1,0,0,8.3,nil,{47}},{1,1,1,0,14.2,9.2,{204}},{0,1,1,0,9.2,nil,{246}},{0,1,1,0,8.3,nil,{17,82}}}', 'wonmarkets': 'Away,DrawAway,Draw_Away,Home_Away,_1_2,_3_Goals,over,goal,g1,g2,ng3,g4,ng5,ng6,gc3,over2,gg,QAway,under3,under4,over0,HomeScoresOver0,AwayScoresOver0,HomeScoresUnder1,AwayScoresOver1,HomeScoresUnder2,AwayScoresUnder2,HomeScoresUnder3,AwayScoresUnder3,_1x2AwayScoresOver1,_1x2AwayScoresOver2,_1x2AwayScoresUnder3,_0-3_Goals,_0-4_Goals,_0-5_Goals,_0-6_Goals,_1-3_Goals,_1-4_Goals,_1-5_Goals,_1-6_Goals,_2-3_Goals,_2-4_Goals,_2-5_Goals,_2-6_Goals,_3-3_Goals,_3-4_Goals,_3-5_Goals,_3-6_Goals,1H_Draw,Away_0,Away_Plus_0_25,Away_Minus_0_25,Away_Plus_0_5,Away_Minus_0_5,Away_Plus_0_75,Away_Plus_1,Away_Plus_1_25,Away_Plus_1_5,Home_Plus_1_5,Away_Plus_1_75,Home_Plus_1_75,Away_Plus_2,Home_Plus_2,Away_Plus_2_25,Home_Plus_2_25,Away_Plus_2_5,Home_Plus_2_5,Away_Plus_2_75,Home_Plus_2_75,Away_Plus_3,Home_Plus_3,over2_0,over1_75,over2_25'}, '1512806': {'id': '1512806', 'teamA': '55', 'teamB': '46', 'result': '{{0,1,0,0,9.2,nil,{180}},{1,1,0,0,14.9,9.9,{19}},{0,0,1,0,11.0,nil,{233}},{0,0,0,0,8.9,nil,{283}},{0,1,1,0,6.3,nil,{254}},{0,1,1,0,8.3,nil,{132}}}', 'wonmarkets': 'Home,HomeHome,Home_Away,Home_Draw,_1_0,_1_Goals,under,goal,ng1,g2,ng3,ng4,ng5,ng6,gc1,under2,nog,QHome,under3,under4,over0,HomeScoresOver0,AwayScoresUnder0,HomeScoresUnder1,AwayScoresUnder1,HomeScoresUnder2,AwayScoresUnder2,HomeScoresUnder3,AwayScoresUnder3,_1x2HomeScoresUnder1,_1x2HomeScoresUnder2,_1x2HomeScoresUnder3,_0-1_Goals,_0-2_Goals,_0-3_Goals,_0-4_Goals,_0-5_Goals,_0-6_Goals,_1-1_Goals,_1-2_Goals,_1-3_Goals,_1-4_Goals,_1-5_Goals,_1-6_Goals,1H_Home,Home_0,Home_Minus_0_25,Home_Plus_0_25,Home_Minus_0_5,Home_Plus_0_5,Home_Plus_0_75,Home_Plus_1,Home_Plus_1_25,Away_Plus_1_5,Home_Plus_1_5,Away_Plus_1_75,Home_Plus_1_75,Away_Plus_2,Home_Plus_2,Away_Plus_2_25,Home_Plus_2_25,Away_Plus_2_5,Home_Plus_2_5,Away_Plus_2_75,Home_Plus_2_75,Away_Plus_3,Home_Plus_3,under2_0,under3_0,under1_75,under2_25,under2_75'}, '1512807': {'id': '1512807', 'teamA': '50', 'teamB': '827', 'result': '{{0,1,0,0,8.8,nil,{299}},{0,1,0,0,8.3,nil,{169}},{1,1,0,0,12.7,7.7,{13,14}},{1,1,1,0,15.0,10.4,{196}},{1,0,0,0,15.0,10.7,{182}},{1,1,1,0,12.5,7.5,{28}}}', 'wonmarkets': 'Draw,HomeDraw,Draw_Away,Home_Draw,_2_2,_4_Goals,over,goal,ng1,ng2,g3,g4,g5,g6,gc4,over2,gg,QDraw,over3,under4,over0,HomeScoresOver0,AwayScoresOver0,HomeScoresOver1,AwayScoresOver1,HomeScoresUnder2,AwayScoresUnder2,HomeScoresUnder3,AwayScoresUnder3,_1x2DrawScoresOver1,_1x2DrawScoresOver2,_1x2DrawScoresOver3,_0-4_Goals,_0-5_Goals,_0-6_Goals,_1-4_Goals,_1-5_Goals,_1-6_Goals,_2-4_Goals,_2-5_Goals,_2-6_Goals,_3-4_Goals,_3-5_Goals,_3-6_Goals,_4-4_Goals,_4-5_Goals,_4-6_Goals,1H_Home,Away_Plus_0_5,Home_Plus_0_5,Away_Plus_0_75,Home_Plus_0_75,Away_Plus_1,Home_Plus_1,Away_Plus_1_25,Home_Plus_1_25,Away_Plus_1_5,Home_Plus_1_5,Away_Plus_1_75,Home_Plus_1_75,Away_Plus_2,Home_Plus_2,Away_Plus_2_25,Home_Plus_2_25,Away_Plus_2_5,Home_Plus_2_5,Away_Plus_2_75,Home_Plus_2_75,Away_Plus_3,Home_Plus_3,over2_0,over3_0,over1_75,over2_25,over2_75'}, '1512808': {'id': '1512808', 'teamA': '67', 'teamB': '48', 'result': '{{0,1,0,0,8.8,nil,{300}},{1,0,1,0,13.9,8.9,{17,18}},{0,1,0,0,10.0,nil,{207}},{1,1,1,0,14.3,9.3,{178}},{1,1,1,0,13.4,8.4,{211}},{1,1,1,0,14.0,9.0,{290}}}', 'wonmarkets': 'Away,AwayAway,Draw_Away,Home_Away,_0_4,_4_Goals,over,goal,ng1,g2,ng3,g4,g5,g6,gc4,over2,nog,QAway,over3,under4,over0,HomeScoresUnder0,AwayScoresOver0,HomeScoresUnder1,AwayScoresOver1,HomeScoresUnder2,AwayScoresOver2,HomeScoresUnder3,AwayScoresOver3,_1x2AwayScoresOver1,_1x2AwayScoresOver2,_1x2AwayScoresOver3,_0-4_Goals,_0-5_Goals,_0-6_Goals,_1-4_Goals,_1-5_Goals,_1-6_Goals,_2-4_Goals,_2-5_Goals,_2-6_Goals,_3-4_Goals,_3-5_Goals,_3-6_Goals,_4-4_Goals,_4-5_Goals,_4-6_Goals,1H_Away,Away_0,Away_Plus_0_25,Away_Minus_0_25,Away_Plus_0_5,Away_Minus_0_5,Away_Plus_0_75,Away_Minus_0_75,Away_Plus_1,Away_Minus_1,Away_Plus_1_25,Away_Minus_1_25,Away_Plus_1_5,Away_Minus_1_5,Away_Plus_1_75,Away_Minus_1_75,Away_Plus_2,Away_Minus_2,Away_Plus_2_25,Away_Minus_2_25,Away_Plus_2_5,Away_Minus_2_5,Away_Plus_2_75,Away_Minus_2_75,Away_Plus_3,Away_Minus_3,over2_0,over3_0,over1_75,over2_25,over2_75'}, '1512809': {'id': '1512809', 'teamA': '45', 'teamB': '60', 'result': '{{0,1,0,0,10.0,nil,{68}},{0,0,1,0,10.0,nil,{97}},{0,1,0,0,10.0,nil,{105}},{1,0,0,0,14.3,9.3,{178}},{1,0,0,0,15.0,10.7,{182}},{0,0,0,0,7.3,nil,{209}}}', 'wonmarkets': 'Home,DrawHome,Home_Away,Home_Draw,_2_0,_2_Goals,over,goal,ng1,ng2,ng3,g4,g5,ng6,gc2,under2,nog,QHome,under3,under4,over0,HomeScoresOver0,AwayScoresUnder0,HomeScoresOver1,AwayScoresUnder1,HomeScoresUnder2,AwayScoresUnder2,HomeScoresUnder3,AwayScoresUnder3,_1x2HomeScoresOver1,_1x2HomeScoresUnder2,_1x2HomeScoresUnder3,_0-2_Goals,_0-3_Goals,_0-4_Goals,_0-5_Goals,_0-6_Goals,_1-2_Goals,_1-3_Goals,_1-4_Goals,_1-5_Goals,_1-6_Goals,_2-2_Goals,_2-3_Goals,_2-4_Goals,_2-5_Goals,_2-6_Goals,1H_Draw,Home_0,Home_Minus_0_25,Home_Plus_0_25,Home_Minus_0_5,Home_Plus_0_5,Home_Minus_0_75,Home_Plus_0_75,Home_Minus_1,Home_Plus_1,Home_Minus_1_25,Home_Plus_1_25,Home_Minus_1_5,Home_Plus_1_5,Home_Plus_1_75,Home_Plus_2,Home_Plus_2_25,Away_Plus_2_5,Home_Plus_2_5,Away_Plus_2_75,Home_Plus_2_75,Away_Plus_3,Home_Plus_3,under3_0,under2_75'}, '1512810': {'id': '1512810', 'teamA': '49', 'teamB': '47', 'result': '{{1,1,0,0,15.0,10.6,{174}},{1,0,1,0,15.0,11.9,{231}},{1,1,0,0,15.0,10.4,{196}},{1,0,0,0,14.9,9.9,{19}},{0,0,0,0,8.3,nil,{13,89}},{0,0,0,0,10.0,nil,{113}}}', 'wonmarkets': 'Home,HomeHome,Home_Away,Home_Draw,_3_1,_4_Goals,over,goal,g1,g2,g3,g4,ng5,ng6,gc4,over2,gg,QHome,over3,under4,over0,HomeScoresOver0,AwayScoresOver0,HomeScoresOver1,AwayScoresUnder1,HomeScoresOver2,AwayScoresUnder2,HomeScoresUnder3,AwayScoresUnder3,_1x2HomeScoresOver1,_1x2HomeScoresOver2,_1x2HomeScoresOver3,_0-4_Goals,_0-5_Goals,_0-6_Goals,_1-4_Goals,_1-5_Goals,_1-6_Goals,_2-4_Goals,_2-5_Goals,_2-6_Goals,_3-4_Goals,_3-5_Goals,_3-6_Goals,_4-4_Goals,_4-5_Goals,_4-6_Goals,1H_Home,Home_0,Home_Minus_0_25,Home_Plus_0_25,Home_Minus_0_5,Home_Plus_0_5,Home_Minus_0_75,Home_Plus_0_75,Home_Minus_1,Home_Plus_1,Home_Minus_1_25,Home_Plus_1_25,Home_Minus_1_5,Home_Plus_1_5,Home_Plus_1_75,Home_Plus_2,Home_Plus_2_25,Away_Plus_2_5,Home_Plus_2_5,Away_Plus_2_75,Home_Plus_2_75,Away_Plus_3,Home_Plus_3,over2_0,over3_0,over1_75,over2_25,over2_75'}}, '4': {'1512811': {'id': '1512811', 'teamA': '60', 'teamB': '1053', 'result': '{{0,0,1,0,13.3,nil,{152,52}},{1,0,1,0,15.0,10.9,{63}},{0,0,1,0,8.3,nil,{157}},{0,0,0,0,8.3,nil,{43}},{1,0,0,0,15.0,10.8,{170}},{0,0,0,0,8.3,nil,{167}}}', 'wonmarkets': 'Draw,AwayDraw,Draw_Away,Home_Draw,_1_1,_2_Goals,over,goal,ng1,g2,ng3,ng4,g5,ng6,gc2,under2,gg,QDraw,under3,under4,over0,HomeScoresOver0,AwayScoresOver0,HomeScoresUnder1,AwayScoresUnder1,HomeScoresUnder2,AwayScoresUnder2,HomeScoresUnder3,AwayScoresUnder3,_1x2DrawScoresOver1,_1x2DrawScoresUnder2,_1x2DrawScoresUnder3,_0-2_Goals,_0-3_Goals,_0-4_Goals,_0-5_Goals,_0-6_Goals,_1-2_Goals,_1-3_Goals,_1-4_Goals,_1-5_Goals,_1-6_Goals,_2-2_Goals,_2-3_Goals,_2-4_Goals,_2-5_Goals,_2-6_Goals,1H_Away,Away_Plus_0_5,Home_Plus_0_5,Away_Plus_0_75,Home_Plus_0_75,Away_Plus_1,Home_Plus_1,Away_Plus_1_25,Home_Plus_1_25,Away_Plus_1_5,Home_Plus_1_5,Away_Plus_1_75,Home_Plus_1_75,Away_Plus_2,Home_Plus_2,Away_Plus_2_25,Home_Plus_2_25,Away_Plus_2_5,Home_Plus_2_5,Away_Plus_2_75,Home_Plus_2_75,Away_Plus_3,Home_Plus_3,under3_0,under2_75'}, '1512812': {'id': '1512812', 'teamA': '525', 'teamB': '52', 'result': '{{0,0,1,0,8.3,nil,{155,40}},{0,0,1,0,10.0,nil,{25}},{0,0,1,0,8.3,nil,{120}},{0,1,1,0,8.3,nil,{13,81}},{0,0,0,0,10.0,nil,{27}},{0,1,1,0,8.3,nil,{157}}}', 'wonmarkets': 'Draw,DrawDraw,Draw_Away,Home_Draw,_0_0,_0_Goals,under,nogoal,ng1,ng2,ng3,ng4,ng5,ng6,under2,nog,QDraw,under3,under4,under0,HomeScoresUnder0,AwayScoresUnder0,HomeScoresUnder1,AwayScoresUnder1,HomeScoresUnder2,AwayScoresUnder2,HomeScoresUnder3,AwayScoresUnder3,_1x2DrawScoresUnder1,_1x2DrawScoresUnder2,_1x2DrawScoresUnder3,_0-0_Goals,_0-1_Goals,_0-2_Goals,_0-3_Goals,_0-4_Goals,_0-5_Goals,_0-6_Goals,1H_Draw,Away_Plus_0_5,Home_Plus_0_5,Away_Plus_0_75,Home_Plus_0_75,Away_Plus_1,Home_Plus_1,Away_Plus_1_25,Home_Plus_1_25,Away_Plus_1_5,Home_Plus_1_5,Away_Plus_1_75,Home_Plus_1_75,Away_Plus_2,Home_Plus_2,Away_Plus_2_25,Home_Plus_2_25,Away_Plus_2_5,Home_Plus_2_5,Away_Plus_2_75,Home_Plus_2_75,Away_Plus_3,Home_Plus_3,under2_0,under3_0,under1_75,under2_25,under2_75'}, '1512813': {'id': '1512813', 'teamA': '46', 'teamB': '67', 'result': '{{1,0,1,0,14.2,9.2,{204}},{0,1,0,0,8.3,nil,{66}},{0,0,1,0,10.0,nil,{185}},{1,1,1,0,13.5,8.5,{263}},{1,0,0,0,14.6,9.6,{103}},{0,0,0,0,6.3,nil,{254}}}', 'wonmarkets': 'Away,AwayAway,Draw_Away,Home_Away,_1_2,_3_Goals,over,goal,g1,ng2,ng3,g4,g5,ng6,gc3,over2,gg,QAway,under3,under4,over0,HomeScoresOver0,AwayScoresOver0,HomeScoresUnder1,AwayScoresOver1,HomeScoresUnder2,AwayScoresUnder2,HomeScoresUnder3,AwayScoresUnder3,_1x2AwayScoresOver1,_1x2AwayScoresOver2,_1x2AwayScoresUnder3,_0-3_Goals,_0-4_Goals,_0-5_Goals,_0-6_Goals,_1-3_Goals,_1-4_Goals,_1-5_Goals,_1-6_Goals,_2-3_Goals,_2-4_Goals,_2-5_Goals,_2-6_Goals,_3-3_Goals,_3-4_Goals,_3-5_Goals,_3-6_Goals,1H_Away,Away_0,Away_Plus_0_25,Away_Minus_0_25,Away_Plus_0_5,Away_Minus_0_5,Away_Plus_0_75,Away_Plus_1,Away_Plus_1_25,Away_Plus_1_5,Home_Plus_1_5,Away_Plus_1_75,Home_Plus_1_75,Away_Plus_2,Home_Plus_2,Away_Plus_2_25,Home_Plus_2_25,Away_Plus_2_5,Home_Plus_2_5,Away_Plus_2_75,Home_Plus_2_75,Away_Plus_3,Home_Plus_3,over2_0,over1_75,over2_25'}, '1512814': {'id': '1512814', 'teamA': '48', 'teamB': '512', 'result': '{{0,0,1,0,9.0,nil,{164}},{1,0,1,0,15.0,10.1,{143}},{1,1,0,0,13.6,8.6,{102}},{0,1,1,0,8.3,nil,{304}},{0,0,0,0,8.3,nil,{85}},{0,1,1,0,8.3,nil,{85}}}', 'wonmarkets': 'Draw,DrawDraw,Draw_Away,Home_Draw,_1_1,_2_Goals,over,goal,ng1,g2,g3,ng4,ng5,ng6,gc2,under2,gg,QDraw,under3,under4,over0,HomeScoresOver0,AwayScoresOver0,HomeScoresUnder1,AwayScoresUnder1,HomeScoresUnder2,AwayScoresUnder2,HomeScoresUnder3,AwayScoresUnder3,_1x2DrawScoresOver1,_1x2DrawScoresUnder2,_1x2DrawScoresUnder3,_0-2_Goals,_0-3_Goals,_0-4_Goals,_0-5_Goals,_0-6_Goals,_1-2_Goals,_1-3_Goals,_1-4_Goals,_1-5_Goals,_1-6_Goals,_2-2_Goals,_2-3_Goals,_2-4_Goals,_2-5_Goals,_2-6_Goals,1H_Draw,Away_Plus_0_5,Home_Plus_0_5,Away_Plus_0_75,Home_Plus_0_75,Away_Plus_1,Home_Plus_1,Away_Plus_1_25,Home_Plus_1_25,Away_Plus_1_5,Home_Plus_1_5,Away_Plus_1_75,Home_Plus_1_75,Away_Plus_2,Home_Plus_2,Away_Plus_2_25,Home_Plus_2_25,Away_Plus_2_5,Home_Plus_2_5,Away_Plus_2_75,Home_Plus_2_75,Away_Plus_3,Home_Plus_3,under3_0,under2_75'}, '1512815': {'id': '1512815', 'teamA': '827', 'teamB': '58', 'result': '{{0,1,0,0,10.0,nil,{296}},{1,0,1,0,15.0,11.1,{67}},{0,0,1,0,6.7,nil,{203}},{1,1,1,0,15.0,12.0,{1}},{0,1,1,0,9.0,nil,{58}},{0,1,1,0,8.3,nil,{304}}}', 'wonmarkets': 'Away,AwayAway,Draw_Away,Home_Away,_0_2,_2_Goals,over,goal,ng1,g2,ng3,g4,ng5,ng6,gc2,under2,nog,QAway,under3,under4,over0,HomeScoresUnder0,AwayScoresOver0,HomeScoresUnder1,AwayScoresOver1,HomeScoresUnder2,AwayScoresUnder2,HomeScoresUnder3,AwayScoresUnder3,_1x2AwayScoresOver1,_1x2AwayScoresUnder2,_1x2AwayScoresUnder3,_0-2_Goals,_0-3_Goals,_0-4_Goals,_0-5_Goals,_0-6_Goals,_1-2_Goals,_1-3_Goals,_1-4_Goals,_1-5_Goals,_1-6_Goals,_2-2_Goals,_2-3_Goals,_2-4_Goals,_2-5_Goals,_2-6_Goals,1H_Away,Away_0,Away_Plus_0_25,Away_Minus_0_25,Away_Plus_0_5,Away_Minus_0_5,Away_Plus_0_75,Away_Minus_0_75,Away_Plus_1,Away_Minus_1,Away_Plus_1_25,Away_Minus_1_25,Away_Plus_1_5,Away_Minus_1_5,Away_Plus_1_75,Away_Plus_2,Away_Plus_2_25,Away_Plus_2_5,Home_Plus_2_5,Away_Plus_2_75,Home_Plus_2_75,Away_Plus_3,Home_Plus_3,under3_0,under2_75'}, '1512816': {'id': '1512816', 'teamA': '53', 'teamB': '51', 'result': '{{0,0,1,0,8.3,nil,{98}},{1,0,1,0,15.0,11.0,{139}},{0,0,1,0,8.0,nil,{221}},{1,1,1,0,13.2,8.2,{192}},{0,0,0,0,9.0,nil,{161}},{1,1,1,0,15.0,12.0,{152,50}}}', 'wonmarkets': 'Away,AwayAway,Draw_Away,Home_Away,_0_3,_3_Goals,over,goal,ng1,g2,ng3,g4,ng5,g6,gc3,over2,nog,QAway,under3,under4,over0,HomeScoresUnder0,AwayScoresOver0,HomeScoresUnder1,AwayScoresOver1,HomeScoresUnder2,AwayScoresOver2,HomeScoresUnder3,AwayScoresUnder3,_1x2AwayScoresOver1,_1x2AwayScoresOver2,_1x2AwayScoresUnder3,_0-3_Goals,_0-4_Goals,_0-5_Goals,_0-6_Goals,_1-3_Goals,_1-4_Goals,_1-5_Goals,_1-6_Goals,_2-3_Goals,_2-4_Goals,_2-5_Goals,_2-6_Goals,_3-3_Goals,_3-4_Goals,_3-5_Goals,_3-6_Goals,1H_Away,Away_0,Away_Plus_0_25,Away_Minus_0_25,Away_Plus_0_5,Away_Minus_0_5,Away_Plus_0_75,Away_Minus_0_75,Away_Plus_1,Away_Minus_1,Away_Plus_1_25,Away_Minus_1_25,Away_Plus_1_5,Away_Minus_1_5,Away_Plus_1_75,Away_Minus_1_75,Away_Plus_2,Away_Minus_2,Away_Plus_2_25,Away_Minus_2_25,Away_Plus_2_5,Away_Minus_2_5,Away_Plus_2_75,Away_Plus_3,over2_0,over1_75,over2_25'}, '1512817': {'id': '1512817', 'teamA': '972', 'teamB': '50', 'result': '{{0,1,0,0,8.3,nil,{13,82}},{0,1,0,0,10.0,nil,{88}},{1,1,0,0,15.0,10.7,{35}},{0,0,0,0,8.3,nil,{305}},{0,0,0,0,9.2,nil,{136}},{0,1,1,0,7.3,nil,{147}}}', 'wonmarkets': 'Home,HomeHome,Home_Away,Home_Draw,_1_0,_1_Goals,under,goal,ng1,ng2,g3,ng4,ng5,ng6,gc1,under2,nog,QHome,under3,under4,over0,HomeScoresOver0,AwayScoresUnder0,HomeScoresUnder1,AwayScoresUnder1,HomeScoresUnder2,AwayScoresUnder2,HomeScoresUnder3,AwayScoresUnder3,_1x2HomeScoresUnder1,_1x2HomeScoresUnder2,_1x2HomeScoresUnder3,_0-1_Goals,_0-2_Goals,_0-3_Goals,_0-4_Goals,_0-5_Goals,_0-6_Goals,_1-1_Goals,_1-2_Goals,_1-3_Goals,_1-4_Goals,_1-5_Goals,_1-6_Goals,1H_Home,Home_0,Home_Minus_0_25,Home_Plus_0_25,Home_Minus_0_5,Home_Plus_0_5,Home_Plus_0_75,Home_Plus_1,Home_Plus_1_25,Away_Plus_1_5,Home_Plus_1_5,Away_Plus_1_75,Home_Plus_1_75,Away_Plus_2,Home_Plus_2,Away_Plus_2_25,Home_Plus_2_25,Away_Plus_2_5,Home_Plus_2_5,Away_Plus_2_75,Home_Plus_2_75,Away_Plus_3,Home_Plus_3,under2_0,under3_0,under1_75,under2_25,under2_75'}, '1512818': {'id': '1512818', 'teamA': '63', 'teamB': '49', 'result': '{{0,0,1,0,9.0,nil,{164}},{0,1,0,0,8.3,nil,{98}},{0,0,1,0,8.3,nil,{31}},{0,1,1,0,8.8,nil,{245}},{1,0,0,0,14.9,9.9,{152,5}},{1,0,0,0,14.4,9.4,{24}}}', 'wonmarkets': 'Home,DrawHome,Home_Away,Home_Draw,_2_0,_2_Goals,over,goal,ng1,ng2,ng3,ng4,g5,g6,gc2,under2,nog,QHome,under3,under4,over0,HomeScoresOver0,AwayScoresUnder0,HomeScoresOver1,AwayScoresUnder1,HomeScoresUnder2,AwayScoresUnder2,HomeScoresUnder3,AwayScoresUnder3,_1x2HomeScoresOver1,_1x2HomeScoresUnder2,_1x2HomeScoresUnder3,_0-2_Goals,_0-3_Goals,_0-4_Goals,_0-5_Goals,_0-6_Goals,_1-2_Goals,_1-3_Goals,_1-4_Goals,_1-5_Goals,_1-6_Goals,_2-2_Goals,_2-3_Goals,_2-4_Goals,_2-5_Goals,_2-6_Goals,1H_Draw,Home_0,Home_Minus_0_25,Home_Plus_0_25,Home_Minus_0_5,Home_Plus_0_5,Home_Minus_0_75,Home_Plus_0_75,Home_Minus_1,Home_Plus_1,Home_Minus_1_25,Home_Plus_1_25,Home_Minus_1_5,Home_Plus_1_5,Home_Plus_1_75,Home_Plus_2,Home_Plus_2_25,Away_Plus_2_5,Home_Plus_2_5,Away_Plus_2_75,Home_Plus_2_75,Away_Plus_3,Home_Plus_3,under3_0,under2_75'}, '1512819': {'id': '1512819', 'teamA': '45', 'teamB': '55', 'result': '{{0,0,1,0,10.0,nil,{104}},{1,1,0,0,15.0,10.8,{15}},{0,1,0,0,11.0,nil,{232}},{0,0,0,0,7.7,nil,{212}},{1,0,0,0,15.0,10.6,{174}},{1,0,0,0,15.0,10.4,{91}}}', 'wonmarkets': 'Home,HomeHome,Home_Away,Home_Draw,_3_0,_3_Goals,over,goal,ng1,g2,ng3,ng4,g5,g6,gc3,over2,nog,QHome,under3,under4,over0,HomeScoresOver0,AwayScoresUnder0,HomeScoresOver1,AwayScoresUnder1,HomeScoresOver2,AwayScoresUnder2,HomeScoresUnder3,AwayScoresUnder3,_1x2HomeScoresOver1,_1x2HomeScoresOver2,_1x2HomeScoresUnder3,_0-3_Goals,_0-4_Goals,_0-5_Goals,_0-6_Goals,_1-3_Goals,_1-4_Goals,_1-5_Goals,_1-6_Goals,_2-3_Goals,_2-4_Goals,_2-5_Goals,_2-6_Goals,_3-3_Goals,_3-4_Goals,_3-5_Goals,_3-6_Goals,1H_Home,Home_0,Home_Minus_0_25,Home_Plus_0_25,Home_Minus_0_5,Home_Plus_0_5,Home_Minus_0_75,Home_Plus_0_75,Home_Minus_1,Home_Plus_1,Home_Minus_1_25,Home_Plus_1_25,Home_Minus_1_5,Home_Plus_1_5,Home_Minus_1_75,Home_Plus_1_75,Home_Minus_2,Home_Plus_2,Home_Minus_2_25,Home_Plus_2_25,Home_Minus_2_5,Home_Plus_2_5,Home_Plus_2_75,Home_Plus_3,over2_0,over1_75,over2_25'}, '1512820': {'id': '1512820', 'teamA': '47', 'teamB': '71', 'result': '{{1,0,1,0,14.3,9.3,{178}},{1,0,1,0,15.0,11.6,{95}},{0,1,0,0,10.0,nil,{230}},{1,1,1,0,14.9,9.9,{152,5}},{0,1,1,0,8.8,nil,{244}},{0,1,1,0,10.0,nil,{183}}}', 'wonmarkets': 'Away,AwayAway,Draw_Away,Home_Away,_0_3,_3_Goals,over,goal,g1,g2,ng3,g4,ng5,ng6,gc3,over2,nog,QAway,under3,under4,over0,HomeScoresUnder0,AwayScoresOver0,HomeScoresUnder1,AwayScoresOver1,HomeScoresUnder2,AwayScoresOver2,HomeScoresUnder3,AwayScoresUnder3,_1x2AwayScoresOver1,_1x2AwayScoresOver2,_1x2AwayScoresUnder3,_0-3_Goals,_0-4_Goals,_0-5_Goals,_0-6_Goals,_1-3_Goals,_1-4_Goals,_1-5_Goals,_1-6_Goals,_2-3_Goals,_2-4_Goals,_2-5_Goals,_2-6_Goals,_3-3_Goals,_3-4_Goals,_3-5_Goals,_3-6_Goals,1H_Away,Away_0,Away_Plus_0_25,Away_Minus_0_25,Away_Plus_0_5,Away_Minus_0_5,Away_Plus_0_75,Away_Minus_0_75,Away_Plus_1,Away_Minus_1,Away_Plus_1_25,Away_Minus_1_25,Away_Plus_1_5,Away_Minus_1_5,Away_Plus_1_75,Away_Minus_1_75,Away_Plus_2,Away_Minus_2,Away_Plus_2_25,Away_Minus_2_25,Away_Plus_2_5,Away_Minus_2_5,Away_Plus_2_75,Away_Plus_3,over2_0,over1_75,over2_25'}}, '5': {'1512821': {'id': '1512821', 'teamA': '1053', 'teamB': '53', 'result': '{{1,1,0,0,14.0,9.0,{290}},{1,0,1,0,15.0,12.0,{152,50}},{1,1,0,0,15.0,10.0,{101}},{1,0,0,0,15.0,10.7,{35}},{1,1,1,0,14.8,9.8,{227}},{0,0,0,0,8.3,nil,{176}}}', 'wonmarkets': 'Home,HomeHome,Home_Away,Home_Draw,_3_2,_5_Goals,over,goal,g1,g2,g3,g4,g5,ng6,gc5,over2,gg,QHome,over3,over4,over0,HomeScoresOver0,AwayScoresOver0,HomeScoresOver1,AwayScoresOver1,HomeScoresOver2,AwayScoresUnder2,HomeScoresUnder3,AwayScoresUnder3,_1x2HomeScoresOver1,_1x2HomeScoresOver2,_1x2HomeScoresOver3,_0-5_Goals,_0-6_Goals,_1-5_Goals,_1-6_Goals,_2-5_Goals,_2-6_Goals,_3-5_Goals,_3-6_Goals,_4-5_Goals,_4-6_Goals,_5-5_Goals,_5-6_Goals,1H_Home,Home_0,Home_Minus_0_25,Home_Plus_0_25,Home_Minus_0_5,Home_Plus_0_5,Home_Plus_0_75,Home_Plus_1,Home_Plus_1_25,Away_Plus_1_5,Home_Plus_1_5,Away_Plus_1_75,Home_Plus_1_75,Away_Plus_2,Home_Plus_2,Away_Plus_2_25,Home_Plus_2_25,Away_Plus_2_5,Home_Plus_2_5,Away_Plus_2_75,Home_Plus_2_75,Away_Plus_3,Home_Plus_3,over2_0,over3_0,over1_75,over2_25,over2_75'}, '1512822': {'id': '1512822', 'teamA': '50', 'teamB': '525', 'result': '{{1,0,1,0,15.0,10.0,{109}},{1,0,1,0,15.0,10.4,{196}},{1,0,1,0,15.0,10.9,{63}},{1,1,1,0,14.2,9.2,{204}},{1,0,0,0,15.0,11.0,{139}},{0,0,0,0,7.2,nil,{193}}}', 'wonmarkets': 'Away,AwayAway,Draw_Away,Home_Away,_1_4,_5_Goals,over,goal,g1,g2,g3,g4,g5,ng6,gc5,over2,gg,QAway,over3,over4,over0,HomeScoresOver0,AwayScoresOver0,HomeScoresUnder1,AwayScoresOver1,HomeScoresUnder2,AwayScoresOver2,HomeScoresUnder3,AwayScoresOver3,_1x2AwayScoresOver1,_1x2AwayScoresOver2,_1x2AwayScoresOver3,_0-5_Goals,_0-6_Goals,_1-5_Goals,_1-6_Goals,_2-5_Goals,_2-6_Goals,_3-5_Goals,_3-6_Goals,_4-5_Goals,_4-6_Goals,_5-5_Goals,_5-6_Goals,1H_Away,Away_0,Away_Plus_0_25,Away_Minus_0_25,Away_Plus_0_5,Away_Minus_0_5,Away_Plus_0_75,Away_Minus_0_75,Away_Plus_1,Away_Minus_1,Away_Plus_1_25,Away_Minus_1_25,Away_Plus_1_5,Away_Minus_1_5,Away_Plus_1_75,Away_Minus_1_75,Away_Plus_2,Away_Minus_2,Away_Plus_2_25,Away_Minus_2_25,Away_Plus_2_5,Away_Minus_2_5,Away_Plus_2_75,Away_Plus_3,over2_0,over3_0,over1_75,over2_25,over2_75'}, '1512823': {'id': '1512823', 'teamA': '52', 'teamB': '47', 'result': '{{1,1,0,0,15.0,11.0,{139}},{1,0,1,0,15.0,10.0,{302}},{0,1,0,0,9.2,nil,{152,61}},{0,1,1,0,10.0,nil,{297}},{0,0,0,0,7.0,nil,{127}},{1,1,1,0,14.0,9.0,{46}}}', 'wonmarkets': 'Away,DrawAway,Draw_Away,Home_Away,_1_2,_3_Goals,over,goal,g1,g2,ng3,ng4,ng5,g6,gc3,over2,gg,QAway,under3,under4,over0,HomeScoresOver0,AwayScoresOver0,HomeScoresUnder1,AwayScoresOver1,HomeScoresUnder2,AwayScoresUnder2,HomeScoresUnder3,AwayScoresUnder3,_1x2AwayScoresOver1,_1x2AwayScoresOver2,_1x2AwayScoresUnder3,_0-3_Goals,_0-4_Goals,_0-5_Goals,_0-6_Goals,_1-3_Goals,_1-4_Goals,_1-5_Goals,_1-6_Goals,_2-3_Goals,_2-4_Goals,_2-5_Goals,_2-6_Goals,_3-3_Goals,_3-4_Goals,_3-5_Goals,_3-6_Goals,1H_Draw,Away_0,Away_Plus_0_25,Away_Minus_0_25,Away_Plus_0_5,Away_Minus_0_5,Away_Plus_0_75,Away_Plus_1,Away_Plus_1_25,Away_Plus_1_5,Home_Plus_1_5,Away_Plus_1_75,Home_Plus_1_75,Away_Plus_2,Home_Plus_2,Away_Plus_2_25,Home_Plus_2_25,Away_Plus_2_5,Home_Plus_2_5,Away_Plus_2_75,Home_Plus_2_75,Away_Plus_3,Home_Plus_3,over2_0,over1_75,over2_25'}, '1512824': {'id': '1512824', 'teamA': '58', 'teamB': '972', 'result': '{{1,0,1,0,13.8,8.8,{274}},{0,0,1,0,8.3,nil,{155,40}},{0,1,0,0,8.3,nil,{320}},{0,0,0,0,9.2,nil,{136}},{0,1,1,0,9.6,nil,{312}},{0,1,1,0,10.0,nil,{171}}}', 'wonmarkets': 'Away,AwayAway,Draw_Away,Home_Away,_0_1,_1_Goals,under,goal,g1,ng2,ng3,ng4,ng5,ng6,gc1,under2,nog,QAway,under3,under4,over0,HomeScoresUnder0,AwayScoresOver0,HomeScoresUnder1,AwayScoresUnder1,HomeScoresUnder2,AwayScoresUnder2,HomeScoresUnder3,AwayScoresUnder3,_1x2AwayScoresUnder1,_1x2AwayScoresUnder2,_1x2AwayScoresUnder3,_0-1_Goals,_0-2_Goals,_0-3_Goals,_0-4_Goals,_0-5_Goals,_0-6_Goals,_1-1_Goals,_1-2_Goals,_1-3_Goals,_1-4_Goals,_1-5_Goals,_1-6_Goals,1H_Away,Away_0,Away_Plus_0_25,Away_Minus_0_25,Away_Plus_0_5,Away_Minus_0_5,Away_Plus_0_75,Away_Plus_1,Away_Plus_1_25,Away_Plus_1_5,Home_Plus_1_5,Away_Plus_1_75,Home_Plus_1_75,Away_Plus_2,Home_Plus_2,Away_Plus_2_25,Home_Plus_2_25,Away_Plus_2_5,Home_Plus_2_5,Away_Plus_2_75,Home_Plus_2_75,Away_Plus_3,Home_Plus_3,under2_0,under3_0,under1_75,under2_25,under2_75'}, '1512825': {'id': '1512825', 'teamA': '49', 'teamB': '48', 'result': '{{0,1,0,0,10.0,nil,{163}},{0,1,0,0,10.0,nil,{100}},{0,1,0,0,10.0,nil,{186}},{1,1,1,0,15.0,10.9,{63}},{1,1,1,0,14.1,9.1,{9}},{0,0,0,0,8.3,nil,{78}}}', 'wonmarkets': 'Away,DrawAway,Draw_Away,Home_Away,_0_2,_2_Goals,over,goal,ng1,ng2,ng3,g4,g5,ng6,gc2,under2,nog,QAway,under3,under4,over0,HomeScoresUnder0,AwayScoresOver0,HomeScoresUnder1,AwayScoresOver1,HomeScoresUnder2,AwayScoresUnder2,HomeScoresUnder3,AwayScoresUnder3,_1x2AwayScoresOver1,_1x2AwayScoresUnder2,_1x2AwayScoresUnder3,_0-2_Goals,_0-3_Goals,_0-4_Goals,_0-5_Goals,_0-6_Goals,_1-2_Goals,_1-3_Goals,_1-4_Goals,_1-5_Goals,_1-6_Goals,_2-2_Goals,_2-3_Goals,_2-4_Goals,_2-5_Goals,_2-6_Goals,1H_Draw,Away_0,Away_Plus_0_25,Away_Minus_0_25,Away_Plus_0_5,Away_Minus_0_5,Away_Plus_0_75,Away_Minus_0_75,Away_Plus_1,Away_Minus_1,Away_Plus_1_25,Away_Minus_1_25,Away_Plus_1_5,Away_Minus_1_5,Away_Plus_1_75,Away_Plus_2,Away_Plus_2_25,Away_Plus_2_5,Home_Plus_2_5,Away_Plus_2_75,Home_Plus_2_75,Away_Plus_3,Home_Plus_3,under3_0,under2_75'}, '1512826': {'id': '1512826', 'teamA': '71', 'teamB': '63', 'result': '{{0,1,0,0,9.2,nil,{138}},{0,0,1,0,7.3,nil,{210}},{0,1,0,0,8.8,nil,{264}},{0,0,0,0,9.2,nil,{152,76}},{0,1,1,0,8.3,nil,{44}},{1,1,1,0,14.9,9.9,{19}}}', 'wonmarkets': 'Away,DrawAway,Draw_Away,Home_Away,_0_1,_1_Goals,under,goal,ng1,ng2,ng3,ng4,ng5,g6,gc1,under2,nog,QAway,under3,under4,over0,HomeScoresUnder0,AwayScoresOver0,HomeScoresUnder1,AwayScoresUnder1,HomeScoresUnder2,AwayScoresUnder2,HomeScoresUnder3,AwayScoresUnder3,_1x2AwayScoresUnder1,_1x2AwayScoresUnder2,_1x2AwayScoresUnder3,_0-1_Goals,_0-2_Goals,_0-3_Goals,_0-4_Goals,_0-5_Goals,_0-6_Goals,_1-1_Goals,_1-2_Goals,_1-3_Goals,_1-4_Goals,_1-5_Goals,_1-6_Goals,1H_Draw,Away_0,Away_Plus_0_25,Away_Minus_0_25,Away_Plus_0_5,Away_Minus_0_5,Away_Plus_0_75,Away_Plus_1,Away_Plus_1_25,Away_Plus_1_5,Home_Plus_1_5,Away_Plus_1_75,Home_Plus_1_75,Away_Plus_2,Home_Plus_2,Away_Plus_2_25,Home_Plus_2_25,Away_Plus_2_5,Home_Plus_2_5,Away_Plus_2_75,Home_Plus_2_75,Away_Plus_3,Home_Plus_3,under2_0,under3_0,under1_75,under2_25,under2_75'}, '1512827': {'id': '1512827', 'teamA': '67', 'teamB': '45', 'result': '{{0,1,0,0,9.2,nil,{277}},{0,1,0,0,10.0,nil,{113}},{1,0,1,0,14.0,9.0,{243}},{0,0,0,0,8.4,nil,{315}},{0,0,0,0,10.0,nil,{114}},{0,0,0,0,8.3,nil,{157}}}', 'wonmarkets': 'Away,AwayAway,Draw_Away,Home_Away,_0_1,_1_Goals,under,goal,ng1,ng2,g3,ng4,ng5,ng6,gc1,under2,nog,QAway,under3,under4,over0,HomeScoresUnder0,AwayScoresOver0,HomeScoresUnder1,AwayScoresUnder1,HomeScoresUnder2,AwayScoresUnder2,HomeScoresUnder3,AwayScoresUnder3,_1x2AwayScoresUnder1,_1x2AwayScoresUnder2,_1x2AwayScoresUnder3,_0-1_Goals,_0-2_Goals,_0-3_Goals,_0-4_Goals,_0-5_Goals,_0-6_Goals,_1-1_Goals,_1-2_Goals,_1-3_Goals,_1-4_Goals,_1-5_Goals,_1-6_Goals,1H_Away,Away_0,Away_Plus_0_25,Away_Minus_0_25,Away_Plus_0_5,Away_Minus_0_5,Away_Plus_0_75,Away_Plus_1,Away_Plus_1_25,Away_Plus_1_5,Home_Plus_1_5,Away_Plus_1_75,Home_Plus_1_75,Away_Plus_2,Home_Plus_2,Away_Plus_2_25,Home_Plus_2_25,Away_Plus_2_5,Home_Plus_2_5,Away_Plus_2_75,Home_Plus_2_75,Away_Plus_3,Home_Plus_3,under2_0,under3_0,under1_75,under2_25,under2_75'}, '1512828': {'id': '1512828', 'teamA': '512', 'teamB': '46', 'result': '{{0,0,1,0,6.7,nil,{202}},{0,0,1,0,10.0,nil,{2}},{1,0,1,0,15.0,10.4,{196}},{1,1,1,0,13.5,8.5,{263}},{1,1,1,0,12.7,7.7,{11}},{0,1,1,0,10.0,nil,{295}}}', 'wonmarkets': 'Away,AwayAway,Draw_Away,Home_Away,_0_3,_3_Goals,over,goal,ng1,ng2,g3,g4,g5,ng6,gc3,over2,nog,QAway,under3,under4,over0,HomeScoresUnder0,AwayScoresOver0,HomeScoresUnder1,AwayScoresOver1,HomeScoresUnder2,AwayScoresOver2,HomeScoresUnder3,AwayScoresUnder3,_1x2AwayScoresOver1,_1x2AwayScoresOver2,_1x2AwayScoresUnder3,_0-3_Goals,_0-4_Goals,_0-5_Goals,_0-6_Goals,_1-3_Goals,_1-4_Goals,_1-5_Goals,_1-6_Goals,_2-3_Goals,_2-4_Goals,_2-5_Goals,_2-6_Goals,_3-3_Goals,_3-4_Goals,_3-5_Goals,_3-6_Goals,1H_Away,Away_0,Away_Plus_0_25,Away_Minus_0_25,Away_Plus_0_5,Away_Minus_0_5,Away_Plus_0_75,Away_Minus_0_75,Away_Plus_1,Away_Minus_1,Away_Plus_1_25,Away_Minus_1_25,Away_Plus_1_5,Away_Minus_1_5,Away_Plus_1_75,Away_Minus_1_75,Away_Plus_2,Away_Minus_2,Away_Plus_2_25,Away_Minus_2_25,Away_Plus_2_5,Away_Minus_2_5,Away_Plus_2_75,Away_Plus_3,over2_0,over1_75,over2_25'}, '1512829': {'id': '1512829', 'teamA': '51', 'teamB': '827', 'result': '{{0,0,1,0,8.3,nil,{291}},{1,0,1,0,15.0,10.1,{143}},{0,0,1,0,8.8,nil,{301}},{0,0,0,0,8.8,nil,{309}},{0,0,0,0,8.8,nil,{241}},{1,0,0,0,15.0,10.0,{155,39}}}', 'wonmarkets': 'Draw,AwayDraw,Draw_Away,Home_Draw,_1_1,_2_Goals,over,goal,ng1,g2,ng3,ng4,ng5,g6,gc2,under2,gg,QDraw,under3,under4,over0,HomeScoresOver0,AwayScoresOver0,HomeScoresUnder1,AwayScoresUnder1,HomeScoresUnder2,AwayScoresUnder2,HomeScoresUnder3,AwayScoresUnder3,_1x2DrawScoresOver1,_1x2DrawScoresUnder2,_1x2DrawScoresUnder3,_0-2_Goals,_0-3_Goals,_0-4_Goals,_0-5_Goals,_0-6_Goals,_1-2_Goals,_1-3_Goals,_1-4_Goals,_1-5_Goals,_1-6_Goals,_2-2_Goals,_2-3_Goals,_2-4_Goals,_2-5_Goals,_2-6_Goals,1H_Away,Away_Plus_0_5,Home_Plus_0_5,Away_Plus_0_75,Home_Plus_0_75,Away_Plus_1,Home_Plus_1,Away_Plus_1_25,Home_Plus_1_25,Away_Plus_1_5,Home_Plus_1_5,Away_Plus_1_75,Home_Plus_1_75,Away_Plus_2,Home_Plus_2,Away_Plus_2_25,Home_Plus_2_25,Away_Plus_2_5,Home_Plus_2_5,Away_Plus_2_75,Home_Plus_2_75,Away_Plus_3,Home_Plus_3,under3_0,under2_75'}, '1512830': {'id': '1512830', 'teamA': '55', 'teamB': '60', 'result': '{{1,1,0,0,13.9,8.9,{13,18}},{0,0,1,0,8.8,nil,{265}},{1,1,0,0,13.8,8.8,{7}},{1,0,0,0,13.0,8.0,{42}},{0,1,1,0,8.3,nil,{167}},{1,1,1,0,13.6,8.6,{314}}}', 'wonmarkets': 'Home,HomeHome,Home_Away,Home_Draw,_3_1,_4_Goals,over,goal,g1,ng2,g3,g4,ng5,g6,gc4,over2,gg,QHome,over3,under4,over0,HomeScoresOver0,AwayScoresOver0,HomeScoresOver1,AwayScoresUnder1,HomeScoresOver2,AwayScoresUnder2,HomeScoresUnder3,AwayScoresUnder3,_1x2HomeScoresOver1,_1x2HomeScoresOver2,_1x2HomeScoresOver3,_0-4_Goals,_0-5_Goals,_0-6_Goals,_1-4_Goals,_1-5_Goals,_1-6_Goals,_2-4_Goals,_2-5_Goals,_2-6_Goals,_3-4_Goals,_3-5_Goals,_3-6_Goals,_4-4_Goals,_4-5_Goals,_4-6_Goals,1H_Home,Home_0,Home_Minus_0_25,Home_Plus_0_25,Home_Minus_0_5,Home_Plus_0_5,Home_Minus_0_75,Home_Plus_0_75,Home_Minus_1,Home_Plus_1,Home_Minus_1_25,Home_Plus_1_25,Home_Minus_1_5,Home_Plus_1_5,Home_Plus_1_75,Home_Plus_2,Home_Plus_2_25,Away_Plus_2_5,Home_Plus_2_5,Away_Plus_2_75,Home_Plus_2_75,Away_Plus_3,Home_Plus_3,over2_0,over3_0,over1_75,over2_25,over2_75'}}, '6': {'1512831': {'id': '1512831', 'teamA': '45', 'teamB': '512', 'result': '{{0,1,0,0,8.3,nil,{293}},{0,0,1,0,10.0,nil,{112}},{0,0,1,0,8.3,nil,{125}},{0,1,1,0,6.3,nil,{324}},{0,0,0,0,8.3,nil,{98}},{0,0,0,0,8.8,nil,{300}}}', 'wonmarkets': 'Draw,DrawDraw,Draw_Away,Home_Draw,_0_0,_0_Goals,under,nogoal,ng1,ng2,ng3,ng4,ng5,ng6,under2,nog,QDraw,under3,under4,under0,HomeScoresUnder0,AwayScoresUnder0,HomeScoresUnder1,AwayScoresUnder1,HomeScoresUnder2,AwayScoresUnder2,HomeScoresUnder3,AwayScoresUnder3,_1x2DrawScoresUnder1,_1x2DrawScoresUnder2,_1x2DrawScoresUnder3,_0-0_Goals,_0-1_Goals,_0-2_Goals,_0-3_Goals,_0-4_Goals,_0-5_Goals,_0-6_Goals,1H_Draw,Away_Plus_0_5,Home_Plus_0_5,Away_Plus_0_75,Home_Plus_0_75,Away_Plus_1,Home_Plus_1,Away_Plus_1_25,Home_Plus_1_25,Away_Plus_1_5,Home_Plus_1_5,Away_Plus_1_75,Home_Plus_1_75,Away_Plus_2,Home_Plus_2,Away_Plus_2_25,Home_Plus_2_25,Away_Plus_2_5,Home_Plus_2_5,Away_Plus_2_75,Home_Plus_2_75,Away_Plus_3,Home_Plus_3,under2_0,under3_0,under1_75,under2_25,under2_75'}, '1512832': {'id': '1512832', 'teamA': '827', 'teamB': '1053', 'result': '{{0,0,1,0,8.3,nil,{132}},{0,1,0,0,8.3,nil,{159}},{0,0,1,0,7.3,nil,{210}},{0,0,0,0,10.0,nil,{36}},{1,0,0,0,12.9,7.9,{13,32}},{0,0,0,0,10.0,nil,{295}}}', 'wonmarkets': 'Home,DrawHome,Home_Away,Home_Draw,_1_0,_1_Goals,under,goal,ng1,ng2,ng3,ng4,g5,ng6,gc1,under2,nog,QHome,under3,under4,over0,HomeScoresOver0,AwayScoresUnder0,HomeScoresUnder1,AwayScoresUnder1,HomeScoresUnder2,AwayScoresUnder2,HomeScoresUnder3,AwayScoresUnder3,_1x2HomeScoresUnder1,_1x2HomeScoresUnder2,_1x2HomeScoresUnder3,_0-1_Goals,_0-2_Goals,_0-3_Goals,_0-4_Goals,_0-5_Goals,_0-6_Goals,_1-1_Goals,_1-2_Goals,_1-3_Goals,_1-4_Goals,_1-5_Goals,_1-6_Goals,1H_Draw,Home_0,Home_Minus_0_25,Home_Plus_0_25,Home_Minus_0_5,Home_Plus_0_5,Home_Plus_0_75,Home_Plus_1,Home_Plus_1_25,Away_Plus_1_5,Home_Plus_1_5,Away_Plus_1_75,Home_Plus_1_75,Away_Plus_2,Home_Plus_2,Away_Plus_2_25,Home_Plus_2_25,Away_Plus_2_5,Home_Plus_2_5,Away_Plus_2_75,Home_Plus_2_75,Away_Plus_3,Home_Plus_3,under2_0,under3_0,under1_75,under2_25,under2_75'}, '1512833': {'id': '1512833', 'teamA': '525', 'teamB': '58', 'result': '{{0,1,0,0,8.0,nil,{189}},{1,0,1,0,15.0,10.4,{91}},{0,0,1,0,9.2,nil,{311}},{1,1,1,0,14.2,9.2,{219}},{0,1,1,0,7.7,nil,{212}},{0,0,0,0,9.2,nil,{277}}}', 'wonmarkets': 'Away,AwayAway,Draw_Away,Home_Away,_0_2,_2_Goals,over,goal,ng1,g2,ng3,g4,ng5,ng6,gc2,under2,nog,QAway,under3,under4,over0,HomeScoresUnder0,AwayScoresOver0,HomeScoresUnder1,AwayScoresOver1,HomeScoresUnder2,AwayScoresUnder2,HomeScoresUnder3,AwayScoresUnder3,_1x2AwayScoresOver1,_1x2AwayScoresUnder2,_1x2AwayScoresUnder3,_0-2_Goals,_0-3_Goals,_0-4_Goals,_0-5_Goals,_0-6_Goals,_1-2_Goals,_1-3_Goals,_1-4_Goals,_1-5_Goals,_1-6_Goals,_2-2_Goals,_2-3_Goals,_2-4_Goals,_2-5_Goals,_2-6_Goals,1H_Away,Away_0,Away_Plus_0_25,Away_Minus_0_25,Away_Plus_0_5,Away_Minus_0_5,Away_Plus_0_75,Away_Minus_0_75,Away_Plus_1,Away_Minus_1,Away_Plus_1_25,Away_Minus_1_25,Away_Plus_1_5,Away_Minus_1_5,Away_Plus_1_75,Away_Plus_2,Away_Plus_2_25,Away_Plus_2_5,Home_Plus_2_5,Away_Plus_2_75,Home_Plus_2_75,Away_Plus_3,Home_Plus_3,under3_0,under2_75'}, '1512834': {'id': '1512834', 'teamA': '55', 'teamB': '67', 'result': '{{0,0,1,0,8.3,nil,{155,41}},{1,1,0,0,12.9,7.9,{13,32}},{0,0,1,0,13.3,nil,{152,51}},{0,1,1,0,7.3,nil,{149}},{0,0,0,0,8.3,nil,{131}},{0,1,1,0,9.2,nil,{152,61}}}', 'wonmarkets': 'Home,HomeHome,Home_Away,Home_Draw,_1_0,_1_Goals,under,goal,ng1,g2,ng3,ng4,ng5,ng6,gc1,under2,nog,QHome,under3,under4,over0,HomeScoresOver0,AwayScoresUnder0,HomeScoresUnder1,AwayScoresUnder1,HomeScoresUnder2,AwayScoresUnder2,HomeScoresUnder3,AwayScoresUnder3,_1x2HomeScoresUnder1,_1x2HomeScoresUnder2,_1x2HomeScoresUnder3,_0-1_Goals,_0-2_Goals,_0-3_Goals,_0-4_Goals,_0-5_Goals,_0-6_Goals,_1-1_Goals,_1-2_Goals,_1-3_Goals,_1-4_Goals,_1-5_Goals,_1-6_Goals,1H_Home,Home_0,Home_Minus_0_25,Home_Plus_0_25,Home_Minus_0_5,Home_Plus_0_5,Home_Plus_0_75,Home_Plus_1,Home_Plus_1_25,Away_Plus_1_5,Home_Plus_1_5,Away_Plus_1_75,Home_Plus_1_75,Away_Plus_2,Home_Plus_2,Away_Plus_2_25,Home_Plus_2_25,Away_Plus_2_5,Home_Plus_2_5,Away_Plus_2_75,Home_Plus_2_75,Away_Plus_3,Home_Plus_3,under2_0,under3_0,under1_75,under2_25,under2_75'}, '1512835': {'id': '1512835', 'teamA': '46', 'teamB': '49', 'result': '{{0,0,1,0,10.0,nil,{27}},{0,0,1,0,8.3,nil,{115}},{1,1,0,0,12.7,7.7,{251}},{1,1,1,0,15.0,11.6,{95}},{0,1,1,0,8.3,nil,{85}},{1,0,0,0,15.0,10.6,{174}}}', 'wonmarkets': 'Home,HomeHome,Home_Away,Home_Draw,_2_1,_3_Goals,over,goal,ng1,ng2,g3,g4,ng5,g6,gc3,over2,gg,QHome,under3,under4,over0,HomeScoresOver0,AwayScoresOver0,HomeScoresOver1,AwayScoresUnder1,HomeScoresUnder2,AwayScoresUnder2,HomeScoresUnder3,AwayScoresUnder3,_1x2HomeScoresOver1,_1x2HomeScoresOver2,_1x2HomeScoresUnder3,_0-3_Goals,_0-4_Goals,_0-5_Goals,_0-6_Goals,_1-3_Goals,_1-4_Goals,_1-5_Goals,_1-6_Goals,_2-3_Goals,_2-4_Goals,_2-5_Goals,_2-6_Goals,_3-3_Goals,_3-4_Goals,_3-5_Goals,_3-6_Goals,1H_Home,Home_0,Home_Minus_0_25,Home_Plus_0_25,Home_Minus_0_5,Home_Plus_0_5,Home_Plus_0_75,Home_Plus_1,Home_Plus_1_25,Away_Plus_1_5,Home_Plus_1_5,Away_Plus_1_75,Home_Plus_1_75,Away_Plus_2,Home_Plus_2,Away_Plus_2_25,Home_Plus_2_25,Away_Plus_2_5,Home_Plus_2_5,Away_Plus_2_75,Home_Plus_2_75,Away_Plus_3,Home_Plus_3,over2_0,over1_75,over2_25'}, '1512836': {'id': '1512836', 'teamA': '972', 'teamB': '51', 'result': '{{1,0,1,0,13.5,8.5,{263}},{0,1,0,0,8.3,nil,{79}},{0,0,1,0,10.0,nil,{8}},{1,1,1,0,13.8,8.8,{7}},{1,0,0,0,15.0,10.4,{196}},{0,1,1,0,8.3,nil,{167}}}', 'wonmarkets': 'Away,AwayAway,Draw_Away,Home_Away,_1_2,_3_Goals,over,goal,g1,ng2,ng3,g4,g5,ng6,gc3,over2,gg,QAway,under3,under4,over0,HomeScoresOver0,AwayScoresOver0,HomeScoresUnder1,AwayScoresOver1,HomeScoresUnder2,AwayScoresUnder2,HomeScoresUnder3,AwayScoresUnder3,_1x2AwayScoresOver1,_1x2AwayScoresOver2,_1x2AwayScoresUnder3,_0-3_Goals,_0-4_Goals,_0-5_Goals,_0-6_Goals,_1-3_Goals,_1-4_Goals,_1-5_Goals,_1-6_Goals,_2-3_Goals,_2-4_Goals,_2-5_Goals,_2-6_Goals,_3-3_Goals,_3-4_Goals,_3-5_Goals,_3-6_Goals,1H_Away,Away_0,Away_Plus_0_25,Away_Minus_0_25,Away_Plus_0_5,Away_Minus_0_5,Away_Plus_0_75,Away_Plus_1,Away_Plus_1_25,Away_Plus_1_5,Home_Plus_1_5,Away_Plus_1_75,Home_Plus_1_75,Away_Plus_2,Home_Plus_2,Away_Plus_2_25,Home_Plus_2_25,Away_Plus_2_5,Home_Plus_2_5,Away_Plus_2_75,Home_Plus_2_75,Away_Plus_3,Home_Plus_3,over2_0,over1_75,over2_25'}, '1512837': {'id': '1512837', 'teamA': '60', 'teamB': '53', 'result': '{{0,0,1,0,10.0,nil,{112}},{0,0,1,0,10.0,nil,{205}},{0,0,1,0,10.0,nil,{88}},{0,0,0,0,10.0,nil,{296}},{0,0,0,0,10.0,nil,{112}},{0,1,1,0,10.0,nil,{75}}}', 'wonmarkets': 'Draw,DrawDraw,Draw_Away,Home_Draw,_0_0,_0_Goals,under,nogoal,ng1,ng2,ng3,ng4,ng5,ng6,under2,nog,QDraw,under3,under4,under0,HomeScoresUnder0,AwayScoresUnder0,HomeScoresUnder1,AwayScoresUnder1,HomeScoresUnder2,AwayScoresUnder2,HomeScoresUnder3,AwayScoresUnder3,_1x2DrawScoresUnder1,_1x2DrawScoresUnder2,_1x2DrawScoresUnder3,_0-0_Goals,_0-1_Goals,_0-2_Goals,_0-3_Goals,_0-4_Goals,_0-5_Goals,_0-6_Goals,1H_Draw,Away_Plus_0_5,Home_Plus_0_5,Away_Plus_0_75,Home_Plus_0_75,Away_Plus_1,Home_Plus_1,Away_Plus_1_25,Home_Plus_1_25,Away_Plus_1_5,Home_Plus_1_5,Away_Plus_1_75,Home_Plus_1_75,Away_Plus_2,Home_Plus_2,Away_Plus_2_25,Home_Plus_2_25,Away_Plus_2_5,Home_Plus_2_5,Away_Plus_2_75,Home_Plus_2_75,Away_Plus_3,Home_Plus_3,under2_0,under3_0,under1_75,under2_25,under2_75'}, '1512838': {'id': '1512838', 'teamA': '47', 'teamB': '50', 'result': '{{1,0,1,0,15.0,10.7,{20}},{0,1,0,0,8.8,nil,{266}},{1,1,0,0,13.8,8.8,{274}},{0,1,1,0,8.3,nil,{64}},{0,0,0,0,6.3,nil,{252}},{1,0,0,0,13.8,8.8,{274}}}', 'wonmarkets': 'Home,DrawHome,Home_Away,Home_Draw,_2_1,_3_Goals,over,goal,g1,ng2,g3,ng4,ng5,g6,gc3,over2,gg,QHome,under3,under4,over0,HomeScoresOver0,AwayScoresOver0,HomeScoresOver1,AwayScoresUnder1,HomeScoresUnder2,AwayScoresUnder2,HomeScoresUnder3,AwayScoresUnder3,_1x2HomeScoresOver1,_1x2HomeScoresOver2,_1x2HomeScoresUnder3,_0-3_Goals,_0-4_Goals,_0-5_Goals,_0-6_Goals,_1-3_Goals,_1-4_Goals,_1-5_Goals,_1-6_Goals,_2-3_Goals,_2-4_Goals,_2-5_Goals,_2-6_Goals,_3-3_Goals,_3-4_Goals,_3-5_Goals,_3-6_Goals,1H_Draw,Home_0,Home_Minus_0_25,Home_Plus_0_25,Home_Minus_0_5,Home_Plus_0_5,Home_Plus_0_75,Home_Plus_1,Home_Plus_1_25,Away_Plus_1_5,Home_Plus_1_5,Away_Plus_1_75,Home_Plus_1_75,Away_Plus_2,Home_Plus_2,Away_Plus_2_25,Home_Plus_2_25,Away_Plus_2_5,Home_Plus_2_5,Away_Plus_2_75,Home_Plus_2_75,Away_Plus_3,Home_Plus_3,over2_0,over1_75,over2_25'}, '1512839': {'id': '1512839', 'teamA': '63', 'teamB': '52', 'result': '{{0,0,1,0,8.3,nil,{80}},{0,1,0,0,10.0,nil,{171}},{0,0,1,0,9.0,nil,{59}},{0,0,0,0,10.0,nil,{207}},{0,1,1,0,11.2,nil,{197}},{0,0,0,0,8.8,nil,{257}}}', 'wonmarkets': 'Draw,DrawDraw,Draw_Away,Home_Draw,_0_0,_0_Goals,under,nogoal,ng1,ng2,ng3,ng4,ng5,ng6,under2,nog,QDraw,under3,under4,under0,HomeScoresUnder0,AwayScoresUnder0,HomeScoresUnder1,AwayScoresUnder1,HomeScoresUnder2,AwayScoresUnder2,HomeScoresUnder3,AwayScoresUnder3,_1x2DrawScoresUnder1,_1x2DrawScoresUnder2,_1x2DrawScoresUnder3,_0-0_Goals,_0-1_Goals,_0-2_Goals,_0-3_Goals,_0-4_Goals,_0-5_Goals,_0-6_Goals,1H_Draw,Away_Plus_0_5,Home_Plus_0_5,Away_Plus_0_75,Home_Plus_0_75,Away_Plus_1,Home_Plus_1,Away_Plus_1_25,Home_Plus_1_25,Away_Plus_1_5,Home_Plus_1_5,Away_Plus_1_75,Home_Plus_1_75,Away_Plus_2,Home_Plus_2,Away_Plus_2_25,Home_Plus_2_25,Away_Plus_2_5,Home_Plus_2_5,Away_Plus_2_75,Home_Plus_2_75,Away_Plus_3,Home_Plus_3,under2_0,under3_0,under1_75,under2_25,under2_75'}, '1512840': {'id': '1512840', 'teamA': '48', 'teamB': '71', 'result': '{{1,1,0,0,12.9,7.9,{156}},{0,0,1,0,8.3,nil,{44}},{0,1,0,0,8.0,nil,{189}},{1,0,0,0,13.8,8.8,{16}},{0,0,0,0,10.0,nil,{173}},{0,0,0,0,9.2,nil,{138}}}', 'wonmarkets': 'Home,HomeHome,Home_Away,Home_Draw,_2_0,_2_Goals,over,goal,g1,ng2,ng3,g4,ng5,ng6,gc2,under2,nog,QHome,under3,under4,over0,HomeScoresOver0,AwayScoresUnder0,HomeScoresOver1,AwayScoresUnder1,HomeScoresUnder2,AwayScoresUnder2,HomeScoresUnder3,AwayScoresUnder3,_1x2HomeScoresOver1,_1x2HomeScoresUnder2,_1x2HomeScoresUnder3,_0-2_Goals,_0-3_Goals,_0-4_Goals,_0-5_Goals,_0-6_Goals,_1-2_Goals,_1-3_Goals,_1-4_Goals,_1-5_Goals,_1-6_Goals,_2-2_Goals,_2-3_Goals,_2-4_Goals,_2-5_Goals,_2-6_Goals,1H_Home,Home_0,Home_Minus_0_25,Home_Plus_0_25,Home_Minus_0_5,Home_Plus_0_5,Home_Minus_0_75,Home_Plus_0_75,Home_Minus_1,Home_Plus_1,Home_Minus_1_25,Home_Plus_1_25,Home_Minus_1_5,Home_Plus_1_5,Home_Plus_1_75,Home_Plus_2,Home_Plus_2_25,Away_Plus_2_5,Home_Plus_2_5,Away_Plus_2_75,Home_Plus_2_75,Away_Plus_3,Home_Plus_3,under3_0,under2_75'}}, '7': {'1512841': {'id': '1512841', 'teamA': '49', 'teamB': '45', 'result': '{{0,1,0,0,8.3,nil,{291}},{1,0,1,0,15.0,12.0,{152,50}},{0,1,0,0,8.3,nil,{78}},{1,0,0,0,13.3,8.3,{298}},{1,1,1,0,14.6,9.6,{103}},{1,1,1,0,15.0,10.6,{174}}}', 'wonmarkets': 'Away,AwayAway,Draw_Away,Home_Away,_1_3,_4_Goals,over,goal,ng1,g2,ng3,g4,g5,g6,gc4,over2,gg,QAway,over3,under4,over0,HomeScoresOver0,AwayScoresOver0,HomeScoresUnder1,AwayScoresOver1,HomeScoresUnder2,AwayScoresOver2,HomeScoresUnder3,AwayScoresUnder3,_1x2AwayScoresOver1,_1x2AwayScoresOver2,_1x2AwayScoresOver3,_0-4_Goals,_0-5_Goals,_0-6_Goals,_1-4_Goals,_1-5_Goals,_1-6_Goals,_2-4_Goals,_2-5_Goals,_2-6_Goals,_3-4_Goals,_3-5_Goals,_3-6_Goals,_4-4_Goals,_4-5_Goals,_4-6_Goals,1H_Away,Away_0,Away_Plus_0_25,Away_Minus_0_25,Away_Plus_0_5,Away_Minus_0_5,Away_Plus_0_75,Away_Minus_0_75,Away_Plus_1,Away_Minus_1,Away_Plus_1_25,Away_Minus_1_25,Away_Plus_1_5,Away_Minus_1_5,Away_Plus_1_75,Away_Plus_2,Away_Plus_2_25,Away_Plus_2_5,Home_Plus_2_5,Away_Plus_2_75,Home_Plus_2_75,Away_Plus_3,Home_Plus_3,over2_0,over3_0,over1_75,over2_25,over2_75'}, '1512842': {'id': '1512842', 'teamA': '52', 'teamB': '48', 'result': '{{1,0,1,0,12.0,7.0,{146}},{1,0,1,0,12.0,7.0,{146}},{0,1,0,0,9.0,nil,{279}},{1,0,0,0,15.0,11.1,{215}},{0,1,1,0,8.3,nil,{64}},{1,1,1,0,15.0,10.8,{170}}}', 'wonmarkets': 'Away,AwayAway,Draw_Away,Home_Away,_1_3,_4_Goals,over,goal,g1,g2,ng3,g4,ng5,g6,gc4,over2,gg,QAway,over3,under4,over0,HomeScoresOver0,AwayScoresOver0,HomeScoresUnder1,AwayScoresOver1,HomeScoresUnder2,AwayScoresOver2,HomeScoresUnder3,AwayScoresUnder3,_1x2AwayScoresOver1,_1x2AwayScoresOver2,_1x2AwayScoresOver3,_0-4_Goals,_0-5_Goals,_0-6_Goals,_1-4_Goals,_1-5_Goals,_1-6_Goals,_2-4_Goals,_2-5_Goals,_2-6_Goals,_3-4_Goals,_3-5_Goals,_3-6_Goals,_4-4_Goals,_4-5_Goals,_4-6_Goals,1H_Away,Away_0,Away_Plus_0_25,Away_Minus_0_25,Away_Plus_0_5,Away_Minus_0_5,Away_Plus_0_75,Away_Minus_0_75,Away_Plus_1,Away_Minus_1,Away_Plus_1_25,Away_Minus_1_25,Away_Plus_1_5,Away_Minus_1_5,Away_Plus_1_75,Away_Plus_2,Away_Plus_2_25,Away_Plus_2_5,Home_Plus_2_5,Away_Plus_2_75,Home_Plus_2_75,Away_Plus_3,Home_Plus_3,over2_0,over3_0,over1_75,over2_25,over2_75'}, '1512843': {'id': '1512843', 'teamA': '1053', 'teamB': '972', 'result': '{{0,0,1,0,9.2,nil,{133}},{1,0,1,0,14.2,9.2,{188}},{0,1,0,0,7.3,nil,{210}},{0,1,1,0,9.2,nil,{246}},{1,1,1,0,14.4,9.4,{162}},{1,1,1,0,15.0,12.0,{152,50}}}', 'wonmarkets': 'Away,AwayAway,Draw_Away,Home_Away,_0_3,_3_Goals,over,goal,ng1,g2,ng3,ng4,g5,g6,gc3,over2,nog,QAway,under3,under4,over0,HomeScoresUnder0,AwayScoresOver0,HomeScoresUnder1,AwayScoresOver1,HomeScoresUnder2,AwayScoresOver2,HomeScoresUnder3,AwayScoresUnder3,_1x2AwayScoresOver1,_1x2AwayScoresOver2,_1x2AwayScoresUnder3,_0-3_Goals,_0-4_Goals,_0-5_Goals,_0-6_Goals,_1-3_Goals,_1-4_Goals,_1-5_Goals,_1-6_Goals,_2-3_Goals,_2-4_Goals,_2-5_Goals,_2-6_Goals,_3-3_Goals,_3-4_Goals,_3-5_Goals,_3-6_Goals,1H_Away,Away_0,Away_Plus_0_25,Away_Minus_0_25,Away_Plus_0_5,Away_Minus_0_5,Away_Plus_0_75,Away_Minus_0_75,Away_Plus_1,Away_Minus_1,Away_Plus_1_25,Away_Minus_1_25,Away_Plus_1_5,Away_Minus_1_5,Away_Plus_1_75,Away_Minus_1_75,Away_Plus_2,Away_Minus_2,Away_Plus_2_25,Away_Minus_2_25,Away_Plus_2_5,Away_Minus_2_5,Away_Plus_2_75,Away_Plus_3,over2_0,over1_75,over2_25'}, '1512844': {'id': '1512844', 'teamA': '512', 'teamB': '55', 'result': '{{1,0,1,0,15.0,12.3,{124}},{1,0,1,0,12.9,7.9,{156}},{0,0,1,0,8.8,nil,{301}},{1,1,1,0,15.0,12.0,{1}},{0,1,1,0,8.8,nil,{244}},{1,1,1,0,15.0,10.7,{182}}}', 'wonmarkets': 'Away,AwayAway,Draw_Away,Home_Away,_0_4,_4_Goals,over,goal,g1,g2,ng3,g4,ng5,g6,gc4,over2,nog,QAway,over3,under4,over0,HomeScoresUnder0,AwayScoresOver0,HomeScoresUnder1,AwayScoresOver1,HomeScoresUnder2,AwayScoresOver2,HomeScoresUnder3,AwayScoresOver3,_1x2AwayScoresOver1,_1x2AwayScoresOver2,_1x2AwayScoresOver3,_0-4_Goals,_0-5_Goals,_0-6_Goals,_1-4_Goals,_1-5_Goals,_1-6_Goals,_2-4_Goals,_2-5_Goals,_2-6_Goals,_3-4_Goals,_3-5_Goals,_3-6_Goals,_4-4_Goals,_4-5_Goals,_4-6_Goals,1H_Away,Away_0,Away_Plus_0_25,Away_Minus_0_25,Away_Plus_0_5,Away_Minus_0_5,Away_Plus_0_75,Away_Minus_0_75,Away_Plus_1,Away_Minus_1,Away_Plus_1_25,Away_Minus_1_25,Away_Plus_1_5,Away_Minus_1_5,Away_Plus_1_75,Away_Minus_1_75,Away_Plus_2,Away_Minus_2,Away_Plus_2_25,Away_Minus_2_25,Away_Plus_2_5,Away_Minus_2_5,Away_Plus_2_75,Away_Minus_2_75,Away_Plus_3,Away_Minus_3,over2_0,over3_0,over1_75,over2_25,over2_75'}, '1512845': {'id': '1512845', 'teamA': '67', 'teamB': '60', 'result': '{{0,0,1,0,8.8,nil,{307}},{1,0,1,0,12.3,7.3,{200}},{1,0,1,0,15.0,10.7,{53}},{0,1,1,0,8.3,nil,{85}},{0,1,1,0,8.2,nil,{140}},{0,0,0,0,10.0,nil,{87}}}', 'wonmarkets': 'Away,AwayAway,Draw_Away,Home_Away,_0_2,_2_Goals,over,goal,ng1,g2,g3,ng4,ng5,ng6,gc2,under2,nog,QAway,under3,under4,over0,HomeScoresUnder0,AwayScoresOver0,HomeScoresUnder1,AwayScoresOver1,HomeScoresUnder2,AwayScoresUnder2,HomeScoresUnder3,AwayScoresUnder3,_1x2AwayScoresOver1,_1x2AwayScoresUnder2,_1x2AwayScoresUnder3,_0-2_Goals,_0-3_Goals,_0-4_Goals,_0-5_Goals,_0-6_Goals,_1-2_Goals,_1-3_Goals,_1-4_Goals,_1-5_Goals,_1-6_Goals,_2-2_Goals,_2-3_Goals,_2-4_Goals,_2-5_Goals,_2-6_Goals,1H_Away,Away_0,Away_Plus_0_25,Away_Minus_0_25,Away_Plus_0_5,Away_Minus_0_5,Away_Plus_0_75,Away_Minus_0_75,Away_Plus_1,Away_Minus_1,Away_Plus_1_25,Away_Minus_1_25,Away_Plus_1_5,Away_Minus_1_5,Away_Plus_1_75,Away_Plus_2,Away_Plus_2_25,Away_Plus_2_5,Home_Plus_2_5,Away_Plus_2_75,Home_Plus_2_75,Away_Plus_3,Home_Plus_3,under3_0,under2_75'}, '1512846': {'id': '1512846', 'teamA': '53', 'teamB': '827', 'result': '{{1,1,0,0,15.0,10.1,{143}},{1,0,1,0,12.0,7.0,{146}},{0,0,1,0,9.2,nil,{180}},{0,1,1,0,10.2,nil,{225}},{0,0,0,0,8.8,nil,{258}},{0,1,1,0,8.3,nil,{155,40}}}', 'wonmarkets': 'Draw,DrawDraw,Draw_Away,Home_Draw,_1_1,_2_Goals,over,goal,g1,g2,ng3,ng4,ng5,ng6,gc2,under2,gg,QDraw,under3,under4,over0,HomeScoresOver0,AwayScoresOver0,HomeScoresUnder1,AwayScoresUnder1,HomeScoresUnder2,AwayScoresUnder2,HomeScoresUnder3,AwayScoresUnder3,_1x2DrawScoresOver1,_1x2DrawScoresUnder2,_1x2DrawScoresUnder3,_0-2_Goals,_0-3_Goals,_0-4_Goals,_0-5_Goals,_0-6_Goals,_1-2_Goals,_1-3_Goals,_1-4_Goals,_1-5_Goals,_1-6_Goals,_2-2_Goals,_2-3_Goals,_2-4_Goals,_2-5_Goals,_2-6_Goals,1H_Draw,Away_Plus_0_5,Home_Plus_0_5,Away_Plus_0_75,Home_Plus_0_75,Away_Plus_1,Home_Plus_1,Away_Plus_1_25,Home_Plus_1_25,Away_Plus_1_5,Home_Plus_1_5,Away_Plus_1_75,Home_Plus_1_75,Away_Plus_2,Home_Plus_2,Away_Plus_2_25,Home_Plus_2_25,Away_Plus_2_5,Home_Plus_2_5,Away_Plus_2_75,Home_Plus_2_75,Away_Plus_3,Home_Plus_3,under3_0,under2_75'}, '1512847': {'id': '1512847', 'teamA': '71', 'teamB': '46', 'result': '{{0,0,1,0,8.8,nil,{299}},{1,1,0,0,15.0,10.7,{35}},{1,1,0,0,14.0,9.0,{243}},{0,0,0,0,9.2,nil,{277}},{1,1,1,0,14.2,9.2,{318}},{1,1,1,0,14.4,9.4,{162}}}', 'wonmarkets': 'Draw,HomeDraw,Draw_Away,Home_Draw,_2_2,_4_Goals,over,goal,ng1,g2,g3,ng4,g5,g6,gc4,over2,gg,QDraw,over3,under4,over0,HomeScoresOver0,AwayScoresOver0,HomeScoresOver1,AwayScoresOver1,HomeScoresUnder2,AwayScoresUnder2,HomeScoresUnder3,AwayScoresUnder3,_1x2DrawScoresOver1,_1x2DrawScoresOver2,_1x2DrawScoresOver3,_0-4_Goals,_0-5_Goals,_0-6_Goals,_1-4_Goals,_1-5_Goals,_1-6_Goals,_2-4_Goals,_2-5_Goals,_2-6_Goals,_3-4_Goals,_3-5_Goals,_3-6_Goals,_4-4_Goals,_4-5_Goals,_4-6_Goals,1H_Home,Away_Plus_0_5,Home_Plus_0_5,Away_Plus_0_75,Home_Plus_0_75,Away_Plus_1,Home_Plus_1,Away_Plus_1_25,Home_Plus_1_25,Away_Plus_1_5,Home_Plus_1_5,Away_Plus_1_75,Home_Plus_1_75,Away_Plus_2,Home_Plus_2,Away_Plus_2_25,Home_Plus_2_25,Away_Plus_2_5,Home_Plus_2_5,Away_Plus_2_75,Home_Plus_2_75,Away_Plus_3,Home_Plus_3,over2_0,over3_0,over1_75,over2_25,over2_75'}, '1512848': {'id': '1512848', 'teamA': '58', 'teamB': '47', 'result': '{{0,1,0,0,8.3,nil,{168}},{0,1,0,0,7.2,nil,{195}},{1,1,0,0,13.1,8.1,{123}},{0,0,0,0,10.0,nil,{54}},{1,0,0,0,13.6,8.6,{102}},{0,1,1,0,9.2,nil,{136}}}', 'wonmarkets': 'Home,HomeHome,Home_Away,Home_Draw,_2_0,_2_Goals,over,goal,ng1,ng2,g3,ng4,g5,ng6,gc2,under2,nog,QHome,under3,under4,over0,HomeScoresOver0,AwayScoresUnder0,HomeScoresOver1,AwayScoresUnder1,HomeScoresUnder2,AwayScoresUnder2,HomeScoresUnder3,AwayScoresUnder3,_1x2HomeScoresOver1,_1x2HomeScoresUnder2,_1x2HomeScoresUnder3,_0-2_Goals,_0-3_Goals,_0-4_Goals,_0-5_Goals,_0-6_Goals,_1-2_Goals,_1-3_Goals,_1-4_Goals,_1-5_Goals,_1-6_Goals,_2-2_Goals,_2-3_Goals,_2-4_Goals,_2-5_Goals,_2-6_Goals,1H_Home,Home_0,Home_Minus_0_25,Home_Plus_0_25,Home_Minus_0_5,Home_Plus_0_5,Home_Minus_0_75,Home_Plus_0_75,Home_Minus_1,Home_Plus_1,Home_Minus_1_25,Home_Plus_1_25,Home_Minus_1_5,Home_Plus_1_5,Home_Plus_1_75,Home_Plus_2,Home_Plus_2_25,Away_Plus_2_5,Home_Plus_2_5,Away_Plus_2_75,Home_Plus_2_75,Away_Plus_3,Home_Plus_3,under3_0,under2_75'}, '1512849': {'id': '1512849', 'teamA': '51', 'teamB': '525', 'result': '{{0,0,1,0,8.4,nil,{315}},{0,1,0,0,7.2,nil,{194}},{1,1,0,0,13.6,8.6,{21}},{1,0,0,0,15.0,10.8,{15}},{1,0,0,0,15.0,10.0,{135}},{0,1,1,0,8.3,nil,{85}}}', 'wonmarkets': 'Home,HomeHome,Home_Away,Home_Draw,_3_0,_3_Goals,over,goal,ng1,ng2,g3,g4,g5,ng6,gc3,over2,nog,QHome,under3,under4,over0,HomeScoresOver0,AwayScoresUnder0,HomeScoresOver1,AwayScoresUnder1,HomeScoresOver2,AwayScoresUnder2,HomeScoresUnder3,AwayScoresUnder3,_1x2HomeScoresOver1,_1x2HomeScoresOver2,_1x2HomeScoresUnder3,_0-3_Goals,_0-4_Goals,_0-5_Goals,_0-6_Goals,_1-3_Goals,_1-4_Goals,_1-5_Goals,_1-6_Goals,_2-3_Goals,_2-4_Goals,_2-5_Goals,_2-6_Goals,_3-3_Goals,_3-4_Goals,_3-5_Goals,_3-6_Goals,1H_Home,Home_0,Home_Minus_0_25,Home_Plus_0_25,Home_Minus_0_5,Home_Plus_0_5,Home_Minus_0_75,Home_Plus_0_75,Home_Minus_1,Home_Plus_1,Home_Minus_1_25,Home_Plus_1_25,Home_Minus_1_5,Home_Plus_1_5,Home_Minus_1_75,Home_Plus_1_75,Home_Minus_2,Home_Plus_2,Home_Minus_2_25,Home_Plus_2_25,Home_Minus_2_5,Home_Plus_2_5,Home_Plus_2_75,Home_Plus_3,over2_0,over1_75,over2_25'}, '1512850': {'id': '1512850', 'teamA': '50', 'teamB': '63', 'result': '{{0,0,1,0,8.3,nil,{120}},{1,0,1,0,15.0,10.0,{302}},{0,0,1,0,8.3,nil,{111}},{1,0,0,0,12.9,7.9,{156}},{0,1,1,0,9.0,nil,{145}},{0,1,1,0,9.2,nil,{246}}}', 'wonmarkets': 'Draw,AwayDraw,Draw_Away,Home_Draw,_1_1,_2_Goals,over,goal,ng1,g2,ng3,g4,ng5,ng6,gc2,under2,gg,QDraw,under3,under4,over0,HomeScoresOver0,AwayScoresOver0,HomeScoresUnder1,AwayScoresUnder1,HomeScoresUnder2,AwayScoresUnder2,HomeScoresUnder3,AwayScoresUnder3,_1x2DrawScoresOver1,_1x2DrawScoresUnder2,_1x2DrawScoresUnder3,_0-2_Goals,_0-3_Goals,_0-4_Goals,_0-5_Goals,_0-6_Goals,_1-2_Goals,_1-3_Goals,_1-4_Goals,_1-5_Goals,_1-6_Goals,_2-2_Goals,_2-3_Goals,_2-4_Goals,_2-5_Goals,_2-6_Goals,1H_Away,Away_Plus_0_5,Home_Plus_0_5,Away_Plus_0_75,Home_Plus_0_75,Away_Plus_1,Home_Plus_1,Away_Plus_1_25,Home_Plus_1_25,Away_Plus_1_5,Home_Plus_1_5,Away_Plus_1_75,Home_Plus_1_75,Away_Plus_2,Home_Plus_2,Away_Plus_2_25,Home_Plus_2_25,Away_Plus_2_5,Home_Plus_2_5,Away_Plus_2_75,Home_Plus_2_75,Away_Plus_3,Home_Plus_3,under3_0,under2_75'}}, '8': {'1512851': {'id': '1512851', 'teamA': '63', 'teamB': '58', 'result': '{{0,0,1,0,9.2,nil,{152,62}},{0,1,0,0,8.4,nil,{316}},{0,0,1,0,9.2,nil,{152,61}},{0,0,0,0,10.0,nil,{229}},{0,0,0,0,9.2,nil,{152,76}},{0,0,0,0,8.3,nil,{304}}}', 'wonmarkets': 'Draw,DrawDraw,Draw_Away,Home_Draw,_0_0,_0_Goals,under,nogoal,ng1,ng2,ng3,ng4,ng5,ng6,under2,nog,QDraw,under3,under4,under0,HomeScoresUnder0,AwayScoresUnder0,HomeScoresUnder1,AwayScoresUnder1,HomeScoresUnder2,AwayScoresUnder2,HomeScoresUnder3,AwayScoresUnder3,_1x2DrawScoresUnder1,_1x2DrawScoresUnder2,_1x2DrawScoresUnder3,_0-0_Goals,_0-1_Goals,_0-2_Goals,_0-3_Goals,_0-4_Goals,_0-5_Goals,_0-6_Goals,1H_Draw,Away_Plus_0_5,Home_Plus_0_5,Away_Plus_0_75,Home_Plus_0_75,Away_Plus_1,Home_Plus_1,Away_Plus_1_25,Home_Plus_1_25,Away_Plus_1_5,Home_Plus_1_5,Away_Plus_1_75,Home_Plus_1_75,Away_Plus_2,Home_Plus_2,Away_Plus_2_25,Home_Plus_2_25,Away_Plus_2_5,Home_Plus_2_5,Away_Plus_2_75,Home_Plus_2_75,Away_Plus_3,Home_Plus_3,under2_0,under3_0,under1_75,under2_25,under2_75'}, '1512852': {'id': '1512852', 'teamA': '972', 'teamB': '53', 'result': '{{1,0,1,0,13.9,8.9,{13,18}},{1,1,0,0,13.6,8.6,{21}},{0,1,0,0,10.6,nil,{216}},{0,0,0,0,9.2,nil,{13,34}},{0,0,0,0,7.3,nil,{149}},{1,1,1,0,15.0,12.0,{152,50}}}', 'wonmarkets': 'Away,DrawAway,Draw_Away,Home_Away,_1_2,_3_Goals,over,goal,g1,g2,ng3,ng4,ng5,g6,gc3,over2,gg,QAway,under3,under4,over0,HomeScoresOver0,AwayScoresOver0,HomeScoresUnder1,AwayScoresOver1,HomeScoresUnder2,AwayScoresUnder2,HomeScoresUnder3,AwayScoresUnder3,_1x2AwayScoresOver1,_1x2AwayScoresOver2,_1x2AwayScoresUnder3,_0-3_Goals,_0-4_Goals,_0-5_Goals,_0-6_Goals,_1-3_Goals,_1-4_Goals,_1-5_Goals,_1-6_Goals,_2-3_Goals,_2-4_Goals,_2-5_Goals,_2-6_Goals,_3-3_Goals,_3-4_Goals,_3-5_Goals,_3-6_Goals,1H_Draw,Away_0,Away_Plus_0_25,Away_Minus_0_25,Away_Plus_0_5,Away_Minus_0_5,Away_Plus_0_75,Away_Plus_1,Away_Plus_1_25,Away_Plus_1_5,Home_Plus_1_5,Away_Plus_1_75,Home_Plus_1_75,Away_Plus_2,Home_Plus_2,Away_Plus_2_25,Home_Plus_2_25,Away_Plus_2_5,Home_Plus_2_5,Away_Plus_2_75,Home_Plus_2_75,Away_Plus_3,Home_Plus_3,over2_0,over1_75,over2_25'}, '1512853': {'id': '1512853', 'teamA': '60', 'teamB': '827', 'result': '{{0,1,0,0,8.8,nil,{256}},{0,1,0,0,10.0,nil,{113}},{1,1,0,0,14.3,9.3,{178}},{1,0,0,0,12.7,7.7,{13,14}},{1,0,0,0,12.7,7.7,{11}},{1,0,0,0,15.0,11.1,{215}}}', 'wonmarkets': 'Home,HomeHome,Home_Away,Home_Draw,_4_0,_4_Goals,over,goal,ng1,ng2,g3,g4,g5,g6,gc4,over2,nog,QHome,over3,under4,over0,HomeScoresOver0,AwayScoresUnder0,HomeScoresOver1,AwayScoresUnder1,HomeScoresOver2,AwayScoresUnder2,HomeScoresOver3,AwayScoresUnder3,_1x2HomeScoresOver1,_1x2HomeScoresOver2,_1x2HomeScoresOver3,_0-4_Goals,_0-5_Goals,_0-6_Goals,_1-4_Goals,_1-5_Goals,_1-6_Goals,_2-4_Goals,_2-5_Goals,_2-6_Goals,_3-4_Goals,_3-5_Goals,_3-6_Goals,_4-4_Goals,_4-5_Goals,_4-6_Goals,1H_Home,Home_0,Home_Minus_0_25,Home_Plus_0_25,Home_Minus_0_5,Home_Plus_0_5,Home_Minus_0_75,Home_Plus_0_75,Home_Minus_1,Home_Plus_1,Home_Minus_1_25,Home_Plus_1_25,Home_Minus_1_5,Home_Plus_1_5,Home_Minus_1_75,Home_Plus_1_75,Home_Minus_2,Home_Plus_2,Home_Minus_2_25,Home_Plus_2_25,Home_Minus_2_5,Home_Plus_2_5,Home_Minus_2_75,Home_Plus_2_75,Home_Minus_3,Home_Plus_3,over2_0,over3_0,over1_75,over2_25,over2_75'}, '1512854': {'id': '1512854', 'teamA': '48', 'teamB': '50', 'result': '{{0,0,1,0,8.3,nil,{153}},{0,0,1,0,10.2,nil,{224}},{0,0,1,0,10.0,nil,{68}},{0,0,0,0,8.8,nil,{256}},{0,0,0,0,8.8,nil,{245}},{0,0,0,0,8.3,nil,{49}}}', 'wonmarkets': 'Draw,DrawDraw,Draw_Away,Home_Draw,_0_0,_0_Goals,under,nogoal,ng1,ng2,ng3,ng4,ng5,ng6,under2,nog,QDraw,under3,under4,under0,HomeScoresUnder0,AwayScoresUnder0,HomeScoresUnder1,AwayScoresUnder1,HomeScoresUnder2,AwayScoresUnder2,HomeScoresUnder3,AwayScoresUnder3,_1x2DrawScoresUnder1,_1x2DrawScoresUnder2,_1x2DrawScoresUnder3,_0-0_Goals,_0-1_Goals,_0-2_Goals,_0-3_Goals,_0-4_Goals,_0-5_Goals,_0-6_Goals,1H_Draw,Away_Plus_0_5,Home_Plus_0_5,Away_Plus_0_75,Home_Plus_0_75,Away_Plus_1,Home_Plus_1,Away_Plus_1_25,Home_Plus_1_25,Away_Plus_1_5,Home_Plus_1_5,Away_Plus_1_75,Home_Plus_1_75,Away_Plus_2,Home_Plus_2,Away_Plus_2_25,Home_Plus_2_25,Away_Plus_2_5,Home_Plus_2_5,Away_Plus_2_75,Home_Plus_2_75,Away_Plus_3,Home_Plus_3,under2_0,under3_0,under1_75,under2_25,under2_75'}, '1512855': {'id': '1512855', 'teamA': '46', 'teamB': '52', 'result': '{{1,1,0,0,13.8,8.8,{7}},{0,1,0,0,10.0,nil,{151}},{0,1,0,0,7.7,nil,{212}},{0,0,0,0,8.8,nil,{256}},{1,0,0,0,13.6,8.6,{21}},{1,0,0,0,14.1,9.1,{9}}}', 'wonmarkets': 'Home,HomeHome,Home_Away,Home_Draw,_3_0,_3_Goals,over,goal,g1,ng2,ng3,ng4,g5,g6,gc3,over2,nog,QHome,under3,under4,over0,HomeScoresOver0,AwayScoresUnder0,HomeScoresOver1,AwayScoresUnder1,HomeScoresOver2,AwayScoresUnder2,HomeScoresUnder3,AwayScoresUnder3,_1x2HomeScoresOver1,_1x2HomeScoresOver2,_1x2HomeScoresUnder3,_0-3_Goals,_0-4_Goals,_0-5_Goals,_0-6_Goals,_1-3_Goals,_1-4_Goals,_1-5_Goals,_1-6_Goals,_2-3_Goals,_2-4_Goals,_2-5_Goals,_2-6_Goals,_3-3_Goals,_3-4_Goals,_3-5_Goals,_3-6_Goals,1H_Home,Home_0,Home_Minus_0_25,Home_Plus_0_25,Home_Minus_0_5,Home_Plus_0_5,Home_Minus_0_75,Home_Plus_0_75,Home_Minus_1,Home_Plus_1,Home_Minus_1_25,Home_Plus_1_25,Home_Minus_1_5,Home_Plus_1_5,Home_Minus_1_75,Home_Plus_1_75,Home_Minus_2,Home_Plus_2,Home_Minus_2_25,Home_Plus_2_25,Home_Minus_2_5,Home_Plus_2_5,Home_Plus_2_75,Home_Plus_3,over2_0,over1_75,over2_25'}, '1512856': {'id': '1512856', 'teamA': '67', 'teamB': '512', 'result': '{{0,0,1,0,10.0,nil,{295}},{0,0,1,0,8.8,nil,{301}},{0,0,1,0,8.3,nil,{98}},{0,0,0,0,8.3,nil,{158}},{1,0,0,0,12.9,7.9,{156}},{0,0,0,0,10.0,nil,{97}}}', 'wonmarkets': 'Home,DrawHome,Home_Away,Home_Draw,_1_0,_1_Goals,under,goal,ng1,ng2,ng3,ng4,g5,ng6,gc1,under2,nog,QHome,under3,under4,over0,HomeScoresOver0,AwayScoresUnder0,HomeScoresUnder1,AwayScoresUnder1,HomeScoresUnder2,AwayScoresUnder2,HomeScoresUnder3,AwayScoresUnder3,_1x2HomeScoresUnder1,_1x2HomeScoresUnder2,_1x2HomeScoresUnder3,_0-1_Goals,_0-2_Goals,_0-3_Goals,_0-4_Goals,_0-5_Goals,_0-6_Goals,_1-1_Goals,_1-2_Goals,_1-3_Goals,_1-4_Goals,_1-5_Goals,_1-6_Goals,1H_Draw,Home_0,Home_Minus_0_25,Home_Plus_0_25,Home_Minus_0_5,Home_Plus_0_5,Home_Plus_0_75,Home_Plus_1,Home_Plus_1_25,Away_Plus_1_5,Home_Plus_1_5,Away_Plus_1_75,Home_Plus_1_75,Away_Plus_2,Home_Plus_2,Away_Plus_2_25,Home_Plus_2_25,Away_Plus_2_5,Home_Plus_2_5,Away_Plus_2_75,Home_Plus_2_75,Away_Plus_3,Home_Plus_3,under2_0,under3_0,under1_75,under2_25,under2_75'}, '1512857': {'id': '1512857', 'teamA': '525', 'teamB': '1053', 'result': '{{0,0,1,0,10.0,nil,{3}},{0,0,1,0,10.0,nil,{8}},{0,1,0,0,8.8,nil,{237}},{0,0,0,0,8.3,nil,{121}},{0,0,0,0,8.3,nil,{64}},{0,0,0,0,8.3,nil,{158}}}', 'wonmarkets': 'Draw,DrawDraw,Draw_Away,Home_Draw,_0_0,_0_Goals,under,nogoal,ng1,ng2,ng3,ng4,ng5,ng6,under2,nog,QDraw,under3,under4,under0,HomeScoresUnder0,AwayScoresUnder0,HomeScoresUnder1,AwayScoresUnder1,HomeScoresUnder2,AwayScoresUnder2,HomeScoresUnder3,AwayScoresUnder3,_1x2DrawScoresUnder1,_1x2DrawScoresUnder2,_1x2DrawScoresUnder3,_0-0_Goals,_0-1_Goals,_0-2_Goals,_0-3_Goals,_0-4_Goals,_0-5_Goals,_0-6_Goals,1H_Draw,Away_Plus_0_5,Home_Plus_0_5,Away_Plus_0_75,Home_Plus_0_75,Away_Plus_1,Home_Plus_1,Away_Plus_1_25,Home_Plus_1_25,Away_Plus_1_5,Home_Plus_1_5,Away_Plus_1_75,Home_Plus_1_75,Away_Plus_2,Home_Plus_2,Away_Plus_2_25,Home_Plus_2_25,Away_Plus_2_5,Home_Plus_2_5,Away_Plus_2_75,Home_Plus_2_75,Away_Plus_3,Home_Plus_3,under2_0,under3_0,under1_75,under2_25,under2_75'}, '1512858': {'id': '1512858', 'teamA': '45', 'teamB': '71', 'result': '{{1,1,0,0,14.9,9.9,{152,5}},{0,1,0,0,6.3,nil,{254}},{1,1,0,0,13.4,8.4,{122}},{1,0,0,0,15.0,11.1,{215}},{0,1,1,0,11.0,nil,{232}},{0,1,1,0,8.8,nil,{309}}}', 'wonmarkets': 'Home,HomeHome,Home_Away,Home_Draw,_3_0,_3_Goals,over,goal,g1,ng2,g3,g4,ng5,ng6,gc3,over2,nog,QHome,under3,under4,over0,HomeScoresOver0,AwayScoresUnder0,HomeScoresOver1,AwayScoresUnder1,HomeScoresOver2,AwayScoresUnder2,HomeScoresUnder3,AwayScoresUnder3,_1x2HomeScoresOver1,_1x2HomeScoresOver2,_1x2HomeScoresUnder3,_0-3_Goals,_0-4_Goals,_0-5_Goals,_0-6_Goals,_1-3_Goals,_1-4_Goals,_1-5_Goals,_1-6_Goals,_2-3_Goals,_2-4_Goals,_2-5_Goals,_2-6_Goals,_3-3_Goals,_3-4_Goals,_3-5_Goals,_3-6_Goals,1H_Home,Home_0,Home_Minus_0_25,Home_Plus_0_25,Home_Minus_0_5,Home_Plus_0_5,Home_Minus_0_75,Home_Plus_0_75,Home_Minus_1,Home_Plus_1,Home_Minus_1_25,Home_Plus_1_25,Home_Minus_1_5,Home_Plus_1_5,Home_Minus_1_75,Home_Plus_1_75,Home_Minus_2,Home_Plus_2,Home_Minus_2_25,Home_Plus_2_25,Home_Minus_2_5,Home_Plus_2_5,Home_Plus_2_75,Home_Plus_3,over2_0,over1_75,over2_25'}, '1512859': {'id': '1512859', 'teamA': '47', 'teamB': '51', 'result': '{{1,0,1,0,12.7,7.7,{13,14}},{1,1,0,0,15.0,10.7,{182}},{0,0,1,0,10.0,nil,{173}},{0,0,0,0,10.0,nil,{296}},{1,0,0,0,15.0,10.1,{152,60}},{1,0,0,0,12.9,7.9,{17,32}}}', 'wonmarkets': 'Home,DrawHome,Home_Away,Home_Draw,_3_1,_4_Goals,over,goal,g1,g2,ng3,ng4,g5,g6,gc4,over2,gg,QHome,over3,under4,over0,HomeScoresOver0,AwayScoresOver0,HomeScoresOver1,AwayScoresUnder1,HomeScoresOver2,AwayScoresUnder2,HomeScoresUnder3,AwayScoresUnder3,_1x2HomeScoresOver1,_1x2HomeScoresOver2,_1x2HomeScoresOver3,_0-4_Goals,_0-5_Goals,_0-6_Goals,_1-4_Goals,_1-5_Goals,_1-6_Goals,_2-4_Goals,_2-5_Goals,_2-6_Goals,_3-4_Goals,_3-5_Goals,_3-6_Goals,_4-4_Goals,_4-5_Goals,_4-6_Goals,1H_Draw,Home_0,Home_Minus_0_25,Home_Plus_0_25,Home_Minus_0_5,Home_Plus_0_5,Home_Minus_0_75,Home_Plus_0_75,Home_Minus_1,Home_Plus_1,Home_Minus_1_25,Home_Plus_1_25,Home_Minus_1_5,Home_Plus_1_5,Home_Plus_1_75,Home_Plus_2,Home_Plus_2_25,Away_Plus_2_5,Home_Plus_2_5,Away_Plus_2_75,Home_Plus_2_75,Away_Plus_3,Home_Plus_3,over2_0,over3_0,over1_75,over2_25,over2_75'}, '1512860': {'id': '1512860', 'teamA': '55', 'teamB': '49', 'result': '{{1,1,0,0,14.3,9.3,{178}},{0,0,1,0,7.7,nil,{214}},{1,1,0,0,12.7,7.7,{17,14}},{1,0,0,0,12.9,7.9,{156}},{1,0,0,0,15.0,10.8,{170}},{0,1,1,0,11.0,nil,{234}}}', 'wonmarkets': 'Home,HomeHome,Home_Away,Home_Draw,_4_0,_4_Goals,over,goal,g1,ng2,g3,g4,g5,ng6,gc4,over2,nog,QHome,over3,under4,over0,HomeScoresOver0,AwayScoresUnder0,HomeScoresOver1,AwayScoresUnder1,HomeScoresOver2,AwayScoresUnder2,HomeScoresOver3,AwayScoresUnder3,_1x2HomeScoresOver1,_1x2HomeScoresOver2,_1x2HomeScoresOver3,_0-4_Goals,_0-5_Goals,_0-6_Goals,_1-4_Goals,_1-5_Goals,_1-6_Goals,_2-4_Goals,_2-5_Goals,_2-6_Goals,_3-4_Goals,_3-5_Goals,_3-6_Goals,_4-4_Goals,_4-5_Goals,_4-6_Goals,1H_Home,Home_0,Home_Minus_0_25,Home_Plus_0_25,Home_Minus_0_5,Home_Plus_0_5,Home_Minus_0_75,Home_Plus_0_75,Home_Minus_1,Home_Plus_1,Home_Minus_1_25,Home_Plus_1_25,Home_Minus_1_5,Home_Plus_1_5,Home_Minus_1_75,Home_Plus_1_75,Home_Minus_2,Home_Plus_2,Home_Minus_2_25,Home_Plus_2_25,Home_Minus_2_5,Home_Plus_2_5,Home_Minus_2_75,Home_Plus_2_75,Home_Minus_3,Home_Plus_3,over2_0,over3_0,over1_75,over2_25,over2_75'}}, '9': {'1512861': {'id': '1512861', 'teamA': '827', 'teamB': '972', 'result': '{{1,0,1,0,15.0,10.0,{109}},{1,0,1,0,13.6,8.6,{314}},{0,0,1,0,8.3,nil,{84}},{1,0,0,0,15.0,11.1,{67}},{0,0,0,0,8.3,nil,{80}},{1,0,0,0,15.0,10.0,{101}}}', 'wonmarkets': 'Draw,AwayDraw,Draw_Away,Home_Draw,_2_2,_4_Goals,over,goal,g1,g2,ng3,g4,ng5,g6,gc4,over2,gg,QDraw,over3,under4,over0,HomeScoresOver0,AwayScoresOver0,HomeScoresOver1,AwayScoresOver1,HomeScoresUnder2,AwayScoresUnder2,HomeScoresUnder3,AwayScoresUnder3,_1x2DrawScoresOver1,_1x2DrawScoresOver2,_1x2DrawScoresOver3,_0-4_Goals,_0-5_Goals,_0-6_Goals,_1-4_Goals,_1-5_Goals,_1-6_Goals,_2-4_Goals,_2-5_Goals,_2-6_Goals,_3-4_Goals,_3-5_Goals,_3-6_Goals,_4-4_Goals,_4-5_Goals,_4-6_Goals,1H_Away,Away_Plus_0_5,Home_Plus_0_5,Away_Plus_0_75,Home_Plus_0_75,Away_Plus_1,Home_Plus_1,Away_Plus_1_25,Home_Plus_1_25,Away_Plus_1_5,Home_Plus_1_5,Away_Plus_1_75,Home_Plus_1_75,Away_Plus_2,Home_Plus_2,Away_Plus_2_25,Home_Plus_2_25,Away_Plus_2_5,Home_Plus_2_5,Away_Plus_2_75,Home_Plus_2_75,Away_Plus_3,Home_Plus_3,over2_0,over3_0,over1_75,over2_25,over2_75'}, '1512862': {'id': '1512862', 'teamA': '49', 'teamB': '67', 'result': '{{1,1,0,0,13.9,8.9,{17,18}},{0,1,0,0,8.3,nil,{293}},{1,1,0,0,14.6,9.6,{223}},{0,1,1,0,10.0,nil,{54}},{1,1,1,0,13.6,8.6,{21}},{0,0,0,0,10.0,nil,{87}}}', 'wonmarkets': 'Home,HomeHome,Home_Away,Home_Draw,_2_1,_3_Goals,over,goal,g1,ng2,g3,ng4,g5,ng6,gc3,over2,gg,QHome,under3,under4,over0,HomeScoresOver0,AwayScoresOver0,HomeScoresOver1,AwayScoresUnder1,HomeScoresUnder2,AwayScoresUnder2,HomeScoresUnder3,AwayScoresUnder3,_1x2HomeScoresOver1,_1x2HomeScoresOver2,_1x2HomeScoresUnder3,_0-3_Goals,_0-4_Goals,_0-5_Goals,_0-6_Goals,_1-3_Goals,_1-4_Goals,_1-5_Goals,_1-6_Goals,_2-3_Goals,_2-4_Goals,_2-5_Goals,_2-6_Goals,_3-3_Goals,_3-4_Goals,_3-5_Goals,_3-6_Goals,1H_Home,Home_0,Home_Minus_0_25,Home_Plus_0_25,Home_Minus_0_5,Home_Plus_0_5,Home_Plus_0_75,Home_Plus_1,Home_Plus_1_25,Away_Plus_1_5,Home_Plus_1_5,Away_Plus_1_75,Home_Plus_1_75,Away_Plus_2,Home_Plus_2,Away_Plus_2_25,Home_Plus_2_25,Away_Plus_2_5,Home_Plus_2_5,Away_Plus_2_75,Home_Plus_2_75,Away_Plus_3,Home_Plus_3,over2_0,over1_75,over2_25'}, '1512863': {'id': '1512863', 'teamA': '51', 'teamB': '63', 'result': '{{0,0,1,0,8.8,nil,{241}},{1,1,0,0,13.2,8.2,{192}},{1,1,0,0,15.0,10.1,{152,60}},{1,1,1,0,14.4,9.4,{118}},{1,1,1,0,12.7,7.7,{11}},{1,1,1,0,14.0,9.0,{290}}}', 'wonmarkets': 'Away,HomeAway,Draw_Away,Home_Away,_2_3,_5_Goals,over,goal,ng1,g2,g3,g4,g5,g6,gc5,over2,gg,QAway,over3,over4,over0,HomeScoresOver0,AwayScoresOver0,HomeScoresOver1,AwayScoresOver1,HomeScoresUnder2,AwayScoresOver2,HomeScoresUnder3,AwayScoresUnder3,_1x2AwayScoresOver1,_1x2AwayScoresOver2,_1x2AwayScoresOver3,_0-5_Goals,_0-6_Goals,_1-5_Goals,_1-6_Goals,_2-5_Goals,_2-6_Goals,_3-5_Goals,_3-6_Goals,_4-5_Goals,_4-6_Goals,_5-5_Goals,_5-6_Goals,1H_Home,Away_0,Away_Plus_0_25,Away_Minus_0_25,Away_Plus_0_5,Away_Minus_0_5,Away_Plus_0_75,Away_Plus_1,Away_Plus_1_25,Away_Plus_1_5,Home_Plus_1_5,Away_Plus_1_75,Home_Plus_1_75,Away_Plus_2,Home_Plus_2,Away_Plus_2_25,Home_Plus_2_25,Away_Plus_2_5,Home_Plus_2_5,Away_Plus_2_75,Home_Plus_2_75,Away_Plus_3,Home_Plus_3,over2_0,over3_0,over1_75,over2_25,over2_75'}, '1512864': {'id': '1512864', 'teamA': '52', 'teamB': '45', 'result': '{{1,1,0,0,15.0,10.7,{20}},{1,0,1,0,14.2,9.2,{188}},{1,0,1,0,12.7,7.7,{11}},{0,1,1,0,8.9,nil,{285}},{1,1,1,0,14.1,9.1,{9}},{1,1,1,0,15.0,10.0,{302}}}', 'wonmarkets': 'Away,AwayAway,Draw_Away,Home_Away,_1_4,_5_Goals,over,goal,g1,g2,g3,ng4,g5,g6,gc5,over2,gg,QAway,over3,over4,over0,HomeScoresOver0,AwayScoresOver0,HomeScoresUnder1,AwayScoresOver1,HomeScoresUnder2,AwayScoresOver2,HomeScoresUnder3,AwayScoresOver3,_1x2AwayScoresOver1,_1x2AwayScoresOver2,_1x2AwayScoresOver3,_0-5_Goals,_0-6_Goals,_1-5_Goals,_1-6_Goals,_2-5_Goals,_2-6_Goals,_3-5_Goals,_3-6_Goals,_4-5_Goals,_4-6_Goals,_5-5_Goals,_5-6_Goals,1H_Away,Away_0,Away_Plus_0_25,Away_Minus_0_25,Away_Plus_0_5,Away_Minus_0_5,Away_Plus_0_75,Away_Minus_0_75,Away_Plus_1,Away_Minus_1,Away_Plus_1_25,Away_Minus_1_25,Away_Plus_1_5,Away_Minus_1_5,Away_Plus_1_75,Away_Minus_1_75,Away_Plus_2,Away_Minus_2,Away_Plus_2_25,Away_Minus_2_25,Away_Plus_2_5,Away_Minus_2_5,Away_Plus_2_75,Away_Plus_3,over2_0,over3_0,over1_75,over2_25,over2_75'}, '1512865': {'id': '1512865', 'teamA': '50', 'teamB': '46', 'result': '{{0,0,1,0,8.3,nil,{10}},{0,0,1,0,10.0,nil,{113}},{0,0,1,0,13.3,nil,{152,52}},{0,1,1,0,10.0,nil,{27}},{0,1,1,0,9.2,nil,{152,6}},{1,0,0,0,13.6,8.6,{102}}}', 'wonmarkets': 'Home,DrawHome,Home_Away,Home_Draw,_1_0,_1_Goals,under,goal,ng1,ng2,ng3,ng4,ng5,g6,gc1,under2,nog,QHome,under3,under4,over0,HomeScoresOver0,AwayScoresUnder0,HomeScoresUnder1,AwayScoresUnder1,HomeScoresUnder2,AwayScoresUnder2,HomeScoresUnder3,AwayScoresUnder3,_1x2HomeScoresUnder1,_1x2HomeScoresUnder2,_1x2HomeScoresUnder3,_0-1_Goals,_0-2_Goals,_0-3_Goals,_0-4_Goals,_0-5_Goals,_0-6_Goals,_1-1_Goals,_1-2_Goals,_1-3_Goals,_1-4_Goals,_1-5_Goals,_1-6_Goals,1H_Draw,Home_0,Home_Minus_0_25,Home_Plus_0_25,Home_Minus_0_5,Home_Plus_0_5,Home_Plus_0_75,Home_Plus_1,Home_Plus_1_25,Away_Plus_1_5,Home_Plus_1_5,Away_Plus_1_75,Home_Plus_1_75,Away_Plus_2,Home_Plus_2,Away_Plus_2_25,Home_Plus_2_25,Away_Plus_2_5,Home_Plus_2_5,Away_Plus_2_75,Home_Plus_2_75,Away_Plus_3,Home_Plus_3,under2_0,under3_0,under1_75,under2_25,under2_75'}, '1512866': {'id': '1512866', 'teamA': '512', 'teamB': '60', 'result': '{{0,0,1,0,7.2,nil,{193}},{1,0,1,0,15.0,10.4,{91}},{0,0,1,0,9.2,nil,{137}},{1,1,1,0,13.3,8.3,{298}},{0,1,1,0,10.0,nil,{68}},{0,0,0,0,8.9,nil,{285}}}', 'wonmarkets': 'Away,AwayAway,Draw_Away,Home_Away,_0_2,_2_Goals,over,goal,ng1,g2,ng3,g4,ng5,ng6,gc2,under2,nog,QAway,under3,under4,over0,HomeScoresUnder0,AwayScoresOver0,HomeScoresUnder1,AwayScoresOver1,HomeScoresUnder2,AwayScoresUnder2,HomeScoresUnder3,AwayScoresUnder3,_1x2AwayScoresOver1,_1x2AwayScoresUnder2,_1x2AwayScoresUnder3,_0-2_Goals,_0-3_Goals,_0-4_Goals,_0-5_Goals,_0-6_Goals,_1-2_Goals,_1-3_Goals,_1-4_Goals,_1-5_Goals,_1-6_Goals,_2-2_Goals,_2-3_Goals,_2-4_Goals,_2-5_Goals,_2-6_Goals,1H_Away,Away_0,Away_Plus_0_25,Away_Minus_0_25,Away_Plus_0_5,Away_Minus_0_5,Away_Plus_0_75,Away_Minus_0_75,Away_Plus_1,Away_Minus_1,Away_Plus_1_25,Away_Minus_1_25,Away_Plus_1_5,Away_Minus_1_5,Away_Plus_1_75,Away_Plus_2,Away_Plus_2_25,Away_Plus_2_5,Home_Plus_2_5,Away_Plus_2_75,Home_Plus_2_75,Away_Plus_3,Home_Plus_3,under3_0,under2_75'}, '1512867': {'id': '1512867', 'teamA': '53', 'teamB': '525', 'result': '{{0,0,1,0,10.0,nil,{163}},{1,0,1,0,15.0,12.3,{124}},{1,1,0,0,13.0,8.0,{278}},{1,1,1,0,13.5,8.5,{263}},{0,1,1,0,10.0,nil,{54}},{1,1,1,0,12.7,7.7,{251}}}', 'wonmarkets': 'Away,DrawAway,Draw_Away,Home_Away,_1_3,_4_Goals,over,goal,ng1,g2,g3,g4,ng5,g6,gc4,over2,gg,QAway,over3,under4,over0,HomeScoresOver0,AwayScoresOver0,HomeScoresUnder1,AwayScoresOver1,HomeScoresUnder2,AwayScoresOver2,HomeScoresUnder3,AwayScoresUnder3,_1x2AwayScoresOver1,_1x2AwayScoresOver2,_1x2AwayScoresOver3,_0-4_Goals,_0-5_Goals,_0-6_Goals,_1-4_Goals,_1-5_Goals,_1-6_Goals,_2-4_Goals,_2-5_Goals,_2-6_Goals,_3-4_Goals,_3-5_Goals,_3-6_Goals,_4-4_Goals,_4-5_Goals,_4-6_Goals,1H_Draw,Away_0,Away_Plus_0_25,Away_Minus_0_25,Away_Plus_0_5,Away_Minus_0_5,Away_Plus_0_75,Away_Minus_0_75,Away_Plus_1,Away_Minus_1,Away_Plus_1_25,Away_Minus_1_25,Away_Plus_1_5,Away_Minus_1_5,Away_Plus_1_75,Away_Plus_2,Away_Plus_2_25,Away_Plus_2_5,Home_Plus_2_5,Away_Plus_2_75,Home_Plus_2_75,Away_Plus_3,Home_Plus_3,over2_0,over3_0,over1_75,over2_25,over2_75'}, '1512868': {'id': '1512868', 'teamA': '58', 'teamB': '48', 'result': '{{1,0,1,0,15.0,10.7,{182}},{1,0,1,0,13.3,8.3,{298}},{1,0,1,0,13.9,8.9,{17,18}},{0,1,1,0,7.0,nil,{128}},{1,0,0,0,14.2,9.2,{204}},{0,1,1,0,10.0,nil,{295}}}', 'wonmarkets': 'Away,AwayAway,Draw_Away,Home_Away,_1_3,_4_Goals,over,goal,g1,g2,g3,ng4,g5,ng6,gc4,over2,gg,QAway,over3,under4,over0,HomeScoresOver0,AwayScoresOver0,HomeScoresUnder1,AwayScoresOver1,HomeScoresUnder2,AwayScoresOver2,HomeScoresUnder3,AwayScoresUnder3,_1x2AwayScoresOver1,_1x2AwayScoresOver2,_1x2AwayScoresOver3,_0-4_Goals,_0-5_Goals,_0-6_Goals,_1-4_Goals,_1-5_Goals,_1-6_Goals,_2-4_Goals,_2-5_Goals,_2-6_Goals,_3-4_Goals,_3-5_Goals,_3-6_Goals,_4-4_Goals,_4-5_Goals,_4-6_Goals,1H_Away,Away_0,Away_Plus_0_25,Away_Minus_0_25,Away_Plus_0_5,Away_Minus_0_5,Away_Plus_0_75,Away_Minus_0_75,Away_Plus_1,Away_Minus_1,Away_Plus_1_25,Away_Minus_1_25,Away_Plus_1_5,Away_Minus_1_5,Away_Plus_1_75,Away_Plus_2,Away_Plus_2_25,Away_Plus_2_5,Home_Plus_2_5,Away_Plus_2_75,Home_Plus_2_75,Away_Plus_3,Home_Plus_3,over2_0,over3_0,over1_75,over2_25,over2_75'}, '1512869': {'id': '1512869', 'teamA': '71', 'teamB': '55', 'result': '{{0,0,1,0,10.0,nil,{183}},{1,0,1,0,15.0,10.7,{35}},{1,0,1,0,15.0,10.0,{302}},{1,1,1,0,15.0,12.0,{1}},{0,0,0,0,8.3,nil,{66}},{1,0,0,0,14.4,9.4,{24}}}', 'wonmarkets': 'Away,AwayAway,Draw_Away,Home_Away,_1_3,_4_Goals,over,goal,ng1,g2,g3,g4,ng5,g6,gc4,over2,gg,QAway,over3,under4,over0,HomeScoresOver0,AwayScoresOver0,HomeScoresUnder1,AwayScoresOver1,HomeScoresUnder2,AwayScoresOver2,HomeScoresUnder3,AwayScoresUnder3,_1x2AwayScoresOver1,_1x2AwayScoresOver2,_1x2AwayScoresOver3,_0-4_Goals,_0-5_Goals,_0-6_Goals,_1-4_Goals,_1-5_Goals,_1-6_Goals,_2-4_Goals,_2-5_Goals,_2-6_Goals,_3-4_Goals,_3-5_Goals,_3-6_Goals,_4-4_Goals,_4-5_Goals,_4-6_Goals,1H_Away,Away_0,Away_Plus_0_25,Away_Minus_0_25,Away_Plus_0_5,Away_Minus_0_5,Away_Plus_0_75,Away_Minus_0_75,Away_Plus_1,Away_Minus_1,Away_Plus_1_25,Away_Minus_1_25,Away_Plus_1_5,Away_Minus_1_5,Away_Plus_1_75,Away_Plus_2,Away_Plus_2_25,Away_Plus_2_5,Home_Plus_2_5,Away_Plus_2_75,Home_Plus_2_75,Away_Plus_3,Home_Plus_3,over2_0,over3_0,over1_75,over2_25,over2_75'}, '1512870': {'id': '1512870', 'teamA': '1053', 'teamB': '47', 'result': '{{1,0,1,0,12.5,7.5,{28}},{1,0,1,0,15.0,12.0,{152,50}},{0,1,0,0,9.2,nil,{137}},{1,1,1,0,14.0,9.0,{46}},{1,0,0,0,15.0,10.7,{182}},{1,0,0,0,13.1,8.1,{123}}}', 'wonmarkets': 'Away,AwayAway,Draw_Away,Home_Away,_2_3,_5_Goals,over,goal,g1,g2,ng3,g4,g5,g6,gc5,over2,gg,QAway,over3,over4,over0,HomeScoresOver0,AwayScoresOver0,HomeScoresOver1,AwayScoresOver1,HomeScoresUnder2,AwayScoresOver2,HomeScoresUnder3,AwayScoresUnder3,_1x2AwayScoresOver1,_1x2AwayScoresOver2,_1x2AwayScoresOver3,_0-5_Goals,_0-6_Goals,_1-5_Goals,_1-6_Goals,_2-5_Goals,_2-6_Goals,_3-5_Goals,_3-6_Goals,_4-5_Goals,_4-6_Goals,_5-5_Goals,_5-6_Goals,1H_Away,Away_0,Away_Plus_0_25,Away_Minus_0_25,Away_Plus_0_5,Away_Minus_0_5,Away_Plus_0_75,Away_Plus_1,Away_Plus_1_25,Away_Plus_1_5,Home_Plus_1_5,Away_Plus_1_75,Home_Plus_1_75,Away_Plus_2,Home_Plus_2,Away_Plus_2_25,Home_Plus_2_25,Away_Plus_2_5,Home_Plus_2_5,Away_Plus_2_75,Home_Plus_2_75,Away_Plus_3,Home_Plus_3,over2_0,over3_0,over1_75,over2_25,over2_75'}}, '10': {'1512871': {'id': '1512871', 'teamA': '63', 'teamB': '1053', 'result': '{{1,1,0,0,15.0,10.7,{20}},{1,0,1,0,15.0,12.0,{152,50}},{1,0,1,0,13.4,8.4,{211}},{0,1,1,0,7.5,nil,{261}},{1,1,1,0,14.0,9.0,{46}},{0,0,0,0,6.3,nil,{252}}}', 'wonmarkets': 'Away,AwayAway,Draw_Away,Home_Away,_1_3,_4_Goals,over,goal,g1,g2,g3,ng4,g5,ng6,gc4,over2,gg,QAway,over3,under4,over0,HomeScoresOver0,AwayScoresOver0,HomeScoresUnder1,AwayScoresOver1,HomeScoresUnder2,AwayScoresOver2,HomeScoresUnder3,AwayScoresUnder3,_1x2AwayScoresOver1,_1x2AwayScoresOver2,_1x2AwayScoresOver3,_0-4_Goals,_0-5_Goals,_0-6_Goals,_1-4_Goals,_1-5_Goals,_1-6_Goals,_2-4_Goals,_2-5_Goals,_2-6_Goals,_3-4_Goals,_3-5_Goals,_3-6_Goals,_4-4_Goals,_4-5_Goals,_4-6_Goals,1H_Away,Away_0,Away_Plus_0_25,Away_Minus_0_25,Away_Plus_0_5,Away_Minus_0_5,Away_Plus_0_75,Away_Minus_0_75,Away_Plus_1,Away_Minus_1,Away_Plus_1_25,Away_Minus_1_25,Away_Plus_1_5,Away_Minus_1_5,Away_Plus_1_75,Away_Plus_2,Away_Plus_2_25,Away_Plus_2_5,Home_Plus_2_5,Away_Plus_2_75,Home_Plus_2_75,Away_Plus_3,Home_Plus_3,over2_0,over3_0,over1_75,over2_25,over2_75'}, '1512872': {'id': '1512872', 'teamA': '47', 'teamB': '53', 'result': '{{1,1,0,0,14.3,9.3,{56}},{1,0,1,0,14.4,9.4,{24}},{1,1,0,0,13.8,8.8,{7}},{1,1,1,0,13.0,8.0,{278}},{1,1,1,0,12.7,7.7,{13,14}},{1,0,0,0,13.3,8.3,{298}}}', 'wonmarkets': 'Draw,HomeDraw,Draw_Away,Home_Draw,_3_3,_6_Goals,over,goal,g1,g2,g3,g4,g5,g6,gc6,over2,gg,QDraw,over3,over4,over0,HomeScoresOver0,AwayScoresOver0,HomeScoresOver1,AwayScoresOver1,HomeScoresOver2,AwayScoresOver2,HomeScoresUnder3,AwayScoresUnder3,_1x2DrawScoresOver1,_1x2DrawScoresOver2,_1x2DrawScoresOver3,_0-6_Goals,_1-6_Goals,_2-6_Goals,_3-6_Goals,_4-6_Goals,_5-6_Goals,_6-6_Goals,1H_Home,Away_Plus_0_5,Home_Plus_0_5,Away_Plus_0_75,Home_Plus_0_75,Away_Plus_1,Home_Plus_1,Away_Plus_1_25,Home_Plus_1_25,Away_Plus_1_5,Home_Plus_1_5,Away_Plus_1_75,Home_Plus_1_75,Away_Plus_2,Home_Plus_2,Away_Plus_2_25,Home_Plus_2_25,Away_Plus_2_5,Home_Plus_2_5,Away_Plus_2_75,Home_Plus_2_75,Away_Plus_3,Home_Plus_3,over2_0,over3_0,over1_75,over2_25,over2_75'}, '1512873': {'id': '1512873', 'teamA': '512', 'teamB': '49', 'result': '{{1,1,0,0,15.0,10.8,{170}},{1,1,0,0,15.0,10.1,{143}},{0,1,0,0,7.0,nil,{128}},{1,0,0,0,15.0,10.1,{152,60}},{1,1,1,0,14.0,9.0,{243}},{1,1,1,0,12.3,7.3,{200}}}', 'wonmarkets': 'Home,HomeHome,Home_Away,Home_Draw,_3_2,_5_Goals,over,goal,g1,g2,ng3,g4,g5,g6,gc5,over2,gg,QHome,over3,over4,over0,HomeScoresOver0,AwayScoresOver0,HomeScoresOver1,AwayScoresOver1,HomeScoresOver2,AwayScoresUnder2,HomeScoresUnder3,AwayScoresUnder3,_1x2HomeScoresOver1,_1x2HomeScoresOver2,_1x2HomeScoresOver3,_0-5_Goals,_0-6_Goals,_1-5_Goals,_1-6_Goals,_2-5_Goals,_2-6_Goals,_3-5_Goals,_3-6_Goals,_4-5_Goals,_4-6_Goals,_5-5_Goals,_5-6_Goals,1H_Home,Home_0,Home_Minus_0_25,Home_Plus_0_25,Home_Minus_0_5,Home_Plus_0_5,Home_Plus_0_75,Home_Plus_1,Home_Plus_1_25,Away_Plus_1_5,Home_Plus_1_5,Away_Plus_1_75,Home_Plus_1_75,Away_Plus_2,Home_Plus_2,Away_Plus_2_25,Home_Plus_2_25,Away_Plus_2_5,Home_Plus_2_5,Away_Plus_2_75,Home_Plus_2_75,Away_Plus_3,Home_Plus_3,over2_0,over3_0,over1_75,over2_25,over2_75'}, '1512874': {'id': '1512874', 'teamA': '46', 'teamB': '58', 'result': '{{0,1,0,0,8.3,nil,{120}},{0,1,0,0,7.3,nil,{147}},{1,1,0,0,15.0,10.0,{101}},{0,1,1,0,10.6,nil,{216}},{1,0,0,0,15.0,10.0,{165}},{0,1,1,0,10.0,nil,{172}}}', 'wonmarkets': 'Home,HomeHome,Home_Away,Home_Draw,_2_0,_2_Goals,over,goal,ng1,ng2,g3,ng4,g5,ng6,gc2,under2,nog,QHome,under3,under4,over0,HomeScoresOver0,AwayScoresUnder0,HomeScoresOver1,AwayScoresUnder1,HomeScoresUnder2,AwayScoresUnder2,HomeScoresUnder3,AwayScoresUnder3,_1x2HomeScoresOver1,_1x2HomeScoresUnder2,_1x2HomeScoresUnder3,_0-2_Goals,_0-3_Goals,_0-4_Goals,_0-5_Goals,_0-6_Goals,_1-2_Goals,_1-3_Goals,_1-4_Goals,_1-5_Goals,_1-6_Goals,_2-2_Goals,_2-3_Goals,_2-4_Goals,_2-5_Goals,_2-6_Goals,1H_Home,Home_0,Home_Minus_0_25,Home_Plus_0_25,Home_Minus_0_5,Home_Plus_0_5,Home_Minus_0_75,Home_Plus_0_75,Home_Minus_1,Home_Plus_1,Home_Minus_1_25,Home_Plus_1_25,Home_Minus_1_5,Home_Plus_1_5,Home_Plus_1_75,Home_Plus_2,Home_Plus_2_25,Away_Plus_2_5,Home_Plus_2_5,Away_Plus_2_75,Home_Plus_2_75,Away_Plus_3,Home_Plus_3,under3_0,under2_75'}, '1512875': {'id': '1512875', 'teamA': '45', 'teamB': '50', 'result': '{{1,0,1,0,14.0,9.0,{46}},{1,0,1,0,13.6,8.6,{21}},{0,1,0,0,7.2,nil,{195}},{1,0,0,0,15.0,10.0,{101}},{0,0,0,0,6.7,nil,{201}},{0,0,0,0,6.7,nil,{203}}}', 'wonmarkets': 'Away,AwayAway,Draw_Away,Home_Away,_1_2,_3_Goals,over,goal,g1,g2,ng3,g4,ng5,ng6,gc3,over2,gg,QAway,under3,under4,over0,HomeScoresOver0,AwayScoresOver0,HomeScoresUnder1,AwayScoresOver1,HomeScoresUnder2,AwayScoresUnder2,HomeScoresUnder3,AwayScoresUnder3,_1x2AwayScoresOver1,_1x2AwayScoresOver2,_1x2AwayScoresUnder3,_0-3_Goals,_0-4_Goals,_0-5_Goals,_0-6_Goals,_1-3_Goals,_1-4_Goals,_1-5_Goals,_1-6_Goals,_2-3_Goals,_2-4_Goals,_2-5_Goals,_2-6_Goals,_3-3_Goals,_3-4_Goals,_3-5_Goals,_3-6_Goals,1H_Away,Away_0,Away_Plus_0_25,Away_Minus_0_25,Away_Plus_0_5,Away_Minus_0_5,Away_Plus_0_75,Away_Plus_1,Away_Plus_1_25,Away_Plus_1_5,Home_Plus_1_5,Away_Plus_1_75,Home_Plus_1_75,Away_Plus_2,Home_Plus_2,Away_Plus_2_25,Home_Plus_2_25,Away_Plus_2_5,Home_Plus_2_5,Away_Plus_2_75,Home_Plus_2_75,Away_Plus_3,Home_Plus_3,over2_0,over1_75,over2_25'}, '1512876': {'id': '1512876', 'teamA': '55', 'teamB': '52', 'result': '{{1,1,0,0,15.0,10.0,{155,39}},{0,0,1,0,9.0,nil,{144}},{1,0,1,0,14.6,9.6,{103}},{1,1,1,0,15.0,10.1,{143}},{1,1,1,0,14.1,9.1,{9}},{0,0,0,0,8.3,nil,{45}}}', 'wonmarkets': 'Away,DrawAway,Draw_Away,Home_Away,_1_3,_4_Goals,over,goal,g1,ng2,g3,g4,g5,ng6,gc4,over2,gg,QAway,over3,under4,over0,HomeScoresOver0,AwayScoresOver0,HomeScoresUnder1,AwayScoresOver1,HomeScoresUnder2,AwayScoresOver2,HomeScoresUnder3,AwayScoresUnder3,_1x2AwayScoresOver1,_1x2AwayScoresOver2,_1x2AwayScoresOver3,_0-4_Goals,_0-5_Goals,_0-6_Goals,_1-4_Goals,_1-5_Goals,_1-6_Goals,_2-4_Goals,_2-5_Goals,_2-6_Goals,_3-4_Goals,_3-5_Goals,_3-6_Goals,_4-4_Goals,_4-5_Goals,_4-6_Goals,1H_Draw,Away_0,Away_Plus_0_25,Away_Minus_0_25,Away_Plus_0_5,Away_Minus_0_5,Away_Plus_0_75,Away_Minus_0_75,Away_Plus_1,Away_Minus_1,Away_Plus_1_25,Away_Minus_1_25,Away_Plus_1_5,Away_Minus_1_5,Away_Plus_1_75,Away_Plus_2,Away_Plus_2_25,Away_Plus_2_5,Home_Plus_2_5,Away_Plus_2_75,Home_Plus_2_75,Away_Plus_3,Home_Plus_3,over2_0,over3_0,over1_75,over2_25,over2_75'}, '1512877': {'id': '1512877', 'teamA': '60', 'teamB': '972', 'result': '{{0,0,1,0,9.2,nil,{133}},{0,1,0,0,7.0,nil,{127}},{0,0,1,0,8.3,nil,{12}},{1,0,0,0,14.2,9.2,{204}},{0,0,0,0,8.8,nil,{244}},{0,1,1,0,10.0,nil,{27}}}', 'wonmarkets': 'Home,DrawHome,Home_Away,Home_Draw,_1_0,_1_Goals,under,goal,ng1,ng2,ng3,g4,ng5,ng6,gc1,under2,nog,QHome,under3,under4,over0,HomeScoresOver0,AwayScoresUnder0,HomeScoresUnder1,AwayScoresUnder1,HomeScoresUnder2,AwayScoresUnder2,HomeScoresUnder3,AwayScoresUnder3,_1x2HomeScoresUnder1,_1x2HomeScoresUnder2,_1x2HomeScoresUnder3,_0-1_Goals,_0-2_Goals,_0-3_Goals,_0-4_Goals,_0-5_Goals,_0-6_Goals,_1-1_Goals,_1-2_Goals,_1-3_Goals,_1-4_Goals,_1-5_Goals,_1-6_Goals,1H_Draw,Home_0,Home_Minus_0_25,Home_Plus_0_25,Home_Minus_0_5,Home_Plus_0_5,Home_Plus_0_75,Home_Plus_1,Home_Plus_1_25,Away_Plus_1_5,Home_Plus_1_5,Away_Plus_1_75,Home_Plus_1_75,Away_Plus_2,Home_Plus_2,Away_Plus_2_25,Home_Plus_2_25,Away_Plus_2_5,Home_Plus_2_5,Away_Plus_2_75,Home_Plus_2_75,Away_Plus_3,Home_Plus_3,under2_0,under3_0,under1_75,under2_25,under2_75'}, '1512878': {'id': '1512878', 'teamA': '48', 'teamB': '51', 'result': '{{0,1,0,0,8.3,nil,{175}},{0,0,1,0,9.2,nil,{13,33}},{1,0,1,0,15.0,10.0,{101}},{1,0,0,0,12.9,7.9,{13,32}},{1,1,1,0,15.0,10.0,{165}},{0,0,0,0,10.0,nil,{187}}}', 'wonmarkets': 'Away,AwayAway,Draw_Away,Home_Away,_1_2,_3_Goals,over,goal,ng1,ng2,g3,g4,g5,ng6,gc3,over2,gg,QAway,under3,under4,over0,HomeScoresOver0,AwayScoresOver0,HomeScoresUnder1,AwayScoresOver1,HomeScoresUnder2,AwayScoresUnder2,HomeScoresUnder3,AwayScoresUnder3,_1x2AwayScoresOver1,_1x2AwayScoresOver2,_1x2AwayScoresUnder3,_0-3_Goals,_0-4_Goals,_0-5_Goals,_0-6_Goals,_1-3_Goals,_1-4_Goals,_1-5_Goals,_1-6_Goals,_2-3_Goals,_2-4_Goals,_2-5_Goals,_2-6_Goals,_3-3_Goals,_3-4_Goals,_3-5_Goals,_3-6_Goals,1H_Away,Away_0,Away_Plus_0_25,Away_Minus_0_25,Away_Plus_0_5,Away_Minus_0_5,Away_Plus_0_75,Away_Plus_1,Away_Plus_1_25,Away_Plus_1_5,Home_Plus_1_5,Away_Plus_1_75,Home_Plus_1_75,Away_Plus_2,Home_Plus_2,Away_Plus_2_25,Home_Plus_2_25,Away_Plus_2_5,Home_Plus_2_5,Away_Plus_2_75,Home_Plus_2_75,Away_Plus_3,Home_Plus_3,over2_0,over1_75,over2_25'}, '1512879': {'id': '1512879', 'teamA': '525', 'teamB': '827', 'result': '{{0,0,1,0,10.0,nil,{75}},{0,1,0,0,10.0,nil,{230}},{1,1,0,0,13.6,8.6,{21}},{1,0,0,0,13.6,8.6,{21}},{0,0,0,0,10.2,nil,{224}},{0,0,0,0,7.2,nil,{193}}}', 'wonmarkets': 'Home,HomeHome,Home_Away,Home_Draw,_2_0,_2_Goals,over,goal,ng1,ng2,g3,g4,ng5,ng6,gc2,under2,nog,QHome,under3,under4,over0,HomeScoresOver0,AwayScoresUnder0,HomeScoresOver1,AwayScoresUnder1,HomeScoresUnder2,AwayScoresUnder2,HomeScoresUnder3,AwayScoresUnder3,_1x2HomeScoresOver1,_1x2HomeScoresUnder2,_1x2HomeScoresUnder3,_0-2_Goals,_0-3_Goals,_0-4_Goals,_0-5_Goals,_0-6_Goals,_1-2_Goals,_1-3_Goals,_1-4_Goals,_1-5_Goals,_1-6_Goals,_2-2_Goals,_2-3_Goals,_2-4_Goals,_2-5_Goals,_2-6_Goals,1H_Home,Home_0,Home_Minus_0_25,Home_Plus_0_25,Home_Minus_0_5,Home_Plus_0_5,Home_Minus_0_75,Home_Plus_0_75,Home_Minus_1,Home_Plus_1,Home_Minus_1_25,Home_Plus_1_25,Home_Minus_1_5,Home_Plus_1_5,Home_Plus_1_75,Home_Plus_2,Home_Plus_2_25,Away_Plus_2_5,Home_Plus_2_5,Away_Plus_2_75,Home_Plus_2_75,Away_Plus_3,Home_Plus_3,under3_0,under2_75'}, '1512880': {'id': '1512880', 'teamA': '67', 'teamB': '71', 'result': '{{0,1,0,0,9.2,nil,{246}},{1,1,0,0,14.4,9.4,{24}},{1,1,0,0,12.9,7.9,{17,32}},{1,0,0,0,14.1,9.1,{9}},{1,0,0,0,13.3,8.3,{298}},{1,0,0,0,15.0,10.8,{15}}}', 'wonmarkets': 'Home,HomeHome,Home_Away,Home_Draw,_5_0,_5_Goals,over,goal,ng1,g2,g3,g4,g5,g6,gc5,over2,nog,QHome,over3,over4,over0,HomeScoresOver0,AwayScoresUnder0,HomeScoresOver1,AwayScoresUnder1,HomeScoresOver2,AwayScoresUnder2,HomeScoresOver3,AwayScoresUnder3,_1x2HomeScoresOver1,_1x2HomeScoresOver2,_1x2HomeScoresOver3,_0-5_Goals,_0-6_Goals,_1-5_Goals,_1-6_Goals,_2-5_Goals,_2-6_Goals,_3-5_Goals,_3-6_Goals,_4-5_Goals,_4-6_Goals,_5-5_Goals,_5-6_Goals,1H_Home,Home_0,Home_Minus_0_25,Home_Plus_0_25,Home_Minus_0_5,Home_Plus_0_5,Home_Minus_0_75,Home_Plus_0_75,Home_Minus_1,Home_Plus_1,Home_Minus_1_25,Home_Plus_1_25,Home_Minus_1_5,Home_Plus_1_5,Home_Minus_1_75,Home_Plus_1_75,Home_Minus_2,Home_Plus_2,Home_Minus_2_25,Home_Plus_2_25,Home_Minus_2_5,Home_Plus_2_5,Home_Minus_2_75,Home_Plus_2_75,Home_Minus_3,Home_Plus_3,over2_0,over3_0,over1_75,over2_25,over2_75'}}, '11': {'1512881': {'id': '1512881', 'teamA': '49', 'teamB': '60', 'result': '{{0,1,0,0,8.3,nil,{80}},{1,1,0,0,15.0,11.1,{215}},{0,1,0,0,8.8,nil,{241}},{0,0,0,0,7.3,nil,{149}},{0,1,1,0,10.0,nil,{110}},{0,0,0,0,11.0,nil,{234}}}', 'wonmarkets': 'Home,HomeHome,Home_Away,Home_Draw,_1_0,_1_Goals,under,goal,ng1,g2,ng3,ng4,ng5,ng6,gc1,under2,nog,QHome,under3,under4,over0,HomeScoresOver0,AwayScoresUnder0,HomeScoresUnder1,AwayScoresUnder1,HomeScoresUnder2,AwayScoresUnder2,HomeScoresUnder3,AwayScoresUnder3,_1x2HomeScoresUnder1,_1x2HomeScoresUnder2,_1x2HomeScoresUnder3,_0-1_Goals,_0-2_Goals,_0-3_Goals,_0-4_Goals,_0-5_Goals,_0-6_Goals,_1-1_Goals,_1-2_Goals,_1-3_Goals,_1-4_Goals,_1-5_Goals,_1-6_Goals,1H_Home,Home_0,Home_Minus_0_25,Home_Plus_0_25,Home_Minus_0_5,Home_Plus_0_5,Home_Plus_0_75,Home_Plus_1,Home_Plus_1_25,Away_Plus_1_5,Home_Plus_1_5,Away_Plus_1_75,Home_Plus_1_75,Away_Plus_2,Home_Plus_2,Away_Plus_2_25,Home_Plus_2_25,Away_Plus_2_5,Home_Plus_2_5,Away_Plus_2_75,Home_Plus_2_75,Away_Plus_3,Home_Plus_3,under2_0,under3_0,under1_75,under2_25,under2_75'}, '1512882': {'id': '1512882', 'teamA': '50', 'teamB': '55', 'result': '{{1,0,1,0,15.0,10.0,{22}},{0,1,0,0,10.0,nil,{99}},{0,0,1,0,8.3,nil,{80}},{0,1,1,0,8.3,nil,{116}},{1,0,0,0,14.3,9.3,{56}},{1,0,0,0,15.0,10.7,{20}}}', 'wonmarkets': 'Home,AwayHome,Home_Away,Home_Draw,_2_1,_3_Goals,over,goal,g1,ng2,ng3,ng4,g5,g6,gc3,over2,gg,QHome,under3,under4,over0,HomeScoresOver0,AwayScoresOver0,HomeScoresOver1,AwayScoresUnder1,HomeScoresUnder2,AwayScoresUnder2,HomeScoresUnder3,AwayScoresUnder3,_1x2HomeScoresOver1,_1x2HomeScoresOver2,_1x2HomeScoresUnder3,_0-3_Goals,_0-4_Goals,_0-5_Goals,_0-6_Goals,_1-3_Goals,_1-4_Goals,_1-5_Goals,_1-6_Goals,_2-3_Goals,_2-4_Goals,_2-5_Goals,_2-6_Goals,_3-3_Goals,_3-4_Goals,_3-5_Goals,_3-6_Goals,1H_Away,Home_0,Home_Minus_0_25,Home_Plus_0_25,Home_Minus_0_5,Home_Plus_0_5,Home_Plus_0_75,Home_Plus_1,Home_Plus_1_25,Away_Plus_1_5,Home_Plus_1_5,Away_Plus_1_75,Home_Plus_1_75,Away_Plus_2,Home_Plus_2,Away_Plus_2_25,Home_Plus_2_25,Away_Plus_2_5,Home_Plus_2_5,Away_Plus_2_75,Home_Plus_2_75,Away_Plus_3,Home_Plus_3,over2_0,over1_75,over2_25'}, '1512883': {'id': '1512883', 'teamA': '52', 'teamB': '67', 'result': '{{0,0,1,0,6.3,nil,{324}},{1,1,0,0,15.0,10.8,{15}},{0,0,1,0,10.0,nil,{110}},{1,1,1,0,13.4,8.4,{211}},{1,0,0,0,12.7,7.7,{11}},{0,0,0,0,8.3,nil,{111}}}', 'wonmarkets': 'Home,HomeHome,Home_Away,Home_Draw,_2_1,_3_Goals,over,goal,ng1,g2,ng3,g4,g5,ng6,gc3,over2,gg,QHome,under3,under4,over0,HomeScoresOver0,AwayScoresOver0,HomeScoresOver1,AwayScoresUnder1,HomeScoresUnder2,AwayScoresUnder2,HomeScoresUnder3,AwayScoresUnder3,_1x2HomeScoresOver1,_1x2HomeScoresOver2,_1x2HomeScoresUnder3,_0-3_Goals,_0-4_Goals,_0-5_Goals,_0-6_Goals,_1-3_Goals,_1-4_Goals,_1-5_Goals,_1-6_Goals,_2-3_Goals,_2-4_Goals,_2-5_Goals,_2-6_Goals,_3-3_Goals,_3-4_Goals,_3-5_Goals,_3-6_Goals,1H_Home,Home_0,Home_Minus_0_25,Home_Plus_0_25,Home_Minus_0_5,Home_Plus_0_5,Home_Plus_0_75,Home_Plus_1,Home_Plus_1_25,Away_Plus_1_5,Home_Plus_1_5,Away_Plus_1_75,Home_Plus_1_75,Away_Plus_2,Home_Plus_2,Away_Plus_2_25,Home_Plus_2_25,Away_Plus_2_5,Home_Plus_2_5,Away_Plus_2_75,Home_Plus_2_75,Away_Plus_3,Home_Plus_3,over2_0,over1_75,over2_25'}, '1512884': {'id': '1512884', 'teamA': '827', 'teamB': '47', 'result': '{{0,1,0,0,8.9,nil,{285}},{1,1,0,0,14.2,9.2,{219}},{0,1,0,0,10.0,nil,{75}},{1,1,1,0,13.8,8.8,{274}},{0,0,0,0,10.0,nil,{68}},{1,0,0,0,13.5,8.5,{263}}}', 'wonmarkets': 'Home,HomeHome,Home_Away,Home_Draw,_2_1,_3_Goals,over,goal,ng1,g2,ng3,g4,ng5,g6,gc3,over2,gg,QHome,under3,under4,over0,HomeScoresOver0,AwayScoresOver0,HomeScoresOver1,AwayScoresUnder1,HomeScoresUnder2,AwayScoresUnder2,HomeScoresUnder3,AwayScoresUnder3,_1x2HomeScoresOver1,_1x2HomeScoresOver2,_1x2HomeScoresUnder3,_0-3_Goals,_0-4_Goals,_0-5_Goals,_0-6_Goals,_1-3_Goals,_1-4_Goals,_1-5_Goals,_1-6_Goals,_2-3_Goals,_2-4_Goals,_2-5_Goals,_2-6_Goals,_3-3_Goals,_3-4_Goals,_3-5_Goals,_3-6_Goals,1H_Home,Home_0,Home_Minus_0_25,Home_Plus_0_25,Home_Minus_0_5,Home_Plus_0_5,Home_Plus_0_75,Home_Plus_1,Home_Plus_1_25,Away_Plus_1_5,Home_Plus_1_5,Away_Plus_1_75,Home_Plus_1_75,Away_Plus_2,Home_Plus_2,Away_Plus_2_25,Home_Plus_2_25,Away_Plus_2_5,Home_Plus_2_5,Away_Plus_2_75,Home_Plus_2_75,Away_Plus_3,Home_Plus_3,over2_0,over1_75,over2_25'}, '1512885': {'id': '1512885', 'teamA': '1053', 'teamB': '48', 'result': '{{0,1,0,0,8.3,nil,{108}},{1,0,1,0,13.1,8.1,{123}},{0,0,1,0,8.3,nil,{66}},{1,0,0,0,15.0,10.4,{91}},{0,0,0,0,7.2,nil,{195}},{0,0,0,0,8.3,nil,{121}}}', 'wonmarkets': 'Draw,AwayDraw,Draw_Away,Home_Draw,_1_1,_2_Goals,over,goal,ng1,g2,ng3,g4,ng5,ng6,gc2,under2,gg,QDraw,under3,under4,over0,HomeScoresOver0,AwayScoresOver0,HomeScoresUnder1,AwayScoresUnder1,HomeScoresUnder2,AwayScoresUnder2,HomeScoresUnder3,AwayScoresUnder3,_1x2DrawScoresOver1,_1x2DrawScoresUnder2,_1x2DrawScoresUnder3,_0-2_Goals,_0-3_Goals,_0-4_Goals,_0-5_Goals,_0-6_Goals,_1-2_Goals,_1-3_Goals,_1-4_Goals,_1-5_Goals,_1-6_Goals,_2-2_Goals,_2-3_Goals,_2-4_Goals,_2-5_Goals,_2-6_Goals,1H_Away,Away_Plus_0_5,Home_Plus_0_5,Away_Plus_0_75,Home_Plus_0_75,Away_Plus_1,Home_Plus_1,Away_Plus_1_25,Home_Plus_1_25,Away_Plus_1_5,Home_Plus_1_5,Away_Plus_1_75,Home_Plus_1_75,Away_Plus_2,Home_Plus_2,Away_Plus_2_25,Home_Plus_2_25,Away_Plus_2_5,Home_Plus_2_5,Away_Plus_2_75,Home_Plus_2_75,Away_Plus_3,Home_Plus_3,under3_0,under2_75'}, '1512886': {'id': '1512886', 'teamA': '53', 'teamB': '63', 'result': '{{0,0,1,0,7.0,nil,{129}},{0,0,1,0,8.8,nil,{257}},{1,1,0,0,15.0,10.1,{143}},{0,1,1,0,13.3,nil,{152,52}},{0,1,1,0,8.9,nil,{283}},{1,0,0,0,15.0,10.4,{91}}}', 'wonmarkets': 'Home,HomeHome,Home_Away,Home_Draw,_2_0,_2_Goals,over,goal,ng1,ng2,g3,ng4,ng5,g6,gc2,under2,nog,QHome,under3,under4,over0,HomeScoresOver0,AwayScoresUnder0,HomeScoresOver1,AwayScoresUnder1,HomeScoresUnder2,AwayScoresUnder2,HomeScoresUnder3,AwayScoresUnder3,_1x2HomeScoresOver1,_1x2HomeScoresUnder2,_1x2HomeScoresUnder3,_0-2_Goals,_0-3_Goals,_0-4_Goals,_0-5_Goals,_0-6_Goals,_1-2_Goals,_1-3_Goals,_1-4_Goals,_1-5_Goals,_1-6_Goals,_2-2_Goals,_2-3_Goals,_2-4_Goals,_2-5_Goals,_2-6_Goals,1H_Home,Home_0,Home_Minus_0_25,Home_Plus_0_25,Home_Minus_0_5,Home_Plus_0_5,Home_Minus_0_75,Home_Plus_0_75,Home_Minus_1,Home_Plus_1,Home_Minus_1_25,Home_Plus_1_25,Home_Minus_1_5,Home_Plus_1_5,Home_Plus_1_75,Home_Plus_2,Home_Plus_2_25,Away_Plus_2_5,Home_Plus_2_5,Away_Plus_2_75,Home_Plus_2_75,Away_Plus_3,Home_Plus_3,under3_0,under2_75'}, '1512887': {'id': '1512887', 'teamA': '58', 'teamB': '45', 'result': '{{0,1,0,0,8.3,nil,{47}},{1,0,1,0,14.6,9.6,{103}},{1,0,1,0,15.0,11.6,{95}},{1,1,1,0,13.8,8.8,{274}},{1,0,0,0,15.0,10.1,{143}},{0,0,0,0,10.0,nil,{163}}}', 'wonmarkets': 'Away,AwayAway,Draw_Away,Home_Away,_1_3,_4_Goals,over,goal,ng1,g2,g3,g4,g5,ng6,gc4,over2,gg,QAway,over3,under4,over0,HomeScoresOver0,AwayScoresOver0,HomeScoresUnder1,AwayScoresOver1,HomeScoresUnder2,AwayScoresOver2,HomeScoresUnder3,AwayScoresUnder3,_1x2AwayScoresOver1,_1x2AwayScoresOver2,_1x2AwayScoresOver3,_0-4_Goals,_0-5_Goals,_0-6_Goals,_1-4_Goals,_1-5_Goals,_1-6_Goals,_2-4_Goals,_2-5_Goals,_2-6_Goals,_3-4_Goals,_3-5_Goals,_3-6_Goals,_4-4_Goals,_4-5_Goals,_4-6_Goals,1H_Away,Away_0,Away_Plus_0_25,Away_Minus_0_25,Away_Plus_0_5,Away_Minus_0_5,Away_Plus_0_75,Away_Minus_0_75,Away_Plus_1,Away_Minus_1,Away_Plus_1_25,Away_Minus_1_25,Away_Plus_1_5,Away_Minus_1_5,Away_Plus_1_75,Away_Plus_2,Away_Plus_2_25,Away_Plus_2_5,Home_Plus_2_5,Away_Plus_2_75,Home_Plus_2_75,Away_Plus_3,Home_Plus_3,over2_0,over3_0,over1_75,over2_25,over2_75'}, '1512888': {'id': '1512888', 'teamA': '71', 'teamB': '512', 'result': '{{0,0,1,0,8.3,nil,{125}},{0,1,0,0,10.0,nil,{112}},{0,0,1,0,9.2,nil,{136}},{1,1,1,0,13.4,8.4,{211}},{1,0,0,0,15.0,10.0,{22}},{1,1,1,0,14.0,9.0,{243}}}', 'wonmarkets': 'Away,DrawAway,Draw_Away,Home_Away,_1_2,_3_Goals,over,goal,ng1,ng2,ng3,g4,g5,g6,gc3,over2,gg,QAway,under3,under4,over0,HomeScoresOver0,AwayScoresOver0,HomeScoresUnder1,AwayScoresOver1,HomeScoresUnder2,AwayScoresUnder2,HomeScoresUnder3,AwayScoresUnder3,_1x2AwayScoresOver1,_1x2AwayScoresOver2,_1x2AwayScoresUnder3,_0-3_Goals,_0-4_Goals,_0-5_Goals,_0-6_Goals,_1-3_Goals,_1-4_Goals,_1-5_Goals,_1-6_Goals,_2-3_Goals,_2-4_Goals,_2-5_Goals,_2-6_Goals,_3-3_Goals,_3-4_Goals,_3-5_Goals,_3-6_Goals,1H_Draw,Away_0,Away_Plus_0_25,Away_Minus_0_25,Away_Plus_0_5,Away_Minus_0_5,Away_Plus_0_75,Away_Plus_1,Away_Plus_1_25,Away_Plus_1_5,Home_Plus_1_5,Away_Plus_1_75,Home_Plus_1_75,Away_Plus_2,Home_Plus_2,Away_Plus_2_25,Home_Plus_2_25,Away_Plus_2_5,Home_Plus_2_5,Away_Plus_2_75,Home_Plus_2_75,Away_Plus_3,Home_Plus_3,over2_0,over1_75,over2_25'}, '1512889': {'id': '1512889', 'teamA': '972', 'teamB': '525', 'result': '{{0,0,1,0,8.3,nil,{303}},{0,1,0,0,10.2,nil,{224}},{0,0,1,0,8.0,nil,{220}},{0,1,1,0,9.2,nil,{181}},{0,1,1,0,8.3,nil,{94}},{0,0,0,0,10.0,nil,{297}}}', 'wonmarkets': 'Draw,DrawDraw,Draw_Away,Home_Draw,_0_0,_0_Goals,under,nogoal,ng1,ng2,ng3,ng4,ng5,ng6,under2,nog,QDraw,under3,under4,under0,HomeScoresUnder0,AwayScoresUnder0,HomeScoresUnder1,AwayScoresUnder1,HomeScoresUnder2,AwayScoresUnder2,HomeScoresUnder3,AwayScoresUnder3,_1x2DrawScoresUnder1,_1x2DrawScoresUnder2,_1x2DrawScoresUnder3,_0-0_Goals,_0-1_Goals,_0-2_Goals,_0-3_Goals,_0-4_Goals,_0-5_Goals,_0-6_Goals,1H_Draw,Away_Plus_0_5,Home_Plus_0_5,Away_Plus_0_75,Home_Plus_0_75,Away_Plus_1,Home_Plus_1,Away_Plus_1_25,Home_Plus_1_25,Away_Plus_1_5,Home_Plus_1_5,Away_Plus_1_75,Home_Plus_1_75,Away_Plus_2,Home_Plus_2,Away_Plus_2_25,Home_Plus_2_25,Away_Plus_2_5,Home_Plus_2_5,Away_Plus_2_75,Home_Plus_2_75,Away_Plus_3,Home_Plus_3,under2_0,under3_0,under1_75,under2_25,under2_75'}, '1512890': {'id': '1512890', 'teamA': '51', 'teamB': '46', 'result': '{{0,1,0,0,11.0,nil,{233}},{0,1,0,0,11.2,nil,{197}},{1,1,0,0,12.7,7.7,{13,14}},{1,0,0,0,14.0,9.0,{290}},{0,1,1,0,8.8,nil,{309}},{0,1,1,0,8.3,nil,{132}}}', 'wonmarkets': 'Home,HomeHome,Home_Away,Home_Draw,_2_0,_2_Goals,over,goal,ng1,ng2,g3,g4,ng5,ng6,gc2,under2,nog,QHome,under3,under4,over0,HomeScoresOver0,AwayScoresUnder0,HomeScoresOver1,AwayScoresUnder1,HomeScoresUnder2,AwayScoresUnder2,HomeScoresUnder3,AwayScoresUnder3,_1x2HomeScoresOver1,_1x2HomeScoresUnder2,_1x2HomeScoresUnder3,_0-2_Goals,_0-3_Goals,_0-4_Goals,_0-5_Goals,_0-6_Goals,_1-2_Goals,_1-3_Goals,_1-4_Goals,_1-5_Goals,_1-6_Goals,_2-2_Goals,_2-3_Goals,_2-4_Goals,_2-5_Goals,_2-6_Goals,1H_Home,Home_0,Home_Minus_0_25,Home_Plus_0_25,Home_Minus_0_5,Home_Plus_0_5,Home_Minus_0_75,Home_Plus_0_75,Home_Minus_1,Home_Plus_1,Home_Minus_1_25,Home_Plus_1_25,Home_Minus_1_5,Home_Plus_1_5,Home_Plus_1_75,Home_Plus_2,Home_Plus_2_25,Away_Plus_2_5,Home_Plus_2_5,Away_Plus_2_75,Home_Plus_2_75,Away_Plus_3,Home_Plus_3,under3_0,under2_75'}}, '12': {'1512891': {'id': '1512891', 'teamA': '48', 'teamB': '53', 'result': '{{0,1,0,0,10.0,nil,{163}},{1,0,1,0,14.9,9.9,{19}},{0,1,0,0,8.8,nil,{276}},{0,1,1,0,10.0,nil,{230}},{1,0,0,0,14.9,9.9,{19}},{0,0,0,0,8.0,nil,{220}}}', 'wonmarkets': 'Draw,AwayDraw,Draw_Away,Home_Draw,_1_1,_2_Goals,over,goal,ng1,g2,ng3,ng4,g5,ng6,gc2,under2,gg,QDraw,under3,under4,over0,HomeScoresOver0,AwayScoresOver0,HomeScoresUnder1,AwayScoresUnder1,HomeScoresUnder2,AwayScoresUnder2,HomeScoresUnder3,AwayScoresUnder3,_1x2DrawScoresOver1,_1x2DrawScoresUnder2,_1x2DrawScoresUnder3,_0-2_Goals,_0-3_Goals,_0-4_Goals,_0-5_Goals,_0-6_Goals,_1-2_Goals,_1-3_Goals,_1-4_Goals,_1-5_Goals,_1-6_Goals,_2-2_Goals,_2-3_Goals,_2-4_Goals,_2-5_Goals,_2-6_Goals,1H_Away,Away_Plus_0_5,Home_Plus_0_5,Away_Plus_0_75,Home_Plus_0_75,Away_Plus_1,Home_Plus_1,Away_Plus_1_25,Home_Plus_1_25,Away_Plus_1_5,Home_Plus_1_5,Away_Plus_1_75,Home_Plus_1_75,Away_Plus_2,Home_Plus_2,Away_Plus_2_25,Home_Plus_2_25,Away_Plus_2_5,Home_Plus_2_5,Away_Plus_2_75,Home_Plus_2_75,Away_Plus_3,Home_Plus_3,under3_0,under2_75'}, '1512892': {'id': '1512892', 'teamA': '63', 'teamB': '827', 'result': '{{1,1,0,0,15.0,10.0,{155,39}},{1,1,0,0,12.5,7.5,{28}},{1,1,0,0,15.0,10.7,{182}},{1,0,0,0,13.4,8.4,{208}},{1,1,1,0,15.0,12.0,{152,50}},{1,0,0,0,14.3,9.3,{56}}}', 'wonmarkets': 'Home,HomeHome,Home_Away,Home_Draw,_5_1,_6_Goals,over,goal,g1,g2,g3,g4,g5,g6,gc6,over2,gg,QHome,over3,over4,over0,HomeScoresOver0,AwayScoresOver0,HomeScoresOver1,AwayScoresUnder1,HomeScoresOver2,AwayScoresUnder2,HomeScoresOver3,AwayScoresUnder3,_1x2HomeScoresOver1,_1x2HomeScoresOver2,_1x2HomeScoresOver3,_0-6_Goals,_1-6_Goals,_2-6_Goals,_3-6_Goals,_4-6_Goals,_5-6_Goals,_6-6_Goals,1H_Home,Home_0,Home_Minus_0_25,Home_Plus_0_25,Home_Minus_0_5,Home_Plus_0_5,Home_Minus_0_75,Home_Plus_0_75,Home_Minus_1,Home_Plus_1,Home_Minus_1_25,Home_Plus_1_25,Home_Minus_1_5,Home_Plus_1_5,Home_Minus_1_75,Home_Plus_1_75,Home_Minus_2,Home_Plus_2,Home_Minus_2_25,Home_Plus_2_25,Home_Minus_2_5,Home_Plus_2_5,Home_Minus_2_75,Home_Plus_2_75,Home_Minus_3,Home_Plus_3,over2_0,over3_0,over1_75,over2_25,over2_75'}, '1512893': {'id': '1512893', 'teamA': '60', 'teamB': '525', 'result': '{{0,0,1,0,8.0,nil,{191}},{1,1,0,0,13.0,8.0,{278}},{0,0,1,0,8.3,nil,{116}},{1,1,1,0,15.0,10.8,{170}},{0,1,1,0,11.0,nil,{233}},{1,1,1,0,15.0,11.0,{139}}}', 'wonmarkets': 'Away,HomeAway,Draw_Away,Home_Away,_1_2,_3_Goals,over,goal,ng1,g2,ng3,g4,ng5,g6,gc3,over2,gg,QAway,under3,under4,over0,HomeScoresOver0,AwayScoresOver0,HomeScoresUnder1,AwayScoresOver1,HomeScoresUnder2,AwayScoresUnder2,HomeScoresUnder3,AwayScoresUnder3,_1x2AwayScoresOver1,_1x2AwayScoresOver2,_1x2AwayScoresUnder3,_0-3_Goals,_0-4_Goals,_0-5_Goals,_0-6_Goals,_1-3_Goals,_1-4_Goals,_1-5_Goals,_1-6_Goals,_2-3_Goals,_2-4_Goals,_2-5_Goals,_2-6_Goals,_3-3_Goals,_3-4_Goals,_3-5_Goals,_3-6_Goals,1H_Home,Away_0,Away_Plus_0_25,Away_Minus_0_25,Away_Plus_0_5,Away_Minus_0_5,Away_Plus_0_75,Away_Plus_1,Away_Plus_1_25,Away_Plus_1_5,Home_Plus_1_5,Away_Plus_1_75,Home_Plus_1_75,Away_Plus_2,Home_Plus_2,Away_Plus_2_25,Home_Plus_2_25,Away_Plus_2_5,Home_Plus_2_5,Away_Plus_2_75,Home_Plus_2_75,Away_Plus_3,Home_Plus_3,over2_0,over1_75,over2_25'}, '1512894': {'id': '1512894', 'teamA': '55', 'teamB': '58', 'result': '{{1,1,0,0,14.4,9.4,{118}},{1,1,0,0,13.2,8.2,{192}},{1,0,1,0,14.3,9.3,{56}},{1,1,1,0,12.3,7.3,{200}},{0,0,0,0,8.3,nil,{117}},{1,0,0,0,15.0,11.0,{139}}}', 'wonmarkets': 'Home,HomeHome,Home_Away,Home_Draw,_3_2,_5_Goals,over,goal,g1,g2,g3,g4,ng5,g6,gc5,over2,gg,QHome,over3,over4,over0,HomeScoresOver0,AwayScoresOver0,HomeScoresOver1,AwayScoresOver1,HomeScoresOver2,AwayScoresUnder2,HomeScoresUnder3,AwayScoresUnder3,_1x2HomeScoresOver1,_1x2HomeScoresOver2,_1x2HomeScoresOver3,_0-5_Goals,_0-6_Goals,_1-5_Goals,_1-6_Goals,_2-5_Goals,_2-6_Goals,_3-5_Goals,_3-6_Goals,_4-5_Goals,_4-6_Goals,_5-5_Goals,_5-6_Goals,1H_Home,Home_0,Home_Minus_0_25,Home_Plus_0_25,Home_Minus_0_5,Home_Plus_0_5,Home_Plus_0_75,Home_Plus_1,Home_Plus_1_25,Away_Plus_1_5,Home_Plus_1_5,Away_Plus_1_75,Home_Plus_1_75,Away_Plus_2,Home_Plus_2,Away_Plus_2_25,Home_Plus_2_25,Away_Plus_2_5,Home_Plus_2_5,Away_Plus_2_75,Home_Plus_2_75,Away_Plus_3,Home_Plus_3,over2_0,over3_0,over1_75,over2_25,over2_75'}, '1512895': {'id': '1512895', 'teamA': '512', 'teamB': '52', 'result': '{{1,1,0,0,12.7,7.7,{11}},{1,1,0,0,15.0,10.0,{101}},{1,1,0,0,15.0,10.0,{109}},{1,0,0,0,15.0,10.6,{174}},{1,1,1,0,15.0,11.1,{67}},{1,0,0,0,15.0,10.8,{15}}}', 'wonmarkets': 'Home,HomeHome,Home_Away,Home_Draw,_5_1,_6_Goals,over,goal,g1,g2,g3,g4,g5,g6,gc6,over2,gg,QHome,over3,over4,over0,HomeScoresOver0,AwayScoresOver0,HomeScoresOver1,AwayScoresUnder1,HomeScoresOver2,AwayScoresUnder2,HomeScoresOver3,AwayScoresUnder3,_1x2HomeScoresOver1,_1x2HomeScoresOver2,_1x2HomeScoresOver3,_0-6_Goals,_1-6_Goals,_2-6_Goals,_3-6_Goals,_4-6_Goals,_5-6_Goals,_6-6_Goals,1H_Home,Home_0,Home_Minus_0_25,Home_Plus_0_25,Home_Minus_0_5,Home_Plus_0_5,Home_Minus_0_75,Home_Plus_0_75,Home_Minus_1,Home_Plus_1,Home_Minus_1_25,Home_Plus_1_25,Home_Minus_1_5,Home_Plus_1_5,Home_Minus_1_75,Home_Plus_1_75,Home_Minus_2,Home_Plus_2,Home_Minus_2_25,Home_Plus_2_25,Home_Minus_2_5,Home_Plus_2_5,Home_Minus_2_75,Home_Plus_2_75,Home_Minus_3,Home_Plus_3,over2_0,over3_0,over1_75,over2_25,over2_75'}, '1512896': {'id': '1512896', 'teamA': '45', 'teamB': '51', 'result': '{{1,1,0,0,15.0,10.4,{91}},{0,1,0,0,6.3,nil,{324}},{1,1,0,0,15.0,10.6,{174}},{0,1,1,0,8.3,nil,{142}},{0,0,0,0,10.0,nil,{187}},{0,1,1,0,9.2,nil,{152,76}}}', 'wonmarkets': 'Home,HomeHome,Home_Away,Home_Draw,_2_0,_2_Goals,over,goal,g1,ng2,g3,ng4,ng5,ng6,gc2,under2,nog,QHome,under3,under4,over0,HomeScoresOver0,AwayScoresUnder0,HomeScoresOver1,AwayScoresUnder1,HomeScoresUnder2,AwayScoresUnder2,HomeScoresUnder3,AwayScoresUnder3,_1x2HomeScoresOver1,_1x2HomeScoresUnder2,_1x2HomeScoresUnder3,_0-2_Goals,_0-3_Goals,_0-4_Goals,_0-5_Goals,_0-6_Goals,_1-2_Goals,_1-3_Goals,_1-4_Goals,_1-5_Goals,_1-6_Goals,_2-2_Goals,_2-3_Goals,_2-4_Goals,_2-5_Goals,_2-6_Goals,1H_Home,Home_0,Home_Minus_0_25,Home_Plus_0_25,Home_Minus_0_5,Home_Plus_0_5,Home_Minus_0_75,Home_Plus_0_75,Home_Minus_1,Home_Plus_1,Home_Minus_1_25,Home_Plus_1_25,Home_Minus_1_5,Home_Plus_1_5,Home_Plus_1_75,Home_Plus_2,Home_Plus_2_25,Away_Plus_2_5,Home_Plus_2_5,Away_Plus_2_75,Home_Plus_2_75,Away_Plus_3,Home_Plus_3,under3_0,under2_75'}, '1512897': {'id': '1512897', 'teamA': '46', 'teamB': '1053', 'result': '{{1,1,0,0,13.1,8.1,{123}},{0,1,0,0,10.0,nil,{205}},{0,1,0,0,8.3,nil,{43}},{1,0,0,0,12.9,7.9,{156}},{0,1,1,0,8.4,nil,{316}},{0,1,1,0,8.8,nil,{244}}}', 'wonmarkets': 'Home,HomeHome,Home_Away,Home_Draw,_2_0,_2_Goals,over,goal,g1,ng2,ng3,g4,ng5,ng6,gc2,under2,nog,QHome,under3,under4,over0,HomeScoresOver0,AwayScoresUnder0,HomeScoresOver1,AwayScoresUnder1,HomeScoresUnder2,AwayScoresUnder2,HomeScoresUnder3,AwayScoresUnder3,_1x2HomeScoresOver1,_1x2HomeScoresUnder2,_1x2HomeScoresUnder3,_0-2_Goals,_0-3_Goals,_0-4_Goals,_0-5_Goals,_0-6_Goals,_1-2_Goals,_1-3_Goals,_1-4_Goals,_1-5_Goals,_1-6_Goals,_2-2_Goals,_2-3_Goals,_2-4_Goals,_2-5_Goals,_2-6_Goals,1H_Home,Home_0,Home_Minus_0_25,Home_Plus_0_25,Home_Minus_0_5,Home_Plus_0_5,Home_Minus_0_75,Home_Plus_0_75,Home_Minus_1,Home_Plus_1,Home_Minus_1_25,Home_Plus_1_25,Home_Minus_1_5,Home_Plus_1_5,Home_Plus_1_75,Home_Plus_2,Home_Plus_2_25,Away_Plus_2_5,Home_Plus_2_5,Away_Plus_2_75,Home_Plus_2_75,Away_Plus_3,Home_Plus_3,under3_0,under2_75'}, '1512898': {'id': '1512898', 'teamA': '47', 'teamB': '972', 'result': '{{1,1,0,0,15.0,10.8,{170}},{1,1,0,0,15.0,10.7,{20}},{1,0,1,0,14.6,9.6,{223}},{0,0,0,0,10.0,nil,{8}},{0,1,1,0,6.7,nil,{201}},{0,1,1,0,8.3,nil,{169}}}', 'wonmarkets': 'Home,HomeHome,Home_Away,Home_Draw,_2_1,_3_Goals,over,goal,g1,g2,g3,ng4,ng5,ng6,gc3,over2,gg,QHome,under3,under4,over0,HomeScoresOver0,AwayScoresOver0,HomeScoresOver1,AwayScoresUnder1,HomeScoresUnder2,AwayScoresUnder2,HomeScoresUnder3,AwayScoresUnder3,_1x2HomeScoresOver1,_1x2HomeScoresOver2,_1x2HomeScoresUnder3,_0-3_Goals,_0-4_Goals,_0-5_Goals,_0-6_Goals,_1-3_Goals,_1-4_Goals,_1-5_Goals,_1-6_Goals,_2-3_Goals,_2-4_Goals,_2-5_Goals,_2-6_Goals,_3-3_Goals,_3-4_Goals,_3-5_Goals,_3-6_Goals,1H_Home,Home_0,Home_Minus_0_25,Home_Plus_0_25,Home_Minus_0_5,Home_Plus_0_5,Home_Plus_0_75,Home_Plus_1,Home_Plus_1_25,Away_Plus_1_5,Home_Plus_1_5,Away_Plus_1_75,Home_Plus_1_75,Away_Plus_2,Home_Plus_2,Away_Plus_2_25,Home_Plus_2_25,Away_Plus_2_5,Home_Plus_2_5,Away_Plus_2_75,Home_Plus_2_75,Away_Plus_3,Home_Plus_3,over2_0,over1_75,over2_25'}, '1512899': {'id': '1512899', 'teamA': '49', 'teamB': '71', 'result': '{{1,0,1,0,15.0,10.0,{22}},{0,1,0,0,7.0,nil,{128}},{1,1,0,0,15.0,10.0,{155,39}},{0,0,0,0,8.3,nil,{94}},{1,1,1,0,15.0,10.6,{174}},{0,1,1,0,8.3,nil,{49}}}', 'wonmarkets': 'Away,DrawAway,Draw_Away,Home_Away,_1_2,_3_Goals,over,goal,g1,ng2,g3,ng4,g5,ng6,gc3,over2,gg,QAway,under3,under4,over0,HomeScoresOver0,AwayScoresOver0,HomeScoresUnder1,AwayScoresOver1,HomeScoresUnder2,AwayScoresUnder2,HomeScoresUnder3,AwayScoresUnder3,_1x2AwayScoresOver1,_1x2AwayScoresOver2,_1x2AwayScoresUnder3,_0-3_Goals,_0-4_Goals,_0-5_Goals,_0-6_Goals,_1-3_Goals,_1-4_Goals,_1-5_Goals,_1-6_Goals,_2-3_Goals,_2-4_Goals,_2-5_Goals,_2-6_Goals,_3-3_Goals,_3-4_Goals,_3-5_Goals,_3-6_Goals,1H_Draw,Away_0,Away_Plus_0_25,Away_Minus_0_25,Away_Plus_0_5,Away_Minus_0_5,Away_Plus_0_75,Away_Plus_1,Away_Plus_1_25,Away_Plus_1_5,Home_Plus_1_5,Away_Plus_1_75,Home_Plus_1_75,Away_Plus_2,Home_Plus_2,Away_Plus_2_25,Home_Plus_2_25,Away_Plus_2_5,Home_Plus_2_5,Away_Plus_2_75,Home_Plus_2_75,Away_Plus_3,Home_Plus_3,over2_0,over1_75,over2_25'}, '1512900': {'id': '1512900', 'teamA': '67', 'teamB': '50', 'result': '{{1,1,0,0,15.0,11.9,{231}},{1,0,1,0,15.0,10.4,{196}},{1,0,1,0,12.0,7.0,{146}},{0,0,0,0,9.2,nil,{152,62}},{1,1,1,0,13.0,8.0,{42}},{1,1,1,0,15.0,10.1,{152,60}}}', 'wonmarkets': 'Away,AwayAway,Draw_Away,Home_Away,_1_4,_5_Goals,over,goal,g1,g2,g3,ng4,g5,g6,gc5,over2,gg,QAway,over3,over4,over0,HomeScoresOver0,AwayScoresOver0,HomeScoresUnder1,AwayScoresOver1,HomeScoresUnder2,AwayScoresOver2,HomeScoresUnder3,AwayScoresOver3,_1x2AwayScoresOver1,_1x2AwayScoresOver2,_1x2AwayScoresOver3,_0-5_Goals,_0-6_Goals,_1-5_Goals,_1-6_Goals,_2-5_Goals,_2-6_Goals,_3-5_Goals,_3-6_Goals,_4-5_Goals,_4-6_Goals,_5-5_Goals,_5-6_Goals,1H_Away,Away_0,Away_Plus_0_25,Away_Minus_0_25,Away_Plus_0_5,Away_Minus_0_5,Away_Plus_0_75,Away_Minus_0_75,Away_Plus_1,Away_Minus_1,Away_Plus_1_25,Away_Minus_1_25,Away_Plus_1_5,Away_Minus_1_5,Away_Plus_1_75,Away_Minus_1_75,Away_Plus_2,Away_Minus_2,Away_Plus_2_25,Away_Minus_2_25,Away_Plus_2_5,Away_Minus_2_5,Away_Plus_2_75,Away_Plus_3,over2_0,over3_0,over1_75,over2_25,over2_75'}}, '13': {'1512901': {'id': '1512901', 'teamA': '52', 'teamB': '49', 'result': '{{0,0,1,0,10.0,nil,{172}},{1,0,1,0,12.7,7.7,{13,14}},{1,0,1,0,15.0,10.7,{182}},{0,0,0,0,8.8,nil,{300}},{1,1,1,0,14.4,9.4,{24}},{1,0,0,0,15.0,10.8,{170}}}', 'wonmarkets': 'Away,AwayAway,Draw_Away,Home_Away,_1_3,_4_Goals,over,goal,ng1,g2,g3,ng4,g5,g6,gc4,over2,gg,QAway,over3,under4,over0,HomeScoresOver0,AwayScoresOver0,HomeScoresUnder1,AwayScoresOver1,HomeScoresUnder2,AwayScoresOver2,HomeScoresUnder3,AwayScoresUnder3,_1x2AwayScoresOver1,_1x2AwayScoresOver2,_1x2AwayScoresOver3,_0-4_Goals,_0-5_Goals,_0-6_Goals,_1-4_Goals,_1-5_Goals,_1-6_Goals,_2-4_Goals,_2-5_Goals,_2-6_Goals,_3-4_Goals,_3-5_Goals,_3-6_Goals,_4-4_Goals,_4-5_Goals,_4-6_Goals,1H_Away,Away_0,Away_Plus_0_25,Away_Minus_0_25,Away_Plus_0_5,Away_Minus_0_5,Away_Plus_0_75,Away_Minus_0_75,Away_Plus_1,Away_Minus_1,Away_Plus_1_25,Away_Minus_1_25,Away_Plus_1_5,Away_Minus_1_5,Away_Plus_1_75,Away_Plus_2,Away_Plus_2_25,Away_Plus_2_5,Home_Plus_2_5,Away_Plus_2_75,Home_Plus_2_75,Away_Plus_3,Home_Plus_3,over2_0,over3_0,over1_75,over2_25,over2_75'}, '1512902': {'id': '1512902', 'teamA': '51', 'teamB': '55', 'result': '{{0,1,0,0,10.0,nil,{172}},{0,1,0,0,8.3,nil,{168}},{0,0,1,0,10.0,nil,{172}},{0,1,1,0,10.0,nil,{173}},{1,0,0,0,15.0,10.0,{135}},{0,1,1,0,9.0,nil,{58}}}', 'wonmarkets': 'Home,DrawHome,Home_Away,Home_Draw,_1_0,_1_Goals,under,goal,ng1,ng2,ng3,ng4,g5,ng6,gc1,under2,nog,QHome,under3,under4,over0,HomeScoresOver0,AwayScoresUnder0,HomeScoresUnder1,AwayScoresUnder1,HomeScoresUnder2,AwayScoresUnder2,HomeScoresUnder3,AwayScoresUnder3,_1x2HomeScoresUnder1,_1x2HomeScoresUnder2,_1x2HomeScoresUnder3,_0-1_Goals,_0-2_Goals,_0-3_Goals,_0-4_Goals,_0-5_Goals,_0-6_Goals,_1-1_Goals,_1-2_Goals,_1-3_Goals,_1-4_Goals,_1-5_Goals,_1-6_Goals,1H_Draw,Home_0,Home_Minus_0_25,Home_Plus_0_25,Home_Minus_0_5,Home_Plus_0_5,Home_Plus_0_75,Home_Plus_1,Home_Plus_1_25,Away_Plus_1_5,Home_Plus_1_5,Away_Plus_1_75,Home_Plus_1_75,Away_Plus_2,Home_Plus_2,Away_Plus_2_25,Home_Plus_2_25,Away_Plus_2_5,Home_Plus_2_5,Away_Plus_2_75,Home_Plus_2_75,Away_Plus_3,Home_Plus_3,under2_0,under3_0,under1_75,under2_25,under2_75'}, '1512903': {'id': '1512903', 'teamA': '53', 'teamB': '46', 'result': '{{0,1,0,0,8.3,nil,{94}},{0,0,1,0,8.0,nil,{280}},{0,0,1,0,8.8,nil,{245}},{0,1,1,0,8.3,nil,{319}},{1,1,1,0,15.0,10.1,{143}},{0,0,0,0,10.0,nil,{26}}}', 'wonmarkets': 'Away,DrawAway,Draw_Away,Home_Away,_0_1,_1_Goals,under,goal,ng1,ng2,ng3,ng4,g5,ng6,gc1,under2,nog,QAway,under3,under4,over0,HomeScoresUnder0,AwayScoresOver0,HomeScoresUnder1,AwayScoresUnder1,HomeScoresUnder2,AwayScoresUnder2,HomeScoresUnder3,AwayScoresUnder3,_1x2AwayScoresUnder1,_1x2AwayScoresUnder2,_1x2AwayScoresUnder3,_0-1_Goals,_0-2_Goals,_0-3_Goals,_0-4_Goals,_0-5_Goals,_0-6_Goals,_1-1_Goals,_1-2_Goals,_1-3_Goals,_1-4_Goals,_1-5_Goals,_1-6_Goals,1H_Draw,Away_0,Away_Plus_0_25,Away_Minus_0_25,Away_Plus_0_5,Away_Minus_0_5,Away_Plus_0_75,Away_Plus_1,Away_Plus_1_25,Away_Plus_1_5,Home_Plus_1_5,Away_Plus_1_75,Home_Plus_1_75,Away_Plus_2,Home_Plus_2,Away_Plus_2_25,Home_Plus_2_25,Away_Plus_2_5,Home_Plus_2_5,Away_Plus_2_75,Home_Plus_2_75,Away_Plus_3,Home_Plus_3,under2_0,under3_0,under1_75,under2_25,under2_75'}, '1512904': {'id': '1512904', 'teamA': '525', 'teamB': '47', 'result': '{{0,0,1,0,10.0,nil,{184}},{0,0,1,0,8.0,nil,{281}},{0,0,1,0,11.0,nil,{232}},{0,0,0,0,10.0,nil,{77}},{0,1,1,0,7.3,nil,{147}},{0,0,0,0,10.0,nil,{88}}}', 'wonmarkets': 'Draw,DrawDraw,Draw_Away,Home_Draw,_0_0,_0_Goals,under,nogoal,ng1,ng2,ng3,ng4,ng5,ng6,under2,nog,QDraw,under3,under4,under0,HomeScoresUnder0,AwayScoresUnder0,HomeScoresUnder1,AwayScoresUnder1,HomeScoresUnder2,AwayScoresUnder2,HomeScoresUnder3,AwayScoresUnder3,_1x2DrawScoresUnder1,_1x2DrawScoresUnder2,_1x2DrawScoresUnder3,_0-0_Goals,_0-1_Goals,_0-2_Goals,_0-3_Goals,_0-4_Goals,_0-5_Goals,_0-6_Goals,1H_Draw,Away_Plus_0_5,Home_Plus_0_5,Away_Plus_0_75,Home_Plus_0_75,Away_Plus_1,Home_Plus_1,Away_Plus_1_25,Home_Plus_1_25,Away_Plus_1_5,Home_Plus_1_5,Away_Plus_1_75,Home_Plus_1_75,Away_Plus_2,Home_Plus_2,Away_Plus_2_25,Home_Plus_2_25,Away_Plus_2_5,Home_Plus_2_5,Away_Plus_2_75,Home_Plus_2_75,Away_Plus_3,Home_Plus_3,under2_0,under3_0,under1_75,under2_25,under2_75'}, '1512905': {'id': '1512905', 'teamA': '71', 'teamB': '60', 'result': '{{0,0,1,0,10.6,nil,{218}},{0,1,0,0,7.2,nil,{195}},{0,1,0,0,9.2,nil,{179}},{0,1,1,0,13.3,nil,{152,51}},{0,1,1,0,8.3,nil,{65}},{0,0,0,0,8.0,nil,{189}}}', 'wonmarkets': 'Draw,DrawDraw,Draw_Away,Home_Draw,_0_0,_0_Goals,under,nogoal,ng1,ng2,ng3,ng4,ng5,ng6,under2,nog,QDraw,under3,under4,under0,HomeScoresUnder0,AwayScoresUnder0,HomeScoresUnder1,AwayScoresUnder1,HomeScoresUnder2,AwayScoresUnder2,HomeScoresUnder3,AwayScoresUnder3,_1x2DrawScoresUnder1,_1x2DrawScoresUnder2,_1x2DrawScoresUnder3,_0-0_Goals,_0-1_Goals,_0-2_Goals,_0-3_Goals,_0-4_Goals,_0-5_Goals,_0-6_Goals,1H_Draw,Away_Plus_0_5,Home_Plus_0_5,Away_Plus_0_75,Home_Plus_0_75,Away_Plus_1,Home_Plus_1,Away_Plus_1_25,Home_Plus_1_25,Away_Plus_1_5,Home_Plus_1_5,Away_Plus_1_75,Home_Plus_1_75,Away_Plus_2,Home_Plus_2,Away_Plus_2_25,Home_Plus_2_25,Away_Plus_2_5,Home_Plus_2_5,Away_Plus_2_75,Home_Plus_2_75,Away_Plus_3,Home_Plus_3,under2_0,under3_0,under1_75,under2_25,under2_75'}, '1512906': {'id': '1512906', 'teamA': '58', 'teamB': '67', 'result': '{{1,1,0,0,13.6,8.6,{314}},{0,1,0,0,10.6,nil,{217}},{1,1,0,0,14.3,9.3,{178}},{1,0,0,0,13.4,8.4,{211}},{0,1,1,0,10.0,nil,{100}},{0,0,0,0,9.2,nil,{152,61}}}', 'wonmarkets': 'Home,HomeHome,Home_Away,Home_Draw,_3_0,_3_Goals,over,goal,g1,ng2,g3,g4,ng5,ng6,gc3,over2,nog,QHome,under3,under4,over0,HomeScoresOver0,AwayScoresUnder0,HomeScoresOver1,AwayScoresUnder1,HomeScoresOver2,AwayScoresUnder2,HomeScoresUnder3,AwayScoresUnder3,_1x2HomeScoresOver1,_1x2HomeScoresOver2,_1x2HomeScoresUnder3,_0-3_Goals,_0-4_Goals,_0-5_Goals,_0-6_Goals,_1-3_Goals,_1-4_Goals,_1-5_Goals,_1-6_Goals,_2-3_Goals,_2-4_Goals,_2-5_Goals,_2-6_Goals,_3-3_Goals,_3-4_Goals,_3-5_Goals,_3-6_Goals,1H_Home,Home_0,Home_Minus_0_25,Home_Plus_0_25,Home_Minus_0_5,Home_Plus_0_5,Home_Minus_0_75,Home_Plus_0_75,Home_Minus_1,Home_Plus_1,Home_Minus_1_25,Home_Plus_1_25,Home_Minus_1_5,Home_Plus_1_5,Home_Minus_1_75,Home_Plus_1_75,Home_Minus_2,Home_Plus_2,Home_Minus_2_25,Home_Plus_2_25,Home_Minus_2_5,Home_Plus_2_5,Home_Plus_2_75,Home_Plus_3,over2_0,over1_75,over2_25'}, '1512907': {'id': '1512907', 'teamA': '50', 'teamB': '512', 'result': '{{0,0,1,0,8.3,nil,{304}},{1,0,1,0,14.0,9.0,{290}},{0,1,0,0,8.0,nil,{280}},{1,0,0,0,13.6,8.6,{102}},{1,0,0,0,14.0,9.0,{46}},{1,0,0,0,15.0,10.1,{143}}}', 'wonmarkets': 'Home,AwayHome,Home_Away,Home_Draw,_3_1,_4_Goals,over,goal,ng1,g2,ng3,g4,g5,g6,gc4,over2,gg,QHome,over3,under4,over0,HomeScoresOver0,AwayScoresOver0,HomeScoresOver1,AwayScoresUnder1,HomeScoresOver2,AwayScoresUnder2,HomeScoresUnder3,AwayScoresUnder3,_1x2HomeScoresOver1,_1x2HomeScoresOver2,_1x2HomeScoresOver3,_0-4_Goals,_0-5_Goals,_0-6_Goals,_1-4_Goals,_1-5_Goals,_1-6_Goals,_2-4_Goals,_2-5_Goals,_2-6_Goals,_3-4_Goals,_3-5_Goals,_3-6_Goals,_4-4_Goals,_4-5_Goals,_4-6_Goals,1H_Away,Home_0,Home_Minus_0_25,Home_Plus_0_25,Home_Minus_0_5,Home_Plus_0_5,Home_Minus_0_75,Home_Plus_0_75,Home_Minus_1,Home_Plus_1,Home_Minus_1_25,Home_Plus_1_25,Home_Minus_1_5,Home_Plus_1_5,Home_Plus_1_75,Home_Plus_2,Home_Plus_2_25,Away_Plus_2_5,Home_Plus_2_5,Away_Plus_2_75,Home_Plus_2_75,Away_Plus_3,Home_Plus_3,over2_0,over3_0,over1_75,over2_25,over2_75'}, '1512908': {'id': '1512908', 'teamA': '972', 'teamB': '63', 'result': '{{0,0,1,0,11.2,nil,{197}},{1,1,0,0,14.9,9.9,{152,5}},{1,1,0,0,15.0,10.1,{143}},{0,1,1,0,9.2,nil,{236}},{0,0,0,0,8.2,nil,{140}},{0,0,0,0,8.9,nil,{283}}}', 'wonmarkets': 'Home,HomeHome,Home_Away,Home_Draw,_2_0,_2_Goals,over,goal,ng1,g2,g3,ng4,ng5,ng6,gc2,under2,nog,QHome,under3,under4,over0,HomeScoresOver0,AwayScoresUnder0,HomeScoresOver1,AwayScoresUnder1,HomeScoresUnder2,AwayScoresUnder2,HomeScoresUnder3,AwayScoresUnder3,_1x2HomeScoresOver1,_1x2HomeScoresUnder2,_1x2HomeScoresUnder3,_0-2_Goals,_0-3_Goals,_0-4_Goals,_0-5_Goals,_0-6_Goals,_1-2_Goals,_1-3_Goals,_1-4_Goals,_1-5_Goals,_1-6_Goals,_2-2_Goals,_2-3_Goals,_2-4_Goals,_2-5_Goals,_2-6_Goals,1H_Home,Home_0,Home_Minus_0_25,Home_Plus_0_25,Home_Minus_0_5,Home_Plus_0_5,Home_Minus_0_75,Home_Plus_0_75,Home_Minus_1,Home_Plus_1,Home_Minus_1_25,Home_Plus_1_25,Home_Minus_1_5,Home_Plus_1_5,Home_Plus_1_75,Home_Plus_2,Home_Plus_2_25,Away_Plus_2_5,Home_Plus_2_5,Away_Plus_2_75,Home_Plus_2_75,Away_Plus_3,Home_Plus_3,under3_0,under2_75'}, '1512909': {'id': '1512909', 'teamA': '1053', 'teamB': '45', 'result': '{{0,1,0,0,8.8,nil,{238}},{1,0,1,0,13.8,8.8,{16}},{0,1,0,0,8.8,nil,{264}},{1,1,1,0,15.0,10.7,{182}},{0,1,1,0,7.7,nil,{214}},{0,0,0,0,10.6,nil,{218}}}', 'wonmarkets': 'Away,AwayAway,Draw_Away,Home_Away,_0_2,_2_Goals,over,goal,ng1,g2,ng3,g4,ng5,ng6,gc2,under2,nog,QAway,under3,under4,over0,HomeScoresUnder0,AwayScoresOver0,HomeScoresUnder1,AwayScoresOver1,HomeScoresUnder2,AwayScoresUnder2,HomeScoresUnder3,AwayScoresUnder3,_1x2AwayScoresOver1,_1x2AwayScoresUnder2,_1x2AwayScoresUnder3,_0-2_Goals,_0-3_Goals,_0-4_Goals,_0-5_Goals,_0-6_Goals,_1-2_Goals,_1-3_Goals,_1-4_Goals,_1-5_Goals,_1-6_Goals,_2-2_Goals,_2-3_Goals,_2-4_Goals,_2-5_Goals,_2-6_Goals,1H_Away,Away_0,Away_Plus_0_25,Away_Minus_0_25,Away_Plus_0_5,Away_Minus_0_5,Away_Plus_0_75,Away_Minus_0_75,Away_Plus_1,Away_Minus_1,Away_Plus_1_25,Away_Minus_1_25,Away_Plus_1_5,Away_Minus_1_5,Away_Plus_1_75,Away_Plus_2,Away_Plus_2_25,Away_Plus_2_5,Home_Plus_2_5,Away_Plus_2_75,Home_Plus_2_75,Away_Plus_3,Home_Plus_3,under3_0,under2_75'}, '1512910': {'id': '1512910', 'teamA': '827', 'teamB': '48', 'result': '{{1,0,1,0,15.0,12.0,{1}},{0,0,1,0,10.2,nil,{226}},{0,0,1,0,7.0,nil,{129}},{0,0,0,0,6.3,nil,{254}},{1,1,1,0,13.6,8.6,{102}},{0,1,1,0,8.3,nil,{85}}}', 'wonmarkets': 'Away,AwayAway,Draw_Away,Home_Away,_0_2,_2_Goals,over,goal,g1,ng2,ng3,ng4,g5,ng6,gc2,under2,nog,QAway,under3,under4,over0,HomeScoresUnder0,AwayScoresOver0,HomeScoresUnder1,AwayScoresOver1,HomeScoresUnder2,AwayScoresUnder2,HomeScoresUnder3,AwayScoresUnder3,_1x2AwayScoresOver1,_1x2AwayScoresUnder2,_1x2AwayScoresUnder3,_0-2_Goals,_0-3_Goals,_0-4_Goals,_0-5_Goals,_0-6_Goals,_1-2_Goals,_1-3_Goals,_1-4_Goals,_1-5_Goals,_1-6_Goals,_2-2_Goals,_2-3_Goals,_2-4_Goals,_2-5_Goals,_2-6_Goals,1H_Away,Away_0,Away_Plus_0_25,Away_Minus_0_25,Away_Plus_0_5,Away_Minus_0_5,Away_Plus_0_75,Away_Minus_0_75,Away_Plus_1,Away_Minus_1,Away_Plus_1_25,Away_Minus_1_25,Away_Plus_1_5,Away_Minus_1_5,Away_Plus_1_75,Away_Plus_2,Away_Plus_2_25,Away_Plus_2_5,Home_Plus_2_5,Away_Plus_2_75,Home_Plus_2_75,Away_Plus_3,Home_Plus_3,under3_0,under2_75'}}, '14': {'1512911': {'id': '1512911', 'teamA': '46', 'teamB': '827', 'result': '{{1,1,0,0,12.5,7.5,{28}},{0,1,0,0,7.0,nil,{128}},{1,1,0,0,14.6,9.6,{223}},{1,0,0,0,13.4,8.4,{211}},{1,0,0,0,13.8,8.8,{16}},{1,0,0,0,12.9,7.9,{17,32}}}', 'wonmarkets': 'Home,HomeHome,Home_Away,Home_Draw,_5_0,_5_Goals,over,goal,g1,ng2,g3,g4,g5,g6,gc5,over2,nog,QHome,over3,over4,over0,HomeScoresOver0,AwayScoresUnder0,HomeScoresOver1,AwayScoresUnder1,HomeScoresOver2,AwayScoresUnder2,HomeScoresOver3,AwayScoresUnder3,_1x2HomeScoresOver1,_1x2HomeScoresOver2,_1x2HomeScoresOver3,_0-5_Goals,_0-6_Goals,_1-5_Goals,_1-6_Goals,_2-5_Goals,_2-6_Goals,_3-5_Goals,_3-6_Goals,_4-5_Goals,_4-6_Goals,_5-5_Goals,_5-6_Goals,1H_Home,Home_0,Home_Minus_0_25,Home_Plus_0_25,Home_Minus_0_5,Home_Plus_0_5,Home_Minus_0_75,Home_Plus_0_75,Home_Minus_1,Home_Plus_1,Home_Minus_1_25,Home_Plus_1_25,Home_Minus_1_5,Home_Plus_1_5,Home_Minus_1_75,Home_Plus_1_75,Home_Minus_2,Home_Plus_2,Home_Minus_2_25,Home_Plus_2_25,Home_Minus_2_5,Home_Plus_2_5,Home_Minus_2_75,Home_Plus_2_75,Home_Minus_3,Home_Plus_3,over2_0,over3_0,over1_75,over2_25,over2_75'}, '1512912': {'id': '1512912', 'teamA': '63', 'teamB': '525', 'result': '{{0,0,1,0,10.0,nil,{37}},{1,1,0,0,14.3,9.3,{56}},{0,1,0,0,7.3,nil,{210}},{0,0,0,0,8.3,nil,{158}},{0,1,1,0,10.0,nil,{97}},{0,1,1,0,10.0,nil,{205}}}', 'wonmarkets': 'Home,HomeHome,Home_Away,Home_Draw,_1_0,_1_Goals,under,goal,ng1,g2,ng3,ng4,ng5,ng6,gc1,under2,nog,QHome,under3,under4,over0,HomeScoresOver0,AwayScoresUnder0,HomeScoresUnder1,AwayScoresUnder1,HomeScoresUnder2,AwayScoresUnder2,HomeScoresUnder3,AwayScoresUnder3,_1x2HomeScoresUnder1,_1x2HomeScoresUnder2,_1x2HomeScoresUnder3,_0-1_Goals,_0-2_Goals,_0-3_Goals,_0-4_Goals,_0-5_Goals,_0-6_Goals,_1-1_Goals,_1-2_Goals,_1-3_Goals,_1-4_Goals,_1-5_Goals,_1-6_Goals,1H_Home,Home_0,Home_Minus_0_25,Home_Plus_0_25,Home_Minus_0_5,Home_Plus_0_5,Home_Plus_0_75,Home_Plus_1,Home_Plus_1_25,Away_Plus_1_5,Home_Plus_1_5,Away_Plus_1_75,Home_Plus_1_75,Away_Plus_2,Home_Plus_2,Away_Plus_2_25,Home_Plus_2_25,Away_Plus_2_5,Home_Plus_2_5,Away_Plus_2_75,Home_Plus_2_75,Away_Plus_3,Home_Plus_3,under2_0,under3_0,under1_75,under2_25,under2_75'}, '1512913': {'id': '1512913', 'teamA': '48', 'teamB': '972', 'result': '{{0,1,0,0,8.3,nil,{66}},{0,0,1,0,8.3,nil,{169}},{0,1,0,0,8.3,nil,{108}},{0,1,1,0,10.0,nil,{99}},{0,0,0,0,10.0,nil,{130}},{0,0,0,0,8.3,nil,{155,40}}}', 'wonmarkets': 'Draw,DrawDraw,Draw_Away,Home_Draw,_0_0,_0_Goals,under,nogoal,ng1,ng2,ng3,ng4,ng5,ng6,under2,nog,QDraw,under3,under4,under0,HomeScoresUnder0,AwayScoresUnder0,HomeScoresUnder1,AwayScoresUnder1,HomeScoresUnder2,AwayScoresUnder2,HomeScoresUnder3,AwayScoresUnder3,_1x2DrawScoresUnder1,_1x2DrawScoresUnder2,_1x2DrawScoresUnder3,_0-0_Goals,_0-1_Goals,_0-2_Goals,_0-3_Goals,_0-4_Goals,_0-5_Goals,_0-6_Goals,1H_Draw,Away_Plus_0_5,Home_Plus_0_5,Away_Plus_0_75,Home_Plus_0_75,Away_Plus_1,Home_Plus_1,Away_Plus_1_25,Home_Plus_1_25,Away_Plus_1_5,Home_Plus_1_5,Away_Plus_1_75,Home_Plus_1_75,Away_Plus_2,Home_Plus_2,Away_Plus_2_25,Home_Plus_2_25,Away_Plus_2_5,Home_Plus_2_5,Away_Plus_2_75,Home_Plus_2_75,Away_Plus_3,Home_Plus_3,under2_0,under3_0,under1_75,under2_25,under2_75'}, '1512914': {'id': '1512914', 'teamA': '512', 'teamB': '58', 'result': '{{0,1,0,0,10.6,nil,{218}},{1,0,1,0,14.9,9.9,{152,5}},{1,0,1,0,15.0,10.6,{174}},{0,0,0,0,8.3,nil,{17,82}},{0,1,1,0,10.0,nil,{113}},{0,1,1,0,9.0,nil,{58}}}', 'wonmarkets': 'Away,AwayAway,Draw_Away,Home_Away,_0_2,_2_Goals,over,goal,ng1,g2,g3,ng4,ng5,ng6,gc2,under2,nog,QAway,under3,under4,over0,HomeScoresUnder0,AwayScoresOver0,HomeScoresUnder1,AwayScoresOver1,HomeScoresUnder2,AwayScoresUnder2,HomeScoresUnder3,AwayScoresUnder3,_1x2AwayScoresOver1,_1x2AwayScoresUnder2,_1x2AwayScoresUnder3,_0-2_Goals,_0-3_Goals,_0-4_Goals,_0-5_Goals,_0-6_Goals,_1-2_Goals,_1-3_Goals,_1-4_Goals,_1-5_Goals,_1-6_Goals,_2-2_Goals,_2-3_Goals,_2-4_Goals,_2-5_Goals,_2-6_Goals,1H_Away,Away_0,Away_Plus_0_25,Away_Minus_0_25,Away_Plus_0_5,Away_Minus_0_5,Away_Plus_0_75,Away_Minus_0_75,Away_Plus_1,Away_Minus_1,Away_Plus_1_25,Away_Minus_1_25,Away_Plus_1_5,Away_Minus_1_5,Away_Plus_1_75,Away_Plus_2,Away_Plus_2_25,Away_Plus_2_5,Home_Plus_2_5,Away_Plus_2_75,Home_Plus_2_75,Away_Plus_3,Home_Plus_3,under3_0,under2_75'}, '1512915': {'id': '1512915', 'teamA': '67', 'teamB': '51', 'result': '{{1,0,1,0,15.0,10.6,{174}},{0,0,1,0,7.5,nil,{262}},{0,0,1,0,8.3,nil,{31}},{0,1,1,0,7.3,nil,{147}},{1,1,1,0,15.0,11.1,{67}},{1,1,1,0,13.4,8.4,{208}}}', 'wonmarkets': 'Away,AwayAway,Draw_Away,Home_Away,_0_3,_3_Goals,over,goal,g1,ng2,ng3,ng4,g5,g6,gc3,over2,nog,QAway,under3,under4,over0,HomeScoresUnder0,AwayScoresOver0,HomeScoresUnder1,AwayScoresOver1,HomeScoresUnder2,AwayScoresOver2,HomeScoresUnder3,AwayScoresUnder3,_1x2AwayScoresOver1,_1x2AwayScoresOver2,_1x2AwayScoresUnder3,_0-3_Goals,_0-4_Goals,_0-5_Goals,_0-6_Goals,_1-3_Goals,_1-4_Goals,_1-5_Goals,_1-6_Goals,_2-3_Goals,_2-4_Goals,_2-5_Goals,_2-6_Goals,_3-3_Goals,_3-4_Goals,_3-5_Goals,_3-6_Goals,1H_Away,Away_0,Away_Plus_0_25,Away_Minus_0_25,Away_Plus_0_5,Away_Minus_0_5,Away_Plus_0_75,Away_Minus_0_75,Away_Plus_1,Away_Minus_1,Away_Plus_1_25,Away_Minus_1_25,Away_Plus_1_5,Away_Minus_1_5,Away_Plus_1_75,Away_Minus_1_75,Away_Plus_2,Away_Minus_2,Away_Plus_2_25,Away_Minus_2_25,Away_Plus_2_5,Away_Minus_2_5,Away_Plus_2_75,Away_Plus_3,over2_0,over1_75,over2_25'}, '1512916': {'id': '1512916', 'teamA': '60', 'teamB': '47', 'result': '{{0,1,0,0,10.0,nil,{205}},{0,1,0,0,8.3,nil,{319}},{1,1,0,0,14.0,9.0,{290}},{1,1,1,0,13.6,8.6,{102}},{0,0,0,0,10.0,nil,{99}},{0,0,0,0,10.6,nil,{218}}}', 'wonmarkets': 'Draw,HomeDraw,Draw_Away,Home_Draw,_1_1,_2_Goals,over,goal,ng1,ng2,g3,g4,ng5,ng6,gc2,under2,gg,QDraw,under3,under4,over0,HomeScoresOver0,AwayScoresOver0,HomeScoresUnder1,AwayScoresUnder1,HomeScoresUnder2,AwayScoresUnder2,HomeScoresUnder3,AwayScoresUnder3,_1x2DrawScoresOver1,_1x2DrawScoresUnder2,_1x2DrawScoresUnder3,_0-2_Goals,_0-3_Goals,_0-4_Goals,_0-5_Goals,_0-6_Goals,_1-2_Goals,_1-3_Goals,_1-4_Goals,_1-5_Goals,_1-6_Goals,_2-2_Goals,_2-3_Goals,_2-4_Goals,_2-5_Goals,_2-6_Goals,1H_Home,Away_Plus_0_5,Home_Plus_0_5,Away_Plus_0_75,Home_Plus_0_75,Away_Plus_1,Home_Plus_1,Away_Plus_1_25,Home_Plus_1_25,Away_Plus_1_5,Home_Plus_1_5,Away_Plus_1_75,Home_Plus_1_75,Away_Plus_2,Home_Plus_2,Away_Plus_2_25,Home_Plus_2_25,Away_Plus_2_5,Home_Plus_2_5,Away_Plus_2_75,Home_Plus_2_75,Away_Plus_3,Home_Plus_3,under3_0,under2_75'}, '1512917': {'id': '1512917', 'teamA': '45', 'teamB': '53', 'result': '{{0,0,1,0,10.0,nil,{183}},{1,0,1,0,13.8,8.8,{16}},{0,0,1,0,8.8,nil,{301}},{0,1,1,0,6.7,nil,{202}},{1,0,0,0,15.0,12.0,{152,50}},{0,0,0,0,8.3,nil,{13,82}}}', 'wonmarkets': 'Draw,AwayDraw,Draw_Away,Home_Draw,_1_1,_2_Goals,over,goal,ng1,g2,ng3,ng4,g5,ng6,gc2,under2,gg,QDraw,under3,under4,over0,HomeScoresOver0,AwayScoresOver0,HomeScoresUnder1,AwayScoresUnder1,HomeScoresUnder2,AwayScoresUnder2,HomeScoresUnder3,AwayScoresUnder3,_1x2DrawScoresOver1,_1x2DrawScoresUnder2,_1x2DrawScoresUnder3,_0-2_Goals,_0-3_Goals,_0-4_Goals,_0-5_Goals,_0-6_Goals,_1-2_Goals,_1-3_Goals,_1-4_Goals,_1-5_Goals,_1-6_Goals,_2-2_Goals,_2-3_Goals,_2-4_Goals,_2-5_Goals,_2-6_Goals,1H_Away,Away_Plus_0_5,Home_Plus_0_5,Away_Plus_0_75,Home_Plus_0_75,Away_Plus_1,Home_Plus_1,Away_Plus_1_25,Home_Plus_1_25,Away_Plus_1_5,Home_Plus_1_5,Away_Plus_1_75,Home_Plus_1_75,Away_Plus_2,Home_Plus_2,Away_Plus_2_25,Home_Plus_2_25,Away_Plus_2_5,Home_Plus_2_5,Away_Plus_2_75,Home_Plus_2_75,Away_Plus_3,Home_Plus_3,under3_0,under2_75'}, '1512918': {'id': '1512918', 'teamA': '49', 'teamB': '50', 'result': '{{0,0,1,0,8.3,nil,{117}},{1,0,1,0,12.7,7.7,{13,14}},{1,0,1,0,12.3,7.3,{200}},{1,0,0,0,15.0,10.7,{20}},{1,0,0,0,12.3,7.3,{200}},{1,1,1,0,13.0,8.0,{278}}}', 'wonmarkets': 'Away,AwayAway,Draw_Away,Home_Away,_2_3,_5_Goals,over,goal,ng1,g2,g3,g4,g5,g6,gc5,over2,gg,QAway,over3,over4,over0,HomeScoresOver0,AwayScoresOver0,HomeScoresOver1,AwayScoresOver1,HomeScoresUnder2,AwayScoresOver2,HomeScoresUnder3,AwayScoresUnder3,_1x2AwayScoresOver1,_1x2AwayScoresOver2,_1x2AwayScoresOver3,_0-5_Goals,_0-6_Goals,_1-5_Goals,_1-6_Goals,_2-5_Goals,_2-6_Goals,_3-5_Goals,_3-6_Goals,_4-5_Goals,_4-6_Goals,_5-5_Goals,_5-6_Goals,1H_Away,Away_0,Away_Plus_0_25,Away_Minus_0_25,Away_Plus_0_5,Away_Minus_0_5,Away_Plus_0_75,Away_Plus_1,Away_Plus_1_25,Away_Plus_1_5,Home_Plus_1_5,Away_Plus_1_75,Home_Plus_1_75,Away_Plus_2,Home_Plus_2,Away_Plus_2_25,Home_Plus_2_25,Away_Plus_2_5,Home_Plus_2_5,Away_Plus_2_75,Home_Plus_2_75,Away_Plus_3,Home_Plus_3,over2_0,over3_0,over1_75,over2_25,over2_75'}, '1512919': {'id': '1512919', 'teamA': '55', 'teamB': '1053', 'result': '{{0,1,0,0,8.8,nil,{244}},{0,0,1,0,7.3,nil,{209}},{0,0,1,0,8.8,nil,{275}},{0,1,1,0,10.0,nil,{110}},{1,1,1,0,15.0,10.0,{101}},{0,0,0,0,8.8,nil,{301}}}', 'wonmarkets': 'Away,DrawAway,Draw_Away,Home_Away,_0_1,_1_Goals,under,goal,ng1,ng2,ng3,ng4,g5,ng6,gc1,under2,nog,QAway,under3,under4,over0,HomeScoresUnder0,AwayScoresOver0,HomeScoresUnder1,AwayScoresUnder1,HomeScoresUnder2,AwayScoresUnder2,HomeScoresUnder3,AwayScoresUnder3,_1x2AwayScoresUnder1,_1x2AwayScoresUnder2,_1x2AwayScoresUnder3,_0-1_Goals,_0-2_Goals,_0-3_Goals,_0-4_Goals,_0-5_Goals,_0-6_Goals,_1-1_Goals,_1-2_Goals,_1-3_Goals,_1-4_Goals,_1-5_Goals,_1-6_Goals,1H_Draw,Away_0,Away_Plus_0_25,Away_Minus_0_25,Away_Plus_0_5,Away_Minus_0_5,Away_Plus_0_75,Away_Plus_1,Away_Plus_1_25,Away_Plus_1_5,Home_Plus_1_5,Away_Plus_1_75,Home_Plus_1_75,Away_Plus_2,Home_Plus_2,Away_Plus_2_25,Home_Plus_2_25,Away_Plus_2_5,Home_Plus_2_5,Away_Plus_2_75,Home_Plus_2_75,Away_Plus_3,Home_Plus_3,under2_0,under3_0,under1_75,under2_25,under2_75'}, '1512920': {'id': '1512920', 'teamA': '71', 'teamB': '52', 'result': '{{1,1,0,0,15.0,12.3,{124}},{1,0,1,0,14.2,9.2,{204}},{1,1,0,0,15.0,11.1,{67}},{0,0,0,0,7.2,nil,{195}},{0,1,1,0,10.0,nil,{70}},{0,0,0,0,10.0,nil,{70}}}', 'wonmarkets': 'Home,HomeHome,Home_Away,Home_Draw,_2_1,_3_Goals,over,goal,g1,g2,g3,ng4,ng5,ng6,gc3,over2,gg,QHome,under3,under4,over0,HomeScoresOver0,AwayScoresOver0,HomeScoresOver1,AwayScoresUnder1,HomeScoresUnder2,AwayScoresUnder2,HomeScoresUnder3,AwayScoresUnder3,_1x2HomeScoresOver1,_1x2HomeScoresOver2,_1x2HomeScoresUnder3,_0-3_Goals,_0-4_Goals,_0-5_Goals,_0-6_Goals,_1-3_Goals,_1-4_Goals,_1-5_Goals,_1-6_Goals,_2-3_Goals,_2-4_Goals,_2-5_Goals,_2-6_Goals,_3-3_Goals,_3-4_Goals,_3-5_Goals,_3-6_Goals,1H_Home,Home_0,Home_Minus_0_25,Home_Plus_0_25,Home_Minus_0_5,Home_Plus_0_5,Home_Plus_0_75,Home_Plus_1,Home_Plus_1_25,Away_Plus_1_5,Home_Plus_1_5,Away_Plus_1_75,Home_Plus_1_75,Away_Plus_2,Home_Plus_2,Away_Plus_2_25,Home_Plus_2_25,Away_Plus_2_5,Home_Plus_2_5,Away_Plus_2_75,Home_Plus_2_75,Away_Plus_3,Home_Plus_3,over2_0,over1_75,over2_25'}}, '15': {'1512921': {'id': '1512921', 'teamA': '58', 'teamB': '49', 'result': '{{0,1,0,0,7.2,nil,{195}},{1,0,1,0,15.0,10.1,{143}},{1,1,0,0,15.0,12.0,{1}},{0,0,0,0,10.0,nil,{87}},{0,1,1,0,8.3,nil,{126}},{0,0,0,0,8.3,nil,{125}}}', 'wonmarkets': 'Draw,DrawDraw,Draw_Away,Home_Draw,_1_1,_2_Goals,over,goal,ng1,g2,g3,ng4,ng5,ng6,gc2,under2,gg,QDraw,under3,under4,over0,HomeScoresOver0,AwayScoresOver0,HomeScoresUnder1,AwayScoresUnder1,HomeScoresUnder2,AwayScoresUnder2,HomeScoresUnder3,AwayScoresUnder3,_1x2DrawScoresOver1,_1x2DrawScoresUnder2,_1x2DrawScoresUnder3,_0-2_Goals,_0-3_Goals,_0-4_Goals,_0-5_Goals,_0-6_Goals,_1-2_Goals,_1-3_Goals,_1-4_Goals,_1-5_Goals,_1-6_Goals,_2-2_Goals,_2-3_Goals,_2-4_Goals,_2-5_Goals,_2-6_Goals,1H_Draw,Away_Plus_0_5,Home_Plus_0_5,Away_Plus_0_75,Home_Plus_0_75,Away_Plus_1,Home_Plus_1,Away_Plus_1_25,Home_Plus_1_25,Away_Plus_1_5,Home_Plus_1_5,Away_Plus_1_75,Home_Plus_1_75,Away_Plus_2,Home_Plus_2,Away_Plus_2_25,Home_Plus_2_25,Away_Plus_2_5,Home_Plus_2_5,Away_Plus_2_75,Home_Plus_2_75,Away_Plus_3,Home_Plus_3,under3_0,under2_75'}, '1512922': {'id': '1512922', 'teamA': '1053', 'teamB': '67', 'result': '{{0,1,0,0,8.3,nil,{289}},{0,0,1,0,10.0,nil,{185}},{0,1,0,0,8.3,nil,{168}},{0,0,0,0,13.3,nil,{152,52}},{1,1,1,0,14.2,9.2,{318}},{0,0,0,0,10.0,nil,{69}}}', 'wonmarkets': 'Away,DrawAway,Draw_Away,Home_Away,_0_1,_1_Goals,under,goal,ng1,ng2,ng3,ng4,g5,ng6,gc1,under2,nog,QAway,under3,under4,over0,HomeScoresUnder0,AwayScoresOver0,HomeScoresUnder1,AwayScoresUnder1,HomeScoresUnder2,AwayScoresUnder2,HomeScoresUnder3,AwayScoresUnder3,_1x2AwayScoresUnder1,_1x2AwayScoresUnder2,_1x2AwayScoresUnder3,_0-1_Goals,_0-2_Goals,_0-3_Goals,_0-4_Goals,_0-5_Goals,_0-6_Goals,_1-1_Goals,_1-2_Goals,_1-3_Goals,_1-4_Goals,_1-5_Goals,_1-6_Goals,1H_Draw,Away_0,Away_Plus_0_25,Away_Minus_0_25,Away_Plus_0_5,Away_Minus_0_5,Away_Plus_0_75,Away_Plus_1,Away_Plus_1_25,Away_Plus_1_5,Home_Plus_1_5,Away_Plus_1_75,Home_Plus_1_75,Away_Plus_2,Home_Plus_2,Away_Plus_2_25,Home_Plus_2_25,Away_Plus_2_5,Home_Plus_2_5,Away_Plus_2_75,Home_Plus_2_75,Away_Plus_3,Home_Plus_3,under2_0,under3_0,under1_75,under2_25,under2_75'}, '1512923': {'id': '1512923', 'teamA': '52', 'teamB': '60', 'result': '{{0,1,0,0,8.8,nil,{275}},{1,1,0,0,15.0,10.4,{196}},{1,0,1,0,15.0,10.0,{109}},{0,0,0,0,8.3,nil,{158}},{1,1,1,0,15.0,10.7,{182}},{1,1,1,0,13.2,8.2,{192}}}', 'wonmarkets': 'Away,DrawAway,Draw_Away,Home_Away,_1_3,_4_Goals,over,goal,ng1,g2,g3,ng4,g5,g6,gc4,over2,gg,QAway,over3,under4,over0,HomeScoresOver0,AwayScoresOver0,HomeScoresUnder1,AwayScoresOver1,HomeScoresUnder2,AwayScoresOver2,HomeScoresUnder3,AwayScoresUnder3,_1x2AwayScoresOver1,_1x2AwayScoresOver2,_1x2AwayScoresOver3,_0-4_Goals,_0-5_Goals,_0-6_Goals,_1-4_Goals,_1-5_Goals,_1-6_Goals,_2-4_Goals,_2-5_Goals,_2-6_Goals,_3-4_Goals,_3-5_Goals,_3-6_Goals,_4-4_Goals,_4-5_Goals,_4-6_Goals,1H_Draw,Away_0,Away_Plus_0_25,Away_Minus_0_25,Away_Plus_0_5,Away_Minus_0_5,Away_Plus_0_75,Away_Minus_0_75,Away_Plus_1,Away_Minus_1,Away_Plus_1_25,Away_Minus_1_25,Away_Plus_1_5,Away_Minus_1_5,Away_Plus_1_75,Away_Plus_2,Away_Plus_2_25,Away_Plus_2_5,Home_Plus_2_5,Away_Plus_2_75,Home_Plus_2_75,Away_Plus_3,Home_Plus_3,over2_0,over3_0,over1_75,over2_25,over2_75'}, '1512924': {'id': '1512924', 'teamA': '47', 'teamB': '63', 'result': '{{0,0,1,0,7.0,nil,{128}},{1,1,0,0,15.0,10.4,{91}},{0,1,0,0,9.2,nil,{13,33}},{1,0,0,0,13.4,8.4,{211}},{0,1,1,0,8.0,nil,{190}},{0,0,0,0,8.3,nil,{121}}}', 'wonmarkets': 'Home,HomeHome,Home_Away,Home_Draw,_2_0,_2_Goals,over,goal,ng1,g2,ng3,g4,ng5,ng6,gc2,under2,nog,QHome,under3,under4,over0,HomeScoresOver0,AwayScoresUnder0,HomeScoresOver1,AwayScoresUnder1,HomeScoresUnder2,AwayScoresUnder2,HomeScoresUnder3,AwayScoresUnder3,_1x2HomeScoresOver1,_1x2HomeScoresUnder2,_1x2HomeScoresUnder3,_0-2_Goals,_0-3_Goals,_0-4_Goals,_0-5_Goals,_0-6_Goals,_1-2_Goals,_1-3_Goals,_1-4_Goals,_1-5_Goals,_1-6_Goals,_2-2_Goals,_2-3_Goals,_2-4_Goals,_2-5_Goals,_2-6_Goals,1H_Home,Home_0,Home_Minus_0_25,Home_Plus_0_25,Home_Minus_0_5,Home_Plus_0_5,Home_Minus_0_75,Home_Plus_0_75,Home_Minus_1,Home_Plus_1,Home_Minus_1_25,Home_Plus_1_25,Home_Minus_1_5,Home_Plus_1_5,Home_Plus_1_75,Home_Plus_2,Home_Plus_2_25,Away_Plus_2_5,Home_Plus_2_5,Away_Plus_2_75,Home_Plus_2_75,Away_Plus_3,Home_Plus_3,under3_0,under2_75'}, '1512925': {'id': '1512925', 'teamA': '51', 'teamB': '512', 'result': '{{0,1,0,0,10.6,nil,{217}},{0,0,1,0,8.3,nil,{47}},{1,1,0,0,14.3,9.3,{178}},{1,0,0,0,15.0,11.0,{139}},{0,1,1,0,8.0,nil,{242}},{0,1,1,0,6.3,nil,{324}}}', 'wonmarkets': 'Home,HomeHome,Home_Away,Home_Draw,_2_0,_2_Goals,over,goal,ng1,ng2,g3,g4,ng5,ng6,gc2,under2,nog,QHome,under3,under4,over0,HomeScoresOver0,AwayScoresUnder0,HomeScoresOver1,AwayScoresUnder1,HomeScoresUnder2,AwayScoresUnder2,HomeScoresUnder3,AwayScoresUnder3,_1x2HomeScoresOver1,_1x2HomeScoresUnder2,_1x2HomeScoresUnder3,_0-2_Goals,_0-3_Goals,_0-4_Goals,_0-5_Goals,_0-6_Goals,_1-2_Goals,_1-3_Goals,_1-4_Goals,_1-5_Goals,_1-6_Goals,_2-2_Goals,_2-3_Goals,_2-4_Goals,_2-5_Goals,_2-6_Goals,1H_Home,Home_0,Home_Minus_0_25,Home_Plus_0_25,Home_Minus_0_5,Home_Plus_0_5,Home_Minus_0_75,Home_Plus_0_75,Home_Minus_1,Home_Plus_1,Home_Minus_1_25,Home_Plus_1_25,Home_Minus_1_5,Home_Plus_1_5,Home_Plus_1_75,Home_Plus_2,Home_Plus_2_25,Away_Plus_2_5,Home_Plus_2_5,Away_Plus_2_75,Home_Plus_2_75,Away_Plus_3,Home_Plus_3,under3_0,under2_75'}, '1512926': {'id': '1512926', 'teamA': '827', 'teamB': '45', 'result': '{{1,1,0,0,15.0,10.1,{152,60}},{1,0,1,0,15.0,11.1,{67}},{1,1,0,0,15.0,10.0,{165}},{1,1,1,0,15.0,12.0,{152,50}},{1,0,0,0,15.0,10.1,{143}},{1,0,0,0,15.0,10.6,{174}}}', 'wonmarkets': 'Home,HomeHome,Home_Away,Home_Draw,_4_2,_6_Goals,over,goal,g1,g2,g3,g4,g5,g6,gc6,over2,gg,QHome,over3,over4,over0,HomeScoresOver0,AwayScoresOver0,HomeScoresOver1,AwayScoresOver1,HomeScoresOver2,AwayScoresUnder2,HomeScoresOver3,AwayScoresUnder3,_1x2HomeScoresOver1,_1x2HomeScoresOver2,_1x2HomeScoresOver3,_0-6_Goals,_1-6_Goals,_2-6_Goals,_3-6_Goals,_4-6_Goals,_5-6_Goals,_6-6_Goals,1H_Home,Home_0,Home_Minus_0_25,Home_Plus_0_25,Home_Minus_0_5,Home_Plus_0_5,Home_Minus_0_75,Home_Plus_0_75,Home_Minus_1,Home_Plus_1,Home_Minus_1_25,Home_Plus_1_25,Home_Minus_1_5,Home_Plus_1_5,Home_Plus_1_75,Home_Plus_2,Home_Plus_2_25,Away_Plus_2_5,Home_Plus_2_5,Away_Plus_2_75,Home_Plus_2_75,Away_Plus_3,Home_Plus_3,over2_0,over3_0,over1_75,over2_25,over2_75'}, '1512927': {'id': '1512927', 'teamA': '50', 'teamB': '71', 'result': '{{0,0,1,0,8.8,nil,{258}},{1,0,1,0,12.7,7.7,{251}},{0,0,1,0,9.2,nil,{137}},{0,0,0,0,6.3,nil,{253}},{0,1,1,0,7.7,nil,{214}},{1,0,0,0,13.0,8.0,{278}}}', 'wonmarkets': 'Draw,AwayDraw,Draw_Away,Home_Draw,_1_1,_2_Goals,over,goal,ng1,g2,ng3,ng4,ng5,g6,gc2,under2,gg,QDraw,under3,under4,over0,HomeScoresOver0,AwayScoresOver0,HomeScoresUnder1,AwayScoresUnder1,HomeScoresUnder2,AwayScoresUnder2,HomeScoresUnder3,AwayScoresUnder3,_1x2DrawScoresOver1,_1x2DrawScoresUnder2,_1x2DrawScoresUnder3,_0-2_Goals,_0-3_Goals,_0-4_Goals,_0-5_Goals,_0-6_Goals,_1-2_Goals,_1-3_Goals,_1-4_Goals,_1-5_Goals,_1-6_Goals,_2-2_Goals,_2-3_Goals,_2-4_Goals,_2-5_Goals,_2-6_Goals,1H_Away,Away_Plus_0_5,Home_Plus_0_5,Away_Plus_0_75,Home_Plus_0_75,Away_Plus_1,Home_Plus_1,Away_Plus_1_25,Home_Plus_1_25,Away_Plus_1_5,Home_Plus_1_5,Away_Plus_1_75,Home_Plus_1_75,Away_Plus_2,Home_Plus_2,Away_Plus_2_25,Home_Plus_2_25,Away_Plus_2_5,Home_Plus_2_5,Away_Plus_2_75,Home_Plus_2_75,Away_Plus_3,Home_Plus_3,under3_0,under2_75'}, '1512928': {'id': '1512928', 'teamA': '53', 'teamB': '55', 'result': '{{1,1,0,0,12.7,7.7,{11}},{1,1,0,0,15.0,10.1,{143}},{1,0,1,0,14.6,9.6,{223}},{0,1,1,0,6.3,nil,{254}},{1,0,0,0,13.6,8.6,{102}},{0,0,0,0,8.0,nil,{220}}}', 'wonmarkets': 'Home,HomeHome,Home_Away,Home_Draw,_3_1,_4_Goals,over,goal,g1,g2,g3,ng4,g5,ng6,gc4,over2,gg,QHome,over3,under4,over0,HomeScoresOver0,AwayScoresOver0,HomeScoresOver1,AwayScoresUnder1,HomeScoresOver2,AwayScoresUnder2,HomeScoresUnder3,AwayScoresUnder3,_1x2HomeScoresOver1,_1x2HomeScoresOver2,_1x2HomeScoresOver3,_0-4_Goals,_0-5_Goals,_0-6_Goals,_1-4_Goals,_1-5_Goals,_1-6_Goals,_2-4_Goals,_2-5_Goals,_2-6_Goals,_3-4_Goals,_3-5_Goals,_3-6_Goals,_4-4_Goals,_4-5_Goals,_4-6_Goals,1H_Home,Home_0,Home_Minus_0_25,Home_Plus_0_25,Home_Minus_0_5,Home_Plus_0_5,Home_Minus_0_75,Home_Plus_0_75,Home_Minus_1,Home_Plus_1,Home_Minus_1_25,Home_Plus_1_25,Home_Minus_1_5,Home_Plus_1_5,Home_Plus_1_75,Home_Plus_2,Home_Plus_2_25,Away_Plus_2_5,Home_Plus_2_5,Away_Plus_2_75,Home_Plus_2_75,Away_Plus_3,Home_Plus_3,over2_0,over3_0,over1_75,over2_25,over2_75'}, '1512929': {'id': '1512929', 'teamA': '525', 'teamB': '48', 'result': '{{1,1,0,0,13.6,8.6,{102}},{0,1,0,0,9.0,nil,{57}},{0,1,0,0,10.0,nil,{26}},{1,1,1,0,14.9,9.9,{152,5}},{1,1,1,0,15.0,10.0,{109}},{0,0,0,0,8.3,nil,{17,89}}}', 'wonmarkets': 'Away,HomeAway,Draw_Away,Home_Away,_1_2,_3_Goals,over,goal,g1,ng2,ng3,g4,g5,ng6,gc3,over2,gg,QAway,under3,under4,over0,HomeScoresOver0,AwayScoresOver0,HomeScoresUnder1,AwayScoresOver1,HomeScoresUnder2,AwayScoresUnder2,HomeScoresUnder3,AwayScoresUnder3,_1x2AwayScoresOver1,_1x2AwayScoresOver2,_1x2AwayScoresUnder3,_0-3_Goals,_0-4_Goals,_0-5_Goals,_0-6_Goals,_1-3_Goals,_1-4_Goals,_1-5_Goals,_1-6_Goals,_2-3_Goals,_2-4_Goals,_2-5_Goals,_2-6_Goals,_3-3_Goals,_3-4_Goals,_3-5_Goals,_3-6_Goals,1H_Home,Away_0,Away_Plus_0_25,Away_Minus_0_25,Away_Plus_0_5,Away_Minus_0_5,Away_Plus_0_75,Away_Plus_1,Away_Plus_1_25,Away_Plus_1_5,Home_Plus_1_5,Away_Plus_1_75,Home_Plus_1_75,Away_Plus_2,Home_Plus_2,Away_Plus_2_25,Home_Plus_2_25,Away_Plus_2_5,Home_Plus_2_5,Away_Plus_2_75,Home_Plus_2_75,Away_Plus_3,Home_Plus_3,over2_0,over1_75,over2_25'}, '1512930': {'id': '1512930', 'teamA': '972', 'teamB': '46', 'result': '{{0,1,0,0,8.3,nil,{17,81}},{1,0,1,0,12.7,7.7,{11}},{0,1,0,0,8.0,nil,{221}},{0,0,0,0,10.0,nil,{25}},{0,0,0,0,8.8,nil,{258}},{0,1,1,0,10.0,nil,{186}}}', 'wonmarkets': 'Away,AwayAway,Draw_Away,Home_Away,_0_1,_1_Goals,under,goal,ng1,g2,ng3,ng4,ng5,ng6,gc1,under2,nog,QAway,under3,under4,over0,HomeScoresUnder0,AwayScoresOver0,HomeScoresUnder1,AwayScoresUnder1,HomeScoresUnder2,AwayScoresUnder2,HomeScoresUnder3,AwayScoresUnder3,_1x2AwayScoresUnder1,_1x2AwayScoresUnder2,_1x2AwayScoresUnder3,_0-1_Goals,_0-2_Goals,_0-3_Goals,_0-4_Goals,_0-5_Goals,_0-6_Goals,_1-1_Goals,_1-2_Goals,_1-3_Goals,_1-4_Goals,_1-5_Goals,_1-6_Goals,1H_Away,Away_0,Away_Plus_0_25,Away_Minus_0_25,Away_Plus_0_5,Away_Minus_0_5,Away_Plus_0_75,Away_Plus_1,Away_Plus_1_25,Away_Plus_1_5,Home_Plus_1_5,Away_Plus_1_75,Home_Plus_1_75,Away_Plus_2,Home_Plus_2,Away_Plus_2_25,Home_Plus_2_25,Away_Plus_2_5,Home_Plus_2_5,Away_Plus_2_75,Home_Plus_2_75,Away_Plus_3,Home_Plus_3,under2_0,under3_0,under1_75,under2_25,under2_75'}}, '16': {'1512931': {'id': '1512931', 'teamA': '55', 'teamB': '827', 'result': '{{0,0,1,0,7.5,nil,{262}},{1,0,1,0,13.8,8.8,{16}},{1,1,0,0,15.0,10.0,{302}},{0,1,1,0,11.0,nil,{234}},{1,1,1,0,15.0,10.4,{196}},{0,0,0,0,9.0,nil,{57}}}', 'wonmarkets': 'Away,DrawAway,Draw_Away,Home_Away,_1_2,_3_Goals,over,goal,ng1,g2,g3,ng4,g5,ng6,gc3,over2,gg,QAway,under3,under4,over0,HomeScoresOver0,AwayScoresOver0,HomeScoresUnder1,AwayScoresOver1,HomeScoresUnder2,AwayScoresUnder2,HomeScoresUnder3,AwayScoresUnder3,_1x2AwayScoresOver1,_1x2AwayScoresOver2,_1x2AwayScoresUnder3,_0-3_Goals,_0-4_Goals,_0-5_Goals,_0-6_Goals,_1-3_Goals,_1-4_Goals,_1-5_Goals,_1-6_Goals,_2-3_Goals,_2-4_Goals,_2-5_Goals,_2-6_Goals,_3-3_Goals,_3-4_Goals,_3-5_Goals,_3-6_Goals,1H_Draw,Away_0,Away_Plus_0_25,Away_Minus_0_25,Away_Plus_0_5,Away_Minus_0_5,Away_Plus_0_75,Away_Plus_1,Away_Plus_1_25,Away_Plus_1_5,Home_Plus_1_5,Away_Plus_1_75,Home_Plus_1_75,Away_Plus_2,Home_Plus_2,Away_Plus_2_25,Home_Plus_2_25,Away_Plus_2_5,Home_Plus_2_5,Away_Plus_2_75,Home_Plus_2_75,Away_Plus_3,Home_Plus_3,over2_0,over1_75,over2_25'}, '1512932': {'id': '1512932', 'teamA': '512', 'teamB': '1053', 'result': '{{0,1,0,0,8.0,nil,{242}},{0,0,1,0,8.3,nil,{94}},{0,0,1,0,10.2,nil,{224}},{1,1,1,0,15.0,10.4,{91}},{1,0,0,0,13.4,8.4,{208}},{1,0,0,0,14.2,9.2,{318}}}', 'wonmarkets': 'Home,DrawHome,Home_Away,Home_Draw,_2_1,_3_Goals,over,goal,ng1,ng2,ng3,g4,g5,g6,gc3,over2,gg,QHome,under3,under4,over0,HomeScoresOver0,AwayScoresOver0,HomeScoresOver1,AwayScoresUnder1,HomeScoresUnder2,AwayScoresUnder2,HomeScoresUnder3,AwayScoresUnder3,_1x2HomeScoresOver1,_1x2HomeScoresOver2,_1x2HomeScoresUnder3,_0-3_Goals,_0-4_Goals,_0-5_Goals,_0-6_Goals,_1-3_Goals,_1-4_Goals,_1-5_Goals,_1-6_Goals,_2-3_Goals,_2-4_Goals,_2-5_Goals,_2-6_Goals,_3-3_Goals,_3-4_Goals,_3-5_Goals,_3-6_Goals,1H_Draw,Home_0,Home_Minus_0_25,Home_Plus_0_25,Home_Minus_0_5,Home_Plus_0_5,Home_Plus_0_75,Home_Plus_1,Home_Plus_1_25,Away_Plus_1_5,Home_Plus_1_5,Away_Plus_1_75,Home_Plus_1_75,Away_Plus_2,Home_Plus_2,Away_Plus_2_25,Home_Plus_2_25,Away_Plus_2_5,Home_Plus_2_5,Away_Plus_2_75,Home_Plus_2_75,Away_Plus_3,Home_Plus_3,over2_0,over1_75,over2_25'}, '1512933': {'id': '1512933', 'teamA': '60', 'teamB': '63', 'result': '{{0,0,1,0,8.3,nil,{10}},{0,0,1,0,8.3,nil,{48}},{1,0,1,0,13.3,8.3,{298}},{1,1,1,0,14.9,9.9,{19}},{0,0,0,0,10.0,nil,{36}},{0,0,0,0,9.0,nil,{164}}}', 'wonmarkets': 'Away,AwayAway,Draw_Away,Home_Away,_0_2,_2_Goals,over,goal,ng1,ng2,g3,g4,ng5,ng6,gc2,under2,nog,QAway,under3,under4,over0,HomeScoresUnder0,AwayScoresOver0,HomeScoresUnder1,AwayScoresOver1,HomeScoresUnder2,AwayScoresUnder2,HomeScoresUnder3,AwayScoresUnder3,_1x2AwayScoresOver1,_1x2AwayScoresUnder2,_1x2AwayScoresUnder3,_0-2_Goals,_0-3_Goals,_0-4_Goals,_0-5_Goals,_0-6_Goals,_1-2_Goals,_1-3_Goals,_1-4_Goals,_1-5_Goals,_1-6_Goals,_2-2_Goals,_2-3_Goals,_2-4_Goals,_2-5_Goals,_2-6_Goals,1H_Away,Away_0,Away_Plus_0_25,Away_Minus_0_25,Away_Plus_0_5,Away_Minus_0_5,Away_Plus_0_75,Away_Minus_0_75,Away_Plus_1,Away_Minus_1,Away_Plus_1_25,Away_Minus_1_25,Away_Plus_1_5,Away_Minus_1_5,Away_Plus_1_75,Away_Plus_2,Away_Plus_2_25,Away_Plus_2_5,Home_Plus_2_5,Away_Plus_2_75,Home_Plus_2_75,Away_Plus_3,Home_Plus_3,under3_0,under2_75'}, '1512934': {'id': '1512934', 'teamA': '46', 'teamB': '525', 'result': '{{0,0,1,0,10.0,nil,{185}},{0,0,1,0,8.8,nil,{300}},{1,1,0,0,14.2,9.2,{204}},{0,0,0,0,10.0,nil,{27}},{0,0,0,0,8.3,nil,{142}},{0,0,0,0,10.6,nil,{218}}}', 'wonmarkets': 'Home,HomeHome,Home_Away,Home_Draw,_1_0,_1_Goals,under,goal,ng1,ng2,g3,ng4,ng5,ng6,gc1,under2,nog,QHome,under3,under4,over0,HomeScoresOver0,AwayScoresUnder0,HomeScoresUnder1,AwayScoresUnder1,HomeScoresUnder2,AwayScoresUnder2,HomeScoresUnder3,AwayScoresUnder3,_1x2HomeScoresUnder1,_1x2HomeScoresUnder2,_1x2HomeScoresUnder3,_0-1_Goals,_0-2_Goals,_0-3_Goals,_0-4_Goals,_0-5_Goals,_0-6_Goals,_1-1_Goals,_1-2_Goals,_1-3_Goals,_1-4_Goals,_1-5_Goals,_1-6_Goals,1H_Home,Home_0,Home_Minus_0_25,Home_Plus_0_25,Home_Minus_0_5,Home_Plus_0_5,Home_Plus_0_75,Home_Plus_1,Home_Plus_1_25,Away_Plus_1_5,Home_Plus_1_5,Away_Plus_1_75,Home_Plus_1_75,Away_Plus_2,Home_Plus_2,Away_Plus_2_25,Home_Plus_2_25,Away_Plus_2_5,Home_Plus_2_5,Away_Plus_2_75,Home_Plus_2_75,Away_Plus_3,Home_Plus_3,under2_0,under3_0,under1_75,under2_25,under2_75'}, '1512935': {'id': '1512935', 'teamA': '71', 'teamB': '58', 'result': '{{1,1,0,0,15.0,11.1,{215}},{0,0,1,0,8.3,nil,{10}},{0,0,1,0,10.0,nil,{171}},{0,0,0,0,10.0,nil,{38}},{0,1,1,0,10.0,nil,{173}},{0,1,1,0,7.5,nil,{262}}}', 'wonmarkets': 'Home,HomeHome,Home_Away,Home_Draw,_1_0,_1_Goals,under,goal,g1,ng2,ng3,ng4,ng5,ng6,gc1,under2,nog,QHome,under3,under4,over0,HomeScoresOver0,AwayScoresUnder0,HomeScoresUnder1,AwayScoresUnder1,HomeScoresUnder2,AwayScoresUnder2,HomeScoresUnder3,AwayScoresUnder3,_1x2HomeScoresUnder1,_1x2HomeScoresUnder2,_1x2HomeScoresUnder3,_0-1_Goals,_0-2_Goals,_0-3_Goals,_0-4_Goals,_0-5_Goals,_0-6_Goals,_1-1_Goals,_1-2_Goals,_1-3_Goals,_1-4_Goals,_1-5_Goals,_1-6_Goals,1H_Home,Home_0,Home_Minus_0_25,Home_Plus_0_25,Home_Minus_0_5,Home_Plus_0_5,Home_Plus_0_75,Home_Plus_1,Home_Plus_1_25,Away_Plus_1_5,Home_Plus_1_5,Away_Plus_1_75,Home_Plus_1_75,Away_Plus_2,Home_Plus_2,Away_Plus_2_25,Home_Plus_2_25,Away_Plus_2_5,Home_Plus_2_5,Away_Plus_2_75,Home_Plus_2_75,Away_Plus_3,Home_Plus_3,under2_0,under3_0,under1_75,under2_25,under2_75'}, '1512936': {'id': '1512936', 'teamA': '67', 'teamB': '53', 'result': '{{1,1,0,0,15.0,10.7,{35}},{1,0,1,0,15.0,11.9,{231}},{0,0,1,0,10.0,nil,{113}},{1,1,1,0,13.5,8.5,{263}},{0,0,0,0,7.3,nil,{149}},{0,0,0,0,10.0,nil,{296}}}', 'wonmarkets': 'Away,DrawAway,Draw_Away,Home_Away,_1_2,_3_Goals,over,goal,g1,g2,ng3,g4,ng5,ng6,gc3,over2,gg,QAway,under3,under4,over0,HomeScoresOver0,AwayScoresOver0,HomeScoresUnder1,AwayScoresOver1,HomeScoresUnder2,AwayScoresUnder2,HomeScoresUnder3,AwayScoresUnder3,_1x2AwayScoresOver1,_1x2AwayScoresOver2,_1x2AwayScoresUnder3,_0-3_Goals,_0-4_Goals,_0-5_Goals,_0-6_Goals,_1-3_Goals,_1-4_Goals,_1-5_Goals,_1-6_Goals,_2-3_Goals,_2-4_Goals,_2-5_Goals,_2-6_Goals,_3-3_Goals,_3-4_Goals,_3-5_Goals,_3-6_Goals,1H_Draw,Away_0,Away_Plus_0_25,Away_Minus_0_25,Away_Plus_0_5,Away_Minus_0_5,Away_Plus_0_75,Away_Plus_1,Away_Plus_1_25,Away_Plus_1_5,Home_Plus_1_5,Away_Plus_1_75,Home_Plus_1_75,Away_Plus_2,Home_Plus_2,Away_Plus_2_25,Home_Plus_2_25,Away_Plus_2_5,Home_Plus_2_5,Away_Plus_2_75,Home_Plus_2_75,Away_Plus_3,Home_Plus_3,over2_0,over1_75,over2_25'}, '1512937': {'id': '1512937', 'teamA': '48', 'teamB': '47', 'result': '{{1,1,0,0,14.0,9.0,{46}},{0,0,1,0,9.0,nil,{164}},{1,0,1,0,15.0,10.4,{91}},{0,0,0,0,10.0,nil,{228}},{0,0,0,0,8.8,nil,{299}},{0,0,0,0,8.8,nil,{309}}}', 'wonmarkets': 'Draw,DrawDraw,Draw_Away,Home_Draw,_1_1,_2_Goals,over,goal,g1,ng2,g3,ng4,ng5,ng6,gc2,under2,gg,QDraw,under3,under4,over0,HomeScoresOver0,AwayScoresOver0,HomeScoresUnder1,AwayScoresUnder1,HomeScoresUnder2,AwayScoresUnder2,HomeScoresUnder3,AwayScoresUnder3,_1x2DrawScoresOver1,_1x2DrawScoresUnder2,_1x2DrawScoresUnder3,_0-2_Goals,_0-3_Goals,_0-4_Goals,_0-5_Goals,_0-6_Goals,_1-2_Goals,_1-3_Goals,_1-4_Goals,_1-5_Goals,_1-6_Goals,_2-2_Goals,_2-3_Goals,_2-4_Goals,_2-5_Goals,_2-6_Goals,1H_Draw,Away_Plus_0_5,Home_Plus_0_5,Away_Plus_0_75,Home_Plus_0_75,Away_Plus_1,Home_Plus_1,Away_Plus_1_25,Home_Plus_1_25,Away_Plus_1_5,Home_Plus_1_5,Away_Plus_1_75,Home_Plus_1_75,Away_Plus_2,Home_Plus_2,Away_Plus_2_25,Home_Plus_2_25,Away_Plus_2_5,Home_Plus_2_5,Away_Plus_2_75,Home_Plus_2_75,Away_Plus_3,Home_Plus_3,under3_0,under2_75'}, '1512938': {'id': '1512938', 'teamA': '45', 'teamB': '972', 'result': '{{1,0,1,0,12.7,7.7,{13,14}},{1,1,0,0,14.9,9.9,{152,5}},{1,0,1,0,13.8,8.8,{16}},{0,0,0,0,8.3,nil,{321}},{1,0,0,0,15.0,10.8,{170}},{1,0,0,0,15.0,10.7,{53}}}', 'wonmarkets': 'Home,AwayHome,Home_Away,Home_Draw,_3_2,_5_Goals,over,goal,g1,g2,g3,ng4,g5,g6,gc5,over2,gg,QHome,over3,over4,over0,HomeScoresOver0,AwayScoresOver0,HomeScoresOver1,AwayScoresOver1,HomeScoresOver2,AwayScoresUnder2,HomeScoresUnder3,AwayScoresUnder3,_1x2HomeScoresOver1,_1x2HomeScoresOver2,_1x2HomeScoresOver3,_0-5_Goals,_0-6_Goals,_1-5_Goals,_1-6_Goals,_2-5_Goals,_2-6_Goals,_3-5_Goals,_3-6_Goals,_4-5_Goals,_4-6_Goals,_5-5_Goals,_5-6_Goals,1H_Away,Home_0,Home_Minus_0_25,Home_Plus_0_25,Home_Minus_0_5,Home_Plus_0_5,Home_Plus_0_75,Home_Plus_1,Home_Plus_1_25,Away_Plus_1_5,Home_Plus_1_5,Away_Plus_1_75,Home_Plus_1_75,Away_Plus_2,Home_Plus_2,Away_Plus_2_25,Home_Plus_2_25,Away_Plus_2_5,Home_Plus_2_5,Away_Plus_2_75,Home_Plus_2_75,Away_Plus_3,Home_Plus_3,over2_0,over3_0,over1_75,over2_25,over2_75'}, '1512939': {'id': '1512939', 'teamA': '52', 'teamB': '50', 'result': '{{0,1,0,0,6.3,nil,{324}},{0,0,1,0,8.8,nil,{276}},{0,0,1,0,8.8,nil,{257}},{0,1,1,0,10.0,nil,{75}},{0,1,1,0,10.0,nil,{171}},{0,0,0,0,8.3,nil,{65}}}', 'wonmarkets': 'Draw,DrawDraw,Draw_Away,Home_Draw,_0_0,_0_Goals,under,nogoal,ng1,ng2,ng3,ng4,ng5,ng6,under2,nog,QDraw,under3,under4,under0,HomeScoresUnder0,AwayScoresUnder0,HomeScoresUnder1,AwayScoresUnder1,HomeScoresUnder2,AwayScoresUnder2,HomeScoresUnder3,AwayScoresUnder3,_1x2DrawScoresUnder1,_1x2DrawScoresUnder2,_1x2DrawScoresUnder3,_0-0_Goals,_0-1_Goals,_0-2_Goals,_0-3_Goals,_0-4_Goals,_0-5_Goals,_0-6_Goals,1H_Draw,Away_Plus_0_5,Home_Plus_0_5,Away_Plus_0_75,Home_Plus_0_75,Away_Plus_1,Home_Plus_1,Away_Plus_1_25,Home_Plus_1_25,Away_Plus_1_5,Home_Plus_1_5,Away_Plus_1_75,Home_Plus_1_75,Away_Plus_2,Home_Plus_2,Away_Plus_2_25,Home_Plus_2_25,Away_Plus_2_5,Home_Plus_2_5,Away_Plus_2_75,Home_Plus_2_75,Away_Plus_3,Home_Plus_3,under2_0,under3_0,under1_75,under2_25,under2_75'}, '1512940': {'id': '1512940', 'teamA': '49', 'teamB': '51', 'result': '{{0,1,0,0,8.3,nil,{121}},{0,1,0,0,8.3,nil,{115}},{0,0,1,0,8.8,nil,{266}},{1,1,1,0,15.0,11.1,{67}},{1,0,0,0,14.2,9.2,{204}},{0,1,1,0,9.0,nil,{164}}}', 'wonmarkets': 'Draw,DrawDraw,Draw_Away,Home_Draw,_1_1,_2_Goals,over,goal,ng1,ng2,ng3,g4,g5,ng6,gc2,under2,gg,QDraw,under3,under4,over0,HomeScoresOver0,AwayScoresOver0,HomeScoresUnder1,AwayScoresUnder1,HomeScoresUnder2,AwayScoresUnder2,HomeScoresUnder3,AwayScoresUnder3,_1x2DrawScoresOver1,_1x2DrawScoresUnder2,_1x2DrawScoresUnder3,_0-2_Goals,_0-3_Goals,_0-4_Goals,_0-5_Goals,_0-6_Goals,_1-2_Goals,_1-3_Goals,_1-4_Goals,_1-5_Goals,_1-6_Goals,_2-2_Goals,_2-3_Goals,_2-4_Goals,_2-5_Goals,_2-6_Goals,1H_Draw,Away_Plus_0_5,Home_Plus_0_5,Away_Plus_0_75,Home_Plus_0_75,Away_Plus_1,Home_Plus_1,Away_Plus_1_25,Home_Plus_1_25,Away_Plus_1_5,Home_Plus_1_5,Away_Plus_1_75,Home_Plus_1_75,Away_Plus_2,Home_Plus_2,Away_Plus_2_25,Home_Plus_2_25,Away_Plus_2_5,Home_Plus_2_5,Away_Plus_2_75,Home_Plus_2_75,Away_Plus_3,Home_Plus_3,under3_0,under2_75'}}, '17': {'1512941': {'id': '1512941', 'teamA': '972', 'teamB': '55', 'result': '{{0,0,1,0,9.2,nil,{13,33}},{0,1,0,0,10.0,nil,{229}},{1,0,1,0,14.3,9.3,{56}},{0,0,0,0,10.0,nil,{37}},{0,0,0,0,10.0,nil,{205}},{0,0,0,0,8.8,nil,{245}}}', 'wonmarkets': 'Away,AwayAway,Draw_Away,Home_Away,_0_1,_1_Goals,under,goal,ng1,ng2,g3,ng4,ng5,ng6,gc1,under2,nog,QAway,under3,under4,over0,HomeScoresUnder0,AwayScoresOver0,HomeScoresUnder1,AwayScoresUnder1,HomeScoresUnder2,AwayScoresUnder2,HomeScoresUnder3,AwayScoresUnder3,_1x2AwayScoresUnder1,_1x2AwayScoresUnder2,_1x2AwayScoresUnder3,_0-1_Goals,_0-2_Goals,_0-3_Goals,_0-4_Goals,_0-5_Goals,_0-6_Goals,_1-1_Goals,_1-2_Goals,_1-3_Goals,_1-4_Goals,_1-5_Goals,_1-6_Goals,1H_Away,Away_0,Away_Plus_0_25,Away_Minus_0_25,Away_Plus_0_5,Away_Minus_0_5,Away_Plus_0_75,Away_Plus_1,Away_Plus_1_25,Away_Plus_1_5,Home_Plus_1_5,Away_Plus_1_75,Home_Plus_1_75,Away_Plus_2,Home_Plus_2,Away_Plus_2_25,Home_Plus_2_25,Away_Plus_2_5,Home_Plus_2_5,Away_Plus_2_75,Home_Plus_2_75,Away_Plus_3,Home_Plus_3,under2_0,under3_0,under1_75,under2_25,under2_75'}, '1512942': {'id': '1512942', 'teamA': '53', 'teamB': '512', 'result': '{{1,0,1,0,12.9,7.9,{13,32}},{1,1,0,0,14.2,9.2,{204}},{1,0,1,0,13.6,8.6,{102}},{1,0,0,0,15.0,10.9,{63}},{0,0,0,0,10.0,nil,{27}},{1,1,1,0,14.4,9.4,{118}}}', 'wonmarkets': 'Away,AwayAway,Draw_Away,Home_Away,_2_3,_5_Goals,over,goal,g1,g2,g3,g4,ng5,g6,gc5,over2,gg,QAway,over3,over4,over0,HomeScoresOver0,AwayScoresOver0,HomeScoresOver1,AwayScoresOver1,HomeScoresUnder2,AwayScoresOver2,HomeScoresUnder3,AwayScoresUnder3,_1x2AwayScoresOver1,_1x2AwayScoresOver2,_1x2AwayScoresOver3,_0-5_Goals,_0-6_Goals,_1-5_Goals,_1-6_Goals,_2-5_Goals,_2-6_Goals,_3-5_Goals,_3-6_Goals,_4-5_Goals,_4-6_Goals,_5-5_Goals,_5-6_Goals,1H_Away,Away_0,Away_Plus_0_25,Away_Minus_0_25,Away_Plus_0_5,Away_Minus_0_5,Away_Plus_0_75,Away_Plus_1,Away_Plus_1_25,Away_Plus_1_5,Home_Plus_1_5,Away_Plus_1_75,Home_Plus_1_75,Away_Plus_2,Home_Plus_2,Away_Plus_2_25,Home_Plus_2_25,Away_Plus_2_5,Home_Plus_2_5,Away_Plus_2_75,Home_Plus_2_75,Away_Plus_3,Home_Plus_3,over2_0,over3_0,over1_75,over2_25,over2_75'}, '1512943': {'id': '1512943', 'teamA': '1053', 'teamB': '49', 'result': '{{0,1,0,0,10.0,nil,{163}},{0,0,1,0,13.3,nil,{152,51}},{1,1,0,0,13.3,8.3,{298}},{0,1,1,0,8.3,nil,{289}},{1,0,0,0,14.3,9.3,{178}},{0,1,1,0,8.8,nil,{299}}}', 'wonmarkets': 'Home,HomeHome,Home_Away,Home_Draw,_2_0,_2_Goals,over,goal,ng1,ng2,g3,ng4,g5,ng6,gc2,under2,nog,QHome,under3,under4,over0,HomeScoresOver0,AwayScoresUnder0,HomeScoresOver1,AwayScoresUnder1,HomeScoresUnder2,AwayScoresUnder2,HomeScoresUnder3,AwayScoresUnder3,_1x2HomeScoresOver1,_1x2HomeScoresUnder2,_1x2HomeScoresUnder3,_0-2_Goals,_0-3_Goals,_0-4_Goals,_0-5_Goals,_0-6_Goals,_1-2_Goals,_1-3_Goals,_1-4_Goals,_1-5_Goals,_1-6_Goals,_2-2_Goals,_2-3_Goals,_2-4_Goals,_2-5_Goals,_2-6_Goals,1H_Home,Home_0,Home_Minus_0_25,Home_Plus_0_25,Home_Minus_0_5,Home_Plus_0_5,Home_Minus_0_75,Home_Plus_0_75,Home_Minus_1,Home_Plus_1,Home_Minus_1_25,Home_Plus_1_25,Home_Minus_1_5,Home_Plus_1_5,Home_Plus_1_75,Home_Plus_2,Home_Plus_2_25,Away_Plus_2_5,Home_Plus_2_5,Away_Plus_2_75,Home_Plus_2_75,Away_Plus_3,Home_Plus_3,under3_0,under2_75'}, '1512944': {'id': '1512944', 'teamA': '63', 'teamB': '48', 'result': '{{0,1,0,0,8.0,nil,{222}},{1,1,0,0,13.0,8.0,{278}},{1,0,1,0,14.9,9.9,{19}},{1,0,0,0,15.0,10.0,{165}},{1,1,1,0,15.0,10.0,{165}},{1,0,0,0,15.0,11.1,{215}}}', 'wonmarkets': 'Home,DrawHome,Home_Away,Home_Draw,_3_2,_5_Goals,over,goal,ng1,g2,g3,g4,g5,g6,gc5,over2,gg,QHome,over3,over4,over0,HomeScoresOver0,AwayScoresOver0,HomeScoresOver1,AwayScoresOver1,HomeScoresOver2,AwayScoresUnder2,HomeScoresUnder3,AwayScoresUnder3,_1x2HomeScoresOver1,_1x2HomeScoresOver2,_1x2HomeScoresOver3,_0-5_Goals,_0-6_Goals,_1-5_Goals,_1-6_Goals,_2-5_Goals,_2-6_Goals,_3-5_Goals,_3-6_Goals,_4-5_Goals,_4-6_Goals,_5-5_Goals,_5-6_Goals,1H_Draw,Home_0,Home_Minus_0_25,Home_Plus_0_25,Home_Minus_0_5,Home_Plus_0_5,Home_Plus_0_75,Home_Plus_1,Home_Plus_1_25,Away_Plus_1_5,Home_Plus_1_5,Away_Plus_1_75,Home_Plus_1_75,Away_Plus_2,Home_Plus_2,Away_Plus_2_25,Home_Plus_2_25,Away_Plus_2_5,Home_Plus_2_5,Away_Plus_2_75,Home_Plus_2_75,Away_Plus_3,Home_Plus_3,over2_0,over3_0,over1_75,over2_25,over2_75'}, '1512945': {'id': '1512945', 'teamA': '51', 'teamB': '71', 'result': '{{0,0,1,0,10.0,nil,{69}},{0,0,1,0,8.3,nil,{80}},{1,0,1,0,14.2,9.2,{188}},{0,0,0,0,10.0,nil,{2}},{0,1,1,0,8.3,nil,{142}},{1,1,1,0,12.9,7.9,{17,32}}}', 'wonmarkets': 'Away,AwayAway,Draw_Away,Home_Away,_0_2,_2_Goals,over,goal,ng1,ng2,g3,ng4,ng5,g6,gc2,under2,nog,QAway,under3,under4,over0,HomeScoresUnder0,AwayScoresOver0,HomeScoresUnder1,AwayScoresOver1,HomeScoresUnder2,AwayScoresUnder2,HomeScoresUnder3,AwayScoresUnder3,_1x2AwayScoresOver1,_1x2AwayScoresUnder2,_1x2AwayScoresUnder3,_0-2_Goals,_0-3_Goals,_0-4_Goals,_0-5_Goals,_0-6_Goals,_1-2_Goals,_1-3_Goals,_1-4_Goals,_1-5_Goals,_1-6_Goals,_2-2_Goals,_2-3_Goals,_2-4_Goals,_2-5_Goals,_2-6_Goals,1H_Away,Away_0,Away_Plus_0_25,Away_Minus_0_25,Away_Plus_0_5,Away_Minus_0_5,Away_Plus_0_75,Away_Minus_0_75,Away_Plus_1,Away_Minus_1,Away_Plus_1_25,Away_Minus_1_25,Away_Plus_1_5,Away_Minus_1_5,Away_Plus_1_75,Away_Plus_2,Away_Plus_2_25,Away_Plus_2_5,Home_Plus_2_5,Away_Plus_2_75,Home_Plus_2_75,Away_Plus_3,Home_Plus_3,under3_0,under2_75'}, '1512946': {'id': '1512946', 'teamA': '47', 'teamB': '46', 'result': '{{1,1,0,0,15.0,10.7,{20}},{0,0,1,0,8.8,nil,{307}},{0,1,0,0,7.7,nil,{214}},{1,1,1,0,13.4,8.4,{211}},{0,1,1,0,8.3,nil,{45}},{1,0,0,0,15.0,10.0,{101}}}', 'wonmarkets': 'Home,HomeHome,Home_Away,Home_Draw,_2_1,_3_Goals,over,goal,g1,ng2,ng3,g4,ng5,g6,gc3,over2,gg,QHome,under3,under4,over0,HomeScoresOver0,AwayScoresOver0,HomeScoresOver1,AwayScoresUnder1,HomeScoresUnder2,AwayScoresUnder2,HomeScoresUnder3,AwayScoresUnder3,_1x2HomeScoresOver1,_1x2HomeScoresOver2,_1x2HomeScoresUnder3,_0-3_Goals,_0-4_Goals,_0-5_Goals,_0-6_Goals,_1-3_Goals,_1-4_Goals,_1-5_Goals,_1-6_Goals,_2-3_Goals,_2-4_Goals,_2-5_Goals,_2-6_Goals,_3-3_Goals,_3-4_Goals,_3-5_Goals,_3-6_Goals,1H_Home,Home_0,Home_Minus_0_25,Home_Plus_0_25,Home_Minus_0_5,Home_Plus_0_5,Home_Plus_0_75,Home_Plus_1,Home_Plus_1_25,Away_Plus_1_5,Home_Plus_1_5,Away_Plus_1_75,Home_Plus_1_75,Away_Plus_2,Home_Plus_2,Away_Plus_2_25,Home_Plus_2_25,Away_Plus_2_5,Home_Plus_2_5,Away_Plus_2_75,Home_Plus_2_75,Away_Plus_3,Home_Plus_3,over2_0,over1_75,over2_25'}, '1512947': {'id': '1512947', 'teamA': '525', 'teamB': '45', 'result': '{{0,1,0,0,9.6,nil,{313}},{1,1,0,0,13.9,8.9,{17,18}},{1,1,0,0,12.7,7.7,{251}},{0,0,0,0,10.0,nil,{68}},{0,1,1,0,7.3,nil,{210}},{1,1,1,0,12.7,7.7,{13,14}}}', 'wonmarkets': 'Home,HomeHome,Home_Away,Home_Draw,_2_1,_3_Goals,over,goal,ng1,g2,g3,ng4,ng5,g6,gc3,over2,gg,QHome,under3,under4,over0,HomeScoresOver0,AwayScoresOver0,HomeScoresOver1,AwayScoresUnder1,HomeScoresUnder2,AwayScoresUnder2,HomeScoresUnder3,AwayScoresUnder3,_1x2HomeScoresOver1,_1x2HomeScoresOver2,_1x2HomeScoresUnder3,_0-3_Goals,_0-4_Goals,_0-5_Goals,_0-6_Goals,_1-3_Goals,_1-4_Goals,_1-5_Goals,_1-6_Goals,_2-3_Goals,_2-4_Goals,_2-5_Goals,_2-6_Goals,_3-3_Goals,_3-4_Goals,_3-5_Goals,_3-6_Goals,1H_Home,Home_0,Home_Minus_0_25,Home_Plus_0_25,Home_Minus_0_5,Home_Plus_0_5,Home_Plus_0_75,Home_Plus_1,Home_Plus_1_25,Away_Plus_1_5,Home_Plus_1_5,Away_Plus_1_75,Home_Plus_1_75,Away_Plus_2,Home_Plus_2,Away_Plus_2_25,Home_Plus_2_25,Away_Plus_2_5,Home_Plus_2_5,Away_Plus_2_75,Home_Plus_2_75,Away_Plus_3,Home_Plus_3,over2_0,over1_75,over2_25'}, '1512948': {'id': '1512948', 'teamA': '58', 'teamB': '52', 'result': '{{1,1,0,0,15.0,10.4,{196}},{0,1,0,0,8.4,nil,{316}},{0,1,0,0,8.8,nil,{237}},{1,0,0,0,15.0,10.0,{101}},{0,1,1,0,8.3,nil,{17,82}},{0,0,0,0,7.2,nil,{194}}}', 'wonmarkets': 'Home,HomeHome,Home_Away,Home_Draw,_2_0,_2_Goals,over,goal,g1,ng2,ng3,g4,ng5,ng6,gc2,under2,nog,QHome,under3,under4,over0,HomeScoresOver0,AwayScoresUnder0,HomeScoresOver1,AwayScoresUnder1,HomeScoresUnder2,AwayScoresUnder2,HomeScoresUnder3,AwayScoresUnder3,_1x2HomeScoresOver1,_1x2HomeScoresUnder2,_1x2HomeScoresUnder3,_0-2_Goals,_0-3_Goals,_0-4_Goals,_0-5_Goals,_0-6_Goals,_1-2_Goals,_1-3_Goals,_1-4_Goals,_1-5_Goals,_1-6_Goals,_2-2_Goals,_2-3_Goals,_2-4_Goals,_2-5_Goals,_2-6_Goals,1H_Home,Home_0,Home_Minus_0_25,Home_Plus_0_25,Home_Minus_0_5,Home_Plus_0_5,Home_Minus_0_75,Home_Plus_0_75,Home_Minus_1,Home_Plus_1,Home_Minus_1_25,Home_Plus_1_25,Home_Minus_1_5,Home_Plus_1_5,Home_Plus_1_75,Home_Plus_2,Home_Plus_2_25,Away_Plus_2_5,Home_Plus_2_5,Away_Plus_2_75,Home_Plus_2_75,Away_Plus_3,Home_Plus_3,under3_0,under2_75'}, '1512949': {'id': '1512949', 'teamA': '827', 'teamB': '67', 'result': '{{0,1,0,0,7.7,nil,{214}},{0,1,0,0,8.8,nil,{244}},{0,1,0,0,8.3,nil,{108}},{0,1,1,0,10.2,nil,{226}},{1,1,1,0,14.2,9.2,{219}},{0,0,0,0,9.0,nil,{161}}}', 'wonmarkets': 'Away,DrawAway,Draw_Away,Home_Away,_0_1,_1_Goals,under,goal,ng1,ng2,ng3,ng4,g5,ng6,gc1,under2,nog,QAway,under3,under4,over0,HomeScoresUnder0,AwayScoresOver0,HomeScoresUnder1,AwayScoresUnder1,HomeScoresUnder2,AwayScoresUnder2,HomeScoresUnder3,AwayScoresUnder3,_1x2AwayScoresUnder1,_1x2AwayScoresUnder2,_1x2AwayScoresUnder3,_0-1_Goals,_0-2_Goals,_0-3_Goals,_0-4_Goals,_0-5_Goals,_0-6_Goals,_1-1_Goals,_1-2_Goals,_1-3_Goals,_1-4_Goals,_1-5_Goals,_1-6_Goals,1H_Draw,Away_0,Away_Plus_0_25,Away_Minus_0_25,Away_Plus_0_5,Away_Minus_0_5,Away_Plus_0_75,Away_Plus_1,Away_Plus_1_25,Away_Plus_1_5,Home_Plus_1_5,Away_Plus_1_75,Home_Plus_1_75,Away_Plus_2,Home_Plus_2,Away_Plus_2_25,Home_Plus_2_25,Away_Plus_2_5,Home_Plus_2_5,Away_Plus_2_75,Home_Plus_2_75,Away_Plus_3,Home_Plus_3,under2_0,under3_0,under1_75,under2_25,under2_75'}, '1512950': {'id': '1512950', 'teamA': '50', 'teamB': '60', 'result': '{{0,1,0,0,10.0,nil,{207}},{1,0,1,0,15.0,10.0,{302}},{1,1,0,0,13.5,8.5,{263}},{1,0,0,0,15.0,10.7,{35}},{0,0,0,0,7.7,nil,{212}},{0,1,1,0,10.0,nil,{206}}}', 'wonmarkets': 'Home,DrawHome,Home_Away,Home_Draw,_2_1,_3_Goals,over,goal,ng1,g2,g3,g4,ng5,ng6,gc3,over2,gg,QHome,under3,under4,over0,HomeScoresOver0,AwayScoresOver0,HomeScoresOver1,AwayScoresUnder1,HomeScoresUnder2,AwayScoresUnder2,HomeScoresUnder3,AwayScoresUnder3,_1x2HomeScoresOver1,_1x2HomeScoresOver2,_1x2HomeScoresUnder3,_0-3_Goals,_0-4_Goals,_0-5_Goals,_0-6_Goals,_1-3_Goals,_1-4_Goals,_1-5_Goals,_1-6_Goals,_2-3_Goals,_2-4_Goals,_2-5_Goals,_2-6_Goals,_3-3_Goals,_3-4_Goals,_3-5_Goals,_3-6_Goals,1H_Draw,Home_0,Home_Minus_0_25,Home_Plus_0_25,Home_Minus_0_5,Home_Plus_0_5,Home_Plus_0_75,Home_Plus_1,Home_Plus_1_25,Away_Plus_1_5,Home_Plus_1_5,Away_Plus_1_75,Home_Plus_1_75,Away_Plus_2,Home_Plus_2,Away_Plus_2_25,Home_Plus_2_25,Away_Plus_2_5,Home_Plus_2_5,Away_Plus_2_75,Home_Plus_2_75,Away_Plus_3,Home_Plus_3,over2_0,over1_75,over2_25'}}, '18': {'1512951': {'id': '1512951', 'teamA': '45', 'teamB': '47', 'result': '{{1,0,1,0,14.4,9.4,{162}},{1,1,0,0,15.0,11.1,{215}},{0,0,1,0,8.8,nil,{301}},{1,1,1,0,15.0,10.1,{152,60}},{0,0,0,0,9.2,nil,{246}},{1,0,0,0,12.9,7.9,{156}}}', 'wonmarkets': 'Draw,DrawDraw,Draw_Away,Home_Draw,_2_2,_4_Goals,over,goal,g1,g2,ng3,g4,ng5,g6,gc4,over2,gg,QDraw,over3,under4,over0,HomeScoresOver0,AwayScoresOver0,HomeScoresOver1,AwayScoresOver1,HomeScoresUnder2,AwayScoresUnder2,HomeScoresUnder3,AwayScoresUnder3,_1x2DrawScoresOver1,_1x2DrawScoresOver2,_1x2DrawScoresOver3,_0-4_Goals,_0-5_Goals,_0-6_Goals,_1-4_Goals,_1-5_Goals,_1-6_Goals,_2-4_Goals,_2-5_Goals,_2-6_Goals,_3-4_Goals,_3-5_Goals,_3-6_Goals,_4-4_Goals,_4-5_Goals,_4-6_Goals,1H_Draw,Away_Plus_0_5,Home_Plus_0_5,Away_Plus_0_75,Home_Plus_0_75,Away_Plus_1,Home_Plus_1,Away_Plus_1_25,Home_Plus_1_25,Away_Plus_1_5,Home_Plus_1_5,Away_Plus_1_75,Home_Plus_1_75,Away_Plus_2,Home_Plus_2,Away_Plus_2_25,Home_Plus_2_25,Away_Plus_2_5,Home_Plus_2_5,Away_Plus_2_75,Home_Plus_2_75,Away_Plus_3,Home_Plus_3,over2_0,over3_0,over1_75,over2_25,over2_75'}, '1512952': {'id': '1512952', 'teamA': '49', 'teamB': '53', 'result': '{{0,1,0,0,8.3,nil,{292}},{1,0,1,0,12.3,7.3,{200}},{0,0,1,0,8.3,nil,{30}},{1,0,0,0,15.0,10.0,{109}},{0,0,0,0,10.0,nil,{172}},{0,0,0,0,9.2,nil,{152,62}}}', 'wonmarkets': 'Draw,AwayDraw,Draw_Away,Home_Draw,_1_1,_2_Goals,over,goal,ng1,g2,ng3,g4,ng5,ng6,gc2,under2,gg,QDraw,under3,under4,over0,HomeScoresOver0,AwayScoresOver0,HomeScoresUnder1,AwayScoresUnder1,HomeScoresUnder2,AwayScoresUnder2,HomeScoresUnder3,AwayScoresUnder3,_1x2DrawScoresOver1,_1x2DrawScoresUnder2,_1x2DrawScoresUnder3,_0-2_Goals,_0-3_Goals,_0-4_Goals,_0-5_Goals,_0-6_Goals,_1-2_Goals,_1-3_Goals,_1-4_Goals,_1-5_Goals,_1-6_Goals,_2-2_Goals,_2-3_Goals,_2-4_Goals,_2-5_Goals,_2-6_Goals,1H_Away,Away_Plus_0_5,Home_Plus_0_5,Away_Plus_0_75,Home_Plus_0_75,Away_Plus_1,Home_Plus_1,Away_Plus_1_25,Home_Plus_1_25,Away_Plus_1_5,Home_Plus_1_5,Away_Plus_1_75,Home_Plus_1_75,Away_Plus_2,Home_Plus_2,Away_Plus_2_25,Home_Plus_2_25,Away_Plus_2_5,Home_Plus_2_5,Away_Plus_2_75,Home_Plus_2_75,Away_Plus_3,Home_Plus_3,under3_0,under2_75'}, '1512953': {'id': '1512953', 'teamA': '55', 'teamB': '525', 'result': '{{1,0,1,0,12.9,7.9,{17,32}},{0,0,1,0,10.0,nil,{69}},{0,0,1,0,6.7,nil,{202}},{1,0,0,0,15.0,11.9,{231}},{0,1,1,0,8.3,nil,{159}},{1,0,0,0,15.0,10.0,{109}}}', 'wonmarkets': 'Home,AwayHome,Home_Away,Home_Draw,_2_1,_3_Goals,over,goal,g1,ng2,ng3,g4,ng5,g6,gc3,over2,gg,QHome,under3,under4,over0,HomeScoresOver0,AwayScoresOver0,HomeScoresOver1,AwayScoresUnder1,HomeScoresUnder2,AwayScoresUnder2,HomeScoresUnder3,AwayScoresUnder3,_1x2HomeScoresOver1,_1x2HomeScoresOver2,_1x2HomeScoresUnder3,_0-3_Goals,_0-4_Goals,_0-5_Goals,_0-6_Goals,_1-3_Goals,_1-4_Goals,_1-5_Goals,_1-6_Goals,_2-3_Goals,_2-4_Goals,_2-5_Goals,_2-6_Goals,_3-3_Goals,_3-4_Goals,_3-5_Goals,_3-6_Goals,1H_Away,Home_0,Home_Minus_0_25,Home_Plus_0_25,Home_Minus_0_5,Home_Plus_0_5,Home_Plus_0_75,Home_Plus_1,Home_Plus_1_25,Away_Plus_1_5,Home_Plus_1_5,Away_Plus_1_75,Home_Plus_1_75,Away_Plus_2,Home_Plus_2,Away_Plus_2_25,Home_Plus_2_25,Away_Plus_2_5,Home_Plus_2_5,Away_Plus_2_75,Home_Plus_2_75,Away_Plus_3,Home_Plus_3,over2_0,over1_75,over2_25'}, '1512954': {'id': '1512954', 'teamA': '60', 'teamB': '48', 'result': '{{1,1,0,0,13.6,8.6,{314}},{1,1,0,0,12.7,7.7,{251}},{1,0,1,0,15.0,10.7,{20}},{1,1,1,0,12.0,7.0,{146}},{1,1,1,0,13.8,8.8,{274}},{0,1,1,0,8.8,nil,{245}}}', 'wonmarkets': 'Away,HomeAway,Draw_Away,Home_Away,_2_3,_5_Goals,over,goal,g1,g2,g3,g4,g5,ng6,gc5,over2,gg,QAway,over3,over4,over0,HomeScoresOver0,AwayScoresOver0,HomeScoresOver1,AwayScoresOver1,HomeScoresUnder2,AwayScoresOver2,HomeScoresUnder3,AwayScoresUnder3,_1x2AwayScoresOver1,_1x2AwayScoresOver2,_1x2AwayScoresOver3,_0-5_Goals,_0-6_Goals,_1-5_Goals,_1-6_Goals,_2-5_Goals,_2-6_Goals,_3-5_Goals,_3-6_Goals,_4-5_Goals,_4-6_Goals,_5-5_Goals,_5-6_Goals,1H_Home,Away_0,Away_Plus_0_25,Away_Minus_0_25,Away_Plus_0_5,Away_Minus_0_5,Away_Plus_0_75,Away_Plus_1,Away_Plus_1_25,Away_Plus_1_5,Home_Plus_1_5,Away_Plus_1_75,Home_Plus_1_75,Away_Plus_2,Home_Plus_2,Away_Plus_2_25,Home_Plus_2_25,Away_Plus_2_5,Home_Plus_2_5,Away_Plus_2_75,Home_Plus_2_75,Away_Plus_3,Home_Plus_3,over2_0,over3_0,over1_75,over2_25,over2_75'}, '1512955': {'id': '1512955', 'teamA': '512', 'teamB': '827', 'result': '{{0,0,1,0,9.2,nil,{134}},{1,1,0,0,14.2,9.2,{318}},{0,1,0,0,10.0,nil,{88}},{0,1,1,0,10.0,nil,{163}},{0,0,0,0,8.0,nil,{190}},{0,1,1,0,6.3,nil,{252}}}', 'wonmarkets': 'Home,HomeHome,Home_Away,Home_Draw,_1_0,_1_Goals,under,goal,ng1,g2,ng3,ng4,ng5,ng6,gc1,under2,nog,QHome,under3,under4,over0,HomeScoresOver0,AwayScoresUnder0,HomeScoresUnder1,AwayScoresUnder1,HomeScoresUnder2,AwayScoresUnder2,HomeScoresUnder3,AwayScoresUnder3,_1x2HomeScoresUnder1,_1x2HomeScoresUnder2,_1x2HomeScoresUnder3,_0-1_Goals,_0-2_Goals,_0-3_Goals,_0-4_Goals,_0-5_Goals,_0-6_Goals,_1-1_Goals,_1-2_Goals,_1-3_Goals,_1-4_Goals,_1-5_Goals,_1-6_Goals,1H_Home,Home_0,Home_Minus_0_25,Home_Plus_0_25,Home_Minus_0_5,Home_Plus_0_5,Home_Plus_0_75,Home_Plus_1,Home_Plus_1_25,Away_Plus_1_5,Home_Plus_1_5,Away_Plus_1_75,Home_Plus_1_75,Away_Plus_2,Home_Plus_2,Away_Plus_2_25,Home_Plus_2_25,Away_Plus_2_5,Home_Plus_2_5,Away_Plus_2_75,Home_Plus_2_75,Away_Plus_3,Home_Plus_3,under2_0,under3_0,under1_75,under2_25,under2_75'}, '1512956': {'id': '1512956', 'teamA': '52', 'teamB': '51', 'result': '{{1,1,0,0,14.2,9.2,{204}},{1,0,1,0,14.6,9.6,{103}},{1,1,0,0,13.6,8.6,{21}},{1,1,1,0,15.0,10.0,{165}},{1,1,1,0,15.0,10.0,{135}},{1,0,0,0,14.6,9.6,{223}}}', 'wonmarkets': 'Draw,HomeDraw,Draw_Away,Home_Draw,_3_3,_6_Goals,over,goal,g1,g2,g3,g4,g5,g6,gc6,over2,gg,QDraw,over3,over4,over0,HomeScoresOver0,AwayScoresOver0,HomeScoresOver1,AwayScoresOver1,HomeScoresOver2,AwayScoresOver2,HomeScoresUnder3,AwayScoresUnder3,_1x2DrawScoresOver1,_1x2DrawScoresOver2,_1x2DrawScoresOver3,_0-6_Goals,_1-6_Goals,_2-6_Goals,_3-6_Goals,_4-6_Goals,_5-6_Goals,_6-6_Goals,1H_Home,Away_Plus_0_5,Home_Plus_0_5,Away_Plus_0_75,Home_Plus_0_75,Away_Plus_1,Home_Plus_1,Away_Plus_1_25,Home_Plus_1_25,Away_Plus_1_5,Home_Plus_1_5,Away_Plus_1_75,Home_Plus_1_75,Away_Plus_2,Home_Plus_2,Away_Plus_2_25,Home_Plus_2_25,Away_Plus_2_5,Home_Plus_2_5,Away_Plus_2_75,Home_Plus_2_75,Away_Plus_3,Home_Plus_3,over2_0,over3_0,over1_75,over2_25,over2_75'}, '1512957': {'id': '1512957', 'teamA': '67', 'teamB': '972', 'result': '{{1,0,1,0,13.8,8.8,{16}},{1,0,1,0,14.0,9.0,{243}},{1,0,1,0,15.0,10.8,{15}},{0,0,0,0,8.3,nil,{107}},{1,1,1,0,13.0,8.0,{278}},{1,0,0,0,14.6,9.6,{103}}}', 'wonmarkets': 'Away,AwayAway,Draw_Away,Home_Away,_1_4,_5_Goals,over,goal,g1,g2,g3,ng4,g5,g6,gc5,over2,gg,QAway,over3,over4,over0,HomeScoresOver0,AwayScoresOver0,HomeScoresUnder1,AwayScoresOver1,HomeScoresUnder2,AwayScoresOver2,HomeScoresUnder3,AwayScoresOver3,_1x2AwayScoresOver1,_1x2AwayScoresOver2,_1x2AwayScoresOver3,_0-5_Goals,_0-6_Goals,_1-5_Goals,_1-6_Goals,_2-5_Goals,_2-6_Goals,_3-5_Goals,_3-6_Goals,_4-5_Goals,_4-6_Goals,_5-5_Goals,_5-6_Goals,1H_Away,Away_0,Away_Plus_0_25,Away_Minus_0_25,Away_Plus_0_5,Away_Minus_0_5,Away_Plus_0_75,Away_Minus_0_75,Away_Plus_1,Away_Minus_1,Away_Plus_1_25,Away_Minus_1_25,Away_Plus_1_5,Away_Minus_1_5,Away_Plus_1_75,Away_Minus_1_75,Away_Plus_2,Away_Minus_2,Away_Plus_2_25,Away_Minus_2_25,Away_Plus_2_5,Away_Minus_2_5,Away_Plus_2_75,Away_Plus_3,over2_0,over3_0,over1_75,over2_25,over2_75'}, '1512958': {'id': '1512958', 'teamA': '50', 'teamB': '58', 'result': '{{0,1,0,0,8.3,nil,{176}},{1,1,0,0,14.4,9.4,{118}},{0,1,0,0,7.5,nil,{260}},{1,1,1,0,12.3,7.3,{200}},{1,0,0,0,12.7,7.7,{11}},{0,0,0,0,8.8,nil,{241}}}', 'wonmarkets': 'Home,HomeHome,Home_Away,Home_Draw,_2_1,_3_Goals,over,goal,ng1,g2,ng3,g4,g5,ng6,gc3,over2,gg,QHome,under3,under4,over0,HomeScoresOver0,AwayScoresOver0,HomeScoresOver1,AwayScoresUnder1,HomeScoresUnder2,AwayScoresUnder2,HomeScoresUnder3,AwayScoresUnder3,_1x2HomeScoresOver1,_1x2HomeScoresOver2,_1x2HomeScoresUnder3,_0-3_Goals,_0-4_Goals,_0-5_Goals,_0-6_Goals,_1-3_Goals,_1-4_Goals,_1-5_Goals,_1-6_Goals,_2-3_Goals,_2-4_Goals,_2-5_Goals,_2-6_Goals,_3-3_Goals,_3-4_Goals,_3-5_Goals,_3-6_Goals,1H_Home,Home_0,Home_Minus_0_25,Home_Plus_0_25,Home_Minus_0_5,Home_Plus_0_5,Home_Plus_0_75,Home_Plus_1,Home_Plus_1_25,Away_Plus_1_5,Home_Plus_1_5,Away_Plus_1_75,Home_Plus_1_75,Away_Plus_2,Home_Plus_2,Away_Plus_2_25,Home_Plus_2_25,Away_Plus_2_5,Home_Plus_2_5,Away_Plus_2_75,Home_Plus_2_75,Away_Plus_3,Home_Plus_3,over2_0,over1_75,over2_25'}, '1512959': {'id': '1512959', 'teamA': '46', 'teamB': '63', 'result': '{{0,0,1,0,8.3,nil,{304}},{1,0,1,0,15.0,10.7,{182}},{0,1,0,0,10.0,nil,{8}},{0,1,1,0,8.3,nil,{166}},{1,0,0,0,13.9,8.9,{17,18}},{0,1,1,0,8.3,nil,{159}}}', 'wonmarkets': 'Draw,AwayDraw,Draw_Away,Home_Draw,_1_1,_2_Goals,over,goal,ng1,g2,ng3,ng4,g5,ng6,gc2,under2,gg,QDraw,under3,under4,over0,HomeScoresOver0,AwayScoresOver0,HomeScoresUnder1,AwayScoresUnder1,HomeScoresUnder2,AwayScoresUnder2,HomeScoresUnder3,AwayScoresUnder3,_1x2DrawScoresOver1,_1x2DrawScoresUnder2,_1x2DrawScoresUnder3,_0-2_Goals,_0-3_Goals,_0-4_Goals,_0-5_Goals,_0-6_Goals,_1-2_Goals,_1-3_Goals,_1-4_Goals,_1-5_Goals,_1-6_Goals,_2-2_Goals,_2-3_Goals,_2-4_Goals,_2-5_Goals,_2-6_Goals,1H_Away,Away_Plus_0_5,Home_Plus_0_5,Away_Plus_0_75,Home_Plus_0_75,Away_Plus_1,Home_Plus_1,Away_Plus_1_25,Home_Plus_1_25,Away_Plus_1_5,Home_Plus_1_5,Away_Plus_1_75,Home_Plus_1_75,Away_Plus_2,Home_Plus_2,Away_Plus_2_25,Home_Plus_2_25,Away_Plus_2_5,Home_Plus_2_5,Away_Plus_2_75,Home_Plus_2_75,Away_Plus_3,Home_Plus_3,under3_0,under2_75'}, '1512960': {'id': '1512960', 'teamA': '71', 'teamB': '1053', 'result': '{{1,1,0,0,15.0,10.0,{22}},{1,1,0,0,15.0,11.1,{215}},{1,1,0,0,12.9,7.9,{156}},{1,0,0,0,15.0,10.0,{109}},{1,1,1,0,14.8,9.8,{227}},{1,0,0,0,14.4,9.4,{162}}}', 'wonmarkets': 'Home,HomeHome,Home_Away,Home_Draw,_5_1,_6_Goals,over,goal,g1,g2,g3,g4,g5,g6,gc6,over2,gg,QHome,over3,over4,over0,HomeScoresOver0,AwayScoresOver0,HomeScoresOver1,AwayScoresUnder1,HomeScoresOver2,AwayScoresUnder2,HomeScoresOver3,AwayScoresUnder3,_1x2HomeScoresOver1,_1x2HomeScoresOver2,_1x2HomeScoresOver3,_0-6_Goals,_1-6_Goals,_2-6_Goals,_3-6_Goals,_4-6_Goals,_5-6_Goals,_6-6_Goals,1H_Home,Home_0,Home_Minus_0_25,Home_Plus_0_25,Home_Minus_0_5,Home_Plus_0_5,Home_Minus_0_75,Home_Plus_0_75,Home_Minus_1,Home_Plus_1,Home_Minus_1_25,Home_Plus_1_25,Home_Minus_1_5,Home_Plus_1_5,Home_Minus_1_75,Home_Plus_1_75,Home_Minus_2,Home_Plus_2,Home_Minus_2_25,Home_Plus_2_25,Home_Minus_2_5,Home_Plus_2_5,Home_Minus_2_75,Home_Plus_2_75,Home_Minus_3,Home_Plus_3,over2_0,over3_0,over1_75,over2_25,over2_75'}}, '19': {'1512961': {'id': '1512961', 'teamA': '1053', 'teamB': '52', 'result': '{{1,1,0,0,14.9,9.9,{152,5}},{1,1,0,0,13.6,8.6,{21}},{0,1,0,0,11.0,nil,{234}},{1,1,1,0,12.9,7.9,{17,32}},{1,0,0,0,14.9,9.9,{152,5}},{0,0,0,0,10.0,nil,{54}}}', 'wonmarkets': 'Home,HomeHome,Home_Away,Home_Draw,_3_1,_4_Goals,over,goal,g1,g2,ng3,g4,g5,ng6,gc4,over2,gg,QHome,over3,under4,over0,HomeScoresOver0,AwayScoresOver0,HomeScoresOver1,AwayScoresUnder1,HomeScoresOver2,AwayScoresUnder2,HomeScoresUnder3,AwayScoresUnder3,_1x2HomeScoresOver1,_1x2HomeScoresOver2,_1x2HomeScoresOver3,_0-4_Goals,_0-5_Goals,_0-6_Goals,_1-4_Goals,_1-5_Goals,_1-6_Goals,_2-4_Goals,_2-5_Goals,_2-6_Goals,_3-4_Goals,_3-5_Goals,_3-6_Goals,_4-4_Goals,_4-5_Goals,_4-6_Goals,1H_Home,Home_0,Home_Minus_0_25,Home_Plus_0_25,Home_Minus_0_5,Home_Plus_0_5,Home_Minus_0_75,Home_Plus_0_75,Home_Minus_1,Home_Plus_1,Home_Minus_1_25,Home_Plus_1_25,Home_Minus_1_5,Home_Plus_1_5,Home_Plus_1_75,Home_Plus_2,Home_Plus_2_25,Away_Plus_2_5,Home_Plus_2_5,Away_Plus_2_75,Home_Plus_2_75,Away_Plus_3,Home_Plus_3,over2_0,over3_0,over1_75,over2_25,over2_75'}, '1512962': {'id': '1512962', 'teamA': '63', 'teamB': '45', 'result': '{{0,0,1,0,8.3,nil,{98}},{0,0,1,0,9.2,nil,{138}},{1,1,0,0,15.0,10.6,{174}},{1,0,0,0,15.0,11.1,{67}},{1,0,0,0,14.2,9.2,{219}},{0,0,0,0,8.3,nil,{65}}}', 'wonmarkets': 'Home,HomeHome,Home_Away,Home_Draw,_3_0,_3_Goals,over,goal,ng1,ng2,g3,g4,g5,ng6,gc3,over2,nog,QHome,under3,under4,over0,HomeScoresOver0,AwayScoresUnder0,HomeScoresOver1,AwayScoresUnder1,HomeScoresOver2,AwayScoresUnder2,HomeScoresUnder3,AwayScoresUnder3,_1x2HomeScoresOver1,_1x2HomeScoresOver2,_1x2HomeScoresUnder3,_0-3_Goals,_0-4_Goals,_0-5_Goals,_0-6_Goals,_1-3_Goals,_1-4_Goals,_1-5_Goals,_1-6_Goals,_2-3_Goals,_2-4_Goals,_2-5_Goals,_2-6_Goals,_3-3_Goals,_3-4_Goals,_3-5_Goals,_3-6_Goals,1H_Home,Home_0,Home_Minus_0_25,Home_Plus_0_25,Home_Minus_0_5,Home_Plus_0_5,Home_Minus_0_75,Home_Plus_0_75,Home_Minus_1,Home_Plus_1,Home_Minus_1_25,Home_Plus_1_25,Home_Minus_1_5,Home_Plus_1_5,Home_Minus_1_75,Home_Plus_1_75,Home_Minus_2,Home_Plus_2,Home_Minus_2_25,Home_Plus_2_25,Home_Minus_2_5,Home_Plus_2_5,Home_Plus_2_75,Home_Plus_3,over2_0,over1_75,over2_25'}, '1512963': {'id': '1512963', 'teamA': '525', 'teamB': '67', 'result': '{{0,0,1,0,10.0,nil,{97}},{0,0,1,0,10.0,nil,{37}},{0,1,0,0,6.7,nil,{201}},{0,0,0,0,9.2,nil,{136}},{0,0,0,0,10.0,nil,{8}},{1,0,0,0,14.0,9.0,{290}}}', 'wonmarkets': 'Home,DrawHome,Home_Away,Home_Draw,_1_0,_1_Goals,under,goal,ng1,ng2,ng3,ng4,ng5,g6,gc1,under2,nog,QHome,under3,under4,over0,HomeScoresOver0,AwayScoresUnder0,HomeScoresUnder1,AwayScoresUnder1,HomeScoresUnder2,AwayScoresUnder2,HomeScoresUnder3,AwayScoresUnder3,_1x2HomeScoresUnder1,_1x2HomeScoresUnder2,_1x2HomeScoresUnder3,_0-1_Goals,_0-2_Goals,_0-3_Goals,_0-4_Goals,_0-5_Goals,_0-6_Goals,_1-1_Goals,_1-2_Goals,_1-3_Goals,_1-4_Goals,_1-5_Goals,_1-6_Goals,1H_Draw,Home_0,Home_Minus_0_25,Home_Plus_0_25,Home_Minus_0_5,Home_Plus_0_5,Home_Plus_0_75,Home_Plus_1,Home_Plus_1_25,Away_Plus_1_5,Home_Plus_1_5,Away_Plus_1_75,Home_Plus_1_75,Away_Plus_2,Home_Plus_2,Away_Plus_2_25,Home_Plus_2_25,Away_Plus_2_5,Home_Plus_2_5,Away_Plus_2_75,Home_Plus_2_75,Away_Plus_3,Home_Plus_3,under2_0,under3_0,under1_75,under2_25,under2_75'}, '1512964': {'id': '1512964', 'teamA': '58', 'teamB': '60', 'result': '{{0,0,1,0,10.0,nil,{296}},{0,1,0,0,11.2,nil,{199}},{1,1,0,0,14.4,9.4,{162}},{0,1,1,0,10.0,nil,{36}},{0,1,1,0,8.3,nil,{92}},{1,1,1,0,14.0,9.0,{243}}}', 'wonmarkets': 'Draw,HomeDraw,Draw_Away,Home_Draw,_1_1,_2_Goals,over,goal,ng1,ng2,g3,ng4,ng5,g6,gc2,under2,gg,QDraw,under3,under4,over0,HomeScoresOver0,AwayScoresOver0,HomeScoresUnder1,AwayScoresUnder1,HomeScoresUnder2,AwayScoresUnder2,HomeScoresUnder3,AwayScoresUnder3,_1x2DrawScoresOver1,_1x2DrawScoresUnder2,_1x2DrawScoresUnder3,_0-2_Goals,_0-3_Goals,_0-4_Goals,_0-5_Goals,_0-6_Goals,_1-2_Goals,_1-3_Goals,_1-4_Goals,_1-5_Goals,_1-6_Goals,_2-2_Goals,_2-3_Goals,_2-4_Goals,_2-5_Goals,_2-6_Goals,1H_Home,Away_Plus_0_5,Home_Plus_0_5,Away_Plus_0_75,Home_Plus_0_75,Away_Plus_1,Home_Plus_1,Away_Plus_1_25,Home_Plus_1_25,Away_Plus_1_5,Home_Plus_1_5,Away_Plus_1_75,Home_Plus_1_75,Away_Plus_2,Home_Plus_2,Away_Plus_2_25,Home_Plus_2_25,Away_Plus_2_5,Home_Plus_2_5,Away_Plus_2_75,Home_Plus_2_75,Away_Plus_3,Home_Plus_3,under3_0,under2_75'}, '1512965': {'id': '1512965', 'teamA': '827', 'teamB': '49', 'result': '{{0,1,0,0,8.3,nil,{167}},{0,1,0,0,10.0,nil,{130}},{1,0,1,0,15.0,11.1,{67}},{0,1,1,0,9.2,nil,{246}},{0,1,1,0,8.8,nil,{276}},{0,0,0,0,8.3,nil,{43}}}', 'wonmarkets': 'Away,AwayAway,Draw_Away,Home_Away,_0_1,_1_Goals,under,goal,ng1,ng2,g3,ng4,ng5,ng6,gc1,under2,nog,QAway,under3,under4,over0,HomeScoresUnder0,AwayScoresOver0,HomeScoresUnder1,AwayScoresUnder1,HomeScoresUnder2,AwayScoresUnder2,HomeScoresUnder3,AwayScoresUnder3,_1x2AwayScoresUnder1,_1x2AwayScoresUnder2,_1x2AwayScoresUnder3,_0-1_Goals,_0-2_Goals,_0-3_Goals,_0-4_Goals,_0-5_Goals,_0-6_Goals,_1-1_Goals,_1-2_Goals,_1-3_Goals,_1-4_Goals,_1-5_Goals,_1-6_Goals,1H_Away,Away_0,Away_Plus_0_25,Away_Minus_0_25,Away_Plus_0_5,Away_Minus_0_5,Away_Plus_0_75,Away_Plus_1,Away_Plus_1_25,Away_Plus_1_5,Home_Plus_1_5,Away_Plus_1_75,Home_Plus_1_75,Away_Plus_2,Home_Plus_2,Away_Plus_2_25,Home_Plus_2_25,Away_Plus_2_5,Home_Plus_2_5,Away_Plus_2_75,Home_Plus_2_75,Away_Plus_3,Home_Plus_3,under2_0,under3_0,under1_75,under2_25,under2_75'}, '1512966': {'id': '1512966', 'teamA': '53', 'teamB': '71', 'result': '{{1,1,0,0,14.0,9.0,{290}},{1,0,1,0,15.0,10.7,{20}},{1,0,1,0,13.6,8.6,{102}},{1,0,0,0,13.8,8.8,{7}},{1,1,1,0,15.0,11.6,{95}},{1,1,1,0,15.0,10.7,{20}}}', 'wonmarkets': 'Away,AwayAway,Draw_Away,Home_Away,_2_4,_6_Goals,over,goal,g1,g2,g3,g4,g5,g6,gc6,over2,gg,QAway,over3,over4,over0,HomeScoresOver0,AwayScoresOver0,HomeScoresOver1,AwayScoresOver1,HomeScoresUnder2,AwayScoresOver2,HomeScoresUnder3,AwayScoresOver3,_1x2AwayScoresOver1,_1x2AwayScoresOver2,_1x2AwayScoresOver3,_0-6_Goals,_1-6_Goals,_2-6_Goals,_3-6_Goals,_4-6_Goals,_5-6_Goals,_6-6_Goals,1H_Away,Away_0,Away_Plus_0_25,Away_Minus_0_25,Away_Plus_0_5,Away_Minus_0_5,Away_Plus_0_75,Away_Minus_0_75,Away_Plus_1,Away_Minus_1,Away_Plus_1_25,Away_Minus_1_25,Away_Plus_1_5,Away_Minus_1_5,Away_Plus_1_75,Away_Plus_2,Away_Plus_2_25,Away_Plus_2_5,Home_Plus_2_5,Away_Plus_2_75,Home_Plus_2_75,Away_Plus_3,Home_Plus_3,over2_0,over3_0,over1_75,over2_25,over2_75'}, '1512967': {'id': '1512967', 'teamA': '48', 'teamB': '46', 'result': '{{1,0,1,0,15.0,10.6,{174}},{0,0,1,0,8.3,nil,{85}},{0,1,0,0,10.0,nil,{106}},{0,1,1,0,11.0,nil,{233}},{0,1,1,0,6.3,nil,{253}},{1,0,0,0,14.3,9.3,{178}}}', 'wonmarkets': 'Draw,AwayDraw,Draw_Away,Home_Draw,_1_1,_2_Goals,over,goal,g1,ng2,ng3,ng4,ng5,g6,gc2,under2,gg,QDraw,under3,under4,over0,HomeScoresOver0,AwayScoresOver0,HomeScoresUnder1,AwayScoresUnder1,HomeScoresUnder2,AwayScoresUnder2,HomeScoresUnder3,AwayScoresUnder3,_1x2DrawScoresOver1,_1x2DrawScoresUnder2,_1x2DrawScoresUnder3,_0-2_Goals,_0-3_Goals,_0-4_Goals,_0-5_Goals,_0-6_Goals,_1-2_Goals,_1-3_Goals,_1-4_Goals,_1-5_Goals,_1-6_Goals,_2-2_Goals,_2-3_Goals,_2-4_Goals,_2-5_Goals,_2-6_Goals,1H_Away,Away_Plus_0_5,Home_Plus_0_5,Away_Plus_0_75,Home_Plus_0_75,Away_Plus_1,Home_Plus_1,Away_Plus_1_25,Home_Plus_1_25,Away_Plus_1_5,Home_Plus_1_5,Away_Plus_1_75,Home_Plus_1_75,Away_Plus_2,Home_Plus_2,Away_Plus_2_25,Home_Plus_2_25,Away_Plus_2_5,Home_Plus_2_5,Away_Plus_2_75,Home_Plus_2_75,Away_Plus_3,Home_Plus_3,under3_0,under2_75'}, '1512968': {'id': '1512968', 'teamA': '47', 'teamB': '55', 'result': '{{0,1,0,0,8.3,nil,{17,90}},{0,1,0,0,8.3,nil,{83}},{0,1,0,0,8.3,nil,{303}},{0,0,0,0,10.0,nil,{54}},{0,0,0,0,8.3,nil,{108}},{0,0,0,0,8.8,nil,{264}}}', 'wonmarkets': 'Draw,DrawDraw,Draw_Away,Home_Draw,_0_0,_0_Goals,under,nogoal,ng1,ng2,ng3,ng4,ng5,ng6,under2,nog,QDraw,under3,under4,under0,HomeScoresUnder0,AwayScoresUnder0,HomeScoresUnder1,AwayScoresUnder1,HomeScoresUnder2,AwayScoresUnder2,HomeScoresUnder3,AwayScoresUnder3,_1x2DrawScoresUnder1,_1x2DrawScoresUnder2,_1x2DrawScoresUnder3,_0-0_Goals,_0-1_Goals,_0-2_Goals,_0-3_Goals,_0-4_Goals,_0-5_Goals,_0-6_Goals,1H_Draw,Away_Plus_0_5,Home_Plus_0_5,Away_Plus_0_75,Home_Plus_0_75,Away_Plus_1,Home_Plus_1,Away_Plus_1_25,Home_Plus_1_25,Away_Plus_1_5,Home_Plus_1_5,Away_Plus_1_75,Home_Plus_1_75,Away_Plus_2,Home_Plus_2,Away_Plus_2_25,Home_Plus_2_25,Away_Plus_2_5,Home_Plus_2_5,Away_Plus_2_75,Home_Plus_2_75,Away_Plus_3,Home_Plus_3,under2_0,under3_0,under1_75,under2_25,under2_75'}, '1512969': {'id': '1512969', 'teamA': '972', 'teamB': '512', 'result': '{{0,0,1,0,11.2,nil,{197}},{0,1,0,0,8.8,nil,{266}},{0,0,1,0,8.3,nil,{17,90}},{1,0,0,0,13.6,8.6,{314}},{0,0,0,0,8.3,nil,{155,40}},{0,0,0,0,9.0,nil,{161}}}', 'wonmarkets': 'Home,DrawHome,Home_Away,Home_Draw,_1_0,_1_Goals,under,goal,ng1,ng2,ng3,g4,ng5,ng6,gc1,under2,nog,QHome,under3,under4,over0,HomeScoresOver0,AwayScoresUnder0,HomeScoresUnder1,AwayScoresUnder1,HomeScoresUnder2,AwayScoresUnder2,HomeScoresUnder3,AwayScoresUnder3,_1x2HomeScoresUnder1,_1x2HomeScoresUnder2,_1x2HomeScoresUnder3,_0-1_Goals,_0-2_Goals,_0-3_Goals,_0-4_Goals,_0-5_Goals,_0-6_Goals,_1-1_Goals,_1-2_Goals,_1-3_Goals,_1-4_Goals,_1-5_Goals,_1-6_Goals,1H_Draw,Home_0,Home_Minus_0_25,Home_Plus_0_25,Home_Minus_0_5,Home_Plus_0_5,Home_Plus_0_75,Home_Plus_1,Home_Plus_1_25,Away_Plus_1_5,Home_Plus_1_5,Away_Plus_1_75,Home_Plus_1_75,Away_Plus_2,Home_Plus_2,Away_Plus_2_25,Home_Plus_2_25,Away_Plus_2_5,Home_Plus_2_5,Away_Plus_2_75,Home_Plus_2_75,Away_Plus_3,Home_Plus_3,under2_0,under3_0,under1_75,under2_25,under2_75'}, '1512970': {'id': '1512970', 'teamA': '51', 'teamB': '50', 'result': '{{0,0,1,0,8.3,nil,{108}},{0,1,0,0,8.3,nil,{80}},{0,0,1,0,10.0,nil,{151}},{0,1,1,0,8.3,nil,{47}},{1,1,1,0,13.4,8.4,{122}},{0,0,0,0,7.0,nil,{129}}}', 'wonmarkets': 'Away,DrawAway,Draw_Away,Home_Away,_0_1,_1_Goals,under,goal,ng1,ng2,ng3,ng4,g5,ng6,gc1,under2,nog,QAway,under3,under4,over0,HomeScoresUnder0,AwayScoresOver0,HomeScoresUnder1,AwayScoresUnder1,HomeScoresUnder2,AwayScoresUnder2,HomeScoresUnder3,AwayScoresUnder3,_1x2AwayScoresUnder1,_1x2AwayScoresUnder2,_1x2AwayScoresUnder3,_0-1_Goals,_0-2_Goals,_0-3_Goals,_0-4_Goals,_0-5_Goals,_0-6_Goals,_1-1_Goals,_1-2_Goals,_1-3_Goals,_1-4_Goals,_1-5_Goals,_1-6_Goals,1H_Draw,Away_0,Away_Plus_0_25,Away_Minus_0_25,Away_Plus_0_5,Away_Minus_0_5,Away_Plus_0_75,Away_Plus_1,Away_Plus_1_25,Away_Plus_1_5,Home_Plus_1_5,Away_Plus_1_75,Home_Plus_1_75,Away_Plus_2,Home_Plus_2,Away_Plus_2_25,Home_Plus_2_25,Away_Plus_2_5,Home_Plus_2_5,Away_Plus_2_75,Home_Plus_2_75,Away_Plus_3,Home_Plus_3,under2_0,under3_0,under1_75,under2_25,under2_75'}}, '20': {'1512971': {'id': '1512971', 'teamA': '48', 'teamB': '45', 'result': '{{1,0,1,0,15.0,10.4,{91}},{0,0,1,0,10.0,nil,{75}},{0,1,0,0,8.3,nil,{13,89}},{1,1,1,0,13.0,8.0,{278}},{1,0,0,0,14.6,9.6,{103}},{0,1,1,0,9.2,nil,{137}}}', 'wonmarkets': 'Away,AwayAway,Draw_Away,Home_Away,_1_2,_3_Goals,over,goal,g1,ng2,ng3,g4,g5,ng6,gc3,over2,gg,QAway,under3,under4,over0,HomeScoresOver0,AwayScoresOver0,HomeScoresUnder1,AwayScoresOver1,HomeScoresUnder2,AwayScoresUnder2,HomeScoresUnder3,AwayScoresUnder3,_1x2AwayScoresOver1,_1x2AwayScoresOver2,_1x2AwayScoresUnder3,_0-3_Goals,_0-4_Goals,_0-5_Goals,_0-6_Goals,_1-3_Goals,_1-4_Goals,_1-5_Goals,_1-6_Goals,_2-3_Goals,_2-4_Goals,_2-5_Goals,_2-6_Goals,_3-3_Goals,_3-4_Goals,_3-5_Goals,_3-6_Goals,1H_Away,Away_0,Away_Plus_0_25,Away_Minus_0_25,Away_Plus_0_5,Away_Minus_0_5,Away_Plus_0_75,Away_Plus_1,Away_Plus_1_25,Away_Plus_1_5,Home_Plus_1_5,Away_Plus_1_75,Home_Plus_1_75,Away_Plus_2,Home_Plus_2,Away_Plus_2_25,Home_Plus_2_25,Away_Plus_2_5,Home_Plus_2_5,Away_Plus_2_75,Home_Plus_2_75,Away_Plus_3,Home_Plus_3,over2_0,over1_75,over2_25'}, '1512972': {'id': '1512972', 'teamA': '827', 'teamB': '71', 'result': '{{0,1,0,0,13.3,nil,{152,52}},{1,1,0,0,15.0,10.0,{135}},{0,0,1,0,8.3,nil,{31}},{1,0,0,0,14.4,9.4,{118}},{1,1,1,0,14.2,9.2,{188}},{1,0,0,0,13.8,8.8,{274}}}', 'wonmarkets': 'Home,HomeHome,Home_Away,Home_Draw,_3_1,_4_Goals,over,goal,ng1,g2,ng3,g4,g5,g6,gc4,over2,gg,QHome,over3,under4,over0,HomeScoresOver0,AwayScoresOver0,HomeScoresOver1,AwayScoresUnder1,HomeScoresOver2,AwayScoresUnder2,HomeScoresUnder3,AwayScoresUnder3,_1x2HomeScoresOver1,_1x2HomeScoresOver2,_1x2HomeScoresOver3,_0-4_Goals,_0-5_Goals,_0-6_Goals,_1-4_Goals,_1-5_Goals,_1-6_Goals,_2-4_Goals,_2-5_Goals,_2-6_Goals,_3-4_Goals,_3-5_Goals,_3-6_Goals,_4-4_Goals,_4-5_Goals,_4-6_Goals,1H_Home,Home_0,Home_Minus_0_25,Home_Plus_0_25,Home_Minus_0_5,Home_Plus_0_5,Home_Minus_0_75,Home_Plus_0_75,Home_Minus_1,Home_Plus_1,Home_Minus_1_25,Home_Plus_1_25,Home_Minus_1_5,Home_Plus_1_5,Home_Plus_1_75,Home_Plus_2,Home_Plus_2_25,Away_Plus_2_5,Home_Plus_2_5,Away_Plus_2_75,Home_Plus_2_75,Away_Plus_3,Home_Plus_3,over2_0,over3_0,over1_75,over2_25,over2_75'}, '1512973': {'id': '1512973', 'teamA': '47', 'teamB': '67', 'result': '{{0,1,0,0,10.0,nil,{184}},{0,0,1,0,9.2,nil,{236}},{0,0,1,0,9.2,nil,{17,33}},{0,1,1,0,10.0,nil,{185}},{1,0,0,0,15.0,10.0,{135}},{0,1,1,0,8.3,nil,{48}}}', 'wonmarkets': 'Home,DrawHome,Home_Away,Home_Draw,_1_0,_1_Goals,under,goal,ng1,ng2,ng3,ng4,g5,ng6,gc1,under2,nog,QHome,under3,under4,over0,HomeScoresOver0,AwayScoresUnder0,HomeScoresUnder1,AwayScoresUnder1,HomeScoresUnder2,AwayScoresUnder2,HomeScoresUnder3,AwayScoresUnder3,_1x2HomeScoresUnder1,_1x2HomeScoresUnder2,_1x2HomeScoresUnder3,_0-1_Goals,_0-2_Goals,_0-3_Goals,_0-4_Goals,_0-5_Goals,_0-6_Goals,_1-1_Goals,_1-2_Goals,_1-3_Goals,_1-4_Goals,_1-5_Goals,_1-6_Goals,1H_Draw,Home_0,Home_Minus_0_25,Home_Plus_0_25,Home_Minus_0_5,Home_Plus_0_5,Home_Plus_0_75,Home_Plus_1,Home_Plus_1_25,Away_Plus_1_5,Home_Plus_1_5,Away_Plus_1_75,Home_Plus_1_75,Away_Plus_2,Home_Plus_2,Away_Plus_2_25,Home_Plus_2_25,Away_Plus_2_5,Home_Plus_2_5,Away_Plus_2_75,Home_Plus_2_75,Away_Plus_3,Home_Plus_3,under2_0,under3_0,under1_75,under2_25,under2_75'}, '1512974': {'id': '1512974', 'teamA': '51', 'teamB': '58', 'result': '{{1,0,1,0,13.5,8.5,{263}},{1,1,0,0,15.0,11.1,{215}},{1,0,1,0,12.7,7.7,{251}},{0,1,1,0,8.8,nil,{257}},{1,0,0,0,15.0,11.6,{95}},{0,1,1,0,8.3,nil,{288}}}', 'wonmarkets': 'Draw,AwayDraw,Draw_Away,Home_Draw,_2_2,_4_Goals,over,goal,g1,g2,g3,ng4,g5,ng6,gc4,over2,gg,QDraw,over3,under4,over0,HomeScoresOver0,AwayScoresOver0,HomeScoresOver1,AwayScoresOver1,HomeScoresUnder2,AwayScoresUnder2,HomeScoresUnder3,AwayScoresUnder3,_1x2DrawScoresOver1,_1x2DrawScoresOver2,_1x2DrawScoresOver3,_0-4_Goals,_0-5_Goals,_0-6_Goals,_1-4_Goals,_1-5_Goals,_1-6_Goals,_2-4_Goals,_2-5_Goals,_2-6_Goals,_3-4_Goals,_3-5_Goals,_3-6_Goals,_4-4_Goals,_4-5_Goals,_4-6_Goals,1H_Away,Away_Plus_0_5,Home_Plus_0_5,Away_Plus_0_75,Home_Plus_0_75,Away_Plus_1,Home_Plus_1,Away_Plus_1_25,Home_Plus_1_25,Away_Plus_1_5,Home_Plus_1_5,Away_Plus_1_75,Home_Plus_1_75,Away_Plus_2,Home_Plus_2,Away_Plus_2_25,Home_Plus_2_25,Away_Plus_2_5,Home_Plus_2_5,Away_Plus_2_75,Home_Plus_2_75,Away_Plus_3,Home_Plus_3,over2_0,over3_0,over1_75,over2_25,over2_75'}, '1512975': {'id': '1512975', 'teamA': '60', 'teamB': '46', 'result': '{{0,0,1,0,9.2,nil,{246}},{0,0,1,0,8.3,nil,{321}},{0,0,1,0,10.0,nil,{110}},{0,1,1,0,11.2,nil,{198}},{0,0,0,0,8.3,nil,{153}},{1,1,1,0,15.0,10.8,{15}}}', 'wonmarkets': 'Away,DrawAway,Draw_Away,Home_Away,_0_1,_1_Goals,under,goal,ng1,ng2,ng3,ng4,ng5,g6,gc1,under2,nog,QAway,under3,under4,over0,HomeScoresUnder0,AwayScoresOver0,HomeScoresUnder1,AwayScoresUnder1,HomeScoresUnder2,AwayScoresUnder2,HomeScoresUnder3,AwayScoresUnder3,_1x2AwayScoresUnder1,_1x2AwayScoresUnder2,_1x2AwayScoresUnder3,_0-1_Goals,_0-2_Goals,_0-3_Goals,_0-4_Goals,_0-5_Goals,_0-6_Goals,_1-1_Goals,_1-2_Goals,_1-3_Goals,_1-4_Goals,_1-5_Goals,_1-6_Goals,1H_Draw,Away_0,Away_Plus_0_25,Away_Minus_0_25,Away_Plus_0_5,Away_Minus_0_5,Away_Plus_0_75,Away_Plus_1,Away_Plus_1_25,Away_Plus_1_5,Home_Plus_1_5,Away_Plus_1_75,Home_Plus_1_75,Away_Plus_2,Home_Plus_2,Away_Plus_2_25,Home_Plus_2_25,Away_Plus_2_5,Home_Plus_2_5,Away_Plus_2_75,Home_Plus_2_75,Away_Plus_3,Home_Plus_3,under2_0,under3_0,under1_75,under2_25,under2_75'}, '1512976': {'id': '1512976', 'teamA': '1053', 'teamB': '50', 'result': '{{1,0,1,0,15.0,10.0,{165}},{1,0,1,0,12.0,7.0,{146}},{0,1,0,0,8.3,nil,{49}},{1,1,1,0,13.4,8.4,{211}},{0,0,0,0,8.3,nil,{43}},{0,1,1,0,8.3,nil,{17,89}}}', 'wonmarkets': 'Away,AwayAway,Draw_Away,Home_Away,_0_3,_3_Goals,over,goal,g1,g2,ng3,g4,ng5,ng6,gc3,over2,nog,QAway,under3,under4,over0,HomeScoresUnder0,AwayScoresOver0,HomeScoresUnder1,AwayScoresOver1,HomeScoresUnder2,AwayScoresOver2,HomeScoresUnder3,AwayScoresUnder3,_1x2AwayScoresOver1,_1x2AwayScoresOver2,_1x2AwayScoresUnder3,_0-3_Goals,_0-4_Goals,_0-5_Goals,_0-6_Goals,_1-3_Goals,_1-4_Goals,_1-5_Goals,_1-6_Goals,_2-3_Goals,_2-4_Goals,_2-5_Goals,_2-6_Goals,_3-3_Goals,_3-4_Goals,_3-5_Goals,_3-6_Goals,1H_Away,Away_0,Away_Plus_0_25,Away_Minus_0_25,Away_Plus_0_5,Away_Minus_0_5,Away_Plus_0_75,Away_Minus_0_75,Away_Plus_1,Away_Minus_1,Away_Plus_1_25,Away_Minus_1_25,Away_Plus_1_5,Away_Minus_1_5,Away_Plus_1_75,Away_Minus_1_75,Away_Plus_2,Away_Minus_2,Away_Plus_2_25,Away_Minus_2_25,Away_Plus_2_5,Away_Minus_2_5,Away_Plus_2_75,Away_Plus_3,over2_0,over1_75,over2_25'}, '1512977': {'id': '1512977', 'teamA': '63', 'teamB': '55', 'result': '{{0,1,0,0,8.3,nil,{13,82}},{1,1,0,0,13.2,8.2,{192}},{0,0,1,0,10.0,nil,{186}},{0,1,1,0,11.2,nil,{197}},{0,0,0,0,10.0,nil,{205}},{0,1,1,0,8.3,nil,{168}}}', 'wonmarkets': 'Home,HomeHome,Home_Away,Home_Draw,_1_0,_1_Goals,under,goal,ng1,g2,ng3,ng4,ng5,ng6,gc1,under2,nog,QHome,under3,under4,over0,HomeScoresOver0,AwayScoresUnder0,HomeScoresUnder1,AwayScoresUnder1,HomeScoresUnder2,AwayScoresUnder2,HomeScoresUnder3,AwayScoresUnder3,_1x2HomeScoresUnder1,_1x2HomeScoresUnder2,_1x2HomeScoresUnder3,_0-1_Goals,_0-2_Goals,_0-3_Goals,_0-4_Goals,_0-5_Goals,_0-6_Goals,_1-1_Goals,_1-2_Goals,_1-3_Goals,_1-4_Goals,_1-5_Goals,_1-6_Goals,1H_Home,Home_0,Home_Minus_0_25,Home_Plus_0_25,Home_Minus_0_5,Home_Plus_0_5,Home_Plus_0_75,Home_Plus_1,Home_Plus_1_25,Away_Plus_1_5,Home_Plus_1_5,Away_Plus_1_75,Home_Plus_1_75,Away_Plus_2,Home_Plus_2,Away_Plus_2_25,Home_Plus_2_25,Away_Plus_2_5,Home_Plus_2_5,Away_Plus_2_75,Home_Plus_2_75,Away_Plus_3,Home_Plus_3,under2_0,under3_0,under1_75,under2_25,under2_75'}, '1512978': {'id': '1512978', 'teamA': '525', 'teamB': '512', 'result': '{{0,0,1,0,8.3,nil,{107}},{0,0,1,0,10.0,nil,{163}},{0,0,1,0,7.5,nil,{260}},{1,1,1,0,15.0,10.0,{165}},{1,1,1,0,15.0,10.9,{63}},{0,1,1,0,10.0,nil,{230}}}', 'wonmarkets': 'Away,DrawAway,Draw_Away,Home_Away,_0_2,_2_Goals,over,goal,ng1,ng2,ng3,g4,g5,ng6,gc2,under2,nog,QAway,under3,under4,over0,HomeScoresUnder0,AwayScoresOver0,HomeScoresUnder1,AwayScoresOver1,HomeScoresUnder2,AwayScoresUnder2,HomeScoresUnder3,AwayScoresUnder3,_1x2AwayScoresOver1,_1x2AwayScoresUnder2,_1x2AwayScoresUnder3,_0-2_Goals,_0-3_Goals,_0-4_Goals,_0-5_Goals,_0-6_Goals,_1-2_Goals,_1-3_Goals,_1-4_Goals,_1-5_Goals,_1-6_Goals,_2-2_Goals,_2-3_Goals,_2-4_Goals,_2-5_Goals,_2-6_Goals,1H_Draw,Away_0,Away_Plus_0_25,Away_Minus_0_25,Away_Plus_0_5,Away_Minus_0_5,Away_Plus_0_75,Away_Minus_0_75,Away_Plus_1,Away_Minus_1,Away_Plus_1_25,Away_Minus_1_25,Away_Plus_1_5,Away_Minus_1_5,Away_Plus_1_75,Away_Plus_2,Away_Plus_2_25,Away_Plus_2_5,Home_Plus_2_5,Away_Plus_2_75,Home_Plus_2_75,Away_Plus_3,Home_Plus_3,under3_0,under2_75'}, '1512979': {'id': '1512979', 'teamA': '53', 'teamB': '52', 'result': '{{0,0,1,0,8.3,nil,{48}},{0,1,0,0,8.3,nil,{17,81}},{1,1,0,0,12.9,7.9,{17,32}},{1,1,1,0,13.6,8.6,{21}},{0,0,0,0,8.3,nil,{107}},{0,1,1,0,8.3,nil,{132}}}', 'wonmarkets': 'Draw,HomeDraw,Draw_Away,Home_Draw,_1_1,_2_Goals,over,goal,ng1,ng2,g3,g4,ng5,ng6,gc2,under2,gg,QDraw,under3,under4,over0,HomeScoresOver0,AwayScoresOver0,HomeScoresUnder1,AwayScoresUnder1,HomeScoresUnder2,AwayScoresUnder2,HomeScoresUnder3,AwayScoresUnder3,_1x2DrawScoresOver1,_1x2DrawScoresUnder2,_1x2DrawScoresUnder3,_0-2_Goals,_0-3_Goals,_0-4_Goals,_0-5_Goals,_0-6_Goals,_1-2_Goals,_1-3_Goals,_1-4_Goals,_1-5_Goals,_1-6_Goals,_2-2_Goals,_2-3_Goals,_2-4_Goals,_2-5_Goals,_2-6_Goals,1H_Home,Away_Plus_0_5,Home_Plus_0_5,Away_Plus_0_75,Home_Plus_0_75,Away_Plus_1,Home_Plus_1,Away_Plus_1_25,Home_Plus_1_25,Away_Plus_1_5,Home_Plus_1_5,Away_Plus_1_75,Home_Plus_1_75,Away_Plus_2,Home_Plus_2,Away_Plus_2_25,Home_Plus_2_25,Away_Plus_2_5,Home_Plus_2_5,Away_Plus_2_75,Home_Plus_2_75,Away_Plus_3,Home_Plus_3,under3_0,under2_75'}, '1512980': {'id': '1512980', 'teamA': '972', 'teamB': '49', 'result': '{{0,1,0,0,9.0,nil,{144}},{0,1,0,0,8.3,nil,{17,89}},{0,1,0,0,8.3,nil,{98}},{0,0,0,0,8.3,nil,{157}},{1,0,0,0,14.4,9.4,{24}},{0,0,0,0,11.2,nil,{199}}}', 'wonmarkets': 'Home,DrawHome,Home_Away,Home_Draw,_1_0,_1_Goals,under,goal,ng1,ng2,ng3,ng4,g5,ng6,gc1,under2,nog,QHome,under3,under4,over0,HomeScoresOver0,AwayScoresUnder0,HomeScoresUnder1,AwayScoresUnder1,HomeScoresUnder2,AwayScoresUnder2,HomeScoresUnder3,AwayScoresUnder3,_1x2HomeScoresUnder1,_1x2HomeScoresUnder2,_1x2HomeScoresUnder3,_0-1_Goals,_0-2_Goals,_0-3_Goals,_0-4_Goals,_0-5_Goals,_0-6_Goals,_1-1_Goals,_1-2_Goals,_1-3_Goals,_1-4_Goals,_1-5_Goals,_1-6_Goals,1H_Draw,Home_0,Home_Minus_0_25,Home_Plus_0_25,Home_Minus_0_5,Home_Plus_0_5,Home_Plus_0_75,Home_Plus_1,Home_Plus_1_25,Away_Plus_1_5,Home_Plus_1_5,Away_Plus_1_75,Home_Plus_1_75,Away_Plus_2,Home_Plus_2,Away_Plus_2_25,Home_Plus_2_25,Away_Plus_2_5,Home_Plus_2_5,Away_Plus_2_75,Home_Plus_2_75,Away_Plus_3,Home_Plus_3,under2_0,under3_0,under1_75,under2_25,under2_75'}}, '21': {'1512981': {'id': '1512981', 'teamA': '52', 'teamB': '827', 'result': '{{0,1,0,0,8.3,nil,{13,90}},{1,0,1,0,12.7,7.7,{11}},{0,0,1,0,10.0,nil,{54}},{0,1,1,0,10.0,nil,{228}},{0,0,0,0,10.0,nil,{206}},{0,0,0,0,8.0,nil,{189}}}', 'wonmarkets': 'Away,AwayAway,Draw_Away,Home_Away,_0_1,_1_Goals,under,goal,ng1,g2,ng3,ng4,ng5,ng6,gc1,under2,nog,QAway,under3,under4,over0,HomeScoresUnder0,AwayScoresOver0,HomeScoresUnder1,AwayScoresUnder1,HomeScoresUnder2,AwayScoresUnder2,HomeScoresUnder3,AwayScoresUnder3,_1x2AwayScoresUnder1,_1x2AwayScoresUnder2,_1x2AwayScoresUnder3,_0-1_Goals,_0-2_Goals,_0-3_Goals,_0-4_Goals,_0-5_Goals,_0-6_Goals,_1-1_Goals,_1-2_Goals,_1-3_Goals,_1-4_Goals,_1-5_Goals,_1-6_Goals,1H_Away,Away_0,Away_Plus_0_25,Away_Minus_0_25,Away_Plus_0_5,Away_Minus_0_5,Away_Plus_0_75,Away_Plus_1,Away_Plus_1_25,Away_Plus_1_5,Home_Plus_1_5,Away_Plus_1_75,Home_Plus_1_75,Away_Plus_2,Home_Plus_2,Away_Plus_2_25,Home_Plus_2_25,Away_Plus_2_5,Home_Plus_2_5,Away_Plus_2_75,Home_Plus_2_75,Away_Plus_3,Home_Plus_3,under2_0,under3_0,under1_75,under2_25,under2_75'}, '1512982': {'id': '1512982', 'teamA': '67', 'teamB': '63', 'result': '{{1,0,1,0,15.0,10.9,{63}},{0,0,1,0,7.5,nil,{261}},{1,0,1,0,13.0,8.0,{278}},{0,1,1,0,8.3,nil,{64}},{0,1,1,0,9.2,nil,{137}},{0,0,0,0,9.0,nil,{161}}}', 'wonmarkets': 'Away,AwayAway,Draw_Away,Home_Away,_0_2,_2_Goals,over,goal,g1,ng2,g3,ng4,ng5,ng6,gc2,under2,nog,QAway,under3,under4,over0,HomeScoresUnder0,AwayScoresOver0,HomeScoresUnder1,AwayScoresOver1,HomeScoresUnder2,AwayScoresUnder2,HomeScoresUnder3,AwayScoresUnder3,_1x2AwayScoresOver1,_1x2AwayScoresUnder2,_1x2AwayScoresUnder3,_0-2_Goals,_0-3_Goals,_0-4_Goals,_0-5_Goals,_0-6_Goals,_1-2_Goals,_1-3_Goals,_1-4_Goals,_1-5_Goals,_1-6_Goals,_2-2_Goals,_2-3_Goals,_2-4_Goals,_2-5_Goals,_2-6_Goals,1H_Away,Away_0,Away_Plus_0_25,Away_Minus_0_25,Away_Plus_0_5,Away_Minus_0_5,Away_Plus_0_75,Away_Minus_0_75,Away_Plus_1,Away_Minus_1,Away_Plus_1_25,Away_Minus_1_25,Away_Plus_1_5,Away_Minus_1_5,Away_Plus_1_75,Away_Plus_2,Away_Plus_2_25,Away_Plus_2_5,Home_Plus_2_5,Away_Plus_2_75,Home_Plus_2_75,Away_Plus_3,Home_Plus_3,under3_0,under2_75'}, '1512983': {'id': '1512983', 'teamA': '45', 'teamB': '46', 'result': '{{1,0,1,0,15.0,12.3,{124}},{0,0,1,0,8.3,nil,{29}},{0,0,1,0,10.0,nil,{151}},{0,0,0,0,9.0,nil,{144}},{1,0,0,0,15.0,10.8,{15}},{0,0,0,0,8.8,nil,{258}}}', 'wonmarkets': 'Draw,AwayDraw,Draw_Away,Home_Draw,_1_1,_2_Goals,over,goal,g1,ng2,ng3,ng4,g5,ng6,gc2,under2,gg,QDraw,under3,under4,over0,HomeScoresOver0,AwayScoresOver0,HomeScoresUnder1,AwayScoresUnder1,HomeScoresUnder2,AwayScoresUnder2,HomeScoresUnder3,AwayScoresUnder3,_1x2DrawScoresOver1,_1x2DrawScoresUnder2,_1x2DrawScoresUnder3,_0-2_Goals,_0-3_Goals,_0-4_Goals,_0-5_Goals,_0-6_Goals,_1-2_Goals,_1-3_Goals,_1-4_Goals,_1-5_Goals,_1-6_Goals,_2-2_Goals,_2-3_Goals,_2-4_Goals,_2-5_Goals,_2-6_Goals,1H_Away,Away_Plus_0_5,Home_Plus_0_5,Away_Plus_0_75,Home_Plus_0_75,Away_Plus_1,Home_Plus_1,Away_Plus_1_25,Home_Plus_1_25,Away_Plus_1_5,Home_Plus_1_5,Away_Plus_1_75,Home_Plus_1_75,Away_Plus_2,Home_Plus_2,Away_Plus_2_25,Home_Plus_2_25,Away_Plus_2_5,Home_Plus_2_5,Away_Plus_2_75,Home_Plus_2_75,Away_Plus_3,Home_Plus_3,under3_0,under2_75'}, '1512984': {'id': '1512984', 'teamA': '49', 'teamB': '525', 'result': '{{0,0,1,0,10.2,nil,{224}},{1,1,0,0,13.8,8.8,{7}},{0,1,0,0,10.0,nil,{99}},{0,0,0,0,9.6,nil,{312}},{1,0,0,0,15.0,10.4,{91}},{0,0,0,0,10.0,nil,{54}}}', 'wonmarkets': 'Home,HomeHome,Home_Away,Home_Draw,_2_0,_2_Goals,over,goal,ng1,g2,ng3,ng4,g5,ng6,gc2,under2,nog,QHome,under3,under4,over0,HomeScoresOver0,AwayScoresUnder0,HomeScoresOver1,AwayScoresUnder1,HomeScoresUnder2,AwayScoresUnder2,HomeScoresUnder3,AwayScoresUnder3,_1x2HomeScoresOver1,_1x2HomeScoresUnder2,_1x2HomeScoresUnder3,_0-2_Goals,_0-3_Goals,_0-4_Goals,_0-5_Goals,_0-6_Goals,_1-2_Goals,_1-3_Goals,_1-4_Goals,_1-5_Goals,_1-6_Goals,_2-2_Goals,_2-3_Goals,_2-4_Goals,_2-5_Goals,_2-6_Goals,1H_Home,Home_0,Home_Minus_0_25,Home_Plus_0_25,Home_Minus_0_5,Home_Plus_0_5,Home_Minus_0_75,Home_Plus_0_75,Home_Minus_1,Home_Plus_1,Home_Minus_1_25,Home_Plus_1_25,Home_Minus_1_5,Home_Plus_1_5,Home_Plus_1_75,Home_Plus_2,Home_Plus_2_25,Away_Plus_2_5,Home_Plus_2_5,Away_Plus_2_75,Home_Plus_2_75,Away_Plus_3,Home_Plus_3,under3_0,under2_75'}, '1512985': {'id': '1512985', 'teamA': '50', 'teamB': '53', 'result': '{{1,1,0,0,14.9,9.9,{19}},{1,0,1,0,15.0,10.0,{101}},{0,1,0,0,8.3,nil,{304}},{0,1,1,0,8.3,nil,{94}},{0,1,1,0,8.8,nil,{301}},{0,1,1,0,8.3,nil,{168}}}', 'wonmarkets': 'Draw,DrawDraw,Draw_Away,Home_Draw,_1_1,_2_Goals,over,goal,g1,g2,ng3,ng4,ng5,ng6,gc2,under2,gg,QDraw,under3,under4,over0,HomeScoresOver0,AwayScoresOver0,HomeScoresUnder1,AwayScoresUnder1,HomeScoresUnder2,AwayScoresUnder2,HomeScoresUnder3,AwayScoresUnder3,_1x2DrawScoresOver1,_1x2DrawScoresUnder2,_1x2DrawScoresUnder3,_0-2_Goals,_0-3_Goals,_0-4_Goals,_0-5_Goals,_0-6_Goals,_1-2_Goals,_1-3_Goals,_1-4_Goals,_1-5_Goals,_1-6_Goals,_2-2_Goals,_2-3_Goals,_2-4_Goals,_2-5_Goals,_2-6_Goals,1H_Draw,Away_Plus_0_5,Home_Plus_0_5,Away_Plus_0_75,Home_Plus_0_75,Away_Plus_1,Home_Plus_1,Away_Plus_1_25,Home_Plus_1_25,Away_Plus_1_5,Home_Plus_1_5,Away_Plus_1_75,Home_Plus_1_75,Away_Plus_2,Home_Plus_2,Away_Plus_2_25,Home_Plus_2_25,Away_Plus_2_5,Home_Plus_2_5,Away_Plus_2_75,Home_Plus_2_75,Away_Plus_3,Home_Plus_3,under3_0,under2_75'}, '1512986': {'id': '1512986', 'teamA': '51', 'teamB': '60', 'result': '{{0,0,1,0,8.3,nil,{132}},{0,0,1,0,8.8,nil,{240}},{0,0,1,0,8.3,nil,{320}},{0,1,1,0,8.8,nil,{238}},{0,1,1,0,7.3,nil,{149}},{1,1,1,0,13.5,8.5,{263}}}', 'wonmarkets': 'Away,DrawAway,Draw_Away,Home_Away,_0_1,_1_Goals,under,goal,ng1,ng2,ng3,ng4,ng5,g6,gc1,under2,nog,QAway,under3,under4,over0,HomeScoresUnder0,AwayScoresOver0,HomeScoresUnder1,AwayScoresUnder1,HomeScoresUnder2,AwayScoresUnder2,HomeScoresUnder3,AwayScoresUnder3,_1x2AwayScoresUnder1,_1x2AwayScoresUnder2,_1x2AwayScoresUnder3,_0-1_Goals,_0-2_Goals,_0-3_Goals,_0-4_Goals,_0-5_Goals,_0-6_Goals,_1-1_Goals,_1-2_Goals,_1-3_Goals,_1-4_Goals,_1-5_Goals,_1-6_Goals,1H_Draw,Away_0,Away_Plus_0_25,Away_Minus_0_25,Away_Plus_0_5,Away_Minus_0_5,Away_Plus_0_75,Away_Plus_1,Away_Plus_1_25,Away_Plus_1_5,Home_Plus_1_5,Away_Plus_1_75,Home_Plus_1_75,Away_Plus_2,Home_Plus_2,Away_Plus_2_25,Home_Plus_2_25,Away_Plus_2_5,Home_Plus_2_5,Away_Plus_2_75,Home_Plus_2_75,Away_Plus_3,Home_Plus_3,under2_0,under3_0,under1_75,under2_25,under2_75'}, '1512987': {'id': '1512987', 'teamA': '58', 'teamB': '1053', 'result': '{{1,1,0,0,13.8,8.8,{274}},{1,1,0,0,15.0,10.7,{20}},{1,1,0,0,15.0,10.7,{20}},{1,0,0,0,15.0,11.6,{95}},{1,0,0,0,13.8,8.8,{274}},{1,0,0,0,13.6,8.6,{102}}}', 'wonmarkets': 'Home,HomeHome,Home_Away,Home_Draw,_6_0,_6_Goals,over,goal,g1,g2,g3,g4,g5,g6,gc6,over2,nog,QHome,over3,over4,over0,HomeScoresOver0,AwayScoresUnder0,HomeScoresOver1,AwayScoresUnder1,HomeScoresOver2,AwayScoresUnder2,HomeScoresOver3,AwayScoresUnder3,_1x2HomeScoresOver1,_1x2HomeScoresOver2,_1x2HomeScoresOver3,_0-6_Goals,_1-6_Goals,_2-6_Goals,_3-6_Goals,_4-6_Goals,_5-6_Goals,_6-6_Goals,1H_Home,Home_0,Home_Minus_0_25,Home_Plus_0_25,Home_Minus_0_5,Home_Plus_0_5,Home_Minus_0_75,Home_Plus_0_75,Home_Minus_1,Home_Plus_1,Home_Minus_1_25,Home_Plus_1_25,Home_Minus_1_5,Home_Plus_1_5,Home_Minus_1_75,Home_Plus_1_75,Home_Minus_2,Home_Plus_2,Home_Minus_2_25,Home_Plus_2_25,Home_Minus_2_5,Home_Plus_2_5,Home_Minus_2_75,Home_Plus_2_75,Home_Minus_3,Home_Plus_3,over2_0,over3_0,over1_75,over2_25,over2_75'}, '1512988': {'id': '1512988', 'teamA': '55', 'teamB': '48', 'result': '{{0,1,0,0,10.2,nil,{226}},{0,1,0,0,8.3,nil,{319}},{0,0,1,0,6.3,nil,{324}},{0,0,0,0,8.8,nil,{240}},{0,0,0,0,8.3,nil,{119}},{0,0,0,0,8.9,nil,{283}}}', 'wonmarkets': 'Draw,DrawDraw,Draw_Away,Home_Draw,_0_0,_0_Goals,under,nogoal,ng1,ng2,ng3,ng4,ng5,ng6,under2,nog,QDraw,under3,under4,under0,HomeScoresUnder0,AwayScoresUnder0,HomeScoresUnder1,AwayScoresUnder1,HomeScoresUnder2,AwayScoresUnder2,HomeScoresUnder3,AwayScoresUnder3,_1x2DrawScoresUnder1,_1x2DrawScoresUnder2,_1x2DrawScoresUnder3,_0-0_Goals,_0-1_Goals,_0-2_Goals,_0-3_Goals,_0-4_Goals,_0-5_Goals,_0-6_Goals,1H_Draw,Away_Plus_0_5,Home_Plus_0_5,Away_Plus_0_75,Home_Plus_0_75,Away_Plus_1,Home_Plus_1,Away_Plus_1_25,Home_Plus_1_25,Away_Plus_1_5,Home_Plus_1_5,Away_Plus_1_75,Home_Plus_1_75,Away_Plus_2,Home_Plus_2,Away_Plus_2_25,Home_Plus_2_25,Away_Plus_2_5,Home_Plus_2_5,Away_Plus_2_75,Home_Plus_2_75,Away_Plus_3,Home_Plus_3,under2_0,under3_0,under1_75,under2_25,under2_75'}, '1512989': {'id': '1512989', 'teamA': '71', 'teamB': '972', 'result': '{{1,0,1,0,15.0,10.0,{109}},{0,0,1,0,10.0,nil,{88}},{0,1,0,0,8.3,nil,{291}},{1,0,0,0,14.2,9.2,{188}},{0,0,0,0,10.0,nil,{38}},{1,0,0,0,15.0,11.0,{139}}}', 'wonmarkets': 'Home,AwayHome,Home_Away,Home_Draw,_2_1,_3_Goals,over,goal,g1,ng2,ng3,g4,ng5,g6,gc3,over2,gg,QHome,under3,under4,over0,HomeScoresOver0,AwayScoresOver0,HomeScoresOver1,AwayScoresUnder1,HomeScoresUnder2,AwayScoresUnder2,HomeScoresUnder3,AwayScoresUnder3,_1x2HomeScoresOver1,_1x2HomeScoresOver2,_1x2HomeScoresUnder3,_0-3_Goals,_0-4_Goals,_0-5_Goals,_0-6_Goals,_1-3_Goals,_1-4_Goals,_1-5_Goals,_1-6_Goals,_2-3_Goals,_2-4_Goals,_2-5_Goals,_2-6_Goals,_3-3_Goals,_3-4_Goals,_3-5_Goals,_3-6_Goals,1H_Away,Home_0,Home_Minus_0_25,Home_Plus_0_25,Home_Minus_0_5,Home_Plus_0_5,Home_Plus_0_75,Home_Plus_1,Home_Plus_1_25,Away_Plus_1_5,Home_Plus_1_5,Away_Plus_1_75,Home_Plus_1_75,Away_Plus_2,Home_Plus_2,Away_Plus_2_25,Home_Plus_2_25,Away_Plus_2_5,Home_Plus_2_5,Away_Plus_2_75,Home_Plus_2_75,Away_Plus_3,Home_Plus_3,over2_0,over1_75,over2_25'}, '1512990': {'id': '1512990', 'teamA': '512', 'teamB': '47', 'result': '{{0,0,1,0,8.0,nil,{221}},{0,1,0,0,11.2,nil,{199}},{1,0,1,0,15.0,10.8,{15}},{0,0,0,0,10.0,nil,{38}},{1,0,0,0,13.6,8.6,{102}},{1,0,0,0,13.6,8.6,{102}}}', 'wonmarkets': 'Home,AwayHome,Home_Away,Home_Draw,_2_1,_3_Goals,over,goal,ng1,ng2,g3,ng4,g5,g6,gc3,over2,gg,QHome,under3,under4,over0,HomeScoresOver0,AwayScoresOver0,HomeScoresOver1,AwayScoresUnder1,HomeScoresUnder2,AwayScoresUnder2,HomeScoresUnder3,AwayScoresUnder3,_1x2HomeScoresOver1,_1x2HomeScoresOver2,_1x2HomeScoresUnder3,_0-3_Goals,_0-4_Goals,_0-5_Goals,_0-6_Goals,_1-3_Goals,_1-4_Goals,_1-5_Goals,_1-6_Goals,_2-3_Goals,_2-4_Goals,_2-5_Goals,_2-6_Goals,_3-3_Goals,_3-4_Goals,_3-5_Goals,_3-6_Goals,1H_Away,Home_0,Home_Minus_0_25,Home_Plus_0_25,Home_Minus_0_5,Home_Plus_0_5,Home_Plus_0_75,Home_Plus_1,Home_Plus_1_25,Away_Plus_1_5,Home_Plus_1_5,Away_Plus_1_75,Home_Plus_1_75,Away_Plus_2,Home_Plus_2,Away_Plus_2_25,Home_Plus_2_25,Away_Plus_2_5,Home_Plus_2_5,Away_Plus_2_75,Home_Plus_2_75,Away_Plus_3,Home_Plus_3,over2_0,over1_75,over2_25'}}, '22': {'1512991': {'id': '1512991', 'teamA': '53', 'teamB': '58', 'result': '{{0,1,0,0,10.0,nil,{69}},{1,0,1,0,15.0,11.6,{95}},{0,1,0,0,8.3,nil,{167}},{0,1,1,0,7.2,nil,{194}},{1,0,0,0,15.0,10.0,{101}},{0,1,1,0,8.3,nil,{287}}}', 'wonmarkets': 'Draw,AwayDraw,Draw_Away,Home_Draw,_1_1,_2_Goals,over,goal,ng1,g2,ng3,ng4,g5,ng6,gc2,under2,gg,QDraw,under3,under4,over0,HomeScoresOver0,AwayScoresOver0,HomeScoresUnder1,AwayScoresUnder1,HomeScoresUnder2,AwayScoresUnder2,HomeScoresUnder3,AwayScoresUnder3,_1x2DrawScoresOver1,_1x2DrawScoresUnder2,_1x2DrawScoresUnder3,_0-2_Goals,_0-3_Goals,_0-4_Goals,_0-5_Goals,_0-6_Goals,_1-2_Goals,_1-3_Goals,_1-4_Goals,_1-5_Goals,_1-6_Goals,_2-2_Goals,_2-3_Goals,_2-4_Goals,_2-5_Goals,_2-6_Goals,1H_Away,Away_Plus_0_5,Home_Plus_0_5,Away_Plus_0_75,Home_Plus_0_75,Away_Plus_1,Home_Plus_1,Away_Plus_1_25,Home_Plus_1_25,Away_Plus_1_5,Home_Plus_1_5,Away_Plus_1_75,Home_Plus_1_75,Away_Plus_2,Home_Plus_2,Away_Plus_2_25,Home_Plus_2_25,Away_Plus_2_5,Home_Plus_2_5,Away_Plus_2_75,Home_Plus_2_75,Away_Plus_3,Home_Plus_3,under3_0,under2_75'}, '1512992': {'id': '1512992', 'teamA': '47', 'teamB': '49', 'result': '{{0,0,1,0,8.3,nil,{120}},{1,1,0,0,14.2,9.2,{204}},{0,0,1,0,8.8,nil,{276}},{1,0,0,0,14.3,9.3,{178}},{0,0,0,0,9.2,nil,{180}},{0,1,1,0,8.3,nil,{43}}}', 'wonmarkets': 'Home,HomeHome,Home_Away,Home_Draw,_2_0,_2_Goals,over,goal,ng1,g2,ng3,g4,ng5,ng6,gc2,under2,nog,QHome,under3,under4,over0,HomeScoresOver0,AwayScoresUnder0,HomeScoresOver1,AwayScoresUnder1,HomeScoresUnder2,AwayScoresUnder2,HomeScoresUnder3,AwayScoresUnder3,_1x2HomeScoresOver1,_1x2HomeScoresUnder2,_1x2HomeScoresUnder3,_0-2_Goals,_0-3_Goals,_0-4_Goals,_0-5_Goals,_0-6_Goals,_1-2_Goals,_1-3_Goals,_1-4_Goals,_1-5_Goals,_1-6_Goals,_2-2_Goals,_2-3_Goals,_2-4_Goals,_2-5_Goals,_2-6_Goals,1H_Home,Home_0,Home_Minus_0_25,Home_Plus_0_25,Home_Minus_0_5,Home_Plus_0_5,Home_Minus_0_75,Home_Plus_0_75,Home_Minus_1,Home_Plus_1,Home_Minus_1_25,Home_Plus_1_25,Home_Minus_1_5,Home_Plus_1_5,Home_Plus_1_75,Home_Plus_2,Home_Plus_2_25,Away_Plus_2_5,Home_Plus_2_5,Away_Plus_2_75,Home_Plus_2_75,Away_Plus_3,Home_Plus_3,under3_0,under2_75'}, '1512993': {'id': '1512993', 'teamA': '827', 'teamB': '50', 'result': '{{0,1,0,0,8.3,nil,{304}},{0,0,1,0,10.0,nil,{130}},{0,0,1,0,10.0,nil,{100}},{0,0,0,0,10.0,nil,{87}},{0,1,1,0,8.3,nil,{66}},{1,1,1,0,13.3,8.3,{298}}}', 'wonmarkets': 'Away,DrawAway,Draw_Away,Home_Away,_0_1,_1_Goals,under,goal,ng1,ng2,ng3,ng4,ng5,g6,gc1,under2,nog,QAway,under3,under4,over0,HomeScoresUnder0,AwayScoresOver0,HomeScoresUnder1,AwayScoresUnder1,HomeScoresUnder2,AwayScoresUnder2,HomeScoresUnder3,AwayScoresUnder3,_1x2AwayScoresUnder1,_1x2AwayScoresUnder2,_1x2AwayScoresUnder3,_0-1_Goals,_0-2_Goals,_0-3_Goals,_0-4_Goals,_0-5_Goals,_0-6_Goals,_1-1_Goals,_1-2_Goals,_1-3_Goals,_1-4_Goals,_1-5_Goals,_1-6_Goals,1H_Draw,Away_0,Away_Plus_0_25,Away_Minus_0_25,Away_Plus_0_5,Away_Minus_0_5,Away_Plus_0_75,Away_Plus_1,Away_Plus_1_25,Away_Plus_1_5,Home_Plus_1_5,Away_Plus_1_75,Home_Plus_1_75,Away_Plus_2,Home_Plus_2,Away_Plus_2_25,Home_Plus_2_25,Away_Plus_2_5,Home_Plus_2_5,Away_Plus_2_75,Home_Plus_2_75,Away_Plus_3,Home_Plus_3,under2_0,under3_0,under1_75,under2_25,under2_75'}, '1512994': {'id': '1512994', 'teamA': '525', 'teamB': '71', 'result': '{{1,0,1,0,14.2,9.2,{204}},{0,1,0,0,10.0,nil,{112}},{1,1,0,0,15.0,10.8,{170}},{1,1,1,0,12.7,7.7,{251}},{1,0,0,0,15.0,12.3,{124}},{0,0,0,0,8.9,nil,{283}}}', 'wonmarkets': 'Draw,DrawDraw,Draw_Away,Home_Draw,_2_2,_4_Goals,over,goal,g1,ng2,g3,g4,g5,ng6,gc4,over2,gg,QDraw,over3,under4,over0,HomeScoresOver0,AwayScoresOver0,HomeScoresOver1,AwayScoresOver1,HomeScoresUnder2,AwayScoresUnder2,HomeScoresUnder3,AwayScoresUnder3,_1x2DrawScoresOver1,_1x2DrawScoresOver2,_1x2DrawScoresOver3,_0-4_Goals,_0-5_Goals,_0-6_Goals,_1-4_Goals,_1-5_Goals,_1-6_Goals,_2-4_Goals,_2-5_Goals,_2-6_Goals,_3-4_Goals,_3-5_Goals,_3-6_Goals,_4-4_Goals,_4-5_Goals,_4-6_Goals,1H_Draw,Away_Plus_0_5,Home_Plus_0_5,Away_Plus_0_75,Home_Plus_0_75,Away_Plus_1,Home_Plus_1,Away_Plus_1_25,Home_Plus_1_25,Away_Plus_1_5,Home_Plus_1_5,Away_Plus_1_75,Home_Plus_1_75,Away_Plus_2,Home_Plus_2,Away_Plus_2_25,Home_Plus_2_25,Away_Plus_2_5,Home_Plus_2_5,Away_Plus_2_75,Home_Plus_2_75,Away_Plus_3,Home_Plus_3,over2_0,over3_0,over1_75,over2_25,over2_75'}, '1512995': {'id': '1512995', 'teamA': '63', 'teamB': '512', 'result': '{{0,0,1,0,10.0,nil,{100}},{1,1,0,0,13.4,8.4,{122}},{1,1,0,0,13.4,8.4,{122}},{0,0,0,0,8.3,nil,{168}},{0,0,0,0,8.3,nil,{287}},{1,1,1,0,15.0,12.3,{124}}}', 'wonmarkets': 'Home,HomeHome,Home_Away,Home_Draw,_2_1,_3_Goals,over,goal,ng1,g2,g3,ng4,ng5,g6,gc3,over2,gg,QHome,under3,under4,over0,HomeScoresOver0,AwayScoresOver0,HomeScoresOver1,AwayScoresUnder1,HomeScoresUnder2,AwayScoresUnder2,HomeScoresUnder3,AwayScoresUnder3,_1x2HomeScoresOver1,_1x2HomeScoresOver2,_1x2HomeScoresUnder3,_0-3_Goals,_0-4_Goals,_0-5_Goals,_0-6_Goals,_1-3_Goals,_1-4_Goals,_1-5_Goals,_1-6_Goals,_2-3_Goals,_2-4_Goals,_2-5_Goals,_2-6_Goals,_3-3_Goals,_3-4_Goals,_3-5_Goals,_3-6_Goals,1H_Home,Home_0,Home_Minus_0_25,Home_Plus_0_25,Home_Minus_0_5,Home_Plus_0_5,Home_Plus_0_75,Home_Plus_1,Home_Plus_1_25,Away_Plus_1_5,Home_Plus_1_5,Away_Plus_1_75,Home_Plus_1_75,Away_Plus_2,Home_Plus_2,Away_Plus_2_25,Home_Plus_2_25,Away_Plus_2_5,Home_Plus_2_5,Away_Plus_2_75,Home_Plus_2_75,Away_Plus_3,Home_Plus_3,over2_0,over1_75,over2_25'}, '1512996': {'id': '1512996', 'teamA': '1053', 'teamB': '51', 'result': '{{0,0,1,0,10.0,nil,{150}},{1,0,1,0,15.0,10.1,{143}},{0,1,0,0,8.8,nil,{307}},{1,0,0,0,15.0,12.0,{1}},{0,1,1,0,7.2,nil,{194}},{0,0,0,0,8.8,nil,{264}}}', 'wonmarkets': 'Draw,AwayDraw,Draw_Away,Home_Draw,_1_1,_2_Goals,over,goal,ng1,g2,ng3,g4,ng5,ng6,gc2,under2,gg,QDraw,under3,under4,over0,HomeScoresOver0,AwayScoresOver0,HomeScoresUnder1,AwayScoresUnder1,HomeScoresUnder2,AwayScoresUnder2,HomeScoresUnder3,AwayScoresUnder3,_1x2DrawScoresOver1,_1x2DrawScoresUnder2,_1x2DrawScoresUnder3,_0-2_Goals,_0-3_Goals,_0-4_Goals,_0-5_Goals,_0-6_Goals,_1-2_Goals,_1-3_Goals,_1-4_Goals,_1-5_Goals,_1-6_Goals,_2-2_Goals,_2-3_Goals,_2-4_Goals,_2-5_Goals,_2-6_Goals,1H_Away,Away_Plus_0_5,Home_Plus_0_5,Away_Plus_0_75,Home_Plus_0_75,Away_Plus_1,Home_Plus_1,Away_Plus_1_25,Home_Plus_1_25,Away_Plus_1_5,Home_Plus_1_5,Away_Plus_1_75,Home_Plus_1_75,Away_Plus_2,Home_Plus_2,Away_Plus_2_25,Home_Plus_2_25,Away_Plus_2_5,Home_Plus_2_5,Away_Plus_2_75,Home_Plus_2_75,Away_Plus_3,Home_Plus_3,under3_0,under2_75'}, '1512997': {'id': '1512997', 'teamA': '46', 'teamB': '55', 'result': '{{0,0,1,0,10.0,nil,{110}},{0,1,0,0,10.0,nil,{68}},{1,1,0,0,15.0,11.1,{215}},{0,1,1,0,10.0,nil,{100}},{1,1,1,0,13.8,8.8,{16}},{0,1,1,0,8.8,nil,{240}}}', 'wonmarkets': 'Draw,HomeDraw,Draw_Away,Home_Draw,_1_1,_2_Goals,over,goal,ng1,ng2,g3,ng4,g5,ng6,gc2,under2,gg,QDraw,under3,under4,over0,HomeScoresOver0,AwayScoresOver0,HomeScoresUnder1,AwayScoresUnder1,HomeScoresUnder2,AwayScoresUnder2,HomeScoresUnder3,AwayScoresUnder3,_1x2DrawScoresOver1,_1x2DrawScoresUnder2,_1x2DrawScoresUnder3,_0-2_Goals,_0-3_Goals,_0-4_Goals,_0-5_Goals,_0-6_Goals,_1-2_Goals,_1-3_Goals,_1-4_Goals,_1-5_Goals,_1-6_Goals,_2-2_Goals,_2-3_Goals,_2-4_Goals,_2-5_Goals,_2-6_Goals,1H_Home,Away_Plus_0_5,Home_Plus_0_5,Away_Plus_0_75,Home_Plus_0_75,Away_Plus_1,Home_Plus_1,Away_Plus_1_25,Home_Plus_1_25,Away_Plus_1_5,Home_Plus_1_5,Away_Plus_1_75,Home_Plus_1_75,Away_Plus_2,Home_Plus_2,Away_Plus_2_25,Home_Plus_2_25,Away_Plus_2_5,Home_Plus_2_5,Away_Plus_2_75,Home_Plus_2_75,Away_Plus_3,Home_Plus_3,under3_0,under2_75'}, '1512998': {'id': '1512998', 'teamA': '48', 'teamB': '67', 'result': '{{0,1,0,0,10.0,nil,{77}},{0,0,1,0,10.0,nil,{171}},{1,0,1,0,13.5,8.5,{263}},{1,0,0,0,13.2,8.2,{192}},{0,0,0,0,8.0,nil,{221}},{1,1,1,0,12.7,7.7,{11}}}', 'wonmarkets': 'Away,AwayAway,Draw_Away,Home_Away,_1_2,_3_Goals,over,goal,ng1,ng2,g3,g4,ng5,g6,gc3,over2,gg,QAway,under3,under4,over0,HomeScoresOver0,AwayScoresOver0,HomeScoresUnder1,AwayScoresOver1,HomeScoresUnder2,AwayScoresUnder2,HomeScoresUnder3,AwayScoresUnder3,_1x2AwayScoresOver1,_1x2AwayScoresOver2,_1x2AwayScoresUnder3,_0-3_Goals,_0-4_Goals,_0-5_Goals,_0-6_Goals,_1-3_Goals,_1-4_Goals,_1-5_Goals,_1-6_Goals,_2-3_Goals,_2-4_Goals,_2-5_Goals,_2-6_Goals,_3-3_Goals,_3-4_Goals,_3-5_Goals,_3-6_Goals,1H_Away,Away_0,Away_Plus_0_25,Away_Minus_0_25,Away_Plus_0_5,Away_Minus_0_5,Away_Plus_0_75,Away_Plus_1,Away_Plus_1_25,Away_Plus_1_5,Home_Plus_1_5,Away_Plus_1_75,Home_Plus_1_75,Away_Plus_2,Home_Plus_2,Away_Plus_2_25,Home_Plus_2_25,Away_Plus_2_5,Home_Plus_2_5,Away_Plus_2_75,Home_Plus_2_75,Away_Plus_3,Home_Plus_3,over2_0,over1_75,over2_25'}, '1512999': {'id': '1512999', 'teamA': '972', 'teamB': '52', 'result': '{{0,1,0,0,8.3,nil,{166}},{1,0,1,0,14.2,9.2,{204}},{1,1,0,0,14.2,9.2,{219}},{1,1,1,0,14.3,9.3,{56}},{0,1,1,0,8.8,nil,{244}},{0,1,1,0,8.3,nil,{288}}}', 'wonmarkets': 'Away,DrawAway,Draw_Away,Home_Away,_1_2,_3_Goals,over,goal,ng1,g2,g3,g4,ng5,ng6,gc3,over2,gg,QAway,under3,under4,over0,HomeScoresOver0,AwayScoresOver0,HomeScoresUnder1,AwayScoresOver1,HomeScoresUnder2,AwayScoresUnder2,HomeScoresUnder3,AwayScoresUnder3,_1x2AwayScoresOver1,_1x2AwayScoresOver2,_1x2AwayScoresUnder3,_0-3_Goals,_0-4_Goals,_0-5_Goals,_0-6_Goals,_1-3_Goals,_1-4_Goals,_1-5_Goals,_1-6_Goals,_2-3_Goals,_2-4_Goals,_2-5_Goals,_2-6_Goals,_3-3_Goals,_3-4_Goals,_3-5_Goals,_3-6_Goals,1H_Draw,Away_0,Away_Plus_0_25,Away_Minus_0_25,Away_Plus_0_5,Away_Minus_0_5,Away_Plus_0_75,Away_Plus_1,Away_Plus_1_25,Away_Plus_1_5,Home_Plus_1_5,Away_Plus_1_75,Home_Plus_1_75,Away_Plus_2,Home_Plus_2,Away_Plus_2_25,Home_Plus_2_25,Away_Plus_2_5,Home_Plus_2_5,Away_Plus_2_75,Home_Plus_2_75,Away_Plus_3,Home_Plus_3,over2_0,over1_75,over2_25'}, '1513000': {'id': '1513000', 'teamA': '60', 'teamB': '45', 'result': '{{1,1,0,0,14.2,9.2,{204}},{1,0,1,0,15.0,10.4,{196}},{0,1,0,0,10.0,nil,{151}},{1,1,1,0,14.9,9.9,{152,5}},{0,1,1,0,9.0,nil,{164}},{0,0,0,0,8.3,nil,{153}}}', 'wonmarkets': 'Away,DrawAway,Draw_Away,Home_Away,_1_2,_3_Goals,over,goal,g1,g2,ng3,g4,ng5,ng6,gc3,over2,gg,QAway,under3,under4,over0,HomeScoresOver0,AwayScoresOver0,HomeScoresUnder1,AwayScoresOver1,HomeScoresUnder2,AwayScoresUnder2,HomeScoresUnder3,AwayScoresUnder3,_1x2AwayScoresOver1,_1x2AwayScoresOver2,_1x2AwayScoresUnder3,_0-3_Goals,_0-4_Goals,_0-5_Goals,_0-6_Goals,_1-3_Goals,_1-4_Goals,_1-5_Goals,_1-6_Goals,_2-3_Goals,_2-4_Goals,_2-5_Goals,_2-6_Goals,_3-3_Goals,_3-4_Goals,_3-5_Goals,_3-6_Goals,1H_Draw,Away_0,Away_Plus_0_25,Away_Minus_0_25,Away_Plus_0_5,Away_Minus_0_5,Away_Plus_0_75,Away_Plus_1,Away_Plus_1_25,Away_Plus_1_5,Home_Plus_1_5,Away_Plus_1_75,Home_Plus_1_75,Away_Plus_2,Home_Plus_2,Away_Plus_2_25,Home_Plus_2_25,Away_Plus_2_5,Home_Plus_2_5,Away_Plus_2_75,Home_Plus_2_75,Away_Plus_3,Home_Plus_3,over2_0,over1_75,over2_25'}}, '23': {'1513001': {'id': '1513001', 'teamA': '1053', 'teamB': '60', 'result': '{{1,1,0,0,15.0,10.0,{302}},{0,0,1,0,7.0,nil,{129}},{0,1,0,0,7.3,nil,{149}},{1,0,0,0,15.0,10.0,{22}},{0,0,0,0,10.0,nil,{163}},{1,1,1,0,13.6,8.6,{102}}}', 'wonmarkets': 'Home,HomeHome,Home_Away,Home_Draw,_2_1,_3_Goals,over,goal,g1,ng2,ng3,g4,ng5,g6,gc3,over2,gg,QHome,under3,under4,over0,HomeScoresOver0,AwayScoresOver0,HomeScoresOver1,AwayScoresUnder1,HomeScoresUnder2,AwayScoresUnder2,HomeScoresUnder3,AwayScoresUnder3,_1x2HomeScoresOver1,_1x2HomeScoresOver2,_1x2HomeScoresUnder3,_0-3_Goals,_0-4_Goals,_0-5_Goals,_0-6_Goals,_1-3_Goals,_1-4_Goals,_1-5_Goals,_1-6_Goals,_2-3_Goals,_2-4_Goals,_2-5_Goals,_2-6_Goals,_3-3_Goals,_3-4_Goals,_3-5_Goals,_3-6_Goals,1H_Home,Home_0,Home_Minus_0_25,Home_Plus_0_25,Home_Minus_0_5,Home_Plus_0_5,Home_Plus_0_75,Home_Plus_1,Home_Plus_1_25,Away_Plus_1_5,Home_Plus_1_5,Away_Plus_1_75,Home_Plus_1_75,Away_Plus_2,Home_Plus_2,Away_Plus_2_25,Home_Plus_2_25,Away_Plus_2_5,Home_Plus_2_5,Away_Plus_2_75,Home_Plus_2_75,Away_Plus_3,Home_Plus_3,over2_0,over1_75,over2_25'}, '1513002': {'id': '1513002', 'teamA': '55', 'teamB': '45', 'result': '{{1,0,1,0,14.2,9.2,{204}},{1,0,1,0,12.7,7.7,{251}},{1,0,1,0,14.6,9.6,{103}},{0,0,0,0,8.3,nil,{107}},{1,0,0,0,14.2,9.2,{219}},{0,1,1,0,8.3,nil,{319}}}', 'wonmarkets': 'Away,AwayAway,Draw_Away,Home_Away,_1_3,_4_Goals,over,goal,g1,g2,g3,ng4,g5,ng6,gc4,over2,gg,QAway,over3,under4,over0,HomeScoresOver0,AwayScoresOver0,HomeScoresUnder1,AwayScoresOver1,HomeScoresUnder2,AwayScoresOver2,HomeScoresUnder3,AwayScoresUnder3,_1x2AwayScoresOver1,_1x2AwayScoresOver2,_1x2AwayScoresOver3,_0-4_Goals,_0-5_Goals,_0-6_Goals,_1-4_Goals,_1-5_Goals,_1-6_Goals,_2-4_Goals,_2-5_Goals,_2-6_Goals,_3-4_Goals,_3-5_Goals,_3-6_Goals,_4-4_Goals,_4-5_Goals,_4-6_Goals,1H_Away,Away_0,Away_Plus_0_25,Away_Minus_0_25,Away_Plus_0_5,Away_Minus_0_5,Away_Plus_0_75,Away_Minus_0_75,Away_Plus_1,Away_Minus_1,Away_Plus_1_25,Away_Minus_1_25,Away_Plus_1_5,Away_Minus_1_5,Away_Plus_1_75,Away_Plus_2,Away_Plus_2_25,Away_Plus_2_5,Home_Plus_2_5,Away_Plus_2_75,Home_Plus_2_75,Away_Plus_3,Home_Plus_3,over2_0,over3_0,over1_75,over2_25,over2_75'}, '1513003': {'id': '1513003', 'teamA': '58', 'teamB': '827', 'result': '{{1,1,0,0,13.8,8.8,{274}},{0,1,0,0,8.8,nil,{264}},{0,0,1,0,10.0,nil,{151}},{0,1,1,0,8.3,nil,{142}},{1,1,1,0,12.3,7.3,{200}},{1,0,0,0,15.0,10.0,{135}}}', 'wonmarkets': 'Home,HomeHome,Home_Away,Home_Draw,_2_1,_3_Goals,over,goal,g1,ng2,ng3,ng4,g5,g6,gc3,over2,gg,QHome,under3,under4,over0,HomeScoresOver0,AwayScoresOver0,HomeScoresOver1,AwayScoresUnder1,HomeScoresUnder2,AwayScoresUnder2,HomeScoresUnder3,AwayScoresUnder3,_1x2HomeScoresOver1,_1x2HomeScoresOver2,_1x2HomeScoresUnder3,_0-3_Goals,_0-4_Goals,_0-5_Goals,_0-6_Goals,_1-3_Goals,_1-4_Goals,_1-5_Goals,_1-6_Goals,_2-3_Goals,_2-4_Goals,_2-5_Goals,_2-6_Goals,_3-3_Goals,_3-4_Goals,_3-5_Goals,_3-6_Goals,1H_Home,Home_0,Home_Minus_0_25,Home_Plus_0_25,Home_Minus_0_5,Home_Plus_0_5,Home_Plus_0_75,Home_Plus_1,Home_Plus_1_25,Away_Plus_1_5,Home_Plus_1_5,Away_Plus_1_75,Home_Plus_1_75,Away_Plus_2,Home_Plus_2,Away_Plus_2_25,Home_Plus_2_25,Away_Plus_2_5,Home_Plus_2_5,Away_Plus_2_75,Home_Plus_2_75,Away_Plus_3,Home_Plus_3,over2_0,over1_75,over2_25'}, '1513004': {'id': '1513004', 'teamA': '67', 'teamB': '46', 'result': '{{0,0,1,0,8.3,nil,{49}},{1,0,1,0,15.0,10.0,{22}},{0,0,1,0,8.3,nil,{48}},{1,1,1,0,15.0,11.9,{231}},{0,1,1,0,8.8,nil,{237}},{0,1,1,0,8.3,nil,{92}}}', 'wonmarkets': 'Away,AwayAway,Draw_Away,Home_Away,_0_2,_2_Goals,over,goal,ng1,g2,ng3,g4,ng5,ng6,gc2,under2,nog,QAway,under3,under4,over0,HomeScoresUnder0,AwayScoresOver0,HomeScoresUnder1,AwayScoresOver1,HomeScoresUnder2,AwayScoresUnder2,HomeScoresUnder3,AwayScoresUnder3,_1x2AwayScoresOver1,_1x2AwayScoresUnder2,_1x2AwayScoresUnder3,_0-2_Goals,_0-3_Goals,_0-4_Goals,_0-5_Goals,_0-6_Goals,_1-2_Goals,_1-3_Goals,_1-4_Goals,_1-5_Goals,_1-6_Goals,_2-2_Goals,_2-3_Goals,_2-4_Goals,_2-5_Goals,_2-6_Goals,1H_Away,Away_0,Away_Plus_0_25,Away_Minus_0_25,Away_Plus_0_5,Away_Minus_0_5,Away_Plus_0_75,Away_Minus_0_75,Away_Plus_1,Away_Minus_1,Away_Plus_1_25,Away_Minus_1_25,Away_Plus_1_5,Away_Minus_1_5,Away_Plus_1_75,Away_Plus_2,Away_Plus_2_25,Away_Plus_2_5,Home_Plus_2_5,Away_Plus_2_75,Home_Plus_2_75,Away_Plus_3,Home_Plus_3,under3_0,under2_75'}, '1513005': {'id': '1513005', 'teamA': '50', 'teamB': '972', 'result': '{{1,0,1,0,12.9,7.9,{17,32}},{1,0,1,0,12.0,7.0,{146}},{1,1,0,0,15.0,10.7,{35}},{1,1,1,0,13.8,8.8,{16}},{1,1,1,0,14.9,9.9,{19}},{1,1,1,0,15.0,10.0,{109}}}', 'wonmarkets': 'Away,AwayAway,Draw_Away,Home_Away,_1_5,_6_Goals,over,goal,g1,g2,g3,g4,g5,g6,gc6,over2,gg,QAway,over3,over4,over0,HomeScoresOver0,AwayScoresOver0,HomeScoresUnder1,AwayScoresOver1,HomeScoresUnder2,AwayScoresOver2,HomeScoresUnder3,AwayScoresOver3,_1x2AwayScoresOver1,_1x2AwayScoresOver2,_1x2AwayScoresOver3,_0-6_Goals,_1-6_Goals,_2-6_Goals,_3-6_Goals,_4-6_Goals,_5-6_Goals,_6-6_Goals,1H_Away,Away_0,Away_Plus_0_25,Away_Minus_0_25,Away_Plus_0_5,Away_Minus_0_5,Away_Plus_0_75,Away_Minus_0_75,Away_Plus_1,Away_Minus_1,Away_Plus_1_25,Away_Minus_1_25,Away_Plus_1_5,Away_Minus_1_5,Away_Plus_1_75,Away_Minus_1_75,Away_Plus_2,Away_Minus_2,Away_Plus_2_25,Away_Minus_2_25,Away_Plus_2_5,Away_Minus_2_5,Away_Plus_2_75,Away_Minus_2_75,Away_Plus_3,Away_Minus_3,over2_0,over3_0,over1_75,over2_25,over2_75'}, '1513006': {'id': '1513006', 'teamA': '49', 'teamB': '63', 'result': '{{0,1,0,0,8.0,nil,{189}},{0,0,1,0,8.3,nil,{13,90}},{0,1,0,0,11.0,nil,{233}},{1,0,0,0,13.2,8.2,{192}},{0,0,0,0,8.3,nil,{157}},{1,0,0,0,13.4,8.4,{211}}}', 'wonmarkets': 'Home,DrawHome,Home_Away,Home_Draw,_2_0,_2_Goals,over,goal,ng1,ng2,ng3,g4,ng5,g6,gc2,under2,nog,QHome,under3,under4,over0,HomeScoresOver0,AwayScoresUnder0,HomeScoresOver1,AwayScoresUnder1,HomeScoresUnder2,AwayScoresUnder2,HomeScoresUnder3,AwayScoresUnder3,_1x2HomeScoresOver1,_1x2HomeScoresUnder2,_1x2HomeScoresUnder3,_0-2_Goals,_0-3_Goals,_0-4_Goals,_0-5_Goals,_0-6_Goals,_1-2_Goals,_1-3_Goals,_1-4_Goals,_1-5_Goals,_1-6_Goals,_2-2_Goals,_2-3_Goals,_2-4_Goals,_2-5_Goals,_2-6_Goals,1H_Draw,Home_0,Home_Minus_0_25,Home_Plus_0_25,Home_Minus_0_5,Home_Plus_0_5,Home_Minus_0_75,Home_Plus_0_75,Home_Minus_1,Home_Plus_1,Home_Minus_1_25,Home_Plus_1_25,Home_Minus_1_5,Home_Plus_1_5,Home_Plus_1_75,Home_Plus_2,Home_Plus_2_25,Away_Plus_2_5,Home_Plus_2_5,Away_Plus_2_75,Home_Plus_2_75,Away_Plus_3,Home_Plus_3,under3_0,under2_75'}, '1513007': {'id': '1513007', 'teamA': '512', 'teamB': '48', 'result': '{{0,0,1,0,8.2,nil,{140}},{0,1,0,0,8.8,nil,{299}},{1,1,0,0,13.1,8.1,{123}},{0,1,1,0,8.0,nil,{220}},{1,1,1,0,14.2,9.2,{188}},{0,0,0,0,9.0,nil,{161}}}', 'wonmarkets': 'Draw,HomeDraw,Draw_Away,Home_Draw,_1_1,_2_Goals,over,goal,ng1,ng2,g3,ng4,g5,ng6,gc2,under2,gg,QDraw,under3,under4,over0,HomeScoresOver0,AwayScoresOver0,HomeScoresUnder1,AwayScoresUnder1,HomeScoresUnder2,AwayScoresUnder2,HomeScoresUnder3,AwayScoresUnder3,_1x2DrawScoresOver1,_1x2DrawScoresUnder2,_1x2DrawScoresUnder3,_0-2_Goals,_0-3_Goals,_0-4_Goals,_0-5_Goals,_0-6_Goals,_1-2_Goals,_1-3_Goals,_1-4_Goals,_1-5_Goals,_1-6_Goals,_2-2_Goals,_2-3_Goals,_2-4_Goals,_2-5_Goals,_2-6_Goals,1H_Home,Away_Plus_0_5,Home_Plus_0_5,Away_Plus_0_75,Home_Plus_0_75,Away_Plus_1,Home_Plus_1,Away_Plus_1_25,Home_Plus_1_25,Away_Plus_1_5,Home_Plus_1_5,Away_Plus_1_75,Home_Plus_1_75,Away_Plus_2,Home_Plus_2,Away_Plus_2_25,Home_Plus_2_25,Away_Plus_2_5,Home_Plus_2_5,Away_Plus_2_75,Home_Plus_2_75,Away_Plus_3,Home_Plus_3,under3_0,under2_75'}, '1513008': {'id': '1513008', 'teamA': '51', 'teamB': '53', 'result': '{{0,0,1,0,8.3,nil,{43}},{0,1,0,0,8.3,nil,{321}},{0,0,1,0,10.0,nil,{171}},{1,0,0,0,15.0,10.9,{63}},{1,0,0,0,14.1,9.1,{9}},{0,0,0,0,8.9,nil,{284}}}', 'wonmarkets': 'Home,DrawHome,Home_Away,Home_Draw,_2_0,_2_Goals,over,goal,ng1,ng2,ng3,g4,g5,ng6,gc2,under2,nog,QHome,under3,under4,over0,HomeScoresOver0,AwayScoresUnder0,HomeScoresOver1,AwayScoresUnder1,HomeScoresUnder2,AwayScoresUnder2,HomeScoresUnder3,AwayScoresUnder3,_1x2HomeScoresOver1,_1x2HomeScoresUnder2,_1x2HomeScoresUnder3,_0-2_Goals,_0-3_Goals,_0-4_Goals,_0-5_Goals,_0-6_Goals,_1-2_Goals,_1-3_Goals,_1-4_Goals,_1-5_Goals,_1-6_Goals,_2-2_Goals,_2-3_Goals,_2-4_Goals,_2-5_Goals,_2-6_Goals,1H_Draw,Home_0,Home_Minus_0_25,Home_Plus_0_25,Home_Minus_0_5,Home_Plus_0_5,Home_Minus_0_75,Home_Plus_0_75,Home_Minus_1,Home_Plus_1,Home_Minus_1_25,Home_Plus_1_25,Home_Minus_1_5,Home_Plus_1_5,Home_Plus_1_75,Home_Plus_2,Home_Plus_2_25,Away_Plus_2_5,Home_Plus_2_5,Away_Plus_2_75,Home_Plus_2_75,Away_Plus_3,Home_Plus_3,under3_0,under2_75'}, '1513009': {'id': '1513009', 'teamA': '71', 'teamB': '47', 'result': '{{0,0,1,0,8.3,nil,{85}},{0,1,0,0,8.3,nil,{13,82}},{0,1,0,0,10.2,nil,{224}},{1,1,1,0,14.3,9.3,{56}},{0,1,1,0,8.3,nil,{66}},{0,0,0,0,8.2,nil,{141}}}', 'wonmarkets': 'Away,DrawAway,Draw_Away,Home_Away,_0_1,_1_Goals,under,goal,ng1,ng2,ng3,g4,ng5,ng6,gc1,under2,nog,QAway,under3,under4,over0,HomeScoresUnder0,AwayScoresOver0,HomeScoresUnder1,AwayScoresUnder1,HomeScoresUnder2,AwayScoresUnder2,HomeScoresUnder3,AwayScoresUnder3,_1x2AwayScoresUnder1,_1x2AwayScoresUnder2,_1x2AwayScoresUnder3,_0-1_Goals,_0-2_Goals,_0-3_Goals,_0-4_Goals,_0-5_Goals,_0-6_Goals,_1-1_Goals,_1-2_Goals,_1-3_Goals,_1-4_Goals,_1-5_Goals,_1-6_Goals,1H_Draw,Away_0,Away_Plus_0_25,Away_Minus_0_25,Away_Plus_0_5,Away_Minus_0_5,Away_Plus_0_75,Away_Plus_1,Away_Plus_1_25,Away_Plus_1_5,Home_Plus_1_5,Away_Plus_1_75,Home_Plus_1_75,Away_Plus_2,Home_Plus_2,Away_Plus_2_25,Home_Plus_2_25,Away_Plus_2_5,Home_Plus_2_5,Away_Plus_2_75,Home_Plus_2_75,Away_Plus_3,Home_Plus_3,under2_0,under3_0,under1_75,under2_25,under2_75'}, '1513010': {'id': '1513010', 'teamA': '52', 'teamB': '525', 'result': '{{1,0,1,0,15.0,10.4,{91}},{0,1,0,0,6.3,nil,{324}},{1,1,0,0,14.4,9.4,{118}},{0,1,1,0,11.2,nil,{198}},{0,1,1,0,8.3,nil,{85}},{0,0,0,0,7.5,nil,{260}}}', 'wonmarkets': 'Draw,DrawDraw,Draw_Away,Home_Draw,_1_1,_2_Goals,over,goal,g1,ng2,g3,ng4,ng5,ng6,gc2,under2,gg,QDraw,under3,under4,over0,HomeScoresOver0,AwayScoresOver0,HomeScoresUnder1,AwayScoresUnder1,HomeScoresUnder2,AwayScoresUnder2,HomeScoresUnder3,AwayScoresUnder3,_1x2DrawScoresOver1,_1x2DrawScoresUnder2,_1x2DrawScoresUnder3,_0-2_Goals,_0-3_Goals,_0-4_Goals,_0-5_Goals,_0-6_Goals,_1-2_Goals,_1-3_Goals,_1-4_Goals,_1-5_Goals,_1-6_Goals,_2-2_Goals,_2-3_Goals,_2-4_Goals,_2-5_Goals,_2-6_Goals,1H_Draw,Away_Plus_0_5,Home_Plus_0_5,Away_Plus_0_75,Home_Plus_0_75,Away_Plus_1,Home_Plus_1,Away_Plus_1_25,Home_Plus_1_25,Away_Plus_1_5,Home_Plus_1_5,Away_Plus_1_75,Home_Plus_1_75,Away_Plus_2,Home_Plus_2,Away_Plus_2_25,Home_Plus_2_25,Away_Plus_2_5,Home_Plus_2_5,Away_Plus_2_75,Home_Plus_2_75,Away_Plus_3,Home_Plus_3,under3_0,under2_75'}}, '24': {'1513011': {'id': '1513011', 'teamA': '45', 'teamB': '67', 'result': '{{1,0,1,0,14.6,9.6,{223}},{1,0,1,0,15.0,10.0,{135}},{0,1,0,0,13.3,nil,{152,52}},{1,0,0,0,15.0,10.7,{182}},{1,1,1,0,15.0,10.4,{91}},{1,0,0,0,13.6,8.6,{21}}}', 'wonmarkets': 'Away,AwayAway,Draw_Away,Home_Away,_2_3,_5_Goals,over,goal,g1,g2,ng3,g4,g5,g6,gc5,over2,gg,QAway,over3,over4,over0,HomeScoresOver0,AwayScoresOver0,HomeScoresOver1,AwayScoresOver1,HomeScoresUnder2,AwayScoresOver2,HomeScoresUnder3,AwayScoresUnder3,_1x2AwayScoresOver1,_1x2AwayScoresOver2,_1x2AwayScoresOver3,_0-5_Goals,_0-6_Goals,_1-5_Goals,_1-6_Goals,_2-5_Goals,_2-6_Goals,_3-5_Goals,_3-6_Goals,_4-5_Goals,_4-6_Goals,_5-5_Goals,_5-6_Goals,1H_Away,Away_0,Away_Plus_0_25,Away_Minus_0_25,Away_Plus_0_5,Away_Minus_0_5,Away_Plus_0_75,Away_Plus_1,Away_Plus_1_25,Away_Plus_1_5,Home_Plus_1_5,Away_Plus_1_75,Home_Plus_1_75,Away_Plus_2,Home_Plus_2,Away_Plus_2_25,Home_Plus_2_25,Away_Plus_2_5,Home_Plus_2_5,Away_Plus_2_75,Home_Plus_2_75,Away_Plus_3,Home_Plus_3,over2_0,over3_0,over1_75,over2_25,over2_75'}, '1513012': {'id': '1513012', 'teamA': '63', 'teamB': '71', 'result': '{{1,0,1,0,14.9,9.9,{19}},{1,1,0,0,12.7,7.7,{13,14}},{0,1,0,0,9.0,nil,{164}},{1,0,0,0,13.9,8.9,{17,18}},{1,0,0,0,14.0,9.0,{243}},{1,0,0,0,15.0,12.0,{152,50}}}', 'wonmarkets': 'Home,DrawHome,Home_Away,Home_Draw,_4_1,_5_Goals,over,goal,g1,g2,ng3,g4,g5,g6,gc5,over2,gg,QHome,over3,over4,over0,HomeScoresOver0,AwayScoresOver0,HomeScoresOver1,AwayScoresUnder1,HomeScoresOver2,AwayScoresUnder2,HomeScoresOver3,AwayScoresUnder3,_1x2HomeScoresOver1,_1x2HomeScoresOver2,_1x2HomeScoresOver3,_0-5_Goals,_0-6_Goals,_1-5_Goals,_1-6_Goals,_2-5_Goals,_2-6_Goals,_3-5_Goals,_3-6_Goals,_4-5_Goals,_4-6_Goals,_5-5_Goals,_5-6_Goals,1H_Draw,Home_0,Home_Minus_0_25,Home_Plus_0_25,Home_Minus_0_5,Home_Plus_0_5,Home_Minus_0_75,Home_Plus_0_75,Home_Minus_1,Home_Plus_1,Home_Minus_1_25,Home_Plus_1_25,Home_Minus_1_5,Home_Plus_1_5,Home_Minus_1_75,Home_Plus_1_75,Home_Minus_2,Home_Plus_2,Home_Minus_2_25,Home_Plus_2_25,Home_Minus_2_5,Home_Plus_2_5,Home_Plus_2_75,Home_Plus_3,over2_0,over3_0,over1_75,over2_25,over2_75'}, '1513013': {'id': '1513013', 'teamA': '46', 'teamB': '512', 'result': '{{1,1,0,0,12.7,7.7,{251}},{0,1,0,0,8.3,nil,{292}},{1,1,0,0,14.2,9.2,{219}},{0,1,1,0,8.3,nil,{117}},{1,0,0,0,13.0,8.0,{42}},{1,0,0,0,13.0,8.0,{42}}}', 'wonmarkets': 'Home,HomeHome,Home_Away,Home_Draw,_4_0,_4_Goals,over,goal,g1,ng2,g3,ng4,g5,g6,gc4,over2,nog,QHome,over3,under4,over0,HomeScoresOver0,AwayScoresUnder0,HomeScoresOver1,AwayScoresUnder1,HomeScoresOver2,AwayScoresUnder2,HomeScoresOver3,AwayScoresUnder3,_1x2HomeScoresOver1,_1x2HomeScoresOver2,_1x2HomeScoresOver3,_0-4_Goals,_0-5_Goals,_0-6_Goals,_1-4_Goals,_1-5_Goals,_1-6_Goals,_2-4_Goals,_2-5_Goals,_2-6_Goals,_3-4_Goals,_3-5_Goals,_3-6_Goals,_4-4_Goals,_4-5_Goals,_4-6_Goals,1H_Home,Home_0,Home_Minus_0_25,Home_Plus_0_25,Home_Minus_0_5,Home_Plus_0_5,Home_Minus_0_75,Home_Plus_0_75,Home_Minus_1,Home_Plus_1,Home_Minus_1_25,Home_Plus_1_25,Home_Minus_1_5,Home_Plus_1_5,Home_Minus_1_75,Home_Plus_1_75,Home_Minus_2,Home_Plus_2,Home_Minus_2_25,Home_Plus_2_25,Home_Minus_2_5,Home_Plus_2_5,Home_Minus_2_75,Home_Plus_2_75,Home_Minus_3,Home_Plus_3,over2_0,over3_0,over1_75,over2_25,over2_75'}, '1513014': {'id': '1513014', 'teamA': '972', 'teamB': '58', 'result': '{{1,0,1,0,14.2,9.2,{219}},{1,1,0,0,12.7,7.7,{11}},{1,0,1,0,13.4,8.4,{208}},{1,1,1,0,13.0,8.0,{42}},{1,0,0,0,12.3,7.3,{200}},{1,1,1,0,15.0,10.0,{109}}}', 'wonmarkets': 'Away,AwayAway,Draw_Away,Home_Away,_2_4,_6_Goals,over,goal,g1,g2,g3,g4,g5,g6,gc6,over2,gg,QAway,over3,over4,over0,HomeScoresOver0,AwayScoresOver0,HomeScoresOver1,AwayScoresOver1,HomeScoresUnder2,AwayScoresOver2,HomeScoresUnder3,AwayScoresOver3,_1x2AwayScoresOver1,_1x2AwayScoresOver2,_1x2AwayScoresOver3,_0-6_Goals,_1-6_Goals,_2-6_Goals,_3-6_Goals,_4-6_Goals,_5-6_Goals,_6-6_Goals,1H_Away,Away_0,Away_Plus_0_25,Away_Minus_0_25,Away_Plus_0_5,Away_Minus_0_5,Away_Plus_0_75,Away_Minus_0_75,Away_Plus_1,Away_Minus_1,Away_Plus_1_25,Away_Minus_1_25,Away_Plus_1_5,Away_Minus_1_5,Away_Plus_1_75,Away_Plus_2,Away_Plus_2_25,Away_Plus_2_5,Home_Plus_2_5,Away_Plus_2_75,Home_Plus_2_75,Away_Plus_3,Home_Plus_3,over2_0,over3_0,over1_75,over2_25,over2_75'}, '1513015': {'id': '1513015', 'teamA': '47', 'teamB': '52', 'result': '{{0,1,0,0,8.3,nil,{125}},{1,1,0,0,14.2,9.2,{318}},{1,1,0,0,15.0,11.1,{215}},{1,1,1,0,13.9,8.9,{13,18}},{0,1,1,0,10.0,nil,{163}},{0,0,0,0,10.0,nil,{206}}}', 'wonmarkets': 'Home,HomeHome,Home_Away,Home_Draw,_2_1,_3_Goals,over,goal,ng1,g2,g3,g4,ng5,ng6,gc3,over2,gg,QHome,under3,under4,over0,HomeScoresOver0,AwayScoresOver0,HomeScoresOver1,AwayScoresUnder1,HomeScoresUnder2,AwayScoresUnder2,HomeScoresUnder3,AwayScoresUnder3,_1x2HomeScoresOver1,_1x2HomeScoresOver2,_1x2HomeScoresUnder3,_0-3_Goals,_0-4_Goals,_0-5_Goals,_0-6_Goals,_1-3_Goals,_1-4_Goals,_1-5_Goals,_1-6_Goals,_2-3_Goals,_2-4_Goals,_2-5_Goals,_2-6_Goals,_3-3_Goals,_3-4_Goals,_3-5_Goals,_3-6_Goals,1H_Home,Home_0,Home_Minus_0_25,Home_Plus_0_25,Home_Minus_0_5,Home_Plus_0_5,Home_Plus_0_75,Home_Plus_1,Home_Plus_1_25,Away_Plus_1_5,Home_Plus_1_5,Away_Plus_1_75,Home_Plus_1_75,Away_Plus_2,Home_Plus_2,Away_Plus_2_25,Home_Plus_2_25,Away_Plus_2_5,Home_Plus_2_5,Away_Plus_2_75,Home_Plus_2_75,Away_Plus_3,Home_Plus_3,over2_0,over1_75,over2_25'}, '1513016': {'id': '1513016', 'teamA': '48', 'teamB': '49', 'result': '{{1,1,0,0,14.3,9.3,{56}},{0,1,0,0,8.3,nil,{13,90}},{1,0,1,0,14.0,9.0,{46}},{1,0,0,0,13.4,8.4,{122}},{0,1,1,0,8.0,nil,{189}},{0,1,1,0,8.3,nil,{115}}}', 'wonmarkets': 'Home,DrawHome,Home_Away,Home_Draw,_2_1,_3_Goals,over,goal,g1,ng2,g3,g4,ng5,ng6,gc3,over2,gg,QHome,under3,under4,over0,HomeScoresOver0,AwayScoresOver0,HomeScoresOver1,AwayScoresUnder1,HomeScoresUnder2,AwayScoresUnder2,HomeScoresUnder3,AwayScoresUnder3,_1x2HomeScoresOver1,_1x2HomeScoresOver2,_1x2HomeScoresUnder3,_0-3_Goals,_0-4_Goals,_0-5_Goals,_0-6_Goals,_1-3_Goals,_1-4_Goals,_1-5_Goals,_1-6_Goals,_2-3_Goals,_2-4_Goals,_2-5_Goals,_2-6_Goals,_3-3_Goals,_3-4_Goals,_3-5_Goals,_3-6_Goals,1H_Draw,Home_0,Home_Minus_0_25,Home_Plus_0_25,Home_Minus_0_5,Home_Plus_0_5,Home_Plus_0_75,Home_Plus_1,Home_Plus_1_25,Away_Plus_1_5,Home_Plus_1_5,Away_Plus_1_75,Home_Plus_1_75,Away_Plus_2,Home_Plus_2,Away_Plus_2_25,Home_Plus_2_25,Away_Plus_2_5,Home_Plus_2_5,Away_Plus_2_75,Home_Plus_2_75,Away_Plus_3,Home_Plus_3,over2_0,over1_75,over2_25'}, '1513017': {'id': '1513017', 'teamA': '827', 'teamB': '51', 'result': '{{0,1,0,0,9.2,nil,{236}},{0,1,0,0,7.0,nil,{127}},{0,0,1,0,8.3,nil,{159}},{0,1,1,0,9.2,nil,{152,76}},{0,1,1,0,8.8,nil,{238}},{0,0,0,0,9.2,nil,{136}}}', 'wonmarkets': 'Draw,DrawDraw,Draw_Away,Home_Draw,_0_0,_0_Goals,under,nogoal,ng1,ng2,ng3,ng4,ng5,ng6,under2,nog,QDraw,under3,under4,under0,HomeScoresUnder0,AwayScoresUnder0,HomeScoresUnder1,AwayScoresUnder1,HomeScoresUnder2,AwayScoresUnder2,HomeScoresUnder3,AwayScoresUnder3,_1x2DrawScoresUnder1,_1x2DrawScoresUnder2,_1x2DrawScoresUnder3,_0-0_Goals,_0-1_Goals,_0-2_Goals,_0-3_Goals,_0-4_Goals,_0-5_Goals,_0-6_Goals,1H_Draw,Away_Plus_0_5,Home_Plus_0_5,Away_Plus_0_75,Home_Plus_0_75,Away_Plus_1,Home_Plus_1,Away_Plus_1_25,Home_Plus_1_25,Away_Plus_1_5,Home_Plus_1_5,Away_Plus_1_75,Home_Plus_1_75,Away_Plus_2,Home_Plus_2,Away_Plus_2_25,Home_Plus_2_25,Away_Plus_2_5,Home_Plus_2_5,Away_Plus_2_75,Home_Plus_2_75,Away_Plus_3,Home_Plus_3,under2_0,under3_0,under1_75,under2_25,under2_75'}, '1513018': {'id': '1513018', 'teamA': '525', 'teamB': '50', 'result': '{{0,0,1,0,10.0,nil,{97}},{0,0,1,0,8.3,nil,{132}},{0,1,0,0,8.3,nil,{115}},{0,1,1,0,8.3,nil,{291}},{0,0,0,0,10.2,nil,{225}},{0,0,0,0,10.0,nil,{3}}}', 'wonmarkets': 'Draw,DrawDraw,Draw_Away,Home_Draw,_0_0,_0_Goals,under,nogoal,ng1,ng2,ng3,ng4,ng5,ng6,under2,nog,QDraw,under3,under4,under0,HomeScoresUnder0,AwayScoresUnder0,HomeScoresUnder1,AwayScoresUnder1,HomeScoresUnder2,AwayScoresUnder2,HomeScoresUnder3,AwayScoresUnder3,_1x2DrawScoresUnder1,_1x2DrawScoresUnder2,_1x2DrawScoresUnder3,_0-0_Goals,_0-1_Goals,_0-2_Goals,_0-3_Goals,_0-4_Goals,_0-5_Goals,_0-6_Goals,1H_Draw,Away_Plus_0_5,Home_Plus_0_5,Away_Plus_0_75,Home_Plus_0_75,Away_Plus_1,Home_Plus_1,Away_Plus_1_25,Home_Plus_1_25,Away_Plus_1_5,Home_Plus_1_5,Away_Plus_1_75,Home_Plus_1_75,Away_Plus_2,Home_Plus_2,Away_Plus_2_25,Home_Plus_2_25,Away_Plus_2_5,Home_Plus_2_5,Away_Plus_2_75,Home_Plus_2_75,Away_Plus_3,Home_Plus_3,under2_0,under3_0,under1_75,under2_25,under2_75'}, '1513019': {'id': '1513019', 'teamA': '53', 'teamB': '1053', 'result': '{{0,0,1,0,10.0,nil,{228}},{0,1,0,0,8.3,nil,{131}},{0,1,0,0,8.3,nil,{155,40}},{0,0,0,0,10.0,nil,{130}},{0,0,0,0,9.2,nil,{152,6}},{0,1,1,0,8.3,nil,{305}}}', 'wonmarkets': 'Draw,DrawDraw,Draw_Away,Home_Draw,_0_0,_0_Goals,under,nogoal,ng1,ng2,ng3,ng4,ng5,ng6,under2,nog,QDraw,under3,under4,under0,HomeScoresUnder0,AwayScoresUnder0,HomeScoresUnder1,AwayScoresUnder1,HomeScoresUnder2,AwayScoresUnder2,HomeScoresUnder3,AwayScoresUnder3,_1x2DrawScoresUnder1,_1x2DrawScoresUnder2,_1x2DrawScoresUnder3,_0-0_Goals,_0-1_Goals,_0-2_Goals,_0-3_Goals,_0-4_Goals,_0-5_Goals,_0-6_Goals,1H_Draw,Away_Plus_0_5,Home_Plus_0_5,Away_Plus_0_75,Home_Plus_0_75,Away_Plus_1,Home_Plus_1,Away_Plus_1_25,Home_Plus_1_25,Away_Plus_1_5,Home_Plus_1_5,Away_Plus_1_75,Home_Plus_1_75,Away_Plus_2,Home_Plus_2,Away_Plus_2_25,Home_Plus_2_25,Away_Plus_2_5,Home_Plus_2_5,Away_Plus_2_75,Home_Plus_2_75,Away_Plus_3,Home_Plus_3,under2_0,under3_0,under1_75,under2_25,under2_75'}, '1513020': {'id': '1513020', 'teamA': '60', 'teamB': '55', 'result': '{{0,1,0,0,10.0,nil,{25}},{1,1,0,0,13.3,8.3,{298}},{0,1,0,0,9.2,nil,{13,34}},{0,0,0,0,10.0,nil,{27}},{1,0,0,0,15.0,12.0,{1}},{0,0,0,0,10.0,nil,{151}}}', 'wonmarkets': 'Home,HomeHome,Home_Away,Home_Draw,_2_0,_2_Goals,over,goal,ng1,g2,ng3,ng4,g5,ng6,gc2,under2,nog,QHome,under3,under4,over0,HomeScoresOver0,AwayScoresUnder0,HomeScoresOver1,AwayScoresUnder1,HomeScoresUnder2,AwayScoresUnder2,HomeScoresUnder3,AwayScoresUnder3,_1x2HomeScoresOver1,_1x2HomeScoresUnder2,_1x2HomeScoresUnder3,_0-2_Goals,_0-3_Goals,_0-4_Goals,_0-5_Goals,_0-6_Goals,_1-2_Goals,_1-3_Goals,_1-4_Goals,_1-5_Goals,_1-6_Goals,_2-2_Goals,_2-3_Goals,_2-4_Goals,_2-5_Goals,_2-6_Goals,1H_Home,Home_0,Home_Minus_0_25,Home_Plus_0_25,Home_Minus_0_5,Home_Plus_0_5,Home_Minus_0_75,Home_Plus_0_75,Home_Minus_1,Home_Plus_1,Home_Minus_1_25,Home_Plus_1_25,Home_Minus_1_5,Home_Plus_1_5,Home_Plus_1_75,Home_Plus_2,Home_Plus_2_25,Away_Plus_2_5,Home_Plus_2_5,Away_Plus_2_75,Home_Plus_2_75,Away_Plus_3,Home_Plus_3,under3_0,under2_75'}}}, 'weeks': {'1': {'id': '151279', 'event_start': '1675812240', 'event_data': '49-972-67-47-45-48-512-525-52-53-58-51-50-1053-71-827-46-60-55-63', 'league_id': '3982', 'matchday': '1', 'teamstats': '0-3-3-0-0-3-3-0-0-3-0-3-3-0-3-0-3-0-0-3', 'teamhistory': '0xxxx-3xxxx-3xxxx-0xxxx-0xxxx-3xxxx-3xxxx-0xxxx-0xxxx-3xxxx-0xxxx-3xxxx-3xxxx-0xxxx-3xxxx-0xxxx-3xxxx-0xxxx-0xxxx-3xxxx'}, '2': {'id': '151280', 'event_start': '1675812360', 'event_data': '972-71-46-45-827-52-60-51-525-49-1053-58-63-67-48-55-47-512-53-50', 'league_id': '3982', 'matchday': '2', 'teamstats': '3-6-4-1-3-0-3-3-1-1-3-0-6-3-4-1-0-6-3-6', 'teamhistory': '03xxx-33xxx-13xxx-10xxx-30xxx-00xxx-30xxx-03xxx-10xxx-10xxx-30xxx-00xxx-33xxx-03xxx-13xxx-10xxx-00xxx-33xxx-03xxx-33xxx'}, '3': {'id': '151281', 'event_start': '1675812480', 'event_data': '52-972-512-63-58-53-71-525-51-1053-55-46-50-827-67-48-45-60-49-47', 'league_id': '3982', 'matchday': '3', 'teamstats': '3-3-7-7-1-4-7-2-3-6-4-4-7-4-3-7-4-3-4-0', 'teamhistory': '300xx-003xx-133xx-133xx-100xx-103xx-133xx-110xx-003xx-330xx-310xx-013xx-133xx-130xx-003xx-313xx-310xx-030xx-310xx-000xx'}, '4': {'id': '151282', 'event_start': '1675812600', 'event_data': '60-1053-525-52-46-67-48-512-827-58-53-51-972-50-63-49-45-55-47-71', 'league_id': '3982', 'matchday': '4', 'teamstats': '4-7-3-4-4-6-8-8-4-4-4-6-6-7-10-4-7-4-0-10', 'teamhistory': '1030x-1330x-1110x-1300x-0013x-3003x-1313x-1133x-0130x-3100x-0103x-3003x-3003x-0133x-3133x-0310x-3310x-0310x-0000x-3133x'}, '5': {'id': '151283', 'event_start': '1675812720', 'event_data': '1053-53-50-525-52-47-58-972-49-48-71-63-67-45-512-46-51-827-55-60', 'league_id': '3982', 'matchday': '5', 'teamstats': '10-4-7-6-4-3-4-9-4-11-10-13-6-10-8-7-7-5-7-4', 'teamhistory': '31330-00103-00133-31110-01300-30000-03100-33003-00310-31313-03133-33133-03003-33310-01133-30013-13003-10130-30310-01030'}, '6': {'id': '151284', 'event_start': '1675812840', 'event_data': '45-512-827-1053-525-58-55-67-46-49-972-51-60-53-47-50-63-52-48-71', 'league_id': '3982', 'matchday': '6', 'teamstats': '11-9-8-10-6-7-10-6-10-4-9-10-5-5-6-7-14-5-14-10', 'teamhistory': '13331-10113-31013-03133-03111-30310-33031-00300-33001-00031-03300-31300-10103-10010-33000-00013-13313-10130-33131-00313'}, '7': {'id': '151285', 'event_start': '1675812960', 'event_data': '49-45-52-48-1053-972-512-55-67-60-53-827-71-46-58-47-51-525-50-63', 'league_id': '3982', 'matchday': '7', 'teamstats': '4-14-5-17-10-12-9-13-6-8-6-9-11-11-10-6-13-6-8-15', 'teamhistory': '00003-31333-01013-33313-00313-30330-01011-33303-00030-31010-11001-13101-10031-13300-33031-03300-33130-00311-10001-11331'}, '8': {'id': '151286', 'event_start': '1675813080', 'event_data': '63-58-972-53-60-827-48-50-46-52-67-512-525-1053-45-71-47-51-55-49', 'league_id': '3982', 'matchday': '8', 'teamstats': '16-11-12-9-11-9-18-9-14-5-9-9-7-11-17-11-9-13-16-4', 'teamhistory': '11133-13303-03033-31100-33101-01310-13331-11000-31330-00101-30003-00101-10031-10031-33133-01003-30330-03313-33330-00000'}, '9': {'id': '151287', 'event_start': '1675813200', 'event_data': '827-972-49-67-51-63-52-45-50-46-512-60-53-525-58-48-71-55-1053-47', 'league_id': '3982', 'matchday': '9', 'teamstats': '10-13-7-9-13-19-5-20-12-14-9-14-9-10-11-21-11-19-11-12', 'teamhistory': '10131-10303-30000-03000-00331-31113-00010-33313-31100-03133-00010-33310-03110-31003-01330-31333-00100-33333-01003-33033'}, '10': {'id': '151288', 'event_start': '1675813320', 'event_data': '63-1053-47-53-512-49-46-58-45-50-55-52-60-972-48-51-525-827-67-71', 'league_id': '3982', 'matchday': '10', 'teamstats': '19-14-13-10-12-7-17-11-20-15-19-8-17-13-21-16-13-10-12-11', 'teamhistory': '03111-30100-13303-10311-30001-03000-30313-00133-03331-33110-03333-30001-33331-01030-03133-30033-33100-01013-30300-00010'}, '11': {'id': '151289', 'event_start': '1675813440', 'event_data': '49-60-50-55-52-67-827-47-1053-48-53-63-58-45-71-512-972-525-51-46', 'league_id': '3982', 'matchday': '11', 'teamstats': '10-17-18-19-11-12-13-13-15-22-13-19-11-23-11-15-14-14-19-17', 'teamhistory': '30300-03333-33311-00333-33000-03030-30101-01330-13010-10313-31031-00311-00013-30333-00001-33000-10103-13310-33003-03031'}, '12': {'id': '151290', 'event_start': '1675813560', 'event_data': '48-53-63-827-60-525-55-58-512-52-45-51-46-1053-47-972-49-71-67-50', 'league_id': '3982', 'matchday': '12', 'teamstats': '23-14-22-13-17-17-22-11-18-11-26-19-20-15-16-14-10-14-12-21', 'teamhistory': '11031-13103-30031-03010-00333-31331-30033-00001-33300-03300-33033-03300-30303-01301-30133-01010-03030-30000-00303-33331'}, '13': {'id': '151291', 'event_start': '1675813680', 'event_data': '52-49-51-55-53-46-525-47-71-60-58-67-50-512-972-63-1053-45-827-48', 'league_id': '3982', 'matchday': '13', 'teamstats': '11-13-22-22-14-23-18-17-15-18-14-12-24-18-17-22-15-29-13-26', 'teamhistory': '00330-30303-30330-03003-01310-33030-13133-13013-13000-10033-30000-00030-33333-03330-30101-03003-00130-33303-00301-31103'}, '14': {'id': '151292', 'event_start': '1675813800', 'event_data': '46-827-63-525-48-972-512-58-67-51-60-47-45-53-49-50-55-1053-71-52', 'league_id': '3982', 'matchday': '14', 'teamstats': '26-13-25-18-27-18-18-17-12-25-19-18-30-15-13-27-22-18-18-11', 'teamhistory': '33303-00030-30300-01313-13110-13010-00333-33000-00003-33033-11003-11301-13330-10131-03030-33333-00300-30013-31300-00033'}, '15': {'id': '151293', 'event_start': '1675813920', 'event_data': '58-49-1053-67-52-60-47-63-51-512-827-45-50-71-53-55-525-48-972-46', 'league_id': '3982', 'matchday': '15', 'teamstats': '18-14-18-15-11-22-21-25-28-18-16-30-28-19-18-22-18-30-18-29', 'teamhistory': '13300-10303-03001-30000-00003-31100-31130-03030-33303-00033-30003-01333-13333-13130-31013-00030-00131-31311-01301-33330'}, '16': {'id': '151294', 'event_start': '1675814040', 'event_data': '55-827-512-1053-60-63-46-525-71-58-67-53-48-47-45-972-52-50-49-51', 'league_id': '3982', 'matchday': '16', 'teamstats': '22-19-21-18-22-28-32-18-22-18-15-21-31-22-33-18-12-29-15-29', 'teamhistory': '00003-33000-30003-00300-03110-30303-33333-00013-31313-01330-03000-33101-13131-13113-30133-00130-10000-11333-11030-13330'}, '17': {'id': '151295', 'event_start': '1675814160', 'event_data': '972-55-53-512-1053-49-63-48-51-71-47-46-525-45-58-52-827-67-50-60', 'league_id': '3982', 'matchday': '17', 'teamstats': '18-25-21-24-21-15-31-31-29-25-25-32-21-33-21-12-19-18-32-22', 'teamhistory': '00013-30000-03310-33000-30030-01103-33030-01313-01333-33131-31311-03333-30001-03013-30133-01000-03300-30300-31133-00311'}, '18': {'id': '151296', 'event_start': '1675814280', 'event_data': '45-47-49-53-55-525-60-48-512-827-52-51-67-972-50-58-46-63-71-1053', 'league_id': '3982', 'matchday': '18', 'teamstats': '34-26-16-22-28-21-22-34-27-19-13-30-18-21-35-21-33-32-28-21', 'teamhistory': '10301-13131-10110-10331-33000-03000-00031-30131-33300-00330-10100-10133-03030-30001-33113-03013-10333-13303-33313-03003'}, '19': {'id': '151297', 'event_start': '1675814400', 'event_data': '1053-52-63-45-525-67-58-60-827-49-53-71-48-46-47-55-972-512-51-50', 'league_id': '3982', 'matchday': '19', 'teamstats': '24-13-35-34-24-18-22-23-19-19-22-31-35-34-27-29-24-27-30-38', 'teamhistory': '30300-01010-31330-01030-30300-00303-10301-10003-00033-31011-01033-33331-13013-11033-11313-13300-33000-03330-01013-33311'}, '20': {'id': '151298', 'event_start': '1675814520', 'event_data': '48-45-827-71-47-67-51-58-60-46-1053-50-63-55-525-512-53-52-972-49', 'league_id': '3982', 'matchday': '20', 'teamstats': '35-37-22-31-30-18-31-23-23-37-24-41-38-29-24-30-23-14-27-19', 'teamhistory': '01301-30103-30003-03333-31131-00030-10101-11030-01000-31103-03030-33331-33133-01330-03030-30333-10103-10101-33300-03101'}, '21': {'id': '151299', 'event_start': '1675814640', 'event_data': '52-827-67-63-45-46-49-525-50-53-51-60-58-1053-55-48-71-972-512-47', 'league_id': '3982', 'matchday': '21', 'teamstats': '14-25-18-41-38-38-22-24-42-24-31-26-26-24-30-36-34-27-33-30', 'teamhistory': '01010-33000-00003-33313-13010-13110-30310-00303-13333-11010-01010-30100-31103-00303-10133-10130-30333-03330-33033-03113'}, '22': {'id': '151300', 'event_start': '1675814760', 'event_data': '53-58-47-49-827-50-525-71-63-512-1053-51-46-55-48-67-972-52-60-45', 'league_id': '3982', 'matchday': '22', 'teamstats': '25-27-33-22-25-45-25-35-44-33-25-32-39-31-36-21-27-17-26-41', 'teamhistory': '11101-13110-30311-03031-03300-31333-10030-13033-33331-03303-10030-10101-11311-11013-01013-30000-00333-30101-03010-31301'}, '23': {'id': '151301', 'event_start': '1675814880', 'event_data': '1053-60-55-45-58-827-67-46-50-972-49-63-512-48-51-53-71-47-52-525', 'league_id': '3982', 'matchday': '23', 'teamstats': '28-26-31-44-30-25-21-42-45-30-25-44-34-37-35-25-35-36-18-26', 'teamhistory': '31003-00301-01101-33130-31311-00330-03000-31131-03133-30033-30303-03333-10330-10101-31010-01110-01303-33031-13010-11003'}, '24': {'id': '151302', 'event_start': '1675815000', 'event_data': '45-67-63-71-46-512-972-58-47-52-48-49-827-51-525-50-53-1053-60-55', 'league_id': '3982', 'matchday': '24', 'teamstats': '44-24-47-35-45-34-30-33-39-18-40-25-26-36-27-46-26-29-29-31', 'teamhistory': '03313-30300-30333-00130-33113-01033-03003-33131-33303-01301-31010-03030-10033-13101-11100-10313-10111-13100-30030-00110'}}}\n"
     ]
    }
   ],
   "source": [
    "print(json_obj)"
   ]
  },
  {
   "cell_type": "code",
   "execution_count": 5,
   "id": "3df44817",
   "metadata": {},
   "outputs": [
    {
     "data": {
      "text/plain": [
       "{'49': {'fifa': 'EVE', 'team': 'everton'},\n",
       " '972': {'fifa': 'BRN', 'team': 'brentford'},\n",
       " '67': {'fifa': 'BOU', 'team': 'bournemouth'},\n",
       " '47': {'fifa': 'CHE', 'team': 'chelsea'},\n",
       " '45': {'fifa': 'LIV', 'team': 'liverpool'},\n",
       " '48': {'fifa': 'ARS', 'team': 'arsenal'},\n",
       " '512': {'fifa': 'FUL', 'team': 'fulham'},\n",
       " '525': {'fifa': 'WOL', 'team': 'wolverhampton'},\n",
       " '52': {'fifa': 'SOU', 'team': 'southampton'},\n",
       " '53': {'fifa': 'NWC', 'team': 'newcastle'},\n",
       " '58': {'fifa': 'WHU', 'team': 'west_ham'},\n",
       " '51': {'fifa': 'TOT', 'team': 'tottenham'},\n",
       " '50': {'fifa': 'MNU', 'team': 'manchester_united'},\n",
       " '1053': {'fifa': 'FOR', 'team': 'nottingham_forest'},\n",
       " '71': {'fifa': 'BRI', 'team': 'brighton'},\n",
       " '827': {'fifa': 'LEE', 'team': 'leeds_united'},\n",
       " '46': {'fifa': 'MNC', 'team': 'manchester_city'},\n",
       " '60': {'fifa': 'ASV', 'team': 'aston_villa'},\n",
       " '55': {'fifa': 'CRY', 'team': 'crystal_palace'},\n",
       " '63': {'fifa': 'LEI', 'team': 'leicester_city'}}"
      ]
     },
     "execution_count": 5,
     "metadata": {},
     "output_type": "execute_result"
    }
   ],
   "source": [
    "json_obj[\"teams\"]"
   ]
  },
  {
   "cell_type": "code",
   "execution_count": 6,
   "id": "c1f7d281",
   "metadata": {},
   "outputs": [],
   "source": [
    "teams = {\"id\": [], \"name\": [], \"club\": []}"
   ]
  },
  {
   "cell_type": "code",
   "execution_count": 7,
   "id": "c940842e",
   "metadata": {},
   "outputs": [],
   "source": [
    "for x, y in json_obj[\"teams\"].items():\n",
    "    # main_info.id.append(x)\n",
    "    teams[\"id\"].append(x)\n",
    "    teams[\"name\"].append(y[\"fifa\"])\n",
    "    teams[\"club\"].append(y[\"team\"])\n",
    "   \n",
    "    \n",
    "    # print(x)\n",
    "    # print(y)"
   ]
  },
  {
   "cell_type": "code",
   "execution_count": 8,
   "id": "541d6711",
   "metadata": {
    "scrolled": true
   },
   "outputs": [
    {
     "data": {
      "text/plain": [
       "{'id': ['49',\n",
       "  '972',\n",
       "  '67',\n",
       "  '47',\n",
       "  '45',\n",
       "  '48',\n",
       "  '512',\n",
       "  '525',\n",
       "  '52',\n",
       "  '53',\n",
       "  '58',\n",
       "  '51',\n",
       "  '50',\n",
       "  '1053',\n",
       "  '71',\n",
       "  '827',\n",
       "  '46',\n",
       "  '60',\n",
       "  '55',\n",
       "  '63'],\n",
       " 'name': ['EVE',\n",
       "  'BRN',\n",
       "  'BOU',\n",
       "  'CHE',\n",
       "  'LIV',\n",
       "  'ARS',\n",
       "  'FUL',\n",
       "  'WOL',\n",
       "  'SOU',\n",
       "  'NWC',\n",
       "  'WHU',\n",
       "  'TOT',\n",
       "  'MNU',\n",
       "  'FOR',\n",
       "  'BRI',\n",
       "  'LEE',\n",
       "  'MNC',\n",
       "  'ASV',\n",
       "  'CRY',\n",
       "  'LEI'],\n",
       " 'club': ['everton',\n",
       "  'brentford',\n",
       "  'bournemouth',\n",
       "  'chelsea',\n",
       "  'liverpool',\n",
       "  'arsenal',\n",
       "  'fulham',\n",
       "  'wolverhampton',\n",
       "  'southampton',\n",
       "  'newcastle',\n",
       "  'west_ham',\n",
       "  'tottenham',\n",
       "  'manchester_united',\n",
       "  'nottingham_forest',\n",
       "  'brighton',\n",
       "  'leeds_united',\n",
       "  'manchester_city',\n",
       "  'aston_villa',\n",
       "  'crystal_palace',\n",
       "  'leicester_city']}"
      ]
     },
     "execution_count": 8,
     "metadata": {},
     "output_type": "execute_result"
    }
   ],
   "source": [
    "teams # if you have ound its index you havefound the club"
   ]
  },
  {
   "cell_type": "code",
   "execution_count": 9,
   "id": "b5d35637",
   "metadata": {},
   "outputs": [
    {
     "data": {
      "text/plain": [
       "20"
      ]
     },
     "execution_count": 9,
     "metadata": {},
     "output_type": "execute_result"
    }
   ],
   "source": [
    "len(teams['id']) # total number of teams "
   ]
  },
  {
   "cell_type": "code",
   "execution_count": 10,
   "id": "33ba21c7",
   "metadata": {},
   "outputs": [
    {
     "data": {
      "text/plain": [
       "24"
      ]
     },
     "execution_count": 10,
     "metadata": {},
     "output_type": "execute_result"
    }
   ],
   "source": [
    "len(json_obj[\"weeks\"])"
   ]
  },
  {
   "cell_type": "code",
   "execution_count": 11,
   "id": "5031b6b3",
   "metadata": {},
   "outputs": [
    {
     "name": "stdout",
     "output_type": "stream",
     "text": [
      "49-972-67-47-45-48-512-525-52-53-58-51-50-1053-71-827-46-60-55-63\n",
      "65\n"
     ]
    },
    {
     "data": {
      "text/plain": [
       "(None, None)"
      ]
     },
     "execution_count": 11,
     "metadata": {},
     "output_type": "execute_result"
    }
   ],
   "source": [
    "print(json_obj[\"weeks\"][\"1\"][\"event_data\"]), print(len(json_obj[\"weeks\"][\"1\"][\"event_data\"]))"
   ]
  },
  {
   "cell_type": "code",
   "execution_count": 12,
   "id": "2dea1fc4",
   "metadata": {},
   "outputs": [
    {
     "name": "stdout",
     "output_type": "stream",
     "text": [
      "['0', '3', '3', '0', '0', '3', '3', '0', '0', '3', '0', '3', '3', '0', '3', '0', '3', '0', '0', '3']\n"
     ]
    }
   ],
   "source": [
    "print(json_obj[\"weeks\"][\"1\"][\"teamstats\"].split(\"-\"))"
   ]
  },
  {
   "cell_type": "code",
   "execution_count": 13,
   "id": "b7aaaf6e",
   "metadata": {},
   "outputs": [],
   "source": [
    "def indetify_club(teams_id):\n",
    "    idx = teams[\"id\"].index(teams_id)\n",
    "    return teams[\"name\"][idx]\n",
    "\n",
    "def get_club_id(team_name):\n",
    "    club_id = teams[\"name\"].index(team_name)\n",
    "    return teams[\"id\"][club_id]"
   ]
  },
  {
   "cell_type": "code",
   "execution_count": 14,
   "id": "bd958dfb",
   "metadata": {},
   "outputs": [
    {
     "data": {
      "text/plain": [
       "'MNU'"
      ]
     },
     "execution_count": 14,
     "metadata": {},
     "output_type": "execute_result"
    }
   ],
   "source": [
    "indetify_club(\"50\")"
   ]
  },
  {
   "cell_type": "code",
   "execution_count": 15,
   "id": "3ce9bfd4",
   "metadata": {},
   "outputs": [
    {
     "data": {
      "text/plain": [
       "{'id': '151279',\n",
       " 'event_start': '1675812240',\n",
       " 'event_data': '49-972-67-47-45-48-512-525-52-53-58-51-50-1053-71-827-46-60-55-63',\n",
       " 'league_id': '3982',\n",
       " 'matchday': '1',\n",
       " 'teamstats': '0-3-3-0-0-3-3-0-0-3-0-3-3-0-3-0-3-0-0-3',\n",
       " 'teamhistory': '0xxxx-3xxxx-3xxxx-0xxxx-0xxxx-3xxxx-3xxxx-0xxxx-0xxxx-3xxxx-0xxxx-3xxxx-3xxxx-0xxxx-3xxxx-0xxxx-3xxxx-0xxxx-0xxxx-3xxxx'}"
      ]
     },
     "execution_count": 15,
     "metadata": {},
     "output_type": "execute_result"
    }
   ],
   "source": [
    "json_obj[\"weeks\"][\"1\"]"
   ]
  },
  {
   "cell_type": "code",
   "execution_count": 16,
   "id": "edf21926",
   "metadata": {},
   "outputs": [],
   "source": [
    "def query_score(teamA, teamB):\n",
    "    if teamA > teamB:\n",
    "        return \"win-loss\"\n",
    "    elif teamA < teamB:\n",
    "        return \"loss-win\"\n",
    "    else:\n",
    "        return \"draw-draw\""
   ]
  },
  {
   "cell_type": "code",
   "execution_count": 17,
   "id": "d0143c2a",
   "metadata": {},
   "outputs": [],
   "source": [
    "def get_new_data(data, score, week):\n",
    "    start = 0\n",
    "    stop = 1\n",
    "    add_num = 2\n",
    "    data = data.split(\"-\")\n",
    "    score = score.split(\"-\")\n",
    "    \n",
    "    # store clubs id and name.\n",
    "    result = {\n",
    "        \"weeks\": [],\n",
    "        \"id\":[],\n",
    "        \"club\": [],\n",
    "        \"score_string\": [],\n",
    "        \"score_num\": [],\n",
    "        \"game_type\": []\n",
    "    }\n",
    "    \n",
    "    for _ in range(10):\n",
    "        # slice the event_data from data pass thoure the function parameter\n",
    "        teamA = data[start]\n",
    "        teamB = data[stop]\n",
    "\n",
    "        # identfy the club from thire respected ID\n",
    "        clubA = indetify_club(teamA)\n",
    "        clubB = indetify_club(teamB)\n",
    "\t\t\n",
    "        # slice the teamstats from score pass thoure the function parameter\n",
    "        teamA_score = score[start]\n",
    "        teamB_score = score[stop] \n",
    "        \n",
    "        \n",
    "        result[\"weeks\"].append(week)\n",
    "        result[\"weeks\"].append(week)\n",
    "        \n",
    "\t\t# appending the data twice to add information\n",
    "        \n",
    "        ####### HOME APPENDING #######\n",
    "        result[\"id\"].append(f\"{teamA}\")\n",
    "        \n",
    "        result[\"club\"].append(f\"{clubA}\")\n",
    "        # query scores\n",
    "        win_loss_drawA = query_score( int(teamA_score), int(teamB_score) ).split(\"-\")[0]\n",
    "        \n",
    "        result[\"score_string\"].append( win_loss_drawA )\n",
    "        # query wins scores\n",
    "        result[\"score_num\"].append( f\" {int(teamA_score)} \" )\n",
    "        \n",
    "        result[\"game_type\"].append( \"home\" )\n",
    "        \n",
    "        \n",
    "        \n",
    "        ####### AWAY APPENDING #######\n",
    "        result[\"id\"].append(f\"{teamB}\")\n",
    "        \n",
    "        result[\"club\"].append(f\"{clubB}\")\n",
    "        \n",
    "        win_loss_drawB = query_score( int(teamA_score), int(teamB_score) ).split(\"-\")[1]\n",
    "        \n",
    "        result[\"score_string\"].append( win_loss_drawB )\n",
    "        \n",
    "        result[\"score_num\"].append( f\" {int(teamB_score)} \" )\n",
    "        \n",
    "        result[\"game_type\"].append( \"away\" )\n",
    "        \n",
    "        \n",
    "        # accumilate the START and STOP for the next sclice\n",
    "        start += add_num\n",
    "        stop += add_num\n",
    "\n",
    "        \n",
    "        \n",
    "    return result\n",
    " "
   ]
  },
  {
   "cell_type": "code",
   "execution_count": 18,
   "id": "6b641e59",
   "metadata": {},
   "outputs": [
    {
     "data": {
      "text/plain": [
       "{'weeks': ['1',\n",
       "  '1',\n",
       "  '1',\n",
       "  '1',\n",
       "  '1',\n",
       "  '1',\n",
       "  '1',\n",
       "  '1',\n",
       "  '1',\n",
       "  '1',\n",
       "  '1',\n",
       "  '1',\n",
       "  '1',\n",
       "  '1',\n",
       "  '1',\n",
       "  '1',\n",
       "  '1',\n",
       "  '1',\n",
       "  '1',\n",
       "  '1'],\n",
       " 'id': ['49',\n",
       "  '972',\n",
       "  '67',\n",
       "  '47',\n",
       "  '45',\n",
       "  '48',\n",
       "  '512',\n",
       "  '525',\n",
       "  '52',\n",
       "  '53',\n",
       "  '58',\n",
       "  '51',\n",
       "  '50',\n",
       "  '1053',\n",
       "  '71',\n",
       "  '827',\n",
       "  '46',\n",
       "  '60',\n",
       "  '55',\n",
       "  '63'],\n",
       " 'club': ['EVE',\n",
       "  'BRN',\n",
       "  'BOU',\n",
       "  'CHE',\n",
       "  'LIV',\n",
       "  'ARS',\n",
       "  'FUL',\n",
       "  'WOL',\n",
       "  'SOU',\n",
       "  'NWC',\n",
       "  'WHU',\n",
       "  'TOT',\n",
       "  'MNU',\n",
       "  'FOR',\n",
       "  'BRI',\n",
       "  'LEE',\n",
       "  'MNC',\n",
       "  'ASV',\n",
       "  'CRY',\n",
       "  'LEI'],\n",
       " 'score_string': ['loss',\n",
       "  'win',\n",
       "  'win',\n",
       "  'loss',\n",
       "  'loss',\n",
       "  'win',\n",
       "  'win',\n",
       "  'loss',\n",
       "  'loss',\n",
       "  'win',\n",
       "  'loss',\n",
       "  'win',\n",
       "  'win',\n",
       "  'loss',\n",
       "  'win',\n",
       "  'loss',\n",
       "  'win',\n",
       "  'loss',\n",
       "  'loss',\n",
       "  'win'],\n",
       " 'score_num': [' 0 ',\n",
       "  ' 3 ',\n",
       "  ' 3 ',\n",
       "  ' 0 ',\n",
       "  ' 0 ',\n",
       "  ' 3 ',\n",
       "  ' 3 ',\n",
       "  ' 0 ',\n",
       "  ' 0 ',\n",
       "  ' 3 ',\n",
       "  ' 0 ',\n",
       "  ' 3 ',\n",
       "  ' 3 ',\n",
       "  ' 0 ',\n",
       "  ' 3 ',\n",
       "  ' 0 ',\n",
       "  ' 3 ',\n",
       "  ' 0 ',\n",
       "  ' 0 ',\n",
       "  ' 3 '],\n",
       " 'game_type': ['home',\n",
       "  'away',\n",
       "  'home',\n",
       "  'away',\n",
       "  'home',\n",
       "  'away',\n",
       "  'home',\n",
       "  'away',\n",
       "  'home',\n",
       "  'away',\n",
       "  'home',\n",
       "  'away',\n",
       "  'home',\n",
       "  'away',\n",
       "  'home',\n",
       "  'away',\n",
       "  'home',\n",
       "  'away',\n",
       "  'home',\n",
       "  'away']}"
      ]
     },
     "execution_count": 18,
     "metadata": {},
     "output_type": "execute_result"
    }
   ],
   "source": [
    "get_new_data( json_obj[\"weeks\"][\"1\"][\"event_data\"], json_obj[\"weeks\"][\"1\"][\"teamstats\"],  json_obj[\"weeks\"][\"1\"][\"matchday\"])"
   ]
  },
  {
   "cell_type": "code",
   "execution_count": 19,
   "id": "c484e3e2",
   "metadata": {},
   "outputs": [],
   "source": [
    "main_second_info = []\n",
    "for week, events in json_obj[\"weeks\"].items():\n",
    "    main_second_info.append(get_new_data( events[\"event_data\"], events[\"teamstats\"], events[\"matchday\"]) )\n",
    "    \n",
    "   # print(week)"
   ]
  },
  {
   "cell_type": "code",
   "execution_count": 20,
   "id": "9f155c90",
   "metadata": {},
   "outputs": [
    {
     "data": {
      "text/plain": [
       "{'1': {'id': '151279',\n",
       "  'event_start': '1675812240',\n",
       "  'event_data': '49-972-67-47-45-48-512-525-52-53-58-51-50-1053-71-827-46-60-55-63',\n",
       "  'league_id': '3982',\n",
       "  'matchday': '1',\n",
       "  'teamstats': '0-3-3-0-0-3-3-0-0-3-0-3-3-0-3-0-3-0-0-3',\n",
       "  'teamhistory': '0xxxx-3xxxx-3xxxx-0xxxx-0xxxx-3xxxx-3xxxx-0xxxx-0xxxx-3xxxx-0xxxx-3xxxx-3xxxx-0xxxx-3xxxx-0xxxx-3xxxx-0xxxx-0xxxx-3xxxx'},\n",
       " '2': {'id': '151280',\n",
       "  'event_start': '1675812360',\n",
       "  'event_data': '972-71-46-45-827-52-60-51-525-49-1053-58-63-67-48-55-47-512-53-50',\n",
       "  'league_id': '3982',\n",
       "  'matchday': '2',\n",
       "  'teamstats': '3-6-4-1-3-0-3-3-1-1-3-0-6-3-4-1-0-6-3-6',\n",
       "  'teamhistory': '03xxx-33xxx-13xxx-10xxx-30xxx-00xxx-30xxx-03xxx-10xxx-10xxx-30xxx-00xxx-33xxx-03xxx-13xxx-10xxx-00xxx-33xxx-03xxx-33xxx'},\n",
       " '3': {'id': '151281',\n",
       "  'event_start': '1675812480',\n",
       "  'event_data': '52-972-512-63-58-53-71-525-51-1053-55-46-50-827-67-48-45-60-49-47',\n",
       "  'league_id': '3982',\n",
       "  'matchday': '3',\n",
       "  'teamstats': '3-3-7-7-1-4-7-2-3-6-4-4-7-4-3-7-4-3-4-0',\n",
       "  'teamhistory': '300xx-003xx-133xx-133xx-100xx-103xx-133xx-110xx-003xx-330xx-310xx-013xx-133xx-130xx-003xx-313xx-310xx-030xx-310xx-000xx'},\n",
       " '4': {'id': '151282',\n",
       "  'event_start': '1675812600',\n",
       "  'event_data': '60-1053-525-52-46-67-48-512-827-58-53-51-972-50-63-49-45-55-47-71',\n",
       "  'league_id': '3982',\n",
       "  'matchday': '4',\n",
       "  'teamstats': '4-7-3-4-4-6-8-8-4-4-4-6-6-7-10-4-7-4-0-10',\n",
       "  'teamhistory': '1030x-1330x-1110x-1300x-0013x-3003x-1313x-1133x-0130x-3100x-0103x-3003x-3003x-0133x-3133x-0310x-3310x-0310x-0000x-3133x'},\n",
       " '5': {'id': '151283',\n",
       "  'event_start': '1675812720',\n",
       "  'event_data': '1053-53-50-525-52-47-58-972-49-48-71-63-67-45-512-46-51-827-55-60',\n",
       "  'league_id': '3982',\n",
       "  'matchday': '5',\n",
       "  'teamstats': '10-4-7-6-4-3-4-9-4-11-10-13-6-10-8-7-7-5-7-4',\n",
       "  'teamhistory': '31330-00103-00133-31110-01300-30000-03100-33003-00310-31313-03133-33133-03003-33310-01133-30013-13003-10130-30310-01030'},\n",
       " '6': {'id': '151284',\n",
       "  'event_start': '1675812840',\n",
       "  'event_data': '45-512-827-1053-525-58-55-67-46-49-972-51-60-53-47-50-63-52-48-71',\n",
       "  'league_id': '3982',\n",
       "  'matchday': '6',\n",
       "  'teamstats': '11-9-8-10-6-7-10-6-10-4-9-10-5-5-6-7-14-5-14-10',\n",
       "  'teamhistory': '13331-10113-31013-03133-03111-30310-33031-00300-33001-00031-03300-31300-10103-10010-33000-00013-13313-10130-33131-00313'},\n",
       " '7': {'id': '151285',\n",
       "  'event_start': '1675812960',\n",
       "  'event_data': '49-45-52-48-1053-972-512-55-67-60-53-827-71-46-58-47-51-525-50-63',\n",
       "  'league_id': '3982',\n",
       "  'matchday': '7',\n",
       "  'teamstats': '4-14-5-17-10-12-9-13-6-8-6-9-11-11-10-6-13-6-8-15',\n",
       "  'teamhistory': '00003-31333-01013-33313-00313-30330-01011-33303-00030-31010-11001-13101-10031-13300-33031-03300-33130-00311-10001-11331'},\n",
       " '8': {'id': '151286',\n",
       "  'event_start': '1675813080',\n",
       "  'event_data': '63-58-972-53-60-827-48-50-46-52-67-512-525-1053-45-71-47-51-55-49',\n",
       "  'league_id': '3982',\n",
       "  'matchday': '8',\n",
       "  'teamstats': '16-11-12-9-11-9-18-9-14-5-9-9-7-11-17-11-9-13-16-4',\n",
       "  'teamhistory': '11133-13303-03033-31100-33101-01310-13331-11000-31330-00101-30003-00101-10031-10031-33133-01003-30330-03313-33330-00000'},\n",
       " '9': {'id': '151287',\n",
       "  'event_start': '1675813200',\n",
       "  'event_data': '827-972-49-67-51-63-52-45-50-46-512-60-53-525-58-48-71-55-1053-47',\n",
       "  'league_id': '3982',\n",
       "  'matchday': '9',\n",
       "  'teamstats': '10-13-7-9-13-19-5-20-12-14-9-14-9-10-11-21-11-19-11-12',\n",
       "  'teamhistory': '10131-10303-30000-03000-00331-31113-00010-33313-31100-03133-00010-33310-03110-31003-01330-31333-00100-33333-01003-33033'},\n",
       " '10': {'id': '151288',\n",
       "  'event_start': '1675813320',\n",
       "  'event_data': '63-1053-47-53-512-49-46-58-45-50-55-52-60-972-48-51-525-827-67-71',\n",
       "  'league_id': '3982',\n",
       "  'matchday': '10',\n",
       "  'teamstats': '19-14-13-10-12-7-17-11-20-15-19-8-17-13-21-16-13-10-12-11',\n",
       "  'teamhistory': '03111-30100-13303-10311-30001-03000-30313-00133-03331-33110-03333-30001-33331-01030-03133-30033-33100-01013-30300-00010'},\n",
       " '11': {'id': '151289',\n",
       "  'event_start': '1675813440',\n",
       "  'event_data': '49-60-50-55-52-67-827-47-1053-48-53-63-58-45-71-512-972-525-51-46',\n",
       "  'league_id': '3982',\n",
       "  'matchday': '11',\n",
       "  'teamstats': '10-17-18-19-11-12-13-13-15-22-13-19-11-23-11-15-14-14-19-17',\n",
       "  'teamhistory': '30300-03333-33311-00333-33000-03030-30101-01330-13010-10313-31031-00311-00013-30333-00001-33000-10103-13310-33003-03031'},\n",
       " '12': {'id': '151290',\n",
       "  'event_start': '1675813560',\n",
       "  'event_data': '48-53-63-827-60-525-55-58-512-52-45-51-46-1053-47-972-49-71-67-50',\n",
       "  'league_id': '3982',\n",
       "  'matchday': '12',\n",
       "  'teamstats': '23-14-22-13-17-17-22-11-18-11-26-19-20-15-16-14-10-14-12-21',\n",
       "  'teamhistory': '11031-13103-30031-03010-00333-31331-30033-00001-33300-03300-33033-03300-30303-01301-30133-01010-03030-30000-00303-33331'},\n",
       " '13': {'id': '151291',\n",
       "  'event_start': '1675813680',\n",
       "  'event_data': '52-49-51-55-53-46-525-47-71-60-58-67-50-512-972-63-1053-45-827-48',\n",
       "  'league_id': '3982',\n",
       "  'matchday': '13',\n",
       "  'teamstats': '11-13-22-22-14-23-18-17-15-18-14-12-24-18-17-22-15-29-13-26',\n",
       "  'teamhistory': '00330-30303-30330-03003-01310-33030-13133-13013-13000-10033-30000-00030-33333-03330-30101-03003-00130-33303-00301-31103'},\n",
       " '14': {'id': '151292',\n",
       "  'event_start': '1675813800',\n",
       "  'event_data': '46-827-63-525-48-972-512-58-67-51-60-47-45-53-49-50-55-1053-71-52',\n",
       "  'league_id': '3982',\n",
       "  'matchday': '14',\n",
       "  'teamstats': '26-13-25-18-27-18-18-17-12-25-19-18-30-15-13-27-22-18-18-11',\n",
       "  'teamhistory': '33303-00030-30300-01313-13110-13010-00333-33000-00003-33033-11003-11301-13330-10131-03030-33333-00300-30013-31300-00033'},\n",
       " '15': {'id': '151293',\n",
       "  'event_start': '1675813920',\n",
       "  'event_data': '58-49-1053-67-52-60-47-63-51-512-827-45-50-71-53-55-525-48-972-46',\n",
       "  'league_id': '3982',\n",
       "  'matchday': '15',\n",
       "  'teamstats': '18-14-18-15-11-22-21-25-28-18-16-30-28-19-18-22-18-30-18-29',\n",
       "  'teamhistory': '13300-10303-03001-30000-00003-31100-31130-03030-33303-00033-30003-01333-13333-13130-31013-00030-00131-31311-01301-33330'},\n",
       " '16': {'id': '151294',\n",
       "  'event_start': '1675814040',\n",
       "  'event_data': '55-827-512-1053-60-63-46-525-71-58-67-53-48-47-45-972-52-50-49-51',\n",
       "  'league_id': '3982',\n",
       "  'matchday': '16',\n",
       "  'teamstats': '22-19-21-18-22-28-32-18-22-18-15-21-31-22-33-18-12-29-15-29',\n",
       "  'teamhistory': '00003-33000-30003-00300-03110-30303-33333-00013-31313-01330-03000-33101-13131-13113-30133-00130-10000-11333-11030-13330'},\n",
       " '17': {'id': '151295',\n",
       "  'event_start': '1675814160',\n",
       "  'event_data': '972-55-53-512-1053-49-63-48-51-71-47-46-525-45-58-52-827-67-50-60',\n",
       "  'league_id': '3982',\n",
       "  'matchday': '17',\n",
       "  'teamstats': '18-25-21-24-21-15-31-31-29-25-25-32-21-33-21-12-19-18-32-22',\n",
       "  'teamhistory': '00013-30000-03310-33000-30030-01103-33030-01313-01333-33131-31311-03333-30001-03013-30133-01000-03300-30300-31133-00311'},\n",
       " '18': {'id': '151296',\n",
       "  'event_start': '1675814280',\n",
       "  'event_data': '45-47-49-53-55-525-60-48-512-827-52-51-67-972-50-58-46-63-71-1053',\n",
       "  'league_id': '3982',\n",
       "  'matchday': '18',\n",
       "  'teamstats': '34-26-16-22-28-21-22-34-27-19-13-30-18-21-35-21-33-32-28-21',\n",
       "  'teamhistory': '10301-13131-10110-10331-33000-03000-00031-30131-33300-00330-10100-10133-03030-30001-33113-03013-10333-13303-33313-03003'},\n",
       " '19': {'id': '151297',\n",
       "  'event_start': '1675814400',\n",
       "  'event_data': '1053-52-63-45-525-67-58-60-827-49-53-71-48-46-47-55-972-512-51-50',\n",
       "  'league_id': '3982',\n",
       "  'matchday': '19',\n",
       "  'teamstats': '24-13-35-34-24-18-22-23-19-19-22-31-35-34-27-29-24-27-30-38',\n",
       "  'teamhistory': '30300-01010-31330-01030-30300-00303-10301-10003-00033-31011-01033-33331-13013-11033-11313-13300-33000-03330-01013-33311'},\n",
       " '20': {'id': '151298',\n",
       "  'event_start': '1675814520',\n",
       "  'event_data': '48-45-827-71-47-67-51-58-60-46-1053-50-63-55-525-512-53-52-972-49',\n",
       "  'league_id': '3982',\n",
       "  'matchday': '20',\n",
       "  'teamstats': '35-37-22-31-30-18-31-23-23-37-24-41-38-29-24-30-23-14-27-19',\n",
       "  'teamhistory': '01301-30103-30003-03333-31131-00030-10101-11030-01000-31103-03030-33331-33133-01330-03030-30333-10103-10101-33300-03101'},\n",
       " '21': {'id': '151299',\n",
       "  'event_start': '1675814640',\n",
       "  'event_data': '52-827-67-63-45-46-49-525-50-53-51-60-58-1053-55-48-71-972-512-47',\n",
       "  'league_id': '3982',\n",
       "  'matchday': '21',\n",
       "  'teamstats': '14-25-18-41-38-38-22-24-42-24-31-26-26-24-30-36-34-27-33-30',\n",
       "  'teamhistory': '01010-33000-00003-33313-13010-13110-30310-00303-13333-11010-01010-30100-31103-00303-10133-10130-30333-03330-33033-03113'},\n",
       " '22': {'id': '151300',\n",
       "  'event_start': '1675814760',\n",
       "  'event_data': '53-58-47-49-827-50-525-71-63-512-1053-51-46-55-48-67-972-52-60-45',\n",
       "  'league_id': '3982',\n",
       "  'matchday': '22',\n",
       "  'teamstats': '25-27-33-22-25-45-25-35-44-33-25-32-39-31-36-21-27-17-26-41',\n",
       "  'teamhistory': '11101-13110-30311-03031-03300-31333-10030-13033-33331-03303-10030-10101-11311-11013-01013-30000-00333-30101-03010-31301'},\n",
       " '23': {'id': '151301',\n",
       "  'event_start': '1675814880',\n",
       "  'event_data': '1053-60-55-45-58-827-67-46-50-972-49-63-512-48-51-53-71-47-52-525',\n",
       "  'league_id': '3982',\n",
       "  'matchday': '23',\n",
       "  'teamstats': '28-26-31-44-30-25-21-42-45-30-25-44-34-37-35-25-35-36-18-26',\n",
       "  'teamhistory': '31003-00301-01101-33130-31311-00330-03000-31131-03133-30033-30303-03333-10330-10101-31010-01110-01303-33031-13010-11003'},\n",
       " '24': {'id': '151302',\n",
       "  'event_start': '1675815000',\n",
       "  'event_data': '45-67-63-71-46-512-972-58-47-52-48-49-827-51-525-50-53-1053-60-55',\n",
       "  'league_id': '3982',\n",
       "  'matchday': '24',\n",
       "  'teamstats': '44-24-47-35-45-34-30-33-39-18-40-25-26-36-27-46-26-29-29-31',\n",
       "  'teamhistory': '03313-30300-30333-00130-33113-01033-03003-33131-33303-01301-31010-03030-10033-13101-11100-10313-10111-13100-30030-00110'}}"
      ]
     },
     "execution_count": 20,
     "metadata": {},
     "output_type": "execute_result"
    }
   ],
   "source": [
    "json_obj[\"weeks\"]"
   ]
  },
  {
   "cell_type": "code",
   "execution_count": 21,
   "id": "53aa470b",
   "metadata": {},
   "outputs": [
    {
     "data": {
      "text/plain": [
       "{'weeks': ['1',\n",
       "  '1',\n",
       "  '1',\n",
       "  '1',\n",
       "  '1',\n",
       "  '1',\n",
       "  '1',\n",
       "  '1',\n",
       "  '1',\n",
       "  '1',\n",
       "  '1',\n",
       "  '1',\n",
       "  '1',\n",
       "  '1',\n",
       "  '1',\n",
       "  '1',\n",
       "  '1',\n",
       "  '1',\n",
       "  '1',\n",
       "  '1'],\n",
       " 'id': ['49',\n",
       "  '972',\n",
       "  '67',\n",
       "  '47',\n",
       "  '45',\n",
       "  '48',\n",
       "  '512',\n",
       "  '525',\n",
       "  '52',\n",
       "  '53',\n",
       "  '58',\n",
       "  '51',\n",
       "  '50',\n",
       "  '1053',\n",
       "  '71',\n",
       "  '827',\n",
       "  '46',\n",
       "  '60',\n",
       "  '55',\n",
       "  '63'],\n",
       " 'club': ['EVE',\n",
       "  'BRN',\n",
       "  'BOU',\n",
       "  'CHE',\n",
       "  'LIV',\n",
       "  'ARS',\n",
       "  'FUL',\n",
       "  'WOL',\n",
       "  'SOU',\n",
       "  'NWC',\n",
       "  'WHU',\n",
       "  'TOT',\n",
       "  'MNU',\n",
       "  'FOR',\n",
       "  'BRI',\n",
       "  'LEE',\n",
       "  'MNC',\n",
       "  'ASV',\n",
       "  'CRY',\n",
       "  'LEI'],\n",
       " 'score_string': ['loss',\n",
       "  'win',\n",
       "  'win',\n",
       "  'loss',\n",
       "  'loss',\n",
       "  'win',\n",
       "  'win',\n",
       "  'loss',\n",
       "  'loss',\n",
       "  'win',\n",
       "  'loss',\n",
       "  'win',\n",
       "  'win',\n",
       "  'loss',\n",
       "  'win',\n",
       "  'loss',\n",
       "  'win',\n",
       "  'loss',\n",
       "  'loss',\n",
       "  'win'],\n",
       " 'score_num': [' 0 ',\n",
       "  ' 3 ',\n",
       "  ' 3 ',\n",
       "  ' 0 ',\n",
       "  ' 0 ',\n",
       "  ' 3 ',\n",
       "  ' 3 ',\n",
       "  ' 0 ',\n",
       "  ' 0 ',\n",
       "  ' 3 ',\n",
       "  ' 0 ',\n",
       "  ' 3 ',\n",
       "  ' 3 ',\n",
       "  ' 0 ',\n",
       "  ' 3 ',\n",
       "  ' 0 ',\n",
       "  ' 3 ',\n",
       "  ' 0 ',\n",
       "  ' 0 ',\n",
       "  ' 3 '],\n",
       " 'game_type': ['home',\n",
       "  'away',\n",
       "  'home',\n",
       "  'away',\n",
       "  'home',\n",
       "  'away',\n",
       "  'home',\n",
       "  'away',\n",
       "  'home',\n",
       "  'away',\n",
       "  'home',\n",
       "  'away',\n",
       "  'home',\n",
       "  'away',\n",
       "  'home',\n",
       "  'away',\n",
       "  'home',\n",
       "  'away',\n",
       "  'home',\n",
       "  'away']}"
      ]
     },
     "execution_count": 21,
     "metadata": {},
     "output_type": "execute_result"
    }
   ],
   "source": [
    "main_second_info[0]"
   ]
  },
  {
   "cell_type": "markdown",
   "id": "decc1d0c",
   "metadata": {},
   "source": [
    "# create database"
   ]
  },
  {
   "cell_type": "code",
   "execution_count": 22,
   "id": "305ca95e",
   "metadata": {},
   "outputs": [],
   "source": [
    "df_list = []\n",
    "for data in main_second_info:\n",
    "    new_data = pd.DataFrame(data)\n",
    "    df_list.append(new_data)"
   ]
  },
  {
   "cell_type": "code",
   "execution_count": 23,
   "id": "e830dda0",
   "metadata": {
    "scrolled": false
   },
   "outputs": [],
   "source": [
    "df = pd.concat(df_list)"
   ]
  },
  {
   "cell_type": "code",
   "execution_count": 24,
   "id": "a644b1c1",
   "metadata": {},
   "outputs": [
    {
     "data": {
      "text/html": [
       "<div>\n",
       "<style scoped>\n",
       "    .dataframe tbody tr th:only-of-type {\n",
       "        vertical-align: middle;\n",
       "    }\n",
       "\n",
       "    .dataframe tbody tr th {\n",
       "        vertical-align: top;\n",
       "    }\n",
       "\n",
       "    .dataframe thead th {\n",
       "        text-align: right;\n",
       "    }\n",
       "</style>\n",
       "<table border=\"1\" class=\"dataframe\">\n",
       "  <thead>\n",
       "    <tr style=\"text-align: right;\">\n",
       "      <th></th>\n",
       "      <th>weeks</th>\n",
       "      <th>id</th>\n",
       "      <th>club</th>\n",
       "      <th>score_string</th>\n",
       "      <th>score_num</th>\n",
       "      <th>game_type</th>\n",
       "    </tr>\n",
       "  </thead>\n",
       "  <tbody>\n",
       "    <tr>\n",
       "      <th>0</th>\n",
       "      <td>1</td>\n",
       "      <td>49</td>\n",
       "      <td>EVE</td>\n",
       "      <td>loss</td>\n",
       "      <td>0</td>\n",
       "      <td>home</td>\n",
       "    </tr>\n",
       "    <tr>\n",
       "      <th>1</th>\n",
       "      <td>1</td>\n",
       "      <td>972</td>\n",
       "      <td>BRN</td>\n",
       "      <td>win</td>\n",
       "      <td>3</td>\n",
       "      <td>away</td>\n",
       "    </tr>\n",
       "    <tr>\n",
       "      <th>2</th>\n",
       "      <td>1</td>\n",
       "      <td>67</td>\n",
       "      <td>BOU</td>\n",
       "      <td>win</td>\n",
       "      <td>3</td>\n",
       "      <td>home</td>\n",
       "    </tr>\n",
       "    <tr>\n",
       "      <th>3</th>\n",
       "      <td>1</td>\n",
       "      <td>47</td>\n",
       "      <td>CHE</td>\n",
       "      <td>loss</td>\n",
       "      <td>0</td>\n",
       "      <td>away</td>\n",
       "    </tr>\n",
       "    <tr>\n",
       "      <th>4</th>\n",
       "      <td>1</td>\n",
       "      <td>45</td>\n",
       "      <td>LIV</td>\n",
       "      <td>loss</td>\n",
       "      <td>0</td>\n",
       "      <td>home</td>\n",
       "    </tr>\n",
       "  </tbody>\n",
       "</table>\n",
       "</div>"
      ],
      "text/plain": [
       "  weeks   id club score_string score_num game_type\n",
       "0     1   49  EVE         loss        0       home\n",
       "1     1  972  BRN          win        3       away\n",
       "2     1   67  BOU          win        3       home\n",
       "3     1   47  CHE         loss        0       away\n",
       "4     1   45  LIV         loss        0       home"
      ]
     },
     "execution_count": 24,
     "metadata": {},
     "output_type": "execute_result"
    }
   ],
   "source": [
    "df.head()"
   ]
  },
  {
   "cell_type": "markdown",
   "id": "d0dc750a",
   "metadata": {},
   "source": [
    "### Wrangling Data"
   ]
  },
  {
   "cell_type": "code",
   "execution_count": 25,
   "id": "85c1506c",
   "metadata": {
    "scrolled": true
   },
   "outputs": [
    {
     "data": {
      "text/html": [
       "<div>\n",
       "<style scoped>\n",
       "    .dataframe tbody tr th:only-of-type {\n",
       "        vertical-align: middle;\n",
       "    }\n",
       "\n",
       "    .dataframe tbody tr th {\n",
       "        vertical-align: top;\n",
       "    }\n",
       "\n",
       "    .dataframe thead th {\n",
       "        text-align: right;\n",
       "    }\n",
       "</style>\n",
       "<table border=\"1\" class=\"dataframe\">\n",
       "  <thead>\n",
       "    <tr style=\"text-align: right;\">\n",
       "      <th></th>\n",
       "      <th>weeks</th>\n",
       "      <th>id</th>\n",
       "      <th>club</th>\n",
       "      <th>score_string</th>\n",
       "      <th>score_num</th>\n",
       "      <th>game_type</th>\n",
       "    </tr>\n",
       "  </thead>\n",
       "  <tbody>\n",
       "    <tr>\n",
       "      <th>0</th>\n",
       "      <td>1</td>\n",
       "      <td>49</td>\n",
       "      <td>EVE</td>\n",
       "      <td>loss</td>\n",
       "      <td>0</td>\n",
       "      <td>home</td>\n",
       "    </tr>\n",
       "    <tr>\n",
       "      <th>1</th>\n",
       "      <td>1</td>\n",
       "      <td>972</td>\n",
       "      <td>BRN</td>\n",
       "      <td>win</td>\n",
       "      <td>3</td>\n",
       "      <td>away</td>\n",
       "    </tr>\n",
       "    <tr>\n",
       "      <th>2</th>\n",
       "      <td>1</td>\n",
       "      <td>67</td>\n",
       "      <td>BOU</td>\n",
       "      <td>win</td>\n",
       "      <td>3</td>\n",
       "      <td>home</td>\n",
       "    </tr>\n",
       "    <tr>\n",
       "      <th>3</th>\n",
       "      <td>1</td>\n",
       "      <td>47</td>\n",
       "      <td>CHE</td>\n",
       "      <td>loss</td>\n",
       "      <td>0</td>\n",
       "      <td>away</td>\n",
       "    </tr>\n",
       "    <tr>\n",
       "      <th>4</th>\n",
       "      <td>1</td>\n",
       "      <td>45</td>\n",
       "      <td>LIV</td>\n",
       "      <td>loss</td>\n",
       "      <td>0</td>\n",
       "      <td>home</td>\n",
       "    </tr>\n",
       "  </tbody>\n",
       "</table>\n",
       "</div>"
      ],
      "text/plain": [
       "  weeks   id club score_string score_num game_type\n",
       "0     1   49  EVE         loss        0       home\n",
       "1     1  972  BRN          win        3       away\n",
       "2     1   67  BOU          win        3       home\n",
       "3     1   47  CHE         loss        0       away\n",
       "4     1   45  LIV         loss        0       home"
      ]
     },
     "execution_count": 25,
     "metadata": {},
     "output_type": "execute_result"
    }
   ],
   "source": [
    "df.head()"
   ]
  },
  {
   "cell_type": "code",
   "execution_count": 26,
   "id": "24090f1d",
   "metadata": {},
   "outputs": [],
   "source": [
    "# df[\"weeks\"].apply(lambda x: int(x))"
   ]
  },
  {
   "cell_type": "markdown",
   "id": "bb4dc841",
   "metadata": {},
   "source": [
    "### ANALYING DATA"
   ]
  },
  {
   "cell_type": "code",
   "execution_count": 27,
   "id": "dcd0609e",
   "metadata": {
    "scrolled": true
   },
   "outputs": [
    {
     "data": {
      "text/plain": [
       "<AxesSubplot:xlabel='score_string', ylabel='weeks'>"
      ]
     },
     "execution_count": 27,
     "metadata": {},
     "output_type": "execute_result"
    },
    {
     "data": {
      "image/png": "[encoded data removed]",
      "text/plain": [
       "<Figure size 432x288 with 1 Axes>"
      ]
     },
     "metadata": {
      "needs_background": "light"
     },
     "output_type": "display_data"
    }
   ],
   "source": [
    "color_paletter = sb.color_palette()[0]\n",
    "sb.barplot(x = df[\"score_string\"], y = df[\"weeks\"].apply(lambda x: int(x)) , color=color_paletter)"
   ]
  },
  {
   "cell_type": "code",
   "execution_count": 28,
   "id": "463427b8",
   "metadata": {},
   "outputs": [
    {
     "data": {
      "text/html": [
       "<div>\n",
       "<style scoped>\n",
       "    .dataframe tbody tr th:only-of-type {\n",
       "        vertical-align: middle;\n",
       "    }\n",
       "\n",
       "    .dataframe tbody tr th {\n",
       "        vertical-align: top;\n",
       "    }\n",
       "\n",
       "    .dataframe thead th {\n",
       "        text-align: right;\n",
       "    }\n",
       "</style>\n",
       "<table border=\"1\" class=\"dataframe\">\n",
       "  <thead>\n",
       "    <tr style=\"text-align: right;\">\n",
       "      <th></th>\n",
       "      <th>weeks</th>\n",
       "      <th>id</th>\n",
       "      <th>club</th>\n",
       "      <th>score_string</th>\n",
       "      <th>score_num</th>\n",
       "      <th>game_type</th>\n",
       "    </tr>\n",
       "  </thead>\n",
       "  <tbody>\n",
       "    <tr>\n",
       "      <th>0</th>\n",
       "      <td>1</td>\n",
       "      <td>49</td>\n",
       "      <td>EVE</td>\n",
       "      <td>loss</td>\n",
       "      <td>0</td>\n",
       "      <td>home</td>\n",
       "    </tr>\n",
       "    <tr>\n",
       "      <th>1</th>\n",
       "      <td>1</td>\n",
       "      <td>972</td>\n",
       "      <td>BRN</td>\n",
       "      <td>win</td>\n",
       "      <td>3</td>\n",
       "      <td>away</td>\n",
       "    </tr>\n",
       "    <tr>\n",
       "      <th>2</th>\n",
       "      <td>1</td>\n",
       "      <td>67</td>\n",
       "      <td>BOU</td>\n",
       "      <td>win</td>\n",
       "      <td>3</td>\n",
       "      <td>home</td>\n",
       "    </tr>\n",
       "    <tr>\n",
       "      <th>3</th>\n",
       "      <td>1</td>\n",
       "      <td>47</td>\n",
       "      <td>CHE</td>\n",
       "      <td>loss</td>\n",
       "      <td>0</td>\n",
       "      <td>away</td>\n",
       "    </tr>\n",
       "    <tr>\n",
       "      <th>4</th>\n",
       "      <td>1</td>\n",
       "      <td>45</td>\n",
       "      <td>LIV</td>\n",
       "      <td>loss</td>\n",
       "      <td>0</td>\n",
       "      <td>home</td>\n",
       "    </tr>\n",
       "  </tbody>\n",
       "</table>\n",
       "</div>"
      ],
      "text/plain": [
       "  weeks   id club score_string score_num game_type\n",
       "0     1   49  EVE         loss        0       home\n",
       "1     1  972  BRN          win        3       away\n",
       "2     1   67  BOU          win        3       home\n",
       "3     1   47  CHE         loss        0       away\n",
       "4     1   45  LIV         loss        0       home"
      ]
     },
     "execution_count": 28,
     "metadata": {},
     "output_type": "execute_result"
    }
   ],
   "source": [
    "# df.groupby(\"club\").mean()\n",
    "df.head()"
   ]
  },
  {
   "cell_type": "code",
   "execution_count": 29,
   "id": "268f8462",
   "metadata": {},
   "outputs": [
    {
     "name": "stdout",
     "output_type": "stream",
     "text": [
      "main_club: ARS, --- main_scores: win, ---, club_values: 21\n"
     ]
    }
   ],
   "source": [
    "# sb.barplot(x = df[\"club\"], y = df[\"score_string\"] , color=color_paletter)\n",
    "all_tems = df[[\"club\", \"score_string\"]].value_counts()\n",
    "# df.query(\"club == 'MNU'\")\n",
    "club = all_tems.index\n",
    "club_values = all_tems.values\n",
    "# plt.figure(figsize=[10, 6])\n",
    "main_club = [x[0] for x in club]\n",
    "main_scores = [x[1] for x in club]\n",
    "print(f\"main_club: {main_club[0]}, --- main_scores: {main_scores[0]}, ---, club_values: {club_values[0]}\")"
   ]
  },
  {
   "cell_type": "code",
   "execution_count": 30,
   "id": "5b45e177",
   "metadata": {},
   "outputs": [],
   "source": [
    "query_df_club = pd.DataFrame({\n",
    "    \"clubs\": main_club,\n",
    "    \"scores\": main_scores,\n",
    "    \"occ\": club_values\n",
    "})"
   ]
  },
  {
   "cell_type": "code",
   "execution_count": 31,
   "id": "772453eb",
   "metadata": {
    "scrolled": true
   },
   "outputs": [
    {
     "data": {
      "text/html": [
       "<div>\n",
       "<style scoped>\n",
       "    .dataframe tbody tr th:only-of-type {\n",
       "        vertical-align: middle;\n",
       "    }\n",
       "\n",
       "    .dataframe tbody tr th {\n",
       "        vertical-align: top;\n",
       "    }\n",
       "\n",
       "    .dataframe thead th {\n",
       "        text-align: right;\n",
       "    }\n",
       "</style>\n",
       "<table border=\"1\" class=\"dataframe\">\n",
       "  <thead>\n",
       "    <tr style=\"text-align: right;\">\n",
       "      <th></th>\n",
       "      <th>clubs</th>\n",
       "      <th>scores</th>\n",
       "      <th>occ</th>\n",
       "    </tr>\n",
       "  </thead>\n",
       "  <tbody>\n",
       "    <tr>\n",
       "      <th>0</th>\n",
       "      <td>ARS</td>\n",
       "      <td>win</td>\n",
       "      <td>21</td>\n",
       "    </tr>\n",
       "    <tr>\n",
       "      <th>1</th>\n",
       "      <td>SOU</td>\n",
       "      <td>loss</td>\n",
       "      <td>21</td>\n",
       "    </tr>\n",
       "    <tr>\n",
       "      <th>2</th>\n",
       "      <td>LEI</td>\n",
       "      <td>win</td>\n",
       "      <td>21</td>\n",
       "    </tr>\n",
       "    <tr>\n",
       "      <th>3</th>\n",
       "      <td>EVE</td>\n",
       "      <td>loss</td>\n",
       "      <td>20</td>\n",
       "    </tr>\n",
       "    <tr>\n",
       "      <th>4</th>\n",
       "      <td>LIV</td>\n",
       "      <td>win</td>\n",
       "      <td>20</td>\n",
       "    </tr>\n",
       "    <tr>\n",
       "      <th>5</th>\n",
       "      <td>MNU</td>\n",
       "      <td>win</td>\n",
       "      <td>19</td>\n",
       "    </tr>\n",
       "    <tr>\n",
       "      <th>6</th>\n",
       "      <td>NWC</td>\n",
       "      <td>loss</td>\n",
       "      <td>18</td>\n",
       "    </tr>\n",
       "    <tr>\n",
       "      <th>7</th>\n",
       "      <td>BOU</td>\n",
       "      <td>loss</td>\n",
       "      <td>18</td>\n",
       "    </tr>\n",
       "    <tr>\n",
       "      <th>8</th>\n",
       "      <td>LEE</td>\n",
       "      <td>loss</td>\n",
       "      <td>17</td>\n",
       "    </tr>\n",
       "    <tr>\n",
       "      <th>9</th>\n",
       "      <td>TOT</td>\n",
       "      <td>win</td>\n",
       "      <td>17</td>\n",
       "    </tr>\n",
       "    <tr>\n",
       "      <th>10</th>\n",
       "      <td>MNC</td>\n",
       "      <td>win</td>\n",
       "      <td>17</td>\n",
       "    </tr>\n",
       "    <tr>\n",
       "      <th>11</th>\n",
       "      <td>CHE</td>\n",
       "      <td>loss</td>\n",
       "      <td>16</td>\n",
       "    </tr>\n",
       "    <tr>\n",
       "      <th>12</th>\n",
       "      <td>CRY</td>\n",
       "      <td>win</td>\n",
       "      <td>15</td>\n",
       "    </tr>\n",
       "    <tr>\n",
       "      <th>13</th>\n",
       "      <td>WOL</td>\n",
       "      <td>loss</td>\n",
       "      <td>15</td>\n",
       "    </tr>\n",
       "    <tr>\n",
       "      <th>14</th>\n",
       "      <td>WHU</td>\n",
       "      <td>loss</td>\n",
       "      <td>14</td>\n",
       "    </tr>\n",
       "    <tr>\n",
       "      <th>15</th>\n",
       "      <td>BRN</td>\n",
       "      <td>loss</td>\n",
       "      <td>14</td>\n",
       "    </tr>\n",
       "    <tr>\n",
       "      <th>16</th>\n",
       "      <td>FUL</td>\n",
       "      <td>win</td>\n",
       "      <td>13</td>\n",
       "    </tr>\n",
       "    <tr>\n",
       "      <th>17</th>\n",
       "      <td>FOR</td>\n",
       "      <td>loss</td>\n",
       "      <td>13</td>\n",
       "    </tr>\n",
       "    <tr>\n",
       "      <th>18</th>\n",
       "      <td>ASV</td>\n",
       "      <td>loss</td>\n",
       "      <td>12</td>\n",
       "    </tr>\n",
       "    <tr>\n",
       "      <th>19</th>\n",
       "      <td>BRI</td>\n",
       "      <td>win</td>\n",
       "      <td>12</td>\n",
       "    </tr>\n",
       "    <tr>\n",
       "      <th>20</th>\n",
       "      <td>FOR</td>\n",
       "      <td>win</td>\n",
       "      <td>11</td>\n",
       "    </tr>\n",
       "    <tr>\n",
       "      <th>21</th>\n",
       "      <td>BRI</td>\n",
       "      <td>loss</td>\n",
       "      <td>11</td>\n",
       "    </tr>\n",
       "    <tr>\n",
       "      <th>22</th>\n",
       "      <td>ASV</td>\n",
       "      <td>win</td>\n",
       "      <td>9</td>\n",
       "    </tr>\n",
       "    <tr>\n",
       "      <th>23</th>\n",
       "      <td>WHU</td>\n",
       "      <td>win</td>\n",
       "      <td>9</td>\n",
       "    </tr>\n",
       "    <tr>\n",
       "      <th>24</th>\n",
       "      <td>FUL</td>\n",
       "      <td>loss</td>\n",
       "      <td>8</td>\n",
       "    </tr>\n",
       "    <tr>\n",
       "      <th>25</th>\n",
       "      <td>BRN</td>\n",
       "      <td>win</td>\n",
       "      <td>8</td>\n",
       "    </tr>\n",
       "    <tr>\n",
       "      <th>26</th>\n",
       "      <td>CRY</td>\n",
       "      <td>loss</td>\n",
       "      <td>7</td>\n",
       "    </tr>\n",
       "    <tr>\n",
       "      <th>27</th>\n",
       "      <td>CHE</td>\n",
       "      <td>win</td>\n",
       "      <td>7</td>\n",
       "    </tr>\n",
       "    <tr>\n",
       "      <th>28</th>\n",
       "      <td>WOL</td>\n",
       "      <td>win</td>\n",
       "      <td>6</td>\n",
       "    </tr>\n",
       "    <tr>\n",
       "      <th>29</th>\n",
       "      <td>MNU</td>\n",
       "      <td>loss</td>\n",
       "      <td>5</td>\n",
       "    </tr>\n",
       "    <tr>\n",
       "      <th>30</th>\n",
       "      <td>TOT</td>\n",
       "      <td>loss</td>\n",
       "      <td>5</td>\n",
       "    </tr>\n",
       "    <tr>\n",
       "      <th>31</th>\n",
       "      <td>NWC</td>\n",
       "      <td>win</td>\n",
       "      <td>5</td>\n",
       "    </tr>\n",
       "    <tr>\n",
       "      <th>32</th>\n",
       "      <td>BOU</td>\n",
       "      <td>win</td>\n",
       "      <td>5</td>\n",
       "    </tr>\n",
       "    <tr>\n",
       "      <th>33</th>\n",
       "      <td>LEE</td>\n",
       "      <td>win</td>\n",
       "      <td>4</td>\n",
       "    </tr>\n",
       "    <tr>\n",
       "      <th>34</th>\n",
       "      <td>MNC</td>\n",
       "      <td>loss</td>\n",
       "      <td>4</td>\n",
       "    </tr>\n",
       "    <tr>\n",
       "      <th>35</th>\n",
       "      <td>WOL</td>\n",
       "      <td>draw</td>\n",
       "      <td>3</td>\n",
       "    </tr>\n",
       "    <tr>\n",
       "      <th>36</th>\n",
       "      <td>MNC</td>\n",
       "      <td>draw</td>\n",
       "      <td>3</td>\n",
       "    </tr>\n",
       "    <tr>\n",
       "      <th>37</th>\n",
       "      <td>LEE</td>\n",
       "      <td>draw</td>\n",
       "      <td>3</td>\n",
       "    </tr>\n",
       "    <tr>\n",
       "      <th>38</th>\n",
       "      <td>LIV</td>\n",
       "      <td>loss</td>\n",
       "      <td>3</td>\n",
       "    </tr>\n",
       "    <tr>\n",
       "      <th>39</th>\n",
       "      <td>ASV</td>\n",
       "      <td>draw</td>\n",
       "      <td>3</td>\n",
       "    </tr>\n",
       "    <tr>\n",
       "      <th>40</th>\n",
       "      <td>FUL</td>\n",
       "      <td>draw</td>\n",
       "      <td>3</td>\n",
       "    </tr>\n",
       "    <tr>\n",
       "      <th>41</th>\n",
       "      <td>EVE</td>\n",
       "      <td>draw</td>\n",
       "      <td>2</td>\n",
       "    </tr>\n",
       "    <tr>\n",
       "      <th>42</th>\n",
       "      <td>BRN</td>\n",
       "      <td>draw</td>\n",
       "      <td>2</td>\n",
       "    </tr>\n",
       "    <tr>\n",
       "      <th>43</th>\n",
       "      <td>CRY</td>\n",
       "      <td>draw</td>\n",
       "      <td>2</td>\n",
       "    </tr>\n",
       "    <tr>\n",
       "      <th>44</th>\n",
       "      <td>TOT</td>\n",
       "      <td>draw</td>\n",
       "      <td>2</td>\n",
       "    </tr>\n",
       "    <tr>\n",
       "      <th>45</th>\n",
       "      <td>SOU</td>\n",
       "      <td>win</td>\n",
       "      <td>2</td>\n",
       "    </tr>\n",
       "    <tr>\n",
       "      <th>46</th>\n",
       "      <td>EVE</td>\n",
       "      <td>win</td>\n",
       "      <td>2</td>\n",
       "    </tr>\n",
       "    <tr>\n",
       "      <th>47</th>\n",
       "      <td>LEI</td>\n",
       "      <td>draw</td>\n",
       "      <td>2</td>\n",
       "    </tr>\n",
       "    <tr>\n",
       "      <th>48</th>\n",
       "      <td>ARS</td>\n",
       "      <td>draw</td>\n",
       "      <td>2</td>\n",
       "    </tr>\n",
       "    <tr>\n",
       "      <th>49</th>\n",
       "      <td>SOU</td>\n",
       "      <td>draw</td>\n",
       "      <td>1</td>\n",
       "    </tr>\n",
       "    <tr>\n",
       "      <th>50</th>\n",
       "      <td>LIV</td>\n",
       "      <td>draw</td>\n",
       "      <td>1</td>\n",
       "    </tr>\n",
       "    <tr>\n",
       "      <th>51</th>\n",
       "      <td>NWC</td>\n",
       "      <td>draw</td>\n",
       "      <td>1</td>\n",
       "    </tr>\n",
       "    <tr>\n",
       "      <th>52</th>\n",
       "      <td>ARS</td>\n",
       "      <td>loss</td>\n",
       "      <td>1</td>\n",
       "    </tr>\n",
       "    <tr>\n",
       "      <th>53</th>\n",
       "      <td>CHE</td>\n",
       "      <td>draw</td>\n",
       "      <td>1</td>\n",
       "    </tr>\n",
       "    <tr>\n",
       "      <th>54</th>\n",
       "      <td>WHU</td>\n",
       "      <td>draw</td>\n",
       "      <td>1</td>\n",
       "    </tr>\n",
       "    <tr>\n",
       "      <th>55</th>\n",
       "      <td>BRI</td>\n",
       "      <td>draw</td>\n",
       "      <td>1</td>\n",
       "    </tr>\n",
       "    <tr>\n",
       "      <th>56</th>\n",
       "      <td>BOU</td>\n",
       "      <td>draw</td>\n",
       "      <td>1</td>\n",
       "    </tr>\n",
       "    <tr>\n",
       "      <th>57</th>\n",
       "      <td>LEI</td>\n",
       "      <td>loss</td>\n",
       "      <td>1</td>\n",
       "    </tr>\n",
       "  </tbody>\n",
       "</table>\n",
       "</div>"
      ],
      "text/plain": [
       "   clubs scores  occ\n",
       "0    ARS    win   21\n",
       "1    SOU   loss   21\n",
       "2    LEI    win   21\n",
       "3    EVE   loss   20\n",
       "4    LIV    win   20\n",
       "5    MNU    win   19\n",
       "6    NWC   loss   18\n",
       "7    BOU   loss   18\n",
       "8    LEE   loss   17\n",
       "9    TOT    win   17\n",
       "10   MNC    win   17\n",
       "11   CHE   loss   16\n",
       "12   CRY    win   15\n",
       "13   WOL   loss   15\n",
       "14   WHU   loss   14\n",
       "15   BRN   loss   14\n",
       "16   FUL    win   13\n",
       "17   FOR   loss   13\n",
       "18   ASV   loss   12\n",
       "19   BRI    win   12\n",
       "20   FOR    win   11\n",
       "21   BRI   loss   11\n",
       "22   ASV    win    9\n",
       "23   WHU    win    9\n",
       "24   FUL   loss    8\n",
       "25   BRN    win    8\n",
       "26   CRY   loss    7\n",
       "27   CHE    win    7\n",
       "28   WOL    win    6\n",
       "29   MNU   loss    5\n",
       "30   TOT   loss    5\n",
       "31   NWC    win    5\n",
       "32   BOU    win    5\n",
       "33   LEE    win    4\n",
       "34   MNC   loss    4\n",
       "35   WOL   draw    3\n",
       "36   MNC   draw    3\n",
       "37   LEE   draw    3\n",
       "38   LIV   loss    3\n",
       "39   ASV   draw    3\n",
       "40   FUL   draw    3\n",
       "41   EVE   draw    2\n",
       "42   BRN   draw    2\n",
       "43   CRY   draw    2\n",
       "44   TOT   draw    2\n",
       "45   SOU    win    2\n",
       "46   EVE    win    2\n",
       "47   LEI   draw    2\n",
       "48   ARS   draw    2\n",
       "49   SOU   draw    1\n",
       "50   LIV   draw    1\n",
       "51   NWC   draw    1\n",
       "52   ARS   loss    1\n",
       "53   CHE   draw    1\n",
       "54   WHU   draw    1\n",
       "55   BRI   draw    1\n",
       "56   BOU   draw    1\n",
       "57   LEI   loss    1"
      ]
     },
     "execution_count": 31,
     "metadata": {},
     "output_type": "execute_result"
    }
   ],
   "source": [
    "query_df_club"
   ]
  },
  {
   "cell_type": "code",
   "execution_count": 32,
   "id": "de8164e0",
   "metadata": {},
   "outputs": [
    {
     "data": {
      "text/plain": [
       "<AxesSubplot:xlabel='clubs', ylabel='occ'>"
      ]
     },
     "execution_count": 32,
     "metadata": {},
     "output_type": "execute_result"
    },
    {
     "data": {
      "image/png": "[encoded data removed]",
      "text/plain": [
       "<Figure size 1440x720 with 1 Axes>"
      ]
     },
     "metadata": {
      "needs_background": "light"
     },
     "output_type": "display_data"
    }
   ],
   "source": [
    "plt.figure(figsize=[20, 10])\n",
    "sb.barplot(data=query_df_club, x=\"clubs\", y=\"occ\", hue=\"scores\")"
   ]
  },
  {
   "cell_type": "code",
   "execution_count": 33,
   "id": "d2a8baf1",
   "metadata": {},
   "outputs": [
    {
     "data": {
      "text/html": [
       "<div>\n",
       "<style scoped>\n",
       "    .dataframe tbody tr th:only-of-type {\n",
       "        vertical-align: middle;\n",
       "    }\n",
       "\n",
       "    .dataframe tbody tr th {\n",
       "        vertical-align: top;\n",
       "    }\n",
       "\n",
       "    .dataframe thead th {\n",
       "        text-align: right;\n",
       "    }\n",
       "</style>\n",
       "<table border=\"1\" class=\"dataframe\">\n",
       "  <thead>\n",
       "    <tr style=\"text-align: right;\">\n",
       "      <th></th>\n",
       "      <th>clubs</th>\n",
       "      <th>scores</th>\n",
       "      <th>occ</th>\n",
       "    </tr>\n",
       "  </thead>\n",
       "  <tbody>\n",
       "    <tr>\n",
       "      <th>35</th>\n",
       "      <td>WOL</td>\n",
       "      <td>draw</td>\n",
       "      <td>3</td>\n",
       "    </tr>\n",
       "    <tr>\n",
       "      <th>36</th>\n",
       "      <td>MNC</td>\n",
       "      <td>draw</td>\n",
       "      <td>3</td>\n",
       "    </tr>\n",
       "    <tr>\n",
       "      <th>37</th>\n",
       "      <td>LEE</td>\n",
       "      <td>draw</td>\n",
       "      <td>3</td>\n",
       "    </tr>\n",
       "    <tr>\n",
       "      <th>39</th>\n",
       "      <td>ASV</td>\n",
       "      <td>draw</td>\n",
       "      <td>3</td>\n",
       "    </tr>\n",
       "    <tr>\n",
       "      <th>40</th>\n",
       "      <td>FUL</td>\n",
       "      <td>draw</td>\n",
       "      <td>3</td>\n",
       "    </tr>\n",
       "  </tbody>\n",
       "</table>\n",
       "</div>"
      ],
      "text/plain": [
       "   clubs scores  occ\n",
       "35   WOL   draw    3\n",
       "36   MNC   draw    3\n",
       "37   LEE   draw    3\n",
       "39   ASV   draw    3\n",
       "40   FUL   draw    3"
      ]
     },
     "execution_count": 33,
     "metadata": {},
     "output_type": "execute_result"
    }
   ],
   "source": [
    "query_df_club_wins = query_df_club.query(\"scores == 'win'\")\n",
    "query_df_club_loss = query_df_club.query(\"scores == 'loss'\")\n",
    "query_df_club_draw = query_df_club.query(\"scores == 'draw'\")\n",
    "query_df_club_draw.head()"
   ]
  },
  {
   "cell_type": "code",
   "execution_count": 34,
   "id": "760bc21b",
   "metadata": {},
   "outputs": [
    {
     "data": {
      "text/plain": [
       "<AxesSubplot:title={'center':' WINS '}, xlabel='clubs', ylabel='occ'>"
      ]
     },
     "execution_count": 34,
     "metadata": {},
     "output_type": "execute_result"
    },
    {
     "data": {
      "image/png": "[encoded data removed]",
      "text/plain": [
       "<Figure size 1440x720 with 1 Axes>"
      ]
     },
     "metadata": {
      "needs_background": "light"
     },
     "output_type": "display_data"
    }
   ],
   "source": [
    "plt.figure(figsize=[20, 10])\n",
    "plt.title(\" WINS \")\n",
    "sb.barplot(data=query_df_club_wins, x=\"clubs\", y=\"occ\", color=color_paletter)"
   ]
  },
  {
   "cell_type": "code",
   "execution_count": 35,
   "id": "7ed75d9e",
   "metadata": {
    "scrolled": true
   },
   "outputs": [
    {
     "data": {
      "text/plain": [
       "<AxesSubplot:title={'center':' LOSS '}, xlabel='clubs', ylabel='occ'>"
      ]
     },
     "execution_count": 35,
     "metadata": {},
     "output_type": "execute_result"
    },
    {
     "data": {
      "image/png": "[encoded data removed]",
      "text/plain": [
       "<Figure size 1440x720 with 1 Axes>"
      ]
     },
     "metadata": {
      "needs_background": "light"
     },
     "output_type": "display_data"
    }
   ],
   "source": [
    "plt.figure(figsize=[20, 10])\n",
    "plt.title(\" LOSS \")\n",
    "sb.barplot(data=query_df_club_loss, x=\"clubs\", y=\"occ\", color=color_paletter)"
   ]
  },
  {
   "cell_type": "code",
   "execution_count": 36,
   "id": "47d6da03",
   "metadata": {},
   "outputs": [
    {
     "data": {
      "text/html": [
       "<div>\n",
       "<style scoped>\n",
       "    .dataframe tbody tr th:only-of-type {\n",
       "        vertical-align: middle;\n",
       "    }\n",
       "\n",
       "    .dataframe tbody tr th {\n",
       "        vertical-align: top;\n",
       "    }\n",
       "\n",
       "    .dataframe thead th {\n",
       "        text-align: right;\n",
       "    }\n",
       "</style>\n",
       "<table border=\"1\" class=\"dataframe\">\n",
       "  <thead>\n",
       "    <tr style=\"text-align: right;\">\n",
       "      <th></th>\n",
       "      <th>weeks</th>\n",
       "      <th>id</th>\n",
       "      <th>club</th>\n",
       "      <th>score_string</th>\n",
       "      <th>score_num</th>\n",
       "      <th>game_type</th>\n",
       "    </tr>\n",
       "  </thead>\n",
       "  <tbody>\n",
       "    <tr>\n",
       "      <th>0</th>\n",
       "      <td>1</td>\n",
       "      <td>49</td>\n",
       "      <td>EVE</td>\n",
       "      <td>loss</td>\n",
       "      <td>0</td>\n",
       "      <td>home</td>\n",
       "    </tr>\n",
       "    <tr>\n",
       "      <th>1</th>\n",
       "      <td>1</td>\n",
       "      <td>972</td>\n",
       "      <td>BRN</td>\n",
       "      <td>win</td>\n",
       "      <td>3</td>\n",
       "      <td>away</td>\n",
       "    </tr>\n",
       "    <tr>\n",
       "      <th>2</th>\n",
       "      <td>1</td>\n",
       "      <td>67</td>\n",
       "      <td>BOU</td>\n",
       "      <td>win</td>\n",
       "      <td>3</td>\n",
       "      <td>home</td>\n",
       "    </tr>\n",
       "    <tr>\n",
       "      <th>3</th>\n",
       "      <td>1</td>\n",
       "      <td>47</td>\n",
       "      <td>CHE</td>\n",
       "      <td>loss</td>\n",
       "      <td>0</td>\n",
       "      <td>away</td>\n",
       "    </tr>\n",
       "    <tr>\n",
       "      <th>4</th>\n",
       "      <td>1</td>\n",
       "      <td>45</td>\n",
       "      <td>LIV</td>\n",
       "      <td>loss</td>\n",
       "      <td>0</td>\n",
       "      <td>home</td>\n",
       "    </tr>\n",
       "  </tbody>\n",
       "</table>\n",
       "</div>"
      ],
      "text/plain": [
       "  weeks   id club score_string score_num game_type\n",
       "0     1   49  EVE         loss        0       home\n",
       "1     1  972  BRN          win        3       away\n",
       "2     1   67  BOU          win        3       home\n",
       "3     1   47  CHE         loss        0       away\n",
       "4     1   45  LIV         loss        0       home"
      ]
     },
     "execution_count": 36,
     "metadata": {},
     "output_type": "execute_result"
    }
   ],
   "source": [
    "df.head()"
   ]
  },
  {
   "cell_type": "code",
   "execution_count": 37,
   "id": "31f23d1a",
   "metadata": {},
   "outputs": [
    {
     "data": {
      "text/plain": [
       "<AxesSubplot:title={'center':' DRAWS '}, xlabel='clubs', ylabel='occ'>"
      ]
     },
     "execution_count": 37,
     "metadata": {},
     "output_type": "execute_result"
    },
    {
     "data": {
      "image/png": "[encoded data removed]",
      "text/plain": [
       "<Figure size 1440x720 with 1 Axes>"
      ]
     },
     "metadata": {
      "needs_background": "light"
     },
     "output_type": "display_data"
    }
   ],
   "source": [
    "plt.figure(figsize=[20, 10])\n",
    "plt.title(\" DRAWS \")\n",
    "sb.barplot(data=query_df_club_draw, x=\"clubs\", y=\"occ\", color=color_paletter)"
   ]
  },
  {
   "cell_type": "code",
   "execution_count": 38,
   "id": "082fac5a",
   "metadata": {},
   "outputs": [
    {
     "data": {
      "image/png": "[encoded data removed]",
      "text/plain": [
       "<Figure size 1440x720 with 1 Axes>"
      ]
     },
     "metadata": {},
     "output_type": "display_data"
    }
   ],
   "source": [
    "sort_count = df.score_string.value_counts()\n",
    "\n",
    "plt.figure(figsize=[20, 10])\n",
    "\n",
    "plt.pie([np.float64(x) for x in sort_count.values], labels=sort_count.index, startangle=90, counterclock=False);\n"
   ]
  },
  {
   "cell_type": "markdown",
   "id": "fb1b81e1",
   "metadata": {},
   "source": [
    "### Select training data"
   ]
  },
  {
   "cell_type": "code",
   "execution_count": 39,
   "id": "45e093b9",
   "metadata": {},
   "outputs": [
    {
     "data": {
      "text/html": [
       "<div>\n",
       "<style scoped>\n",
       "    .dataframe tbody tr th:only-of-type {\n",
       "        vertical-align: middle;\n",
       "    }\n",
       "\n",
       "    .dataframe tbody tr th {\n",
       "        vertical-align: top;\n",
       "    }\n",
       "\n",
       "    .dataframe thead th {\n",
       "        text-align: right;\n",
       "    }\n",
       "</style>\n",
       "<table border=\"1\" class=\"dataframe\">\n",
       "  <thead>\n",
       "    <tr style=\"text-align: right;\">\n",
       "      <th></th>\n",
       "      <th>weeks</th>\n",
       "      <th>id</th>\n",
       "      <th>club</th>\n",
       "      <th>score_string</th>\n",
       "      <th>score_num</th>\n",
       "      <th>game_type</th>\n",
       "    </tr>\n",
       "  </thead>\n",
       "  <tbody>\n",
       "    <tr>\n",
       "      <th>0</th>\n",
       "      <td>1</td>\n",
       "      <td>49</td>\n",
       "      <td>EVE</td>\n",
       "      <td>loss</td>\n",
       "      <td>0</td>\n",
       "      <td>home</td>\n",
       "    </tr>\n",
       "    <tr>\n",
       "      <th>1</th>\n",
       "      <td>1</td>\n",
       "      <td>972</td>\n",
       "      <td>BRN</td>\n",
       "      <td>win</td>\n",
       "      <td>3</td>\n",
       "      <td>away</td>\n",
       "    </tr>\n",
       "    <tr>\n",
       "      <th>2</th>\n",
       "      <td>1</td>\n",
       "      <td>67</td>\n",
       "      <td>BOU</td>\n",
       "      <td>win</td>\n",
       "      <td>3</td>\n",
       "      <td>home</td>\n",
       "    </tr>\n",
       "    <tr>\n",
       "      <th>3</th>\n",
       "      <td>1</td>\n",
       "      <td>47</td>\n",
       "      <td>CHE</td>\n",
       "      <td>loss</td>\n",
       "      <td>0</td>\n",
       "      <td>away</td>\n",
       "    </tr>\n",
       "    <tr>\n",
       "      <th>4</th>\n",
       "      <td>1</td>\n",
       "      <td>45</td>\n",
       "      <td>LIV</td>\n",
       "      <td>loss</td>\n",
       "      <td>0</td>\n",
       "      <td>home</td>\n",
       "    </tr>\n",
       "  </tbody>\n",
       "</table>\n",
       "</div>"
      ],
      "text/plain": [
       "  weeks   id club score_string score_num game_type\n",
       "0     1   49  EVE         loss        0       home\n",
       "1     1  972  BRN          win        3       away\n",
       "2     1   67  BOU          win        3       home\n",
       "3     1   47  CHE         loss        0       away\n",
       "4     1   45  LIV         loss        0       home"
      ]
     },
     "execution_count": 39,
     "metadata": {},
     "output_type": "execute_result"
    }
   ],
   "source": [
    "df.head()"
   ]
  },
  {
   "cell_type": "code",
   "execution_count": 40,
   "id": "2b74177d",
   "metadata": {},
   "outputs": [],
   "source": [
    "train_df = df[[\"id\", \"score_string\"]]\n",
    "# train_df = df[[\"club\", \"final\"]]"
   ]
  },
  {
   "cell_type": "code",
   "execution_count": 41,
   "id": "9979bc3b",
   "metadata": {},
   "outputs": [
    {
     "data": {
      "text/html": [
       "<div>\n",
       "<style scoped>\n",
       "    .dataframe tbody tr th:only-of-type {\n",
       "        vertical-align: middle;\n",
       "    }\n",
       "\n",
       "    .dataframe tbody tr th {\n",
       "        vertical-align: top;\n",
       "    }\n",
       "\n",
       "    .dataframe thead th {\n",
       "        text-align: right;\n",
       "    }\n",
       "</style>\n",
       "<table border=\"1\" class=\"dataframe\">\n",
       "  <thead>\n",
       "    <tr style=\"text-align: right;\">\n",
       "      <th></th>\n",
       "      <th>id</th>\n",
       "      <th>score_string</th>\n",
       "    </tr>\n",
       "  </thead>\n",
       "  <tbody>\n",
       "    <tr>\n",
       "      <th>0</th>\n",
       "      <td>49</td>\n",
       "      <td>loss</td>\n",
       "    </tr>\n",
       "    <tr>\n",
       "      <th>1</th>\n",
       "      <td>972</td>\n",
       "      <td>win</td>\n",
       "    </tr>\n",
       "    <tr>\n",
       "      <th>2</th>\n",
       "      <td>67</td>\n",
       "      <td>win</td>\n",
       "    </tr>\n",
       "    <tr>\n",
       "      <th>3</th>\n",
       "      <td>47</td>\n",
       "      <td>loss</td>\n",
       "    </tr>\n",
       "    <tr>\n",
       "      <th>4</th>\n",
       "      <td>45</td>\n",
       "      <td>loss</td>\n",
       "    </tr>\n",
       "  </tbody>\n",
       "</table>\n",
       "</div>"
      ],
      "text/plain": [
       "    id score_string\n",
       "0   49         loss\n",
       "1  972          win\n",
       "2   67          win\n",
       "3   47         loss\n",
       "4   45         loss"
      ]
     },
     "execution_count": 41,
     "metadata": {},
     "output_type": "execute_result"
    }
   ],
   "source": [
    "train_df = train_df.reset_index()\n",
    "train_df = train_df.drop('index', axis = 1) \n",
    "train_df.head()"
   ]
  },
  {
   "cell_type": "code",
   "execution_count": 42,
   "id": "e24ac9a5",
   "metadata": {},
   "outputs": [
    {
     "data": {
      "text/plain": [
       "480"
      ]
     },
     "execution_count": 42,
     "metadata": {},
     "output_type": "execute_result"
    }
   ],
   "source": [
    "len(train_df)"
   ]
  },
  {
   "cell_type": "markdown",
   "id": "637a9c53",
   "metadata": {},
   "source": [
    "#### Train the model"
   ]
  },
  {
   "cell_type": "code",
   "execution_count": 43,
   "id": "593990bb",
   "metadata": {},
   "outputs": [],
   "source": [
    "from sklearn.model_selection import train_test_split, StratifiedShuffleSplit\n",
    "from sklearn.tree import DecisionTreeClassifier\n",
    "from sklearn.metrics import accuracy_score\n",
    "from sklearn.preprocessing import LabelBinarizer\n",
    "from sklearn.linear_model import SGDClassifier\n",
    "from sklearn.ensemble import RandomForestClassifier"
   ]
  },
  {
   "cell_type": "markdown",
   "id": "a6dc685c",
   "metadata": {},
   "source": [
    "#### SPLIT DATA FOR EVEN FEATURES"
   ]
  },
  {
   "cell_type": "code",
   "execution_count": 44,
   "id": "e93e723b",
   "metadata": {},
   "outputs": [
    {
     "data": {
      "text/plain": [
       "96"
      ]
     },
     "execution_count": 44,
     "metadata": {},
     "output_type": "execute_result"
    }
   ],
   "source": [
    "# train_df[[\"home\", \"away\"]][:20][\"home\"].value_counts()\n",
    "prec_20 = int((20/100)*len(train_df))\n",
    "prec_20"
   ]
  },
  {
   "cell_type": "code",
   "execution_count": 45,
   "id": "6c9fb986",
   "metadata": {
    "scrolled": true
   },
   "outputs": [],
   "source": [
    "# train_df[[\"home\", \"away\"]][:20][\"away\"].value_counts()"
   ]
  },
  {
   "cell_type": "code",
   "execution_count": 46,
   "id": "a5006ab7",
   "metadata": {},
   "outputs": [],
   "source": [
    "train_data = train_df[prec_20:]\n",
    "test_data = train_df[:prec_20]"
   ]
  },
  {
   "cell_type": "code",
   "execution_count": 47,
   "id": "8895bbee",
   "metadata": {},
   "outputs": [
    {
     "data": {
      "text/html": [
       "<div>\n",
       "<style scoped>\n",
       "    .dataframe tbody tr th:only-of-type {\n",
       "        vertical-align: middle;\n",
       "    }\n",
       "\n",
       "    .dataframe tbody tr th {\n",
       "        vertical-align: top;\n",
       "    }\n",
       "\n",
       "    .dataframe thead th {\n",
       "        text-align: right;\n",
       "    }\n",
       "</style>\n",
       "<table border=\"1\" class=\"dataframe\">\n",
       "  <thead>\n",
       "    <tr style=\"text-align: right;\">\n",
       "      <th></th>\n",
       "      <th>id</th>\n",
       "      <th>score_string</th>\n",
       "    </tr>\n",
       "  </thead>\n",
       "  <tbody>\n",
       "    <tr>\n",
       "      <th>96</th>\n",
       "      <td>51</td>\n",
       "      <td>win</td>\n",
       "    </tr>\n",
       "    <tr>\n",
       "      <th>97</th>\n",
       "      <td>827</td>\n",
       "      <td>loss</td>\n",
       "    </tr>\n",
       "    <tr>\n",
       "      <th>98</th>\n",
       "      <td>55</td>\n",
       "      <td>win</td>\n",
       "    </tr>\n",
       "    <tr>\n",
       "      <th>99</th>\n",
       "      <td>60</td>\n",
       "      <td>loss</td>\n",
       "    </tr>\n",
       "    <tr>\n",
       "      <th>100</th>\n",
       "      <td>45</td>\n",
       "      <td>win</td>\n",
       "    </tr>\n",
       "  </tbody>\n",
       "</table>\n",
       "</div>"
      ],
      "text/plain": [
       "      id score_string\n",
       "96    51          win\n",
       "97   827         loss\n",
       "98    55          win\n",
       "99    60         loss\n",
       "100   45          win"
      ]
     },
     "execution_count": 47,
     "metadata": {},
     "output_type": "execute_result"
    }
   ],
   "source": [
    "train_data.head()"
   ]
  },
  {
   "cell_type": "markdown",
   "id": "3475197a",
   "metadata": {},
   "source": [
    "### Ordinary Split"
   ]
  },
  {
   "cell_type": "code",
   "execution_count": 48,
   "id": "369f0d0c",
   "metadata": {},
   "outputs": [],
   "source": [
    "x_train_data = train_data[[\"id\"]]\n",
    "# x_train_data_dummy = pd.get_dummies(x_train_data)\n",
    "y_train_data = train_data[\"score_string\"]"
   ]
  },
  {
   "cell_type": "code",
   "execution_count": 49,
   "id": "e2bba0e3",
   "metadata": {},
   "outputs": [],
   "source": [
    "x_test_data = test_data[[\"id\"]]\n",
    "# x_test_data_dummy = pd.get_dummies(x_test_data)\n",
    "y_test_data = test_data[\"score_string\"]"
   ]
  },
  {
   "cell_type": "markdown",
   "id": "5d9b21a9",
   "metadata": {},
   "source": [
    "### cross validation spilt"
   ]
  },
  {
   "cell_type": "code",
   "execution_count": 50,
   "id": "24be4e4f",
   "metadata": {},
   "outputs": [],
   "source": [
    "x_train, x_test, y_train, y_test = train_test_split(train_df[[\"id\"]], train_df[\"score_string\"], test_size=0.3)\n",
    "# x_train, x_test, y_train, y_test = train_test_split(train_df[\"club\"], train_df[\"final\"], test_size=0.3)"
   ]
  },
  {
   "cell_type": "markdown",
   "id": "b5e16cac",
   "metadata": {},
   "source": [
    "### Stratified Shuffle Split"
   ]
  },
  {
   "cell_type": "code",
   "execution_count": 51,
   "id": "9f404ec7",
   "metadata": {},
   "outputs": [],
   "source": [
    "split = StratifiedShuffleSplit(n_splits=1, test_size=0.2)\n",
    "for train_index, test_index in split.split(train_df[[\"id\"]], train_df[\"score_string\"]):\n",
    "    strat_train_set = train_df.loc[train_index]\n",
    "    strat_test_set = train_df.loc[test_index]    "
   ]
  },
  {
   "cell_type": "code",
   "execution_count": 52,
   "id": "042252e5",
   "metadata": {},
   "outputs": [
    {
     "data": {
      "text/plain": [
       "79      win\n",
       "365    loss\n",
       "56      win\n",
       "455    loss\n",
       "127     win\n",
       "Name: score_string, dtype: object"
      ]
     },
     "execution_count": 52,
     "metadata": {},
     "output_type": "execute_result"
    }
   ],
   "source": [
    "y_train.head()"
   ]
  },
  {
   "cell_type": "code",
   "execution_count": 53,
   "id": "d9cab54a",
   "metadata": {},
   "outputs": [
    {
     "data": {
      "text/html": [
       "<div>\n",
       "<style scoped>\n",
       "    .dataframe tbody tr th:only-of-type {\n",
       "        vertical-align: middle;\n",
       "    }\n",
       "\n",
       "    .dataframe tbody tr th {\n",
       "        vertical-align: top;\n",
       "    }\n",
       "\n",
       "    .dataframe thead th {\n",
       "        text-align: right;\n",
       "    }\n",
       "</style>\n",
       "<table border=\"1\" class=\"dataframe\">\n",
       "  <thead>\n",
       "    <tr style=\"text-align: right;\">\n",
       "      <th></th>\n",
       "      <th>id</th>\n",
       "    </tr>\n",
       "  </thead>\n",
       "  <tbody>\n",
       "    <tr>\n",
       "      <th>79</th>\n",
       "      <td>71</td>\n",
       "    </tr>\n",
       "    <tr>\n",
       "      <th>365</th>\n",
       "      <td>67</td>\n",
       "    </tr>\n",
       "    <tr>\n",
       "      <th>56</th>\n",
       "      <td>45</td>\n",
       "    </tr>\n",
       "    <tr>\n",
       "      <th>455</th>\n",
       "      <td>53</td>\n",
       "    </tr>\n",
       "    <tr>\n",
       "      <th>127</th>\n",
       "      <td>55</td>\n",
       "    </tr>\n",
       "  </tbody>\n",
       "</table>\n",
       "</div>"
      ],
      "text/plain": [
       "     id\n",
       "79   71\n",
       "365  67\n",
       "56   45\n",
       "455  53\n",
       "127  55"
      ]
     },
     "execution_count": 53,
     "metadata": {},
     "output_type": "execute_result"
    }
   ],
   "source": [
    "x_train.head()"
   ]
  },
  {
   "cell_type": "code",
   "execution_count": 54,
   "id": "e539db1d",
   "metadata": {},
   "outputs": [
    {
     "data": {
      "text/html": [
       "<div>\n",
       "<style scoped>\n",
       "    .dataframe tbody tr th:only-of-type {\n",
       "        vertical-align: middle;\n",
       "    }\n",
       "\n",
       "    .dataframe tbody tr th {\n",
       "        vertical-align: top;\n",
       "    }\n",
       "\n",
       "    .dataframe thead th {\n",
       "        text-align: right;\n",
       "    }\n",
       "</style>\n",
       "<table border=\"1\" class=\"dataframe\">\n",
       "  <thead>\n",
       "    <tr style=\"text-align: right;\">\n",
       "      <th></th>\n",
       "      <th>id</th>\n",
       "      <th>score_string</th>\n",
       "    </tr>\n",
       "  </thead>\n",
       "  <tbody>\n",
       "    <tr>\n",
       "      <th>259</th>\n",
       "      <td>48</td>\n",
       "      <td>win</td>\n",
       "    </tr>\n",
       "    <tr>\n",
       "      <th>101</th>\n",
       "      <td>512</td>\n",
       "      <td>loss</td>\n",
       "    </tr>\n",
       "    <tr>\n",
       "      <th>100</th>\n",
       "      <td>45</td>\n",
       "      <td>win</td>\n",
       "    </tr>\n",
       "    <tr>\n",
       "      <th>387</th>\n",
       "      <td>58</td>\n",
       "      <td>loss</td>\n",
       "    </tr>\n",
       "    <tr>\n",
       "      <th>108</th>\n",
       "      <td>46</td>\n",
       "      <td>win</td>\n",
       "    </tr>\n",
       "  </tbody>\n",
       "</table>\n",
       "</div>"
      ],
      "text/plain": [
       "      id score_string\n",
       "259   48          win\n",
       "101  512         loss\n",
       "100   45          win\n",
       "387   58         loss\n",
       "108   46          win"
      ]
     },
     "execution_count": 54,
     "metadata": {},
     "output_type": "execute_result"
    }
   ],
   "source": [
    "strat_train_set.head()"
   ]
  },
  {
   "cell_type": "code",
   "execution_count": 55,
   "id": "31b7e8ab",
   "metadata": {},
   "outputs": [
    {
     "data": {
      "text/html": [
       "<div>\n",
       "<style scoped>\n",
       "    .dataframe tbody tr th:only-of-type {\n",
       "        vertical-align: middle;\n",
       "    }\n",
       "\n",
       "    .dataframe tbody tr th {\n",
       "        vertical-align: top;\n",
       "    }\n",
       "\n",
       "    .dataframe thead th {\n",
       "        text-align: right;\n",
       "    }\n",
       "</style>\n",
       "<table border=\"1\" class=\"dataframe\">\n",
       "  <thead>\n",
       "    <tr style=\"text-align: right;\">\n",
       "      <th></th>\n",
       "      <th>id</th>\n",
       "      <th>score_string</th>\n",
       "    </tr>\n",
       "  </thead>\n",
       "  <tbody>\n",
       "    <tr>\n",
       "      <th>66</th>\n",
       "      <td>48</td>\n",
       "      <td>draw</td>\n",
       "    </tr>\n",
       "    <tr>\n",
       "      <th>30</th>\n",
       "      <td>1053</td>\n",
       "      <td>win</td>\n",
       "    </tr>\n",
       "    <tr>\n",
       "      <th>165</th>\n",
       "      <td>63</td>\n",
       "      <td>win</td>\n",
       "    </tr>\n",
       "    <tr>\n",
       "      <th>106</th>\n",
       "      <td>55</td>\n",
       "      <td>win</td>\n",
       "    </tr>\n",
       "    <tr>\n",
       "      <th>72</th>\n",
       "      <td>972</td>\n",
       "      <td>loss</td>\n",
       "    </tr>\n",
       "  </tbody>\n",
       "</table>\n",
       "</div>"
      ],
      "text/plain": [
       "       id score_string\n",
       "66     48         draw\n",
       "30   1053          win\n",
       "165    63          win\n",
       "106    55          win\n",
       "72    972         loss"
      ]
     },
     "execution_count": 55,
     "metadata": {},
     "output_type": "execute_result"
    }
   ],
   "source": [
    "strat_test_set.head()"
   ]
  },
  {
   "cell_type": "markdown",
   "id": "d4a199ce",
   "metadata": {},
   "source": [
    "### StratifiedShuffleSplit train"
   ]
  },
  {
   "cell_type": "code",
   "execution_count": 56,
   "id": "391e2e46",
   "metadata": {},
   "outputs": [],
   "source": [
    "y_strat_train_set = strat_train_set[\"score_string\"]\n",
    "x_strat_train_set = strat_train_set[[\"id\"]]\n",
    "# x_strat_train_set = strat_train_set[\"club\"]"
   ]
  },
  {
   "cell_type": "code",
   "execution_count": 57,
   "id": "ed6bd969",
   "metadata": {},
   "outputs": [
    {
     "data": {
      "text/plain": [
       "(384, 384)"
      ]
     },
     "execution_count": 57,
     "metadata": {},
     "output_type": "execute_result"
    }
   ],
   "source": [
    "len(y_strat_train_set), len(x_strat_train_set)"
   ]
  },
  {
   "cell_type": "markdown",
   "id": "3370c4cc",
   "metadata": {},
   "source": [
    "### StratifiedShuffleSplit test"
   ]
  },
  {
   "cell_type": "code",
   "execution_count": 58,
   "id": "8dc578d4",
   "metadata": {},
   "outputs": [],
   "source": [
    "y_strat_test_set = strat_test_set[\"score_string\"]\n",
    "x_strat_test_set = strat_test_set[[\"id\"]]\n",
    "# x_strat_test_set = strat_test_set[\"club\"]"
   ]
  },
  {
   "cell_type": "code",
   "execution_count": 59,
   "id": "cd89b6ef",
   "metadata": {},
   "outputs": [
    {
     "data": {
      "text/plain": [
       "(384, 384)"
      ]
     },
     "execution_count": 59,
     "metadata": {},
     "output_type": "execute_result"
    }
   ],
   "source": [
    "len(y_strat_train_set), len(x_strat_train_set)"
   ]
  },
  {
   "cell_type": "code",
   "execution_count": 60,
   "id": "04cdc502",
   "metadata": {},
   "outputs": [],
   "source": [
    "# x_strat_train_set, x_strat_test_set, y_strat_train_set, y_strat_test_set"
   ]
  },
  {
   "cell_type": "markdown",
   "id": "41c103b8",
   "metadata": {},
   "source": [
    "### Selecting and Training model"
   ]
  },
  {
   "cell_type": "markdown",
   "id": "dbb5bf7e",
   "metadata": {},
   "source": [
    "##### Decision tree classifer"
   ]
  },
  {
   "cell_type": "code",
   "execution_count": 61,
   "id": "47ef5fe0",
   "metadata": {},
   "outputs": [
    {
     "data": {
      "text/plain": [
       "DecisionTreeClassifier()"
      ]
     },
     "execution_count": 61,
     "metadata": {},
     "output_type": "execute_result"
    }
   ],
   "source": [
    "model = DecisionTreeClassifier()\n",
    "model.fit(x_strat_train_set, y_train_data)\n",
    "# x_strat_train_set, x_strat_test_set, y_strat_train_set, y_strat_test_set"
   ]
  },
  {
   "cell_type": "code",
   "execution_count": null,
   "id": "0c6f2b56",
   "metadata": {},
   "outputs": [],
   "source": []
  },
  {
   "cell_type": "code",
   "execution_count": 62,
   "id": "a489bd32",
   "metadata": {},
   "outputs": [],
   "source": [
    "predictions = model.predict(x_strat_test_set)\n"
   ]
  },
  {
   "cell_type": "code",
   "execution_count": 63,
   "id": "48528e73",
   "metadata": {},
   "outputs": [],
   "source": [
    "# len(predictions) #, len(y_strat_test_set), len(x_strat_test_dummy)\n",
    "# y_strat_test_set"
   ]
  },
  {
   "cell_type": "code",
   "execution_count": 64,
   "id": "70802c32",
   "metadata": {},
   "outputs": [],
   "source": [
    "accuracy = accuracy_score(y_strat_test_set, predictions)"
   ]
  },
  {
   "cell_type": "code",
   "execution_count": 65,
   "id": "2755e7d7",
   "metadata": {},
   "outputs": [
    {
     "name": "stdout",
     "output_type": "stream",
     "text": [
      "accuracy: 0.4583333333333333\n"
     ]
    }
   ],
   "source": [
    "print(f\"accuracy: {accuracy}\")"
   ]
  },
  {
   "cell_type": "markdown",
   "id": "da95054d",
   "metadata": {},
   "source": [
    "##### SGDClassifier"
   ]
  },
  {
   "cell_type": "code",
   "execution_count": 66,
   "id": "8ddf7987",
   "metadata": {},
   "outputs": [
    {
     "data": {
      "text/plain": [
       "SGDClassifier(random_state=42)"
      ]
     },
     "execution_count": 66,
     "metadata": {},
     "output_type": "execute_result"
    }
   ],
   "source": [
    "sgd_clf = SGDClassifier(random_state=42)\n",
    "sgd_clf.fit(x_strat_train_set, y_train_data)\n",
    "# x_strat_train_set, x_strat_test_set, y_strat_train_set, y_strat_test_set"
   ]
  },
  {
   "cell_type": "code",
   "execution_count": 67,
   "id": "ac9c256e",
   "metadata": {},
   "outputs": [],
   "source": [
    "sgd_predict = sgd_clf.predict(x_strat_test_set)\n",
    "sgd_accuracy = accuracy_score(y_strat_test_set, sgd_predict)"
   ]
  },
  {
   "cell_type": "code",
   "execution_count": 68,
   "id": "5d1df775",
   "metadata": {
    "scrolled": true
   },
   "outputs": [
    {
     "name": "stdout",
     "output_type": "stream",
     "text": [
      "accuracy: 0.46875\n"
     ]
    }
   ],
   "source": [
    "print(f\"accuracy: {sgd_accuracy}\")"
   ]
  },
  {
   "cell_type": "markdown",
   "id": "2ad40470",
   "metadata": {},
   "source": [
    "##### RandomForestClassifier & cross_validation"
   ]
  },
  {
   "cell_type": "code",
   "execution_count": 69,
   "id": "61f05325",
   "metadata": {},
   "outputs": [],
   "source": [
    "forest_clf = RandomForestClassifier(random_state=42)"
   ]
  },
  {
   "cell_type": "code",
   "execution_count": 70,
   "id": "d6a1a9cb",
   "metadata": {},
   "outputs": [
    {
     "name": "stdout",
     "output_type": "stream",
     "text": [
      "[0.45454545 0.50909091 0.45454545 0.45454545 0.45454545 0.2\n",
      " 0.48148148]\n"
     ]
    }
   ],
   "source": [
    "from sklearn.model_selection import cross_val_score\n",
    "main_data = cross_val_score(sgd_clf, x_strat_train_set, y_strat_train_set, cv=7, scoring=\"accuracy\")\n",
    "print(main_data)\n",
    "# x_strat_train_set, x_strat_test_set, y_strat_train_set, y_strat_test_set"
   ]
  },
  {
   "cell_type": "code",
   "execution_count": 71,
   "id": "1749f854",
   "metadata": {
    "scrolled": true
   },
   "outputs": [
    {
     "data": {
      "text/plain": [
       "array([0.72727273, 0.69090909, 0.69090909, 0.58181818, 0.74545455,\n",
       "       0.70909091, 0.62962963])"
      ]
     },
     "execution_count": 71,
     "metadata": {},
     "output_type": "execute_result"
    }
   ],
   "source": [
    "main_data_forst_clf = cross_val_score(forest_clf, x_strat_train_set, y_strat_train_set, cv=7, scoring=\"accuracy\")\n",
    "# x_train_data_dummy, y_train_data, x_test_data_dummy, y_test_data\n",
    "main_data_forst_clf"
   ]
  },
  {
   "cell_type": "code",
   "execution_count": 72,
   "id": "26a59543",
   "metadata": {},
   "outputs": [
    {
     "data": {
      "text/plain": [
       "(0.4298220298220298, 0.6821548821548823)"
      ]
     },
     "execution_count": 72,
     "metadata": {},
     "output_type": "execute_result"
    }
   ],
   "source": [
    "main_data.mean(), main_data_forst_clf.mean()"
   ]
  },
  {
   "cell_type": "code",
   "execution_count": 73,
   "id": "a23225cb",
   "metadata": {},
   "outputs": [],
   "source": [
    "from sklearn.model_selection import GridSearchCV\n",
    "\n",
    "param_grid = [\n",
    "    {\"n_estimators\": [3, 10, 30], \n",
    "     # \"max_features\": [0, 0, 0]\n",
    "    },\n",
    "    {\"bootstrap\": [False], \"n_estimators\": [3, 10], \n",
    "     # \"max_features\": [2, 3, 4]\n",
    "    }\n",
    "]\n",
    "grid_search = GridSearchCV(forest_clf, param_grid, cv=7, scoring=\"accuracy\")"
   ]
  },
  {
   "cell_type": "code",
   "execution_count": 74,
   "id": "9a13f53c",
   "metadata": {},
   "outputs": [
    {
     "data": {
      "text/plain": [
       "GridSearchCV(cv=7, estimator=RandomForestClassifier(random_state=42),\n",
       "             param_grid=[{'n_estimators': [3, 10, 30]},\n",
       "                         {'bootstrap': [False], 'n_estimators': [3, 10]}],\n",
       "             scoring='accuracy')"
      ]
     },
     "execution_count": 74,
     "metadata": {},
     "output_type": "execute_result"
    }
   ],
   "source": [
    "grid_search.fit(x_strat_train_set, y_strat_train_set)\n",
    "# x_strat_train_set, x_strat_test_set, y_strat_train_set, y_strat_test_set"
   ]
  },
  {
   "cell_type": "code",
   "execution_count": 75,
   "id": "0d192411",
   "metadata": {},
   "outputs": [
    {
     "data": {
      "text/plain": [
       "{'n_estimators': 10}"
      ]
     },
     "execution_count": 75,
     "metadata": {},
     "output_type": "execute_result"
    }
   ],
   "source": [
    "grid_search.best_params_"
   ]
  },
  {
   "cell_type": "code",
   "execution_count": 76,
   "id": "9e8173d5",
   "metadata": {},
   "outputs": [
    {
     "data": {
      "text/plain": [
       "RandomForestClassifier(n_estimators=10, random_state=42)"
      ]
     },
     "execution_count": 76,
     "metadata": {},
     "output_type": "execute_result"
    }
   ],
   "source": [
    "final_model = grid_search.best_estimator_\n",
    "final_model"
   ]
  },
  {
   "cell_type": "code",
   "execution_count": 77,
   "id": "95f58202",
   "metadata": {},
   "outputs": [
    {
     "name": "stdout",
     "output_type": "stream",
     "text": [
      "0.8196128792090029 {'n_estimators': 3}\n",
      "0.830630537571964 {'n_estimators': 10}\n",
      "0.830630537571964 {'n_estimators': 30}\n",
      "0.8275266671234135 {'bootstrap': False, 'n_estimators': 3}\n",
      "0.8275266671234135 {'bootstrap': False, 'n_estimators': 10}\n"
     ]
    }
   ],
   "source": [
    "cvres = grid_search.cv_results_\n",
    "for mean_score, params in zip(cvres[\"mean_test_score\"], cvres[\"params\"]):\n",
    "    print(np.sqrt(mean_score), params)"
   ]
  },
  {
   "cell_type": "markdown",
   "id": "df098674",
   "metadata": {},
   "source": [
    "### FINAL PREDICTION!!!🎉👏🏽🎊"
   ]
  },
  {
   "cell_type": "code",
   "execution_count": 78,
   "id": "1a2ba756",
   "metadata": {},
   "outputs": [
    {
     "name": "stdout",
     "output_type": "stream",
     "text": [
      "accuracy: 0.6041666666666666\n"
     ]
    }
   ],
   "source": [
    "# x_train_data_dummy, y_train_data, x_test_data_dummy, y_test_data\n",
    "# x_strat_train_set, x_strat_test_set, y_strat_train_set, y_strat_test_set\n",
    "\n",
    "final_predctions = final_model.predict(x_strat_test_set)\n",
    "final_accuracy_score = accuracy_score(y_strat_test_set, final_predctions)\n",
    "print(f\"accuracy: {final_accuracy_score}\")"
   ]
  },
  {
   "cell_type": "code",
   "execution_count": 79,
   "id": "c3c5cd99",
   "metadata": {},
   "outputs": [],
   "source": [
    "id_cubs = np.array([get_club_id(x) for x in df.club.value_counts().index]).reshape(-1, 1)\n",
    "cubs = df.club.value_counts().index\n",
    "predictions = final_model.predict(id_cubs)"
   ]
  },
  {
   "cell_type": "code",
   "execution_count": 80,
   "id": "91df6408",
   "metadata": {},
   "outputs": [],
   "source": [
    "# [get_club_id(x) for x in df.club.value_counts().index]"
   ]
  },
  {
   "cell_type": "code",
   "execution_count": 81,
   "id": "54d4b6c1",
   "metadata": {},
   "outputs": [
    {
     "data": {
      "text/html": [
       "<div>\n",
       "<style scoped>\n",
       "    .dataframe tbody tr th:only-of-type {\n",
       "        vertical-align: middle;\n",
       "    }\n",
       "\n",
       "    .dataframe tbody tr th {\n",
       "        vertical-align: top;\n",
       "    }\n",
       "\n",
       "    .dataframe thead th {\n",
       "        text-align: right;\n",
       "    }\n",
       "</style>\n",
       "<table border=\"1\" class=\"dataframe\">\n",
       "  <thead>\n",
       "    <tr style=\"text-align: right;\">\n",
       "      <th></th>\n",
       "      <th>id_clubs</th>\n",
       "      <th>clubs</th>\n",
       "      <th>predictions</th>\n",
       "    </tr>\n",
       "  </thead>\n",
       "  <tbody>\n",
       "    <tr>\n",
       "      <th>11</th>\n",
       "      <td>48</td>\n",
       "      <td>ARS</td>\n",
       "      <td>win</td>\n",
       "    </tr>\n",
       "    <tr>\n",
       "      <th>12</th>\n",
       "      <td>60</td>\n",
       "      <td>ASV</td>\n",
       "      <td>loss</td>\n",
       "    </tr>\n",
       "    <tr>\n",
       "      <th>15</th>\n",
       "      <td>67</td>\n",
       "      <td>BOU</td>\n",
       "      <td>loss</td>\n",
       "    </tr>\n",
       "    <tr>\n",
       "      <th>10</th>\n",
       "      <td>71</td>\n",
       "      <td>BRI</td>\n",
       "      <td>win</td>\n",
       "    </tr>\n",
       "    <tr>\n",
       "      <th>18</th>\n",
       "      <td>972</td>\n",
       "      <td>BRN</td>\n",
       "      <td>loss</td>\n",
       "    </tr>\n",
       "    <tr>\n",
       "      <th>6</th>\n",
       "      <td>47</td>\n",
       "      <td>CHE</td>\n",
       "      <td>loss</td>\n",
       "    </tr>\n",
       "    <tr>\n",
       "      <th>17</th>\n",
       "      <td>55</td>\n",
       "      <td>CRY</td>\n",
       "      <td>win</td>\n",
       "    </tr>\n",
       "    <tr>\n",
       "      <th>13</th>\n",
       "      <td>49</td>\n",
       "      <td>EVE</td>\n",
       "      <td>loss</td>\n",
       "    </tr>\n",
       "    <tr>\n",
       "      <th>7</th>\n",
       "      <td>1053</td>\n",
       "      <td>FOR</td>\n",
       "      <td>loss</td>\n",
       "    </tr>\n",
       "    <tr>\n",
       "      <th>2</th>\n",
       "      <td>512</td>\n",
       "      <td>FUL</td>\n",
       "      <td>win</td>\n",
       "    </tr>\n",
       "    <tr>\n",
       "      <th>5</th>\n",
       "      <td>827</td>\n",
       "      <td>LEE</td>\n",
       "      <td>loss</td>\n",
       "    </tr>\n",
       "    <tr>\n",
       "      <th>19</th>\n",
       "      <td>63</td>\n",
       "      <td>LEI</td>\n",
       "      <td>win</td>\n",
       "    </tr>\n",
       "    <tr>\n",
       "      <th>9</th>\n",
       "      <td>45</td>\n",
       "      <td>LIV</td>\n",
       "      <td>win</td>\n",
       "    </tr>\n",
       "    <tr>\n",
       "      <th>14</th>\n",
       "      <td>46</td>\n",
       "      <td>MNC</td>\n",
       "      <td>win</td>\n",
       "    </tr>\n",
       "    <tr>\n",
       "      <th>1</th>\n",
       "      <td>50</td>\n",
       "      <td>MNU</td>\n",
       "      <td>win</td>\n",
       "    </tr>\n",
       "    <tr>\n",
       "      <th>3</th>\n",
       "      <td>53</td>\n",
       "      <td>NWC</td>\n",
       "      <td>loss</td>\n",
       "    </tr>\n",
       "    <tr>\n",
       "      <th>0</th>\n",
       "      <td>52</td>\n",
       "      <td>SOU</td>\n",
       "      <td>loss</td>\n",
       "    </tr>\n",
       "    <tr>\n",
       "      <th>4</th>\n",
       "      <td>51</td>\n",
       "      <td>TOT</td>\n",
       "      <td>win</td>\n",
       "    </tr>\n",
       "    <tr>\n",
       "      <th>16</th>\n",
       "      <td>58</td>\n",
       "      <td>WHU</td>\n",
       "      <td>loss</td>\n",
       "    </tr>\n",
       "    <tr>\n",
       "      <th>8</th>\n",
       "      <td>525</td>\n",
       "      <td>WOL</td>\n",
       "      <td>loss</td>\n",
       "    </tr>\n",
       "  </tbody>\n",
       "</table>\n",
       "</div>"
      ],
      "text/plain": [
       "   id_clubs clubs predictions\n",
       "11       48   ARS         win\n",
       "12       60   ASV        loss\n",
       "15       67   BOU        loss\n",
       "10       71   BRI         win\n",
       "18      972   BRN        loss\n",
       "6        47   CHE        loss\n",
       "17       55   CRY         win\n",
       "13       49   EVE        loss\n",
       "7      1053   FOR        loss\n",
       "2       512   FUL         win\n",
       "5       827   LEE        loss\n",
       "19       63   LEI         win\n",
       "9        45   LIV         win\n",
       "14       46   MNC         win\n",
       "1        50   MNU         win\n",
       "3        53   NWC        loss\n",
       "0        52   SOU        loss\n",
       "4        51   TOT         win\n",
       "16       58   WHU        loss\n",
       "8       525   WOL        loss"
      ]
     },
     "execution_count": 81,
     "metadata": {},
     "output_type": "execute_result"
    }
   ],
   "source": [
    "prediction_df = pd.DataFrame({\n",
    "    \"id_clubs\": [get_club_id(x) for x in df.club.value_counts().index],\n",
    "    \"clubs\": cubs,\n",
    "    \"predictions\": predictions\n",
    "})\n",
    "prediction_df.sort_values(by=[\"clubs\"])"
   ]
  },
  {
   "cell_type": "code",
   "execution_count": 82,
   "id": "127c3e5e",
   "metadata": {},
   "outputs": [
    {
     "data": {
      "text/plain": [
       "24.0"
      ]
     },
     "execution_count": 82,
     "metadata": {},
     "output_type": "execute_result"
    }
   ],
   "source": [
    "len(df)/20"
   ]
  },
  {
   "cell_type": "code",
   "execution_count": 83,
   "id": "065aab75",
   "metadata": {},
   "outputs": [],
   "source": [
    "# indetify_club\n",
    "# new_df = pd.DataFrame({\"home\": [indetify_club(\"MNC\"), indetify_club(\"LEI\"), indetify_club(\"LIV\"), indetify_club(\"NWC\")], \n",
    "  #                     \"away\": [indetify_club(\"BRI\"), indetify_club(\"CHE\"), indetify_club(\"TOT\"), indetify_club(\"FOR\")]})"
   ]
  },
  {
   "cell_type": "code",
   "execution_count": null,
   "id": "28aa32a5",
   "metadata": {},
   "outputs": [],
   "source": []
  },
  {
   "cell_type": "markdown",
   "id": "a586f568",
   "metadata": {},
   "source": [
    "### PRE PER PREDICTIONS."
   ]
  },
  {
   "cell_type": "code",
   "execution_count": 84,
   "id": "4c1cacbf",
   "metadata": {
    "scrolled": true
   },
   "outputs": [
    {
     "name": "stdout",
     "output_type": "stream",
     "text": [
      "GIF89a\u0001\u0000\u0001\u0000\u0000\u0000\u0000,\u0000\u0000\u0000\u0000\u0001\u0000\u0001\u0000\u0000\u0002\n"
     ]
    }
   ],
   "source": [
    "# d4 = BeautifulSoup\n",
    "url = \"https://bam.nr-data.net/jserrors/1/c95cd51526?a=214311961&v=1223.PROD&to=ZlBXZxcAVkEHV0NbDV8aYEEMTlpXEg1dU09cWldaCQQXXglTXlxNWFtRVh1PSFoW&rst=476457&ck=0&s=0&ref=https://vsmobile.bet9ja.com/bet9ja-mobile/login/\"\n",
    "html = requests.get(url)\n",
    "print(html.text)\n",
    "\n",
    "s = BeautifulSoup(html.content, \"html.parser\")\n",
    "# requests"
   ]
  },
  {
   "cell_type": "code",
   "execution_count": 85,
   "id": "b51e3a4b",
   "metadata": {},
   "outputs": [
    {
     "ename": "SyntaxError",
     "evalue": "invalid syntax (<ipython-input-85-5e331335d67e>, line 1)",
     "output_type": "error",
     "traceback": [
      "\u001b[1;36m  File \u001b[1;32m\"<ipython-input-85-5e331335d67e>\"\u001b[1;36m, line \u001b[1;32m1\u001b[0m\n\u001b[1;33m    url = https://vsmobile.bet9ja.com\" + uri + (containsChar('?', uri) ? \"&mode=\" : \"?mode=\") + mode + \"&lang=\" + lang;\u001b[0m\n\u001b[1;37m               ^\u001b[0m\n\u001b[1;31mSyntaxError\u001b[0m\u001b[1;31m:\u001b[0m invalid syntax\n"
     ]
    }
   ],
   "source": [
    "url = https://vsmobile.bet9ja.com\" + uri + (containsChar('?', uri) ? \"&mode=\" : \"?mode=\") + mode + \"&lang=\" + lang;\n",
    "    \n",
    "url = \"https://vsmobile.bet9ja.com/mobile/themes/?sk=bet9ja&t=b61c29e6-9348-4c58-af90-378760a74693&game=league_premier&pid=14001,14003,14011,14012,14014,14015,14016,14017&v=0&mode=Premier&lang=en_GB\";\n",
    "url = \"https://vsmobile.bet9ja.com/shopadmin/standings_view/league_data.php?pid=14003\""
   ]
  },
  {
   "cell_type": "code",
   "execution_count": null,
   "id": "5ca83a36",
   "metadata": {},
   "outputs": [],
   "source": []
  },
  {
   "cell_type": "code",
   "execution_count": null,
   "id": "273265e9",
   "metadata": {},
   "outputs": [],
   "source": []
  },
  {
   "cell_type": "code",
   "execution_count": null,
   "id": "0d39fdd5",
   "metadata": {},
   "outputs": [],
   "source": [
    "new_df = pd.DataFrame({\"home\": [\"for\"], \"away\": [\"che\"]})\n",
    "new_df"
   ]
  },
  {
   "cell_type": "code",
   "execution_count": null,
   "id": "92a5ce7c",
   "metadata": {},
   "outputs": [],
   "source": [
    "pd.get_dummies(new_df)"
   ]
  },
  {
   "cell_type": "code",
   "execution_count": null,
   "id": "269a923e",
   "metadata": {},
   "outputs": [],
   "source": [
    "# sgd_clf.predict(pd.get_dummies(new_df))"
   ]
  },
  {
   "cell_type": "code",
   "execution_count": null,
   "id": "42fa7b29",
   "metadata": {},
   "outputs": [],
   "source": []
  },
  {
   "cell_type": "code",
   "execution_count": null,
   "id": "382840bb",
   "metadata": {},
   "outputs": [],
   "source": []
  },
  {
   "cell_type": "code",
   "execution_count": null,
   "id": "4ae78334",
   "metadata": {},
   "outputs": [],
   "source": []
  },
  {
   "cell_type": "code",
   "execution_count": null,
   "id": "8eb10003",
   "metadata": {},
   "outputs": [],
   "source": []
  }
 ],
 "metadata": {
  "kernelspec": {
   "display_name": "Python [conda env:root] *",
   "language": "python",
   "name": "conda-root-py"
  },
  "language_info": {
   "codemirror_mode": {
    "name": "ipython",
    "version": 3
   },
   "file_extension": ".py",
   "mimetype": "text/x-python",
   "name": "python",
   "nbconvert_exporter": "python",
   "pygments_lexer": "ipython3",
   "version": "3.8.8"
  }
 },
 "nbformat": 4,
 "nbformat_minor": 5
}
