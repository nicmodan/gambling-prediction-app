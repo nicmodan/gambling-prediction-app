{
 "cells": [
  {
   "cell_type": "code",
   "execution_count": 1,
   "id": "a39d4d63",
   "metadata": {},
   "outputs": [],
   "source": [
    "import numpy as np\n",
    "import pandas as pd\n",
    "from matplotlib import pyplot as plt\n",
    "import seaborn as sb\n",
    "import os\n",
    "import glob\n",
    "import json \n",
    "import requests\n",
    "from bs4 import BeautifulSoup\n",
    "%matplotlib inline"
   ]
  },
  {
   "cell_type": "code",
   "execution_count": 2,
   "id": "a7efdeaf",
   "metadata": {},
   "outputs": [],
   "source": [
    "# os.listdir('./Prediction_train&test_Data')\n",
    "def load_data(url):\n",
    "    \n",
    "    folderName = \"./Prediction_train&test_Data/\"\n",
    "    fileName = \"Store_league_data.json\"\n",
    "    path = os.path.join(folderName, fileName)\n",
    "\n",
    "#     if os.path.exists(path):\n",
    "#         files = glob.glob(\"./Prediction_train&test_Data/*\")\n",
    "#         for f in files:\n",
    "#             os.remove(f)\n",
    "\n",
    "    response = requests.get(url)\n",
    "    # print(path)\n",
    "\n",
    "    with open(path, 'wb') as outfile:\n",
    "        outfile.write(response.content)\n",
    "     \n",
    "\n",
    "        \n",
    "url = \"https://vsmobile.bet9ja.com/shopadmin/standings_view/league_data.php?pid=14001\"\n",
    "load_data(url)"
   ]
  },
  {
   "cell_type": "code",
   "execution_count": 3,
   "id": "fb1b9c78",
   "metadata": {},
   "outputs": [],
   "source": [
    "folderName = \"./Prediction_train&test_Data/\"\n",
    "fileName = \"Store_league_data.json\"\n",
    "\n",
    "\n",
    "path = os.path.join(folderName, fileName)\n",
    "\n",
    "\n",
    "with open(path, \"r\") as outfile:\n",
    "    json_obj = json.load(outfile)"
   ]
  },
  {
   "cell_type": "code",
   "execution_count": 4,
   "id": "1d2bb99a",
   "metadata": {},
   "outputs": [],
   "source": [
    "# print(json_obj)"
   ]
  },
  {
   "cell_type": "code",
   "execution_count": 5,
   "id": "3df44817",
   "metadata": {},
   "outputs": [],
   "source": [
    "# json_obj[\"teams\"]"
   ]
  },
  {
   "cell_type": "code",
   "execution_count": 6,
   "id": "c1f7d281",
   "metadata": {},
   "outputs": [],
   "source": [
    "teams = {\"id\": [], \"name\": [], \"club\": []}"
   ]
  },
  {
   "cell_type": "code",
   "execution_count": 7,
   "id": "c940842e",
   "metadata": {},
   "outputs": [],
   "source": [
    "for x, y in json_obj[\"teams\"].items():\n",
    "    # main_info.id.append(x)\n",
    "    teams[\"id\"].append(x)\n",
    "    teams[\"name\"].append(y[\"fifa\"])\n",
    "    teams[\"club\"].append(y[\"team\"])\n",
    "   \n",
    "    \n",
    "    # print(x)\n",
    "    # print(y)"
   ]
  },
  {
   "cell_type": "code",
   "execution_count": 8,
   "id": "541d6711",
   "metadata": {
    "scrolled": true
   },
   "outputs": [],
   "source": [
    "# teams # if you have ound its index you havefound the club"
   ]
  },
  {
   "cell_type": "code",
   "execution_count": 9,
   "id": "b5d35637",
   "metadata": {},
   "outputs": [],
   "source": [
    "# len(teams['id']) # total number of teams "
   ]
  },
  {
   "cell_type": "code",
   "execution_count": 10,
   "id": "33ba21c7",
   "metadata": {},
   "outputs": [],
   "source": [
    "# len(json_obj[\"weeks\"])"
   ]
  },
  {
   "cell_type": "code",
   "execution_count": 11,
   "id": "5031b6b3",
   "metadata": {},
   "outputs": [],
   "source": [
    "# print(json_obj[\"weeks\"][\"1\"][\"event_data\"]), print(len(json_obj[\"weeks\"][\"1\"][\"event_data\"]))"
   ]
  },
  {
   "cell_type": "code",
   "execution_count": 12,
   "id": "2dea1fc4",
   "metadata": {},
   "outputs": [],
   "source": [
    "# print(json_obj[\"weeks\"][\"1\"][\"teamstats\"].split(\"-\"))"
   ]
  },
  {
   "cell_type": "code",
   "execution_count": 13,
   "id": "b7aaaf6e",
   "metadata": {},
   "outputs": [],
   "source": [
    "def indetify_club(teams_id):\n",
    "    idx = teams[\"id\"].index(teams_id)\n",
    "    return teams[\"name\"][idx]\n",
    "\n",
    "def get_club_id(team_name):\n",
    "    club_id = teams[\"name\"].index(team_name)\n",
    "    return teams[\"id\"][club_id]"
   ]
  },
  {
   "cell_type": "code",
   "execution_count": 14,
   "id": "bd958dfb",
   "metadata": {},
   "outputs": [],
   "source": [
    "# indetify_club(\"50\")"
   ]
  },
  {
   "cell_type": "code",
   "execution_count": 15,
   "id": "26b02e91",
   "metadata": {},
   "outputs": [],
   "source": [
    "# json_obj[\"weeks\"][\"1\"]"
   ]
  },
  {
   "cell_type": "code",
   "execution_count": 16,
   "id": "9395142d",
   "metadata": {},
   "outputs": [],
   "source": [
    "def query_score(teamA, teamB):\n",
    "    if teamA > teamB:\n",
    "        return \"win-loss\"\n",
    "    elif teamA < teamB:\n",
    "        return \"loss-win\"\n",
    "    else:\n",
    "        return \"draw-draw\""
   ]
  },
  {
   "cell_type": "code",
   "execution_count": 17,
   "id": "b0afcb79",
   "metadata": {},
   "outputs": [],
   "source": [
    "def get_new_data(data, score, week):\n",
    "    start = 0\n",
    "    stop = 1\n",
    "    add_num = 2\n",
    "    data = data.split(\"-\")\n",
    "    score = score.split(\"-\")\n",
    "    \n",
    "    # store clubs id and name.\n",
    "    result = {\n",
    "        \"weeks\": [],\n",
    "        \"id\":[],\n",
    "        \"club\": [],\n",
    "        \"score_string\": [],\n",
    "        \"score_num\": [],\n",
    "        \"game_type\": []\n",
    "    }\n",
    "    \n",
    "    for _ in range(10):\n",
    "        # slice the event_data from data pass thoure the function parameter\n",
    "        teamA = data[start]\n",
    "        teamB = data[stop]\n",
    "\n",
    "        # identfy the club from thire respected ID\n",
    "        clubA = indetify_club(teamA)\n",
    "        clubB = indetify_club(teamB)\n",
    "\t\t\n",
    "        # slice the teamstats from score pass thoure the function parameter\n",
    "        teamA_score = score[start]\n",
    "        teamB_score = score[stop] \n",
    "        \n",
    "        \n",
    "        result[\"weeks\"].append(week)\n",
    "        result[\"weeks\"].append(week)\n",
    "        \n",
    "\t\t# appending the data twice to add information\n",
    "        \n",
    "        ####### HOME APPENDING #######\n",
    "        result[\"id\"].append(f\"{teamA}\")\n",
    "        \n",
    "        result[\"club\"].append(f\"{clubA}\")\n",
    "        # query scores\n",
    "        win_loss_drawA = query_score( int(teamA_score), int(teamB_score) ).split(\"-\")[0]\n",
    "        \n",
    "        result[\"score_string\"].append( win_loss_drawA )\n",
    "        # query wins scores\n",
    "        result[\"score_num\"].append( f\" {int(teamA_score)} \" )\n",
    "        \n",
    "        result[\"game_type\"].append( \"home\" )\n",
    "        \n",
    "        \n",
    "        \n",
    "        ####### AWAY APPENDING #######\n",
    "        result[\"id\"].append(f\"{teamB}\")\n",
    "        \n",
    "        result[\"club\"].append(f\"{clubB}\")\n",
    "        \n",
    "        win_loss_drawB = query_score( int(teamA_score), int(teamB_score) ).split(\"-\")[1]\n",
    "        \n",
    "        result[\"score_string\"].append( win_loss_drawB )\n",
    "        \n",
    "        result[\"score_num\"].append( f\" {int(teamB_score)} \" )\n",
    "        \n",
    "        result[\"game_type\"].append( \"away\" )\n",
    "        \n",
    "        \n",
    "        # accumilate the START and STOP for the next sclice\n",
    "        start += add_num\n",
    "        stop += add_num\n",
    "\n",
    "        \n",
    "        \n",
    "    return result\n",
    " "
   ]
  },
  {
   "cell_type": "code",
   "execution_count": 18,
   "id": "2805cc53",
   "metadata": {},
   "outputs": [],
   "source": [
    "# get_new_data( json_obj[\"weeks\"][\"1\"][\"event_data\"], json_obj[\"weeks\"][\"1\"][\"teamstats\"],  json_obj[\"weeks\"][\"1\"][\"matchday\"])"
   ]
  },
  {
   "cell_type": "code",
   "execution_count": 19,
   "id": "978701a7",
   "metadata": {},
   "outputs": [],
   "source": [
    "main_second_info = []\n",
    "for week, events in json_obj[\"weeks\"].items():\n",
    "    main_second_info.append(get_new_data( events[\"event_data\"], events[\"teamstats\"], events[\"matchday\"]) )\n",
    "    \n",
    "   # print(week)"
   ]
  },
  {
   "cell_type": "code",
   "execution_count": 20,
   "id": "9f155c90",
   "metadata": {},
   "outputs": [],
   "source": [
    "# json_obj[\"weeks\"]"
   ]
  },
  {
   "cell_type": "code",
   "execution_count": 21,
   "id": "817ff8a9",
   "metadata": {},
   "outputs": [],
   "source": [
    "# main_second_info[0]"
   ]
  },
  {
   "cell_type": "markdown",
   "id": "decc1d0c",
   "metadata": {},
   "source": [
    "# create database"
   ]
  },
  {
   "cell_type": "code",
   "execution_count": 22,
   "id": "305ca95e",
   "metadata": {},
   "outputs": [],
   "source": [
    "df_list = []\n",
    "for data in main_second_info:\n",
    "    new_data = pd.DataFrame(data)\n",
    "    df_list.append(new_data)"
   ]
  },
  {
   "cell_type": "code",
   "execution_count": 23,
   "id": "e830dda0",
   "metadata": {
    "scrolled": false
   },
   "outputs": [],
   "source": [
    "df = pd.concat(df_list)"
   ]
  },
  {
   "cell_type": "code",
   "execution_count": 24,
   "id": "a644b1c1",
   "metadata": {},
   "outputs": [],
   "source": [
    "# df.head()"
   ]
  },
  {
   "cell_type": "markdown",
   "id": "d0dc750a",
   "metadata": {},
   "source": [
    "### Wrangling Data"
   ]
  },
  {
   "cell_type": "code",
   "execution_count": 25,
   "id": "85c1506c",
   "metadata": {
    "scrolled": true
   },
   "outputs": [],
   "source": [
    "df[\"binary_game_type\"] = df[\"game_type\"].apply(lambda x: 0 if x == \"home\" else 1)"
   ]
  },
  {
   "cell_type": "code",
   "execution_count": 26,
   "id": "fb7abb76",
   "metadata": {},
   "outputs": [
    {
     "data": {
      "text/html": [
       "<div>\n",
       "<style scoped>\n",
       "    .dataframe tbody tr th:only-of-type {\n",
       "        vertical-align: middle;\n",
       "    }\n",
       "\n",
       "    .dataframe tbody tr th {\n",
       "        vertical-align: top;\n",
       "    }\n",
       "\n",
       "    .dataframe thead th {\n",
       "        text-align: right;\n",
       "    }\n",
       "</style>\n",
       "<table border=\"1\" class=\"dataframe\">\n",
       "  <thead>\n",
       "    <tr style=\"text-align: right;\">\n",
       "      <th></th>\n",
       "      <th>weeks</th>\n",
       "      <th>id</th>\n",
       "      <th>club</th>\n",
       "      <th>score_string</th>\n",
       "      <th>score_num</th>\n",
       "      <th>game_type</th>\n",
       "      <th>binary_game_type</th>\n",
       "    </tr>\n",
       "  </thead>\n",
       "  <tbody>\n",
       "    <tr>\n",
       "      <th>0</th>\n",
       "      <td>1</td>\n",
       "      <td>45</td>\n",
       "      <td>LIV</td>\n",
       "      <td>win</td>\n",
       "      <td>3</td>\n",
       "      <td>home</td>\n",
       "      <td>0</td>\n",
       "    </tr>\n",
       "    <tr>\n",
       "      <th>1</th>\n",
       "      <td>1</td>\n",
       "      <td>827</td>\n",
       "      <td>LEE</td>\n",
       "      <td>loss</td>\n",
       "      <td>0</td>\n",
       "      <td>away</td>\n",
       "      <td>1</td>\n",
       "    </tr>\n",
       "    <tr>\n",
       "      <th>2</th>\n",
       "      <td>1</td>\n",
       "      <td>53</td>\n",
       "      <td>NWC</td>\n",
       "      <td>win</td>\n",
       "      <td>3</td>\n",
       "      <td>home</td>\n",
       "      <td>0</td>\n",
       "    </tr>\n",
       "    <tr>\n",
       "      <th>3</th>\n",
       "      <td>1</td>\n",
       "      <td>60</td>\n",
       "      <td>ASV</td>\n",
       "      <td>loss</td>\n",
       "      <td>0</td>\n",
       "      <td>away</td>\n",
       "      <td>1</td>\n",
       "    </tr>\n",
       "    <tr>\n",
       "      <th>4</th>\n",
       "      <td>1</td>\n",
       "      <td>51</td>\n",
       "      <td>TOT</td>\n",
       "      <td>win</td>\n",
       "      <td>3</td>\n",
       "      <td>home</td>\n",
       "      <td>0</td>\n",
       "    </tr>\n",
       "  </tbody>\n",
       "</table>\n",
       "</div>"
      ],
      "text/plain": [
       "  weeks   id club score_string score_num game_type  binary_game_type\n",
       "0     1   45  LIV          win        3       home                 0\n",
       "1     1  827  LEE         loss        0       away                 1\n",
       "2     1   53  NWC          win        3       home                 0\n",
       "3     1   60  ASV         loss        0       away                 1\n",
       "4     1   51  TOT          win        3       home                 0"
      ]
     },
     "execution_count": 26,
     "metadata": {},
     "output_type": "execute_result"
    }
   ],
   "source": [
    "df.head()"
   ]
  },
  {
   "cell_type": "code",
   "execution_count": 27,
   "id": "e957e6c2",
   "metadata": {},
   "outputs": [],
   "source": [
    "# df[\"weeks\"].apply(lambda x: int(x))"
   ]
  },
  {
   "cell_type": "markdown",
   "id": "73dc72f9",
   "metadata": {},
   "source": [
    "### ANALYING DATA"
   ]
  },
  {
   "cell_type": "code",
   "execution_count": 28,
   "id": "3709b6bd",
   "metadata": {
    "scrolled": true
   },
   "outputs": [],
   "source": [
    "# color_paletter = sb.color_palette()[0]\n",
    "# sb.barplot(x = df[\"score_string\"], y = df[\"weeks\"].apply(lambda x: int(x)) , color=color_paletter)"
   ]
  },
  {
   "cell_type": "code",
   "execution_count": 29,
   "id": "743c4432",
   "metadata": {},
   "outputs": [],
   "source": [
    "# df.groupby(\"club\").mean()\n",
    "# df.head()"
   ]
  },
  {
   "cell_type": "code",
   "execution_count": 30,
   "id": "0620cffe",
   "metadata": {},
   "outputs": [
    {
     "name": "stdout",
     "output_type": "stream",
     "text": [
      "main_club: BOU, --- main_scores: loss, ---, club_values: 35\n"
     ]
    }
   ],
   "source": [
    "# sb.barplot(x = df[\"club\"], y = df[\"score_string\"] , color=color_paletter)\n",
    "all_tems = df[[\"club\", \"score_string\"]].value_counts()\n",
    "# df.query(\"club == 'MNU'\")\n",
    "club = all_tems.index\n",
    "club_values = all_tems.values\n",
    "# plt.figure(figsize=[10, 6])\n",
    "main_club = [x[0] for x in club]\n",
    "main_scores = [x[1] for x in club]\n",
    "print(f\"main_club: {main_club[0]}, --- main_scores: {main_scores[0]}, ---, club_values: {club_values[0]}\")"
   ]
  },
  {
   "cell_type": "code",
   "execution_count": 31,
   "id": "2813bd69",
   "metadata": {},
   "outputs": [],
   "source": [
    "query_df_club = pd.DataFrame({\n",
    "    \"clubs\": main_club,\n",
    "    \"scores\": main_scores,\n",
    "    \"occ\": club_values\n",
    "})"
   ]
  },
  {
   "cell_type": "code",
   "execution_count": 32,
   "id": "709cc265",
   "metadata": {
    "scrolled": true
   },
   "outputs": [],
   "source": [
    "# query_df_club"
   ]
  },
  {
   "cell_type": "code",
   "execution_count": 33,
   "id": "55e58cf7",
   "metadata": {},
   "outputs": [],
   "source": [
    "# plt.figure(figsize=[20, 10])\n",
    "# sb.barplot(data=query_df_club, x=\"clubs\", y=\"occ\", hue=\"scores\")"
   ]
  },
  {
   "cell_type": "code",
   "execution_count": 34,
   "id": "01fb9879",
   "metadata": {},
   "outputs": [],
   "source": [
    "query_df_club_wins = query_df_club.query(\"scores == 'win'\")\n",
    "query_df_club_loss = query_df_club.query(\"scores == 'loss'\")\n",
    "query_df_club_draw = query_df_club.query(\"scores == 'draw'\")\n",
    "# query_df_club_draw.head()"
   ]
  },
  {
   "cell_type": "code",
   "execution_count": 35,
   "id": "1149f0da",
   "metadata": {},
   "outputs": [],
   "source": [
    "# plt.figure(figsize=[20, 10])\n",
    "# plt.title(\" WINS \")\n",
    "# sb.barplot(data=query_df_club_wins, x=\"clubs\", y=\"occ\", color=color_paletter)"
   ]
  },
  {
   "cell_type": "code",
   "execution_count": 36,
   "id": "2aa88059",
   "metadata": {
    "scrolled": true
   },
   "outputs": [],
   "source": [
    "# plt.figure(figsize=[20, 10])\n",
    "# plt.title(\" LOSS \")\n",
    "# sb.barplot(data=query_df_club_loss, x=\"clubs\", y=\"occ\", color=color_paletter)"
   ]
  },
  {
   "cell_type": "code",
   "execution_count": 37,
   "id": "e47ef91d",
   "metadata": {},
   "outputs": [],
   "source": [
    "# df.head()"
   ]
  },
  {
   "cell_type": "code",
   "execution_count": 38,
   "id": "f85849c8",
   "metadata": {},
   "outputs": [],
   "source": [
    "# plt.figure(figsize=[20, 10])\n",
    "# plt.title(\" DRAWS \")\n",
    "# sb.barplot(data=query_df_club_draw, x=\"clubs\", y=\"occ\", color=color_paletter)"
   ]
  },
  {
   "cell_type": "code",
   "execution_count": 39,
   "id": "5c858b7a",
   "metadata": {},
   "outputs": [],
   "source": [
    "# sort_count = df.score_string.value_counts()\n",
    "\n",
    "# plt.figure(figsize=[20, 10])\n",
    "\n",
    "# plt.pie([np.float64(x) for x in sort_count.values], labels=sort_count.index, startangle=90, counterclock=False);\n"
   ]
  },
  {
   "cell_type": "markdown",
   "id": "fb1b81e1",
   "metadata": {},
   "source": [
    "### Select training data"
   ]
  },
  {
   "cell_type": "code",
   "execution_count": 40,
   "id": "c24db5c9",
   "metadata": {},
   "outputs": [],
   "source": [
    "# df.head()"
   ]
  },
  {
   "cell_type": "code",
   "execution_count": 41,
   "id": "2b74177d",
   "metadata": {},
   "outputs": [],
   "source": [
    "train_df = df[[\"weeks\", \"id\", \"score_string\", \"binary_game_type\"]]\n",
    "# train_df = df[[\"club\", \"final\"]]"
   ]
  },
  {
   "cell_type": "code",
   "execution_count": 42,
   "id": "9979bc3b",
   "metadata": {},
   "outputs": [],
   "source": [
    "train_df = train_df.reset_index()\n",
    "train_df = train_df.drop('index', axis = 1) \n",
    "# train_df.head()"
   ]
  },
  {
   "cell_type": "code",
   "execution_count": 43,
   "id": "e24ac9a5",
   "metadata": {},
   "outputs": [],
   "source": [
    "# len(train_df)"
   ]
  },
  {
   "cell_type": "markdown",
   "id": "637a9c53",
   "metadata": {},
   "source": [
    "#### Train the model"
   ]
  },
  {
   "cell_type": "code",
   "execution_count": 44,
   "id": "593990bb",
   "metadata": {},
   "outputs": [],
   "source": [
    "from sklearn.model_selection import train_test_split, StratifiedShuffleSplit\n",
    "from sklearn.tree import DecisionTreeClassifier\n",
    "from sklearn.metrics import accuracy_score\n",
    "from sklearn.preprocessing import LabelBinarizer\n",
    "from sklearn.linear_model import SGDClassifier\n",
    "from sklearn.ensemble import RandomForestClassifier\n",
    "from sklearn.svm import SVC"
   ]
  },
  {
   "cell_type": "markdown",
   "id": "a6dc685c",
   "metadata": {},
   "source": [
    "#### SPLIT DATA FOR EVEN FEATURES"
   ]
  },
  {
   "cell_type": "code",
   "execution_count": 45,
   "id": "e93e723b",
   "metadata": {},
   "outputs": [],
   "source": [
    "# train_df[[\"home\", \"away\"]][:20][\"home\"].value_counts()\n",
    "# prec_20 = int((20/100)*len(train_df))\n",
    "# prec_20"
   ]
  },
  {
   "cell_type": "code",
   "execution_count": 46,
   "id": "6c9fb986",
   "metadata": {
    "scrolled": true
   },
   "outputs": [],
   "source": [
    "# train_df[[\"home\", \"away\"]][:20][\"away\"].value_counts()"
   ]
  },
  {
   "cell_type": "code",
   "execution_count": 47,
   "id": "a5006ab7",
   "metadata": {},
   "outputs": [],
   "source": [
    "# train_data = train_df[prec_20:]\n",
    "# test_data = train_df[:prec_20]"
   ]
  },
  {
   "cell_type": "code",
   "execution_count": 48,
   "id": "8895bbee",
   "metadata": {},
   "outputs": [],
   "source": [
    "# train_data.head()"
   ]
  },
  {
   "cell_type": "markdown",
   "id": "3475197a",
   "metadata": {},
   "source": [
    "### Ordinary Split"
   ]
  },
  {
   "cell_type": "code",
   "execution_count": 49,
   "id": "369f0d0c",
   "metadata": {},
   "outputs": [],
   "source": [
    "# x_train_data = train_data[[\"id\"]]\n",
    "# x_train_data_dummy = pd.get_dummies(x_train_data)\n",
    "# y_train_data = train_data[\"score_string\"]"
   ]
  },
  {
   "cell_type": "code",
   "execution_count": 50,
   "id": "e2bba0e3",
   "metadata": {},
   "outputs": [],
   "source": [
    "# x_test_data = test_data[[\"id\"]]\n",
    "# x_test_data_dummy = pd.get_dummies(x_test_data)\n",
    "# y_test_data = test_data[\"score_string\"]"
   ]
  },
  {
   "cell_type": "markdown",
   "id": "5d9b21a9",
   "metadata": {},
   "source": [
    "### cross validation spilt"
   ]
  },
  {
   "cell_type": "code",
   "execution_count": 51,
   "id": "24be4e4f",
   "metadata": {},
   "outputs": [],
   "source": [
    "# x_train, x_test, y_train, y_test = train_test_split(train_df[[\"id\"]], train_df[\"score_string\"], test_size=0.3)\n",
    "# x_train, x_test, y_train, y_test = train_test_split(train_df[\"club\"], train_df[\"final\"], test_size=0.3)"
   ]
  },
  {
   "cell_type": "markdown",
   "id": "b5e16cac",
   "metadata": {},
   "source": [
    "### Stratified Shuffle Split"
   ]
  },
  {
   "cell_type": "code",
   "execution_count": 52,
   "id": "9f404ec7",
   "metadata": {},
   "outputs": [],
   "source": [
    "split = StratifiedShuffleSplit(n_splits=1, test_size=0.2)\n",
    "for train_index, test_index in split.split(train_df[[\"weeks\", \"id\", \"binary_game_type\"]], train_df[\"score_string\"]):\n",
    "    strat_train_set = train_df.loc[train_index]\n",
    "    strat_test_set = train_df.loc[test_index]    "
   ]
  },
  {
   "cell_type": "code",
   "execution_count": 53,
   "id": "042252e5",
   "metadata": {},
   "outputs": [],
   "source": [
    "# y_train.head()"
   ]
  },
  {
   "cell_type": "code",
   "execution_count": 54,
   "id": "d9cab54a",
   "metadata": {},
   "outputs": [],
   "source": [
    "# x_train.head()"
   ]
  },
  {
   "cell_type": "code",
   "execution_count": 55,
   "id": "e539db1d",
   "metadata": {},
   "outputs": [],
   "source": [
    "# trat_train_set.head()"
   ]
  },
  {
   "cell_type": "code",
   "execution_count": 56,
   "id": "31b7e8ab",
   "metadata": {},
   "outputs": [],
   "source": [
    "# strat_test_set.head()"
   ]
  },
  {
   "cell_type": "markdown",
   "id": "d4a199ce",
   "metadata": {},
   "source": [
    "### StratifiedShuffleSplit train"
   ]
  },
  {
   "cell_type": "code",
   "execution_count": 57,
   "id": "391e2e46",
   "metadata": {},
   "outputs": [],
   "source": [
    "y_strat_train_set = strat_train_set[\"score_string\"]\n",
    "x_strat_train_set = strat_train_set[[\"weeks\", \"id\", \"binary_game_type\"]]\n",
    "# x_strat_train_set = strat_train_set[\"club\"]"
   ]
  },
  {
   "cell_type": "code",
   "execution_count": 58,
   "id": "ed6bd969",
   "metadata": {},
   "outputs": [],
   "source": [
    "# len(y_strat_train_set), len(x_strat_train_set)"
   ]
  },
  {
   "cell_type": "markdown",
   "id": "3370c4cc",
   "metadata": {},
   "source": [
    "### StratifiedShuffleSplit test"
   ]
  },
  {
   "cell_type": "code",
   "execution_count": 59,
   "id": "8dc578d4",
   "metadata": {},
   "outputs": [],
   "source": [
    "y_strat_test_set = strat_test_set[\"score_string\"]\n",
    "x_strat_test_set = strat_test_set[[\"weeks\", \"id\", \"binary_game_type\"]]\n",
    "# x_strat_test_set = strat_test_set[\"club\"]"
   ]
  },
  {
   "cell_type": "code",
   "execution_count": 60,
   "id": "cd89b6ef",
   "metadata": {},
   "outputs": [],
   "source": [
    "# len(y_strat_train_set), len(x_strat_train_set)"
   ]
  },
  {
   "cell_type": "code",
   "execution_count": 61,
   "id": "04cdc502",
   "metadata": {},
   "outputs": [],
   "source": [
    "# x_strat_train_set, x_strat_test_set, y_strat_train_set, y_strat_test_set"
   ]
  },
  {
   "cell_type": "markdown",
   "id": "41c103b8",
   "metadata": {},
   "source": [
    "### Selecting and Training model"
   ]
  },
  {
   "cell_type": "markdown",
   "id": "dbb5bf7e",
   "metadata": {},
   "source": [
    "##### Decision tree classifer"
   ]
  },
  {
   "cell_type": "code",
   "execution_count": 62,
   "id": "47ef5fe0",
   "metadata": {},
   "outputs": [
    {
     "data": {
      "text/plain": [
       "DecisionTreeClassifier()"
      ]
     },
     "execution_count": 62,
     "metadata": {},
     "output_type": "execute_result"
    }
   ],
   "source": [
    "model = DecisionTreeClassifier()\n",
    "model.fit(x_strat_train_set, y_strat_train_set)\n",
    "# x_strat_train_set, x_strat_test_set, y_strat_train_set, y_strat_test_set"
   ]
  },
  {
   "cell_type": "code",
   "execution_count": null,
   "id": "0c6f2b56",
   "metadata": {},
   "outputs": [],
   "source": []
  },
  {
   "cell_type": "code",
   "execution_count": 63,
   "id": "a489bd32",
   "metadata": {},
   "outputs": [],
   "source": [
    "predictions = model.predict(x_strat_test_set)\n"
   ]
  },
  {
   "cell_type": "code",
   "execution_count": 64,
   "id": "48528e73",
   "metadata": {},
   "outputs": [],
   "source": [
    "# len(predictions) #, len(y_strat_test_set), len(x_strat_test_dummy)\n",
    "# y_strat_test_set"
   ]
  },
  {
   "cell_type": "code",
   "execution_count": 65,
   "id": "70802c32",
   "metadata": {},
   "outputs": [],
   "source": [
    "accuracy = accuracy_score(y_strat_test_set, predictions)"
   ]
  },
  {
   "cell_type": "code",
   "execution_count": 66,
   "id": "2755e7d7",
   "metadata": {},
   "outputs": [
    {
     "name": "stdout",
     "output_type": "stream",
     "text": [
      "accuracy: 0.581081081081081\n"
     ]
    }
   ],
   "source": [
    "print(f\"accuracy: {accuracy}\")"
   ]
  },
  {
   "cell_type": "markdown",
   "id": "da95054d",
   "metadata": {},
   "source": [
    "##### SGDClassifier"
   ]
  },
  {
   "cell_type": "code",
   "execution_count": 67,
   "id": "8ddf7987",
   "metadata": {},
   "outputs": [
    {
     "data": {
      "text/plain": [
       "SGDClassifier(random_state=42)"
      ]
     },
     "execution_count": 67,
     "metadata": {},
     "output_type": "execute_result"
    }
   ],
   "source": [
    "sgd_clf = SGDClassifier(random_state=42)\n",
    "sgd_clf.fit(x_strat_train_set, y_strat_train_set)\n",
    "# x_strat_train_set, x_strat_test_set, y_strat_train_set, y_strat_test_set"
   ]
  },
  {
   "cell_type": "code",
   "execution_count": 68,
   "id": "ac9c256e",
   "metadata": {},
   "outputs": [],
   "source": [
    "sgd_predict = sgd_clf.predict(x_strat_test_set)\n",
    "sgd_accuracy = accuracy_score(y_strat_test_set, sgd_predict)"
   ]
  },
  {
   "cell_type": "code",
   "execution_count": 69,
   "id": "5d1df775",
   "metadata": {
    "scrolled": true
   },
   "outputs": [
    {
     "name": "stdout",
     "output_type": "stream",
     "text": [
      "accuracy: 0.47297297297297297\n"
     ]
    }
   ],
   "source": [
    "print(f\"accuracy: {sgd_accuracy}\")"
   ]
  },
  {
   "cell_type": "markdown",
   "id": "2ad40470",
   "metadata": {},
   "source": [
    "##### RandomForestClassifier & cross_validation"
   ]
  },
  {
   "cell_type": "code",
   "execution_count": 70,
   "id": "61f05325",
   "metadata": {},
   "outputs": [],
   "source": [
    "forest_clf = RandomForestClassifier(random_state=42)"
   ]
  },
  {
   "cell_type": "code",
   "execution_count": 71,
   "id": "d6a1a9cb",
   "metadata": {},
   "outputs": [
    {
     "name": "stdout",
     "output_type": "stream",
     "text": [
      "[0.47058824 0.47058824 0.58823529 0.55294118 0.04761905 0.64285714\n",
      " 0.5952381 ]\n"
     ]
    }
   ],
   "source": [
    "from sklearn.model_selection import cross_val_score\n",
    "main_data = cross_val_score(sgd_clf, x_strat_train_set, y_strat_train_set, cv=7, scoring=\"accuracy\")\n",
    "print(main_data)\n",
    "# x_strat_train_set, x_strat_test_set, y_strat_train_set, y_strat_test_set"
   ]
  },
  {
   "cell_type": "code",
   "execution_count": 72,
   "id": "1749f854",
   "metadata": {
    "scrolled": true
   },
   "outputs": [
    {
     "data": {
      "text/plain": [
       "array([0.61176471, 0.61176471, 0.58823529, 0.48235294, 0.61904762,\n",
       "       0.69047619, 0.64285714])"
      ]
     },
     "execution_count": 72,
     "metadata": {},
     "output_type": "execute_result"
    }
   ],
   "source": [
    "main_data_forst_clf = cross_val_score(forest_clf, x_strat_train_set, y_strat_train_set, cv=7, scoring=\"accuracy\")\n",
    "# x_train_data_dummy, y_train_data, x_test_data_dummy, y_test_data\n",
    "main_data_forst_clf"
   ]
  },
  {
   "cell_type": "code",
   "execution_count": 73,
   "id": "26a59543",
   "metadata": {},
   "outputs": [
    {
     "data": {
      "text/plain": [
       "(0.4811524609843937, 0.6066426570628253)"
      ]
     },
     "execution_count": 73,
     "metadata": {},
     "output_type": "execute_result"
    }
   ],
   "source": [
    "main_data.mean(), main_data_forst_clf.mean()"
   ]
  },
  {
   "cell_type": "markdown",
   "id": "2722d231",
   "metadata": {},
   "source": [
    "#### Gride Search Cross Validation"
   ]
  },
  {
   "cell_type": "code",
   "execution_count": 74,
   "id": "a23225cb",
   "metadata": {},
   "outputs": [],
   "source": [
    "from sklearn.model_selection import GridSearchCV"
   ]
  },
  {
   "cell_type": "markdown",
   "id": "2e92a24a",
   "metadata": {},
   "source": [
    "#### Random Forest Gride Search Cross Validation "
   ]
  },
  {
   "cell_type": "code",
   "execution_count": 75,
   "id": "59d267e7",
   "metadata": {},
   "outputs": [],
   "source": [
    "param_grid = [\n",
    "    {\"n_estimators\": [3, 10, 30], \n",
    "     # \"max_features\": [0, 0, 0]\n",
    "    },\n",
    "    {\"bootstrap\": [False], \"n_estimators\": [3, 10], \n",
    "     # \"max_features\": [2, 3, 4]\n",
    "    }\n",
    "]\n",
    "grid_search = GridSearchCV(forest_clf, param_grid, cv=7, scoring=\"accuracy\")"
   ]
  },
  {
   "cell_type": "code",
   "execution_count": 76,
   "id": "9a13f53c",
   "metadata": {},
   "outputs": [
    {
     "data": {
      "text/plain": [
       "GridSearchCV(cv=7, estimator=RandomForestClassifier(random_state=42),\n",
       "             param_grid=[{'n_estimators': [3, 10, 30]},\n",
       "                         {'bootstrap': [False], 'n_estimators': [3, 10]}],\n",
       "             scoring='accuracy')"
      ]
     },
     "execution_count": 76,
     "metadata": {},
     "output_type": "execute_result"
    }
   ],
   "source": [
    "grid_search.fit(x_strat_train_set, y_strat_train_set)\n",
    "# x_strat_train_set, x_strat_test_set, y_strat_train_set, y_strat_test_set"
   ]
  },
  {
   "cell_type": "code",
   "execution_count": 77,
   "id": "0d192411",
   "metadata": {},
   "outputs": [
    {
     "data": {
      "text/plain": [
       "{'n_estimators': 30}"
      ]
     },
     "execution_count": 77,
     "metadata": {},
     "output_type": "execute_result"
    }
   ],
   "source": [
    "grid_search.best_params_"
   ]
  },
  {
   "cell_type": "code",
   "execution_count": 78,
   "id": "9e8173d5",
   "metadata": {},
   "outputs": [
    {
     "data": {
      "text/plain": [
       "RandomForestClassifier(n_estimators=30, random_state=42)"
      ]
     },
     "execution_count": 78,
     "metadata": {},
     "output_type": "execute_result"
    }
   ],
   "source": [
    "final_model = grid_search.best_estimator_\n",
    "final_model"
   ]
  },
  {
   "cell_type": "code",
   "execution_count": 79,
   "id": "95f58202",
   "metadata": {},
   "outputs": [
    {
     "name": "stdout",
     "output_type": "stream",
     "text": [
      "0.7377111135633174 {'n_estimators': 3}\n",
      "0.763644721912305 {'n_estimators': 10}\n",
      "0.7646396991706742 {'n_estimators': 30}\n",
      "0.7433444856927129 {'bootstrap': False, 'n_estimators': 3}\n",
      "0.7535164993853409 {'bootstrap': False, 'n_estimators': 10}\n"
     ]
    }
   ],
   "source": [
    "cvres = grid_search.cv_results_\n",
    "for mean_score, params in zip(cvres[\"mean_test_score\"], cvres[\"params\"]):\n",
    "    print(np.sqrt(mean_score), params)"
   ]
  },
  {
   "cell_type": "markdown",
   "id": "ab1c65a7",
   "metadata": {},
   "source": [
    "#### Support Vectore Maching Gride Search Cross Validation "
   ]
  },
  {
   "cell_type": "code",
   "execution_count": 80,
   "id": "c5e50260",
   "metadata": {},
   "outputs": [
    {
     "data": {
      "text/plain": [
       "GridSearchCV(cv=7, estimator=SVC(),\n",
       "             param_grid={'C': [0.1, 1, 10, 100, 1000],\n",
       "                         'gamma': [1, 0.1, 0.01, 0.001, 0.0001],\n",
       "                         'kernel': ['rbf']},\n",
       "             scoring='accuracy')"
      ]
     },
     "execution_count": 80,
     "metadata": {},
     "output_type": "execute_result"
    }
   ],
   "source": [
    "svm_clf = SVC()\n",
    "svm_parames = {'C': [0.1, 1, 10, 100, 1000], \n",
    "              'gamma': [1, 0.1, 0.01, 0.001, 0.0001],\n",
    "              'kernel': ['rbf']} \n",
    "svm_gridCV = GridSearchCV(SVC(), svm_parames, refit = True, cv=7, scoring=\"accuracy\")\n",
    "\n",
    "svm_gridCV.fit(x_strat_train_set, y_strat_train_set)"
   ]
  },
  {
   "cell_type": "code",
   "execution_count": 81,
   "id": "681863c5",
   "metadata": {},
   "outputs": [
    {
     "data": {
      "text/plain": [
       "{'C': 1, 'gamma': 0.01, 'kernel': 'rbf'}"
      ]
     },
     "execution_count": 81,
     "metadata": {},
     "output_type": "execute_result"
    }
   ],
   "source": [
    "svm_gridCV.best_params_"
   ]
  },
  {
   "cell_type": "code",
   "execution_count": 82,
   "id": "eb3cf735",
   "metadata": {},
   "outputs": [
    {
     "data": {
      "text/plain": [
       "SVC(C=1, gamma=0.01)"
      ]
     },
     "execution_count": 82,
     "metadata": {},
     "output_type": "execute_result"
    }
   ],
   "source": [
    "final_model_svc = svm_gridCV.best_estimator_\n",
    "final_model_svc"
   ]
  },
  {
   "cell_type": "code",
   "execution_count": 83,
   "id": "f15e903b",
   "metadata": {},
   "outputs": [
    {
     "name": "stdout",
     "output_type": "stream",
     "text": [
      "0.7376297438794224 {'C': 0.1, 'gamma': 1, 'kernel': 'rbf'}\n",
      "0.7602836394958095 {'C': 0.1, 'gamma': 0.1, 'kernel': 'rbf'}\n",
      "0.7991592220483187 {'C': 0.1, 'gamma': 0.01, 'kernel': 'rbf'}\n",
      "0.7809506729502399 {'C': 0.1, 'gamma': 0.001, 'kernel': 'rbf'}\n",
      "0.7809506729502399 {'C': 0.1, 'gamma': 0.0001, 'kernel': 'rbf'}\n",
      "0.7700241391475646 {'C': 1, 'gamma': 1, 'kernel': 'rbf'}\n",
      "0.7959983953364174 {'C': 1, 'gamma': 0.1, 'kernel': 'rbf'}\n",
      "0.8044245393670025 {'C': 1, 'gamma': 0.01, 'kernel': 'rbf'}\n",
      "0.7938463811284475 {'C': 1, 'gamma': 0.001, 'kernel': 'rbf'}\n",
      "0.7809506729502399 {'C': 1, 'gamma': 0.0001, 'kernel': 'rbf'}\n",
      "0.773329952663334 {'C': 10, 'gamma': 1, 'kernel': 'rbf'}\n",
      "0.7432502730489609 {'C': 10, 'gamma': 0.1, 'kernel': 'rbf'}\n",
      "0.8034041220166283 {'C': 10, 'gamma': 0.01, 'kernel': 'rbf'}\n",
      "0.795960690843805 {'C': 10, 'gamma': 0.001, 'kernel': 'rbf'}\n",
      "0.7809506729502399 {'C': 10, 'gamma': 0.0001, 'kernel': 'rbf'}\n",
      "0.773329952663334 {'C': 100, 'gamma': 1, 'kernel': 'rbf'}\n",
      "0.7248518221441029 {'C': 100, 'gamma': 0.1, 'kernel': 'rbf'}\n",
      "0.765659515579555 {'C': 100, 'gamma': 0.01, 'kernel': 'rbf'}\n",
      "0.8023075962444807 {'C': 100, 'gamma': 0.001, 'kernel': 'rbf'}\n",
      "0.7916885172107231 {'C': 100, 'gamma': 0.0001, 'kernel': 'rbf'}\n",
      "0.773329952663334 {'C': 1000, 'gamma': 1, 'kernel': 'rbf'}\n",
      "0.7271942825750516 {'C': 1000, 'gamma': 0.1, 'kernel': 'rbf'}\n",
      "0.7398776706909291 {'C': 1000, 'gamma': 0.01, 'kernel': 'rbf'}\n",
      "0.7981195386150922 {'C': 1000, 'gamma': 0.001, 'kernel': 'rbf'}\n",
      "0.7916885172107231 {'C': 1000, 'gamma': 0.0001, 'kernel': 'rbf'}\n"
     ]
    }
   ],
   "source": [
    "svm_cvres = svm_gridCV.cv_results_\n",
    "for mean_score, params in zip(svm_cvres[\"mean_test_score\"], svm_cvres[\"params\"]):\n",
    "    print(np.sqrt(mean_score), params)"
   ]
  },
  {
   "cell_type": "markdown",
   "id": "df098674",
   "metadata": {},
   "source": [
    "### FINAL PREDICTION!!!🎉👏🏽🎊"
   ]
  },
  {
   "cell_type": "code",
   "execution_count": 84,
   "id": "1a2ba756",
   "metadata": {},
   "outputs": [
    {
     "name": "stdout",
     "output_type": "stream",
     "text": [
      "accuracy: 0.5743243243243243\n"
     ]
    }
   ],
   "source": [
    "# x_train_data_dummy, y_train_data, x_test_data_dummy, y_test_data\n",
    "# x_strat_train_set, x_strat_test_set, y_strat_train_set, y_strat_test_set\n",
    "\n",
    "final_predctions = final_model.predict(x_strat_test_set)\n",
    "final_accuracy_score = accuracy_score(y_strat_test_set, final_predctions)\n",
    "print(f\"accuracy: {final_accuracy_score}\")"
   ]
  },
  {
   "cell_type": "code",
   "execution_count": 98,
   "id": "087ba2ee",
   "metadata": {},
   "outputs": [
    {
     "name": "stdout",
     "output_type": "stream",
     "text": [
      "accuracy: 0.6283783783783784\n"
     ]
    }
   ],
   "source": [
    "svc_final_predctions = final_model_svc.predict(x_strat_test_set)\n",
    "svc_final_accuracy_score = accuracy_score(y_strat_test_set, svc_final_predctions)\n",
    "print(f\"accuracy: {svc_final_accuracy_score}\")"
   ]
  },
  {
   "cell_type": "markdown",
   "id": "422f39ba",
   "metadata": {},
   "source": [
    "#### Main predicions!! "
   ]
  },
  {
   "cell_type": "code",
   "execution_count": 85,
   "id": "4c1cb7bb",
   "metadata": {},
   "outputs": [],
   "source": [
    "id_cubs = np.array([get_club_id(x) for x in df.club.value_counts().index]).reshape(-1, 1)\n",
    "cubs = df.club.value_counts().index"
   ]
  },
  {
   "cell_type": "markdown",
   "id": "50ca8dad",
   "metadata": {},
   "source": [
    "##### SELECTING MAIN TEAMS FOR PREDICTIONS"
   ]
  },
  {
   "cell_type": "code",
   "execution_count": 86,
   "id": "605d5e7f",
   "metadata": {},
   "outputs": [
    {
     "data": {
      "text/plain": [
       "Index(['MNC', 'SOU', 'LEI', 'BOU', 'TOT', 'FUL', 'CHE', 'FOR', 'WHU', 'LEE',\n",
       "       'ARS', 'EVE', 'WOL', 'NWC', 'BRN', 'ASV', 'MNU', 'LIV', 'BRI', 'CRY'],\n",
       "      dtype='object')"
      ]
     },
     "execution_count": 86,
     "metadata": {},
     "output_type": "execute_result"
    }
   ],
   "source": [
    "df.club.value_counts().index"
   ]
  },
  {
   "cell_type": "code",
   "execution_count": 87,
   "id": "d22f120b",
   "metadata": {},
   "outputs": [],
   "source": [
    "main_clubs = [\"BRI\", \"LEE\", \"WOL\", \"BRN\"]\n",
    "teams_id = [get_club_id(x) for x in main_clubs]\n",
    "game_type = [\"home\", \"away\", \"home\", \"away\"]\n",
    "weaks = [len(df)/20 for _ in range(4)]"
   ]
  },
  {
   "cell_type": "code",
   "execution_count": 88,
   "id": "141a82ca",
   "metadata": {},
   "outputs": [
    {
     "data": {
      "text/html": [
       "<div>\n",
       "<style scoped>\n",
       "    .dataframe tbody tr th:only-of-type {\n",
       "        vertical-align: middle;\n",
       "    }\n",
       "\n",
       "    .dataframe tbody tr th {\n",
       "        vertical-align: top;\n",
       "    }\n",
       "\n",
       "    .dataframe thead th {\n",
       "        text-align: right;\n",
       "    }\n",
       "</style>\n",
       "<table border=\"1\" class=\"dataframe\">\n",
       "  <thead>\n",
       "    <tr style=\"text-align: right;\">\n",
       "      <th></th>\n",
       "      <th>weeks</th>\n",
       "      <th>id</th>\n",
       "      <th>binary_game_type</th>\n",
       "    </tr>\n",
       "  </thead>\n",
       "  <tbody>\n",
       "    <tr>\n",
       "      <th>266</th>\n",
       "      <td>14</td>\n",
       "      <td>50</td>\n",
       "      <td>0</td>\n",
       "    </tr>\n",
       "    <tr>\n",
       "      <th>405</th>\n",
       "      <td>21</td>\n",
       "      <td>827</td>\n",
       "      <td>1</td>\n",
       "    </tr>\n",
       "    <tr>\n",
       "      <th>725</th>\n",
       "      <td>37</td>\n",
       "      <td>512</td>\n",
       "      <td>1</td>\n",
       "    </tr>\n",
       "    <tr>\n",
       "      <th>617</th>\n",
       "      <td>31</td>\n",
       "      <td>63</td>\n",
       "      <td>1</td>\n",
       "    </tr>\n",
       "    <tr>\n",
       "      <th>516</th>\n",
       "      <td>26</td>\n",
       "      <td>49</td>\n",
       "      <td>0</td>\n",
       "    </tr>\n",
       "  </tbody>\n",
       "</table>\n",
       "</div>"
      ],
      "text/plain": [
       "    weeks   id  binary_game_type\n",
       "266    14   50                 0\n",
       "405    21  827                 1\n",
       "725    37  512                 1\n",
       "617    31   63                 1\n",
       "516    26   49                 0"
      ]
     },
     "execution_count": 88,
     "metadata": {},
     "output_type": "execute_result"
    }
   ],
   "source": [
    "x_strat_train_set.head()"
   ]
  },
  {
   "cell_type": "markdown",
   "id": "8ebe5ced",
   "metadata": {},
   "source": [
    "##### Combine Data For DataFrame"
   ]
  },
  {
   "cell_type": "code",
   "execution_count": 89,
   "id": "067b74fe",
   "metadata": {},
   "outputs": [
    {
     "data": {
      "text/html": [
       "<div>\n",
       "<style scoped>\n",
       "    .dataframe tbody tr th:only-of-type {\n",
       "        vertical-align: middle;\n",
       "    }\n",
       "\n",
       "    .dataframe tbody tr th {\n",
       "        vertical-align: top;\n",
       "    }\n",
       "\n",
       "    .dataframe thead th {\n",
       "        text-align: right;\n",
       "    }\n",
       "</style>\n",
       "<table border=\"1\" class=\"dataframe\">\n",
       "  <thead>\n",
       "    <tr style=\"text-align: right;\">\n",
       "      <th></th>\n",
       "      <th>weeks</th>\n",
       "      <th>id</th>\n",
       "      <th>binary_game_type</th>\n",
       "    </tr>\n",
       "  </thead>\n",
       "  <tbody>\n",
       "    <tr>\n",
       "      <th>0</th>\n",
       "      <td>37.0</td>\n",
       "      <td>71</td>\n",
       "      <td>0</td>\n",
       "    </tr>\n",
       "    <tr>\n",
       "      <th>1</th>\n",
       "      <td>37.0</td>\n",
       "      <td>827</td>\n",
       "      <td>1</td>\n",
       "    </tr>\n",
       "    <tr>\n",
       "      <th>2</th>\n",
       "      <td>37.0</td>\n",
       "      <td>525</td>\n",
       "      <td>0</td>\n",
       "    </tr>\n",
       "    <tr>\n",
       "      <th>3</th>\n",
       "      <td>37.0</td>\n",
       "      <td>972</td>\n",
       "      <td>1</td>\n",
       "    </tr>\n",
       "  </tbody>\n",
       "</table>\n",
       "</div>"
      ],
      "text/plain": [
       "   weeks   id  binary_game_type\n",
       "0   37.0   71                 0\n",
       "1   37.0  827                 1\n",
       "2   37.0  525                 0\n",
       "3   37.0  972                 1"
      ]
     },
     "execution_count": 89,
     "metadata": {},
     "output_type": "execute_result"
    }
   ],
   "source": [
    "prediction_data = pd.DataFrame({\n",
    "    \"weeks\": weaks,\n",
    "    \"id\": teams_id,\n",
    "    \"binary_game_type\": [ 0 if x == \"home\" else 1 for x in game_type ]\n",
    "})\n",
    "prediction_data"
   ]
  },
  {
   "cell_type": "code",
   "execution_count": 90,
   "id": "e51dbada",
   "metadata": {},
   "outputs": [],
   "source": [
    "rfc_predictions = final_model.predict(prediction_data)\n",
    "svm_predictio"
   ]
  },
  {
   "cell_type": "code",
   "execution_count": 91,
   "id": "4d96d444",
   "metadata": {},
   "outputs": [],
   "source": [
    "# [get_club_id(x) for x in df.club.value_counts().index]"
   ]
  },
  {
   "cell_type": "code",
   "execution_count": 92,
   "id": "0909b5c6",
   "metadata": {},
   "outputs": [],
   "source": [
    "# plt.figure(figsize=[20, 10])\n",
    "# sb.barplot(data=query_df_club, x=\"clubs\", y=\"occ\", hue=\"scores\")\n",
    "# plt.xlabel(fontsize=25)\n",
    "# plt.xlabel('xlabel', fontsize=18);"
   ]
  },
  {
   "cell_type": "code",
   "execution_count": 93,
   "id": "8a366e7e",
   "metadata": {},
   "outputs": [
    {
     "data": {
      "text/html": [
       "<div>\n",
       "<style scoped>\n",
       "    .dataframe tbody tr th:only-of-type {\n",
       "        vertical-align: middle;\n",
       "    }\n",
       "\n",
       "    .dataframe tbody tr th {\n",
       "        vertical-align: top;\n",
       "    }\n",
       "\n",
       "    .dataframe thead th {\n",
       "        text-align: right;\n",
       "    }\n",
       "</style>\n",
       "<table border=\"1\" class=\"dataframe\">\n",
       "  <thead>\n",
       "    <tr style=\"text-align: right;\">\n",
       "      <th></th>\n",
       "      <th>week</th>\n",
       "      <th>id_clubs</th>\n",
       "      <th>clubs</th>\n",
       "      <th>predictions</th>\n",
       "      <th>game_type</th>\n",
       "    </tr>\n",
       "  </thead>\n",
       "  <tbody>\n",
       "    <tr>\n",
       "      <th>0</th>\n",
       "      <td>37.0</td>\n",
       "      <td>71</td>\n",
       "      <td>BRI</td>\n",
       "      <td>loss</td>\n",
       "      <td>home</td>\n",
       "    </tr>\n",
       "    <tr>\n",
       "      <th>1</th>\n",
       "      <td>37.0</td>\n",
       "      <td>827</td>\n",
       "      <td>LEE</td>\n",
       "      <td>loss</td>\n",
       "      <td>away</td>\n",
       "    </tr>\n",
       "    <tr>\n",
       "      <th>2</th>\n",
       "      <td>37.0</td>\n",
       "      <td>525</td>\n",
       "      <td>WOL</td>\n",
       "      <td>loss</td>\n",
       "      <td>home</td>\n",
       "    </tr>\n",
       "    <tr>\n",
       "      <th>3</th>\n",
       "      <td>37.0</td>\n",
       "      <td>972</td>\n",
       "      <td>BRN</td>\n",
       "      <td>loss</td>\n",
       "      <td>away</td>\n",
       "    </tr>\n",
       "  </tbody>\n",
       "</table>\n",
       "</div>"
      ],
      "text/plain": [
       "   week id_clubs clubs predictions game_type\n",
       "0  37.0       71   BRI        loss      home\n",
       "1  37.0      827   LEE        loss      away\n",
       "2  37.0      525   WOL        loss      home\n",
       "3  37.0      972   BRN        loss      away"
      ]
     },
     "execution_count": 93,
     "metadata": {},
     "output_type": "execute_result"
    }
   ],
   "source": [
    "prediction_df = pd.DataFrame({\n",
    "    \"week\": weaks,\n",
    "    \"id_clubs\": teams_id,\n",
    "    \"clubs\": main_clubs,\n",
    "    \"rf_predictions\": rfc_predictions,\n",
    "    \"svm_predictios\": \n",
    "    \"game_type\": game_type\n",
    "})\n",
    "prediction_df\n",
    "# .sort_values(by=[\"clubs\"])"
   ]
  },
  {
   "cell_type": "code",
   "execution_count": 94,
   "id": "127c3e5e",
   "metadata": {},
   "outputs": [
    {
     "name": "stdout",
     "output_type": "stream",
     "text": [
      "week of game 37.0\n"
     ]
    }
   ],
   "source": [
    "print(f\"week of game {len(df)/20}\")"
   ]
  },
  {
   "cell_type": "code",
   "execution_count": 95,
   "id": "065aab75",
   "metadata": {},
   "outputs": [],
   "source": [
    "# indetify_club\n",
    "# new_df = pd.DataFrame({\"home\": [indetify_club(\"MNC\"), indetify_club(\"LEI\"), indetify_club(\"LIV\"), indetify_club(\"NWC\")], \n",
    "  #                     \"away\": [indetify_club(\"BRI\"), indetify_club(\"CHE\"), indetify_club(\"TOT\"), indetify_club(\"FOR\")]})"
   ]
  },
  {
   "cell_type": "code",
   "execution_count": null,
   "id": "28aa32a5",
   "metadata": {},
   "outputs": [],
   "source": []
  },
  {
   "cell_type": "markdown",
   "id": "a586f568",
   "metadata": {},
   "source": [
    "### PRE PER PREDICTIONS."
   ]
  },
  {
   "cell_type": "code",
   "execution_count": 96,
   "id": "4c1cacbf",
   "metadata": {
    "scrolled": true
   },
   "outputs": [
    {
     "name": "stdout",
     "output_type": "stream",
     "text": [
      "GIF89a\u0001\u0000\u0001\u0000\u0000\u0000\u0000,\u0000\u0000\u0000\u0000\u0001\u0000\u0001\u0000\u0000\u0002\n"
     ]
    }
   ],
   "source": [
    "# d4 = BeautifulSoup\n",
    "url = \"https://bam.nr-data.net/jserrors/1/c95cd51526?a=214311961&v=1223.PROD&to=ZlBXZxcAVkEHV0NbDV8aYEEMTlpXEg1dU09cWldaCQQXXglTXlxNWFtRVh1PSFoW&rst=476457&ck=0&s=0&ref=https://vsmobile.bet9ja.com/bet9ja-mobile/login/\"\n",
    "html = requests.get(url)\n",
    "print(html.text)\n",
    "\n",
    "s = BeautifulSoup(html.content, \"html.parser\")\n",
    "# requests"
   ]
  },
  {
   "cell_type": "code",
   "execution_count": 97,
   "id": "b51e3a4b",
   "metadata": {},
   "outputs": [
    {
     "ename": "SyntaxError",
     "evalue": "invalid syntax (<ipython-input-97-5e331335d67e>, line 1)",
     "output_type": "error",
     "traceback": [
      "\u001b[1;36m  File \u001b[1;32m\"<ipython-input-97-5e331335d67e>\"\u001b[1;36m, line \u001b[1;32m1\u001b[0m\n\u001b[1;33m    url = https://vsmobile.bet9ja.com\" + uri + (containsChar('?', uri) ? \"&mode=\" : \"?mode=\") + mode + \"&lang=\" + lang;\u001b[0m\n\u001b[1;37m               ^\u001b[0m\n\u001b[1;31mSyntaxError\u001b[0m\u001b[1;31m:\u001b[0m invalid syntax\n"
     ]
    }
   ],
   "source": [
    "url = https://vsmobile.bet9ja.com\" + uri + (containsChar('?', uri) ? \"&mode=\" : \"?mode=\") + mode + \"&lang=\" + lang;\n",
    "    \n",
    "url = \"https://vsmobile.bet9ja.com/mobile/themes/?sk=bet9ja&t=b61c29e6-9348-4c58-af90-378760a74693&game=league_premier&pid=14001,14003,14011,14012,14014,14015,14016,14017&v=0&mode=Premier&lang=en_GB\";\n",
    "url = \"https://vsmobile.bet9ja.com/shopadmin/standings_view/league_data.php?pid=14003\""
   ]
  },
  {
   "cell_type": "code",
   "execution_count": null,
   "id": "5ca83a36",
   "metadata": {},
   "outputs": [],
   "source": []
  },
  {
   "cell_type": "code",
   "execution_count": null,
   "id": "273265e9",
   "metadata": {},
   "outputs": [],
   "source": []
  },
  {
   "cell_type": "code",
   "execution_count": null,
   "id": "0d39fdd5",
   "metadata": {},
   "outputs": [],
   "source": [
    "new_df = pd.DataFrame({\"home\": [\"for\"], \"away\": [\"che\"]})\n",
    "new_df"
   ]
  },
  {
   "cell_type": "code",
   "execution_count": null,
   "id": "92a5ce7c",
   "metadata": {},
   "outputs": [],
   "source": [
    "pd.get_dummies(new_df)"
   ]
  },
  {
   "cell_type": "code",
   "execution_count": null,
   "id": "269a923e",
   "metadata": {},
   "outputs": [],
   "source": [
    "# sgd_clf.predict(pd.get_dummies(new_df))"
   ]
  },
  {
   "cell_type": "code",
   "execution_count": null,
   "id": "42fa7b29",
   "metadata": {},
   "outputs": [],
   "source": []
  },
  {
   "cell_type": "code",
   "execution_count": null,
   "id": "382840bb",
   "metadata": {},
   "outputs": [],
   "source": []
  },
  {
   "cell_type": "code",
   "execution_count": null,
   "id": "4ae78334",
   "metadata": {},
   "outputs": [],
   "source": []
  },
  {
   "cell_type": "code",
   "execution_count": null,
   "id": "8eb10003",
   "metadata": {},
   "outputs": [],
   "source": []
  }
 ],
 "metadata": {
  "kernelspec": {
   "display_name": "Python [conda env:root] *",
   "language": "python",
   "name": "conda-root-py"
  },
  "language_info": {
   "codemirror_mode": {
    "name": "ipython",
    "version": 3
   },
   "file_extension": ".py",
   "mimetype": "text/x-python",
   "name": "python",
   "nbconvert_exporter": "python",
   "pygments_lexer": "ipython3",
   "version": "3.8.8"
  }
 },
 "nbformat": 4,
 "nbformat_minor": 5
}
